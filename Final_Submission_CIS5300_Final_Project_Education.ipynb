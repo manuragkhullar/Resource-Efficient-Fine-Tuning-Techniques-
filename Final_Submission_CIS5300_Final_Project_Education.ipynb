{
  "cells": [
    {
      "cell_type": "markdown",
      "metadata": {
        "id": "BkhtAfcljF6z"
      },
      "source": [
        "# **CIS5300 Final Project:** *From Bart to Edge - Education*"
      ]
    },
    {
      "cell_type": "markdown",
      "metadata": {
        "id": "djRg9FI4p18L"
      },
      "source": [
        "## **1. Load and Preprocess (Must Run!)**"
      ]
    },
    {
      "cell_type": "markdown",
      "metadata": {
        "id": "o8WI_aBQwFJ3"
      },
      "source": [
        "### **1.1 Download Libraries**"
      ]
    },
    {
      "cell_type": "code",
      "execution_count": null,
      "metadata": {
        "colab": {
          "base_uri": "https://localhost:8080/"
        },
        "id": "OGQnkdD2u302",
        "outputId": "c412a018-ccb1-4572-e10e-5fc4e67a389b"
      },
      "outputs": [
        {
          "name": "stdout",
          "output_type": "stream",
          "text": [
            "Collecting datasets\n",
            "  Downloading datasets-3.2.0-py3-none-any.whl.metadata (20 kB)\n",
            "Collecting optimum\n",
            "  Downloading optimum-1.23.3-py3-none-any.whl.metadata (20 kB)\n",
            "Collecting auto-gptq\n",
            "  Downloading auto_gptq-0.7.1-cp310-cp310-manylinux_2_17_x86_64.manylinux2014_x86_64.whl.metadata (18 kB)\n",
            "Requirement already satisfied: sentencepiece in /usr/local/lib/python3.10/dist-packages (0.2.0)\n",
            "Collecting bitsandbytes\n",
            "  Downloading bitsandbytes-0.45.0-py3-none-manylinux_2_24_x86_64.whl.metadata (2.9 kB)\n",
            "Collecting sacremoses\n",
            "  Downloading sacremoses-0.1.1-py3-none-any.whl.metadata (8.3 kB)\n",
            "Collecting sacrebleu\n",
            "  Downloading sacrebleu-2.4.3-py3-none-any.whl.metadata (51 kB)\n",
            "\u001b[2K     \u001b[90m━━━━━━━━━━━━━━━━━━━━━━━━━━━━━━━━━━━━━━━━\u001b[0m \u001b[32m51.8/51.8 kB\u001b[0m \u001b[31m2.3 MB/s\u001b[0m eta \u001b[36m0:00:00\u001b[0m\n",
            "\u001b[?25hRequirement already satisfied: filelock in /usr/local/lib/python3.10/dist-packages (from datasets) (3.16.1)\n",
            "Requirement already satisfied: numpy>=1.17 in /usr/local/lib/python3.10/dist-packages (from datasets) (1.26.4)\n",
            "Requirement already satisfied: pyarrow>=15.0.0 in /usr/local/lib/python3.10/dist-packages (from datasets) (17.0.0)\n",
            "Collecting dill<0.3.9,>=0.3.0 (from datasets)\n",
            "  Downloading dill-0.3.8-py3-none-any.whl.metadata (10 kB)\n",
            "Requirement already satisfied: pandas in /usr/local/lib/python3.10/dist-packages (from datasets) (2.2.2)\n",
            "Requirement already satisfied: requests>=2.32.2 in /usr/local/lib/python3.10/dist-packages (from datasets) (2.32.3)\n",
            "Requirement already satisfied: tqdm>=4.66.3 in /usr/local/lib/python3.10/dist-packages (from datasets) (4.66.6)\n",
            "Collecting xxhash (from datasets)\n",
            "  Downloading xxhash-3.5.0-cp310-cp310-manylinux_2_17_x86_64.manylinux2014_x86_64.whl.metadata (12 kB)\n",
            "Collecting multiprocess<0.70.17 (from datasets)\n",
            "  Downloading multiprocess-0.70.16-py310-none-any.whl.metadata (7.2 kB)\n",
            "Collecting fsspec<=2024.9.0,>=2023.1.0 (from fsspec[http]<=2024.9.0,>=2023.1.0->datasets)\n",
            "  Downloading fsspec-2024.9.0-py3-none-any.whl.metadata (11 kB)\n",
            "Requirement already satisfied: aiohttp in /usr/local/lib/python3.10/dist-packages (from datasets) (3.11.10)\n",
            "Requirement already satisfied: huggingface-hub>=0.23.0 in /usr/local/lib/python3.10/dist-packages (from datasets) (0.26.5)\n",
            "Requirement already satisfied: packaging in /usr/local/lib/python3.10/dist-packages (from datasets) (24.2)\n",
            "Requirement already satisfied: pyyaml>=5.1 in /usr/local/lib/python3.10/dist-packages (from datasets) (6.0.2)\n",
            "Collecting coloredlogs (from optimum)\n",
            "  Downloading coloredlogs-15.0.1-py2.py3-none-any.whl.metadata (12 kB)\n",
            "Requirement already satisfied: sympy in /usr/local/lib/python3.10/dist-packages (from optimum) (1.13.1)\n",
            "Requirement already satisfied: transformers>=4.29 in /usr/local/lib/python3.10/dist-packages (from optimum) (4.46.3)\n",
            "Requirement already satisfied: torch>=1.11 in /usr/local/lib/python3.10/dist-packages (from optimum) (2.5.1+cu121)\n",
            "Requirement already satisfied: accelerate>=0.26.0 in /usr/local/lib/python3.10/dist-packages (from auto-gptq) (1.1.1)\n",
            "Collecting rouge (from auto-gptq)\n",
            "  Downloading rouge-1.0.1-py3-none-any.whl.metadata (4.1 kB)\n",
            "Collecting gekko (from auto-gptq)\n",
            "  Downloading gekko-1.2.1-py3-none-any.whl.metadata (3.0 kB)\n",
            "Requirement already satisfied: safetensors in /usr/local/lib/python3.10/dist-packages (from auto-gptq) (0.4.5)\n",
            "Requirement already satisfied: peft>=0.5.0 in /usr/local/lib/python3.10/dist-packages (from auto-gptq) (0.13.2)\n",
            "Requirement already satisfied: typing_extensions>=4.8.0 in /usr/local/lib/python3.10/dist-packages (from bitsandbytes) (4.12.2)\n",
            "Requirement already satisfied: regex in /usr/local/lib/python3.10/dist-packages (from sacremoses) (2024.9.11)\n",
            "Requirement already satisfied: click in /usr/local/lib/python3.10/dist-packages (from sacremoses) (8.1.7)\n",
            "Requirement already satisfied: joblib in /usr/local/lib/python3.10/dist-packages (from sacremoses) (1.4.2)\n",
            "Collecting portalocker (from sacrebleu)\n",
            "  Downloading portalocker-3.0.0-py3-none-any.whl.metadata (8.5 kB)\n",
            "Requirement already satisfied: tabulate>=0.8.9 in /usr/local/lib/python3.10/dist-packages (from sacrebleu) (0.9.0)\n",
            "Collecting colorama (from sacrebleu)\n",
            "  Downloading colorama-0.4.6-py2.py3-none-any.whl.metadata (17 kB)\n",
            "Requirement already satisfied: lxml in /usr/local/lib/python3.10/dist-packages (from sacrebleu) (5.3.0)\n",
            "Requirement already satisfied: psutil in /usr/local/lib/python3.10/dist-packages (from accelerate>=0.26.0->auto-gptq) (5.9.5)\n",
            "Requirement already satisfied: aiohappyeyeballs>=2.3.0 in /usr/local/lib/python3.10/dist-packages (from aiohttp->datasets) (2.4.4)\n",
            "Requirement already satisfied: aiosignal>=1.1.2 in /usr/local/lib/python3.10/dist-packages (from aiohttp->datasets) (1.3.2)\n",
            "Requirement already satisfied: async-timeout<6.0,>=4.0 in /usr/local/lib/python3.10/dist-packages (from aiohttp->datasets) (4.0.3)\n",
            "Requirement already satisfied: attrs>=17.3.0 in /usr/local/lib/python3.10/dist-packages (from aiohttp->datasets) (24.2.0)\n",
            "Requirement already satisfied: frozenlist>=1.1.1 in /usr/local/lib/python3.10/dist-packages (from aiohttp->datasets) (1.5.0)\n",
            "Requirement already satisfied: multidict<7.0,>=4.5 in /usr/local/lib/python3.10/dist-packages (from aiohttp->datasets) (6.1.0)\n",
            "Requirement already satisfied: propcache>=0.2.0 in /usr/local/lib/python3.10/dist-packages (from aiohttp->datasets) (0.2.1)\n",
            "Requirement already satisfied: yarl<2.0,>=1.17.0 in /usr/local/lib/python3.10/dist-packages (from aiohttp->datasets) (1.18.3)\n",
            "Requirement already satisfied: charset-normalizer<4,>=2 in /usr/local/lib/python3.10/dist-packages (from requests>=2.32.2->datasets) (3.4.0)\n",
            "Requirement already satisfied: idna<4,>=2.5 in /usr/local/lib/python3.10/dist-packages (from requests>=2.32.2->datasets) (3.10)\n",
            "Requirement already satisfied: urllib3<3,>=1.21.1 in /usr/local/lib/python3.10/dist-packages (from requests>=2.32.2->datasets) (2.2.3)\n",
            "Requirement already satisfied: certifi>=2017.4.17 in /usr/local/lib/python3.10/dist-packages (from requests>=2.32.2->datasets) (2024.8.30)\n",
            "Requirement already satisfied: networkx in /usr/local/lib/python3.10/dist-packages (from torch>=1.11->optimum) (3.4.2)\n",
            "Requirement already satisfied: jinja2 in /usr/local/lib/python3.10/dist-packages (from torch>=1.11->optimum) (3.1.4)\n",
            "Requirement already satisfied: mpmath<1.4,>=1.1.0 in /usr/local/lib/python3.10/dist-packages (from sympy->optimum) (1.3.0)\n",
            "Requirement already satisfied: tokenizers<0.21,>=0.20 in /usr/local/lib/python3.10/dist-packages (from transformers>=4.29->optimum) (0.20.3)\n",
            "Collecting humanfriendly>=9.1 (from coloredlogs->optimum)\n",
            "  Downloading humanfriendly-10.0-py2.py3-none-any.whl.metadata (9.2 kB)\n",
            "Requirement already satisfied: python-dateutil>=2.8.2 in /usr/local/lib/python3.10/dist-packages (from pandas->datasets) (2.8.2)\n",
            "Requirement already satisfied: pytz>=2020.1 in /usr/local/lib/python3.10/dist-packages (from pandas->datasets) (2024.2)\n",
            "Requirement already satisfied: tzdata>=2022.7 in /usr/local/lib/python3.10/dist-packages (from pandas->datasets) (2024.2)\n",
            "Requirement already satisfied: six in /usr/local/lib/python3.10/dist-packages (from rouge->auto-gptq) (1.17.0)\n",
            "Requirement already satisfied: MarkupSafe>=2.0 in /usr/local/lib/python3.10/dist-packages (from jinja2->torch>=1.11->optimum) (3.0.2)\n",
            "Downloading datasets-3.2.0-py3-none-any.whl (480 kB)\n",
            "\u001b[2K   \u001b[90m━━━━━━━━━━━━━━━━━━━━━━━━━━━━━━━━━━━━━━━━\u001b[0m \u001b[32m480.6/480.6 kB\u001b[0m \u001b[31m12.3 MB/s\u001b[0m eta \u001b[36m0:00:00\u001b[0m\n",
            "\u001b[?25hDownloading optimum-1.23.3-py3-none-any.whl (424 kB)\n",
            "\u001b[2K   \u001b[90m━━━━━━━━━━━━━━━━━━━━━━━━━━━━━━━━━━━━━━━━\u001b[0m \u001b[32m424.1/424.1 kB\u001b[0m \u001b[31m26.2 MB/s\u001b[0m eta \u001b[36m0:00:00\u001b[0m\n",
            "\u001b[?25hDownloading auto_gptq-0.7.1-cp310-cp310-manylinux_2_17_x86_64.manylinux2014_x86_64.whl (23.5 MB)\n",
            "\u001b[2K   \u001b[90m━━━━━━━━━━━━━━━━━━━━━━━━━━━━━━━━━━━━━━━━\u001b[0m \u001b[32m23.5/23.5 MB\u001b[0m \u001b[31m62.8 MB/s\u001b[0m eta \u001b[36m0:00:00\u001b[0m\n",
            "\u001b[?25hDownloading bitsandbytes-0.45.0-py3-none-manylinux_2_24_x86_64.whl (69.1 MB)\n",
            "\u001b[2K   \u001b[90m━━━━━━━━━━━━━━━━━━━━━━━━━━━━━━━━━━━━━━━━\u001b[0m \u001b[32m69.1/69.1 MB\u001b[0m \u001b[31m25.4 MB/s\u001b[0m eta \u001b[36m0:00:00\u001b[0m\n",
            "\u001b[?25hDownloading sacremoses-0.1.1-py3-none-any.whl (897 kB)\n",
            "\u001b[2K   \u001b[90m━━━━━━━━━━━━━━━━━━━━━━━━━━━━━━━━━━━━━━━━\u001b[0m \u001b[32m897.5/897.5 kB\u001b[0m \u001b[31m39.0 MB/s\u001b[0m eta \u001b[36m0:00:00\u001b[0m\n",
            "\u001b[?25hDownloading sacrebleu-2.4.3-py3-none-any.whl (103 kB)\n",
            "\u001b[2K   \u001b[90m━━━━━━━━━━━━━━━━━━━━━━━━━━━━━━━━━━━━━━━━\u001b[0m \u001b[32m104.0/104.0 kB\u001b[0m \u001b[31m7.8 MB/s\u001b[0m eta \u001b[36m0:00:00\u001b[0m\n",
            "\u001b[?25hDownloading dill-0.3.8-py3-none-any.whl (116 kB)\n",
            "\u001b[2K   \u001b[90m━━━━━━━━━━━━━━━━━━━━━━━━━━━━━━━━━━━━━━━━\u001b[0m \u001b[32m116.3/116.3 kB\u001b[0m \u001b[31m8.8 MB/s\u001b[0m eta \u001b[36m0:00:00\u001b[0m\n",
            "\u001b[?25hDownloading fsspec-2024.9.0-py3-none-any.whl (179 kB)\n",
            "\u001b[2K   \u001b[90m━━━━━━━━━━━━━━━━━━━━━━━━━━━━━━━━━━━━━━━━\u001b[0m \u001b[32m179.3/179.3 kB\u001b[0m \u001b[31m14.8 MB/s\u001b[0m eta \u001b[36m0:00:00\u001b[0m\n",
            "\u001b[?25hDownloading multiprocess-0.70.16-py310-none-any.whl (134 kB)\n",
            "\u001b[2K   \u001b[90m━━━━━━━━━━━━━━━━━━━━━━━━━━━━━━━━━━━━━━━━\u001b[0m \u001b[32m134.8/134.8 kB\u001b[0m \u001b[31m11.4 MB/s\u001b[0m eta \u001b[36m0:00:00\u001b[0m\n",
            "\u001b[?25hDownloading colorama-0.4.6-py2.py3-none-any.whl (25 kB)\n",
            "Downloading coloredlogs-15.0.1-py2.py3-none-any.whl (46 kB)\n",
            "\u001b[2K   \u001b[90m━━━━━━━━━━━━━━━━━━━━━━━━━━━━━━━━━━━━━━━━\u001b[0m \u001b[32m46.0/46.0 kB\u001b[0m \u001b[31m3.8 MB/s\u001b[0m eta \u001b[36m0:00:00\u001b[0m\n",
            "\u001b[?25hDownloading gekko-1.2.1-py3-none-any.whl (13.2 MB)\n",
            "\u001b[2K   \u001b[90m━━━━━━━━━━━━━━━━━━━━━━━━━━━━━━━━━━━━━━━━\u001b[0m \u001b[32m13.2/13.2 MB\u001b[0m \u001b[31m73.8 MB/s\u001b[0m eta \u001b[36m0:00:00\u001b[0m\n",
            "\u001b[?25hDownloading portalocker-3.0.0-py3-none-any.whl (19 kB)\n",
            "Downloading rouge-1.0.1-py3-none-any.whl (13 kB)\n",
            "Downloading xxhash-3.5.0-cp310-cp310-manylinux_2_17_x86_64.manylinux2014_x86_64.whl (194 kB)\n",
            "\u001b[2K   \u001b[90m━━━━━━━━━━━━━━━━━━━━━━━━━━━━━━━━━━━━━━━━\u001b[0m \u001b[32m194.1/194.1 kB\u001b[0m \u001b[31m16.2 MB/s\u001b[0m eta \u001b[36m0:00:00\u001b[0m\n",
            "\u001b[?25hDownloading humanfriendly-10.0-py2.py3-none-any.whl (86 kB)\n",
            "\u001b[2K   \u001b[90m━━━━━━━━━━━━━━━━━━━━━━━━━━━━━━━━━━━━━━━━\u001b[0m \u001b[32m86.8/86.8 kB\u001b[0m \u001b[31m5.5 MB/s\u001b[0m eta \u001b[36m0:00:00\u001b[0m\n",
            "\u001b[?25hInstalling collected packages: xxhash, sacremoses, rouge, portalocker, humanfriendly, gekko, fsspec, dill, colorama, sacrebleu, multiprocess, coloredlogs, bitsandbytes, datasets, optimum, auto-gptq\n",
            "  Attempting uninstall: fsspec\n",
            "    Found existing installation: fsspec 2024.10.0\n",
            "    Uninstalling fsspec-2024.10.0:\n",
            "      Successfully uninstalled fsspec-2024.10.0\n",
            "\u001b[31mERROR: pip's dependency resolver does not currently take into account all the packages that are installed. This behaviour is the source of the following dependency conflicts.\n",
            "gcsfs 2024.10.0 requires fsspec==2024.10.0, but you have fsspec 2024.9.0 which is incompatible.\u001b[0m\u001b[31m\n",
            "\u001b[0mSuccessfully installed auto-gptq-0.7.1 bitsandbytes-0.45.0 colorama-0.4.6 coloredlogs-15.0.1 datasets-3.2.0 dill-0.3.8 fsspec-2024.9.0 gekko-1.2.1 humanfriendly-10.0 multiprocess-0.70.16 optimum-1.23.3 portalocker-3.0.0 rouge-1.0.1 sacrebleu-2.4.3 sacremoses-0.1.1 xxhash-3.5.0\n"
          ]
        }
      ],
      "source": [
        "!pip install datasets optimum auto-gptq sentencepiece bitsandbytes sacremoses sacrebleu"
      ]
    },
    {
      "cell_type": "code",
      "execution_count": null,
      "metadata": {
        "colab": {
          "base_uri": "https://localhost:8080/"
        },
        "id": "Njsj37jhsbTY",
        "outputId": "7256eff2-11ed-4d13-f5f2-3291e93457a4"
      },
      "outputs": [
        {
          "name": "stdout",
          "output_type": "stream",
          "text": [
            "Mounted at /content/drive\n"
          ]
        }
      ],
      "source": [
        "from google.colab import drive\n",
        "drive.mount('/content/drive')"
      ]
    },
    {
      "cell_type": "markdown",
      "metadata": {
        "id": "prKdB5wTwPme"
      },
      "source": [
        "### **1.2 Import Libraries**"
      ]
    },
    {
      "cell_type": "code",
      "execution_count": null,
      "metadata": {
        "id": "sykKxOCOp1j7"
      },
      "outputs": [],
      "source": [
        "import zipfile\n",
        "import os\n",
        "import pandas as pd\n",
        "from datasets import Dataset\n",
        "import random\n",
        "import torch\n",
        "from torch.ao.quantization import (\n",
        "    prepare_qat,\n",
        "    convert,\n",
        "    QConfig,\n",
        "    default_observer,\n",
        "    default_per_channel_weight_observer,\n",
        "    get_default_qat_qconfig,\n",
        "    default_weight_observer\n",
        ")\n",
        "\n",
        "from transformers import MBart50Tokenizer, MBartForConditionalGeneration, M2M100Tokenizer, M2M100ForConditionalGeneration, Seq2SeqTrainingArguments, Seq2SeqTrainer, TrainerCallback, AutoModelForCausalLM, AutoTokenizer, pipeline, AutoTokenizer, AutoModelForSeq2SeqLM, BitsAndBytesConfig\n",
        "from peft import get_peft_model, LoraConfig, TaskType\n",
        "from transformers import TrainingArguments, Trainer, DataCollatorWithPadding, GenerationConfig\n",
        "from nltk.translate.bleu_score import sentence_bleu, SmoothingFunction\n",
        "from tqdm import tqdm\n",
        "import copy\n",
        "from torch.utils.data import DataLoader\n",
        "import itertools\n",
        "from itertools import product\n",
        "import psutil\n",
        "import time\n",
        "import matplotlib.pyplot as plt\n",
        "import threading\n",
        "import gc"
      ]
    },
    {
      "cell_type": "markdown",
      "metadata": {
        "id": "_237ElHjwXeo"
      },
      "source": [
        "### **1.3 Download and Initialize Models**"
      ]
    },
    {
      "cell_type": "markdown",
      "metadata": {
        "id": "3Pw23gEf8jTA"
      },
      "source": [
        "#### **1.3.1 mBart**"
      ]
    },
    {
      "cell_type": "code",
      "execution_count": null,
      "metadata": {
        "colab": {
          "base_uri": "https://localhost:8080/",
          "height": 246,
          "referenced_widgets": [
            "ff9faaa4372d40beaa2a0d0379718a0f",
            "237bd9946efd4341a6e737f90619415a",
            "ff7fc8fad35e4bc4b5af6a66b02eeab0",
            "5239a3204f50437ebb9660e77889d360",
            "0ef3082589fe48e9b5115130f8d8170e",
            "8932ac5b234b49b9b16ce7387312d1ca",
            "2de78c4b2daf4434b269beb08fedf2b8",
            "6418a89bb07449d3986fb0985d0b0d91",
            "f16c2010a4cc4f078d864e06a29b2705",
            "9935c83b26de424bb8f16a38514fc549",
            "ec0fc12c1e46475fa8db9a2e9079a793",
            "940ba0154c42408a95c031dfdedc6fc7",
            "b1436bb01a074f5ea26d88d1f3f8ea99",
            "b97c38b90de242979b0f58f63302cbd4",
            "af7df096521e4df89427ead7b509db3c",
            "5bac5314524242719b10b66c56285fb7",
            "48608fc7fd874e84a7f09b6eaa1f03d3",
            "2c37188e2ad64e4f800b7fade3946d76",
            "17a750d1c77c41609b83822f8297f161",
            "5f4d477e70b04a458c9920401aaa4baf",
            "002770a697294cd2a1e62ad9ebb56f0f",
            "f33c8631b8a541c496a0cd096c8583a5",
            "d2e19031aa804962a444cdf147a61337",
            "9b310f903a104c0689a057b53a1884aa",
            "fe730cae5da84d12ae15061c7dfc6dce",
            "87e418e793af4804b4de3b745521baa9",
            "6c598d02efab4b74a9eebdfbfc0c77cf",
            "64ba765e64f4444cadcada2c98c37424",
            "e128e776b30a485b97bbec619a18edf4",
            "62aa05a2bf9c4d00966c87e6d4a04bbe",
            "c1e2ca8d05984c42bef78914d63a0b58",
            "c085a6ca4c134ca7a141ed9d17c26583",
            "11f06f842c274672aec268b7b8a1bde3",
            "5068215f603144bf992b9646ce7e7f36",
            "1893af19547248e5a5c1d8f3263502ec",
            "457d792d667e4e07a5e0b59090b4daaf",
            "e9cf9a5ccbc543b49417ff8b3908b811",
            "0946552c0e9e4d1e8a7dceecbfeebd66",
            "5df9ea3969824c11b6b80583197649c0",
            "c29bf138bef446e6bc23bf794ad7e97f",
            "110a246bcdf74da598f3b58bdadb33b1",
            "91f81fe060674705b1d06053069c84a1",
            "85fd8a9632fb4e8294cdfea09c3894ab",
            "8442e1702c114f16abb5b2d2bf87c33f",
            "1e417de88dc94e84a224b85173154e13",
            "f48780158e314db5a2f1a0a54751f034",
            "8576425312624e3681aa02e18744428d",
            "a278515e304e439e96873a80009734af",
            "9e011d5071cb4136bd358fc6eb4036f9",
            "9af86396852a41bdb9af03cbc5e6abae",
            "a9bfe5364ca0430390a15f6d8241b333",
            "db51b11fe06c4234b0773f4e354b00b4",
            "aca03c1006944492bebbb331c64c1a41",
            "eb037255f7ad4907962ebb141696eefe",
            "293eec9edcad4b02880f2367ca370f3d",
            "0ca9d1a2be2945fe8492088c529f21c9",
            "536d1b905a8b4e328125bfa37aee69c7",
            "25c10fbc8a504e50b6e8859ebe172753",
            "dd57a84a69f149a1ba7ab9feb8d66c3a",
            "3491cd83bc924065a32138c4af6f8a6c",
            "2b0da7e5d0ad4af6bae9757dec680f7e",
            "e0904ce568ea43939edcea1745630a51",
            "913c744b886b433ea1ad7c7718b82972",
            "5467128fefd748b7b9c8aebba9b64a16",
            "171cced3c611442784354d9f94f5c278",
            "1b0d3f7633c54f99b2ef3ba24deeae98"
          ]
        },
        "id": "24zK1v_srGwN",
        "outputId": "7e625c83-8724-4569-8807-45dc6c59bf97"
      },
      "outputs": [
        {
          "data": {
            "application/vnd.jupyter.widget-view+json": {
              "model_id": "ff9faaa4372d40beaa2a0d0379718a0f",
              "version_major": 2,
              "version_minor": 0
            },
            "text/plain": [
              "tokenizer_config.json:   0%|          | 0.00/529 [00:00<?, ?B/s]"
            ]
          },
          "metadata": {},
          "output_type": "display_data"
        },
        {
          "data": {
            "application/vnd.jupyter.widget-view+json": {
              "model_id": "940ba0154c42408a95c031dfdedc6fc7",
              "version_major": 2,
              "version_minor": 0
            },
            "text/plain": [
              "sentencepiece.bpe.model:   0%|          | 0.00/5.07M [00:00<?, ?B/s]"
            ]
          },
          "metadata": {},
          "output_type": "display_data"
        },
        {
          "data": {
            "application/vnd.jupyter.widget-view+json": {
              "model_id": "d2e19031aa804962a444cdf147a61337",
              "version_major": 2,
              "version_minor": 0
            },
            "text/plain": [
              "special_tokens_map.json:   0%|          | 0.00/649 [00:00<?, ?B/s]"
            ]
          },
          "metadata": {},
          "output_type": "display_data"
        },
        {
          "data": {
            "application/vnd.jupyter.widget-view+json": {
              "model_id": "5068215f603144bf992b9646ce7e7f36",
              "version_major": 2,
              "version_minor": 0
            },
            "text/plain": [
              "config.json:   0%|          | 0.00/1.43k [00:00<?, ?B/s]"
            ]
          },
          "metadata": {},
          "output_type": "display_data"
        },
        {
          "data": {
            "application/vnd.jupyter.widget-view+json": {
              "model_id": "1e417de88dc94e84a224b85173154e13",
              "version_major": 2,
              "version_minor": 0
            },
            "text/plain": [
              "model.safetensors:   0%|          | 0.00/2.44G [00:00<?, ?B/s]"
            ]
          },
          "metadata": {},
          "output_type": "display_data"
        },
        {
          "data": {
            "application/vnd.jupyter.widget-view+json": {
              "model_id": "0ca9d1a2be2945fe8492088c529f21c9",
              "version_major": 2,
              "version_minor": 0
            },
            "text/plain": [
              "generation_config.json:   0%|          | 0.00/261 [00:00<?, ?B/s]"
            ]
          },
          "metadata": {},
          "output_type": "display_data"
        },
        {
          "name": "stdout",
          "output_type": "stream",
          "text": [
            "mBart and tokenizers initialized successfully.\n"
          ]
        }
      ],
      "source": [
        "# Model names\n",
        "mbart_model_name = \"facebook/mbart-large-50-many-to-many-mmt\"\n",
        "\n",
        "# Source and target languages\n",
        "SRC_LANG = \"zh_CN\"\n",
        "TGT_LANG = \"en_XX\"\n",
        "\n",
        "# Initialize mBART model and tokenizer\n",
        "tokenizer_mbart = MBart50Tokenizer.from_pretrained(mbart_model_name)\n",
        "model_mbart = MBartForConditionalGeneration.from_pretrained(mbart_model_name)\n",
        "tokenizer_mbart.src_lang = SRC_LANG\n",
        "tokenizer_mbart.tgt_lang = TGT_LANG\n",
        "\n",
        "# Ensure all parameters in the original model are trainable\n",
        "for param in model_mbart.parameters():\n",
        "    param.requires_grad = True\n",
        "\n",
        "\n",
        "# LoRA configuration for mBART\n",
        "mbart_lora_config = LoraConfig(\n",
        "    task_type=TaskType.SEQ_2_SEQ_LM,\n",
        "    inference_mode=False,\n",
        "    r=8,  # Low-rank dimension\n",
        "    lora_alpha=64,\n",
        "    lora_dropout=0.0,\n",
        "    target_modules=[\"q_proj\", \"v_proj\"],\n",
        ")\n",
        "\n",
        "# Apply LoRA to mBART model\n",
        "model_mbart_lora = copy.deepcopy(model_mbart)\n",
        "model_mbart_lora = get_peft_model(model_mbart_lora, mbart_lora_config)\n",
        "\n",
        "# Verify that only LoRA-specific layers are trainable\n",
        "for name, param in model_mbart_lora.named_parameters():\n",
        "    if any(layer in name for layer in mbart_lora_config.target_modules):\n",
        "        param.requires_grad = True  # LoRA layers should be trainable\n",
        "    else:\n",
        "        param.requires_grad = False  # Non-LoRA layers should be frozen\n",
        "\n",
        "\n",
        "# mBart with Layer Freezing\n",
        "model_mbart_freeze = copy.deepcopy(model_mbart)\n",
        "\n",
        "# Layer Freezing Configuration\n",
        "freeze_encoder_layers = 8  # Number of encoder layers to freeze\n",
        "freeze_decoder_layers = 8  # Number of decoder layers to freeze\n",
        "\n",
        "# Apply Layer Freezing to the base mBART model\n",
        "for name, param in model_mbart_freeze.named_parameters():\n",
        "    # Freeze encoder layers\n",
        "    if \"encoder.layers\" in name:\n",
        "        layer_num = int(name.split(\".\")[3])  # Extract layer index\n",
        "        if layer_num < freeze_encoder_layers:\n",
        "            param.requires_grad = False  # Freeze parameters\n",
        "    # Freeze decoder layers\n",
        "    elif \"decoder.layers\" in name:\n",
        "        layer_num = int(name.split(\".\")[3])  # Extract layer index\n",
        "        if layer_num < freeze_decoder_layers:\n",
        "            param.requires_grad = False  # Freeze parameters\n",
        "    else:\n",
        "        param.requires_grad = True  # Keep other parameters trainable\n",
        "\n",
        "\n",
        "print(\"mBart and tokenizers initialized successfully.\")"
      ]
    },
    {
      "cell_type": "code",
      "execution_count": null,
      "metadata": {
        "id": "ZFo0H42qtLyV"
      },
      "outputs": [],
      "source": [
        "def print_model_parameters(model, model_name=\"Model\"):\n",
        "    total_params = sum(p.numel() for p in model.parameters())\n",
        "    trainable_params = sum(p.numel() for p in model.parameters() if p.requires_grad)\n",
        "\n",
        "    # Print summaries\n",
        "    print(f\"{model_name} - Total Parameters: {total_params}\")\n",
        "    print(f\"{model_name} - Trainable Parameters (All): {trainable_params}\")\n",
        "    print(f\"{model_name} - Percentage of Parameters to Fine-tune (All): {100 * trainable_params / total_params:.2f}%\\n\")"
      ]
    },
    {
      "cell_type": "code",
      "execution_count": null,
      "metadata": {
        "colab": {
          "base_uri": "https://localhost:8080/"
        },
        "id": "mfM1I_XerqQO",
        "outputId": "538c49c0-2143-4985-9694-61d9b83d7394"
      },
      "outputs": [
        {
          "name": "stdout",
          "output_type": "stream",
          "text": [
            "mBART (original) - Total Parameters: 610879488\n",
            "mBART (original) - Trainable Parameters (All): 610879488\n",
            "mBART (original) - Percentage of Parameters to Fine-tune (All): 100.00%\n",
            "\n",
            "mBART (LoRA) - Total Parameters: 612059136\n",
            "mBART (LoRA) - Trainable Parameters (All): 76750848\n",
            "mBART (LoRA) - Percentage of Parameters to Fine-tune (All): 12.54%\n",
            "\n",
            "mBART (Layer Freezing) - Total Parameters: 610879488\n",
            "mBART (Layer Freezing) - Trainable Parameters (All): 375736320\n",
            "mBART (Layer Freezing) - Percentage of Parameters to Fine-tune (All): 61.51%\n",
            "\n"
          ]
        }
      ],
      "source": [
        "# Display parameter summaries for the original and LoRA-enhanced models\n",
        "print_model_parameters(model_mbart, \"mBART (original)\")\n",
        "print_model_parameters(model_mbart_lora, \"mBART (LoRA)\")\n",
        "print_model_parameters(model_mbart_freeze, \"mBART (Layer Freezing)\")"
      ]
    },
    {
      "cell_type": "markdown",
      "metadata": {
        "id": "XklaqI9z8qAy"
      },
      "source": [
        "#### **1.3.2 M2M100**"
      ]
    },
    {
      "cell_type": "code",
      "execution_count": null,
      "metadata": {
        "colab": {
          "base_uri": "https://localhost:8080/",
          "height": 278
        },
        "id": "whhn7rwd8vbj",
        "outputId": "9aca5ad8-22e3-4fd4-cda0-791de51a4f2f"
      },
      "outputs": [
        {
          "data": {
            "application/vnd.jupyter.widget-view+json": {
              "model_id": "c7af8893e04a46e29d04ae08c2806042",
              "version_major": 2,
              "version_minor": 0
            },
            "text/plain": [
              "tokenizer_config.json:   0%|          | 0.00/298 [00:00<?, ?B/s]"
            ]
          },
          "metadata": {},
          "output_type": "display_data"
        },
        {
          "data": {
            "application/vnd.jupyter.widget-view+json": {
              "model_id": "289ae24bf9ce490baeed866f57f00b77",
              "version_major": 2,
              "version_minor": 0
            },
            "text/plain": [
              "vocab.json:   0%|          | 0.00/3.71M [00:00<?, ?B/s]"
            ]
          },
          "metadata": {},
          "output_type": "display_data"
        },
        {
          "data": {
            "application/vnd.jupyter.widget-view+json": {
              "model_id": "7300849ff8684b879070d59ee4e9f3cb",
              "version_major": 2,
              "version_minor": 0
            },
            "text/plain": [
              "sentencepiece.bpe.model:   0%|          | 0.00/2.42M [00:00<?, ?B/s]"
            ]
          },
          "metadata": {},
          "output_type": "display_data"
        },
        {
          "data": {
            "application/vnd.jupyter.widget-view+json": {
              "model_id": "25bdc40f610642cebc8dd76b3b6a051e",
              "version_major": 2,
              "version_minor": 0
            },
            "text/plain": [
              "special_tokens_map.json:   0%|          | 0.00/1.14k [00:00<?, ?B/s]"
            ]
          },
          "metadata": {},
          "output_type": "display_data"
        },
        {
          "data": {
            "application/vnd.jupyter.widget-view+json": {
              "model_id": "a476fcce9e28421182dfc3eacab09150",
              "version_major": 2,
              "version_minor": 0
            },
            "text/plain": [
              "config.json:   0%|          | 0.00/908 [00:00<?, ?B/s]"
            ]
          },
          "metadata": {},
          "output_type": "display_data"
        },
        {
          "data": {
            "application/vnd.jupyter.widget-view+json": {
              "model_id": "375fd77fc6ed47fc8d4fd3eec3061df9",
              "version_major": 2,
              "version_minor": 0
            },
            "text/plain": [
              "pytorch_model.bin:   0%|          | 0.00/1.94G [00:00<?, ?B/s]"
            ]
          },
          "metadata": {},
          "output_type": "display_data"
        },
        {
          "data": {
            "application/vnd.jupyter.widget-view+json": {
              "model_id": "7143f6dc06a44bc4bf284d8aac65533e",
              "version_major": 2,
              "version_minor": 0
            },
            "text/plain": [
              "generation_config.json:   0%|          | 0.00/233 [00:00<?, ?B/s]"
            ]
          },
          "metadata": {},
          "output_type": "display_data"
        },
        {
          "name": "stdout",
          "output_type": "stream",
          "text": [
            "M2M100 model and tokenizer initialized with LoRA successfully.\n"
          ]
        }
      ],
      "source": [
        "# Model names\n",
        "mtm_model_name = \"facebook/m2m100_418M\"\n",
        "\n",
        "# Initialize M2M100 model and tokenizer\n",
        "tokenizer_mtm = M2M100Tokenizer.from_pretrained(mtm_model_name)\n",
        "model_mtm = M2M100ForConditionalGeneration.from_pretrained(mtm_model_name)\n",
        "\n",
        "# Create a deep copy of the original model for LoRA\n",
        "model_mtm_lora = copy.deepcopy(model_mtm)\n",
        "\n",
        "# LoRA configuration for M2M100\n",
        "mtm_lora_config = LoraConfig(\n",
        "    task_type=TaskType.SEQ_2_SEQ_LM,\n",
        "    inference_mode=False,\n",
        "    r=8,  # Low-rank dimension\n",
        "    lora_alpha=64,\n",
        "    lora_dropout=0.0,\n",
        "    target_modules=[\"q_proj\", \"v_proj\"],  # Target LoRA modules (check M2M100 architecture)\n",
        ")\n",
        "\n",
        "# Apply LoRA to M2M100 model\n",
        "model_mtm_lora = get_peft_model(model_mtm_lora, mtm_lora_config)\n",
        "\n",
        "# Ensure only LoRA layers are trainable\n",
        "for name, param in model_mtm_lora.named_parameters():\n",
        "    if any(layer in name for layer in mtm_lora_config.target_modules):\n",
        "        param.requires_grad = True  # LoRA layers\n",
        "    else:\n",
        "        param.requires_grad = False  # Non-LoRA layers\n",
        "\n",
        "\n",
        "# Create a deep copy of the original model for Layer Freezing\n",
        "model_mtm_freeze = copy.deepcopy(model_mtm)\n",
        "\n",
        "# Layer Freezing Configuration\n",
        "freeze_encoder_layers = 8  # Number of encoder layers to freeze\n",
        "freeze_decoder_layers = 8  # Number of decoder layers to freeze\n",
        "\n",
        "# Apply Layer Freezing to M2M100 model\n",
        "for name, param in model_mtm_freeze.named_parameters():\n",
        "    # Freeze encoder layers\n",
        "    if \"encoder.layers\" in name:\n",
        "        layer_num = int(name.split(\".\")[3])  # Extract the layer index\n",
        "        if layer_num < freeze_encoder_layers:\n",
        "            param.requires_grad = False  # Freeze parameters\n",
        "    # Freeze decoder layers\n",
        "    elif \"decoder.layers\" in name:\n",
        "        layer_num = int(name.split(\".\")[3])  # Extract the layer index\n",
        "        if layer_num < freeze_decoder_layers:\n",
        "            param.requires_grad = False  # Freeze parameters\n",
        "    else:\n",
        "        param.requires_grad = True  # Keep other parameters trainable\n",
        "\n",
        "\n",
        "print(\"M2M100 model and tokenizer initialized with LoRA successfully.\")"
      ]
    },
    {
      "cell_type": "code",
      "execution_count": null,
      "metadata": {
        "colab": {
          "base_uri": "https://localhost:8080/"
        },
        "id": "PaZIrpfx-0eL",
        "outputId": "4b268ed2-ec1d-4f16-d797-5711aa5ce04b"
      },
      "outputs": [
        {
          "name": "stdout",
          "output_type": "stream",
          "text": [
            "M2M100 (original) - Total Parameters: 483905536\n",
            "M2M100 (original) - Trainable Parameters (All): 483905536\n",
            "M2M100 (original) - Percentage of Parameters to Fine-tune (All): 100.00%\n",
            "\n",
            "M2M100 (LoRA) - Total Parameters: 485085184\n",
            "M2M100 (LoRA) - Trainable Parameters (All): 76750848\n",
            "M2M100 (LoRA) - Percentage of Parameters to Fine-tune (All): 15.82%\n",
            "\n",
            "M2M100 (Layer Freezing) - Total Parameters: 483905536\n",
            "M2M100 (Layer Freezing) - Trainable Parameters (All): 248762368\n",
            "M2M100 (Layer Freezing) - Percentage of Parameters to Fine-tune (All): 51.41%\n",
            "\n"
          ]
        }
      ],
      "source": [
        "# Display parameter summaries\n",
        "print_model_parameters(model_mtm, \"M2M100 (original)\")\n",
        "print_model_parameters(model_mtm_lora, \"M2M100 (LoRA)\")\n",
        "print_model_parameters(model_mtm_freeze, \"M2M100 (Layer Freezing)\")"
      ]
    },
    {
      "cell_type": "markdown",
      "metadata": {
        "id": "GXhU2VXTwiwH"
      },
      "source": [
        "### **1.4 Load and Preprocess Data**"
      ]
    },
    {
      "cell_type": "code",
      "execution_count": null,
      "metadata": {
        "id": "2VEx8b6vaw7n"
      },
      "outputs": [],
      "source": [
        "def load_data_from_txt(txt_file_path, sample_size=100000, train_ratio=0.8, dev_ratio=0.1, encoding='utf-8'):\n",
        "    # Check if the file exists\n",
        "    if not os.path.isfile(txt_file_path):\n",
        "        print(\"The specified .txt file does not exist.\")\n",
        "        return None, None, None\n",
        "\n",
        "    # Initialize lists to hold English and Chinese sentences\n",
        "    english_sentences = []\n",
        "    chinese_sentences = []\n",
        "\n",
        "    try:\n",
        "        # Read the text file line by line\n",
        "        with open(txt_file_path, 'r', encoding=encoding) as f:\n",
        "            lines = [line.strip() for line in f]\n",
        "\n",
        "        # Separate English and Chinese sentences by alternating lines\n",
        "        for i in range(0, len(lines) - 1, 2):\n",
        "            english_sentences.append(lines[i])\n",
        "            chinese_sentences.append(lines[i + 1])\n",
        "\n",
        "        # Ensure equal number of English and Chinese sentences\n",
        "        min_length = min(len(english_sentences), len(chinese_sentences))\n",
        "        english_sentences = english_sentences[:min_length]\n",
        "        chinese_sentences = chinese_sentences[:min_length]\n",
        "\n",
        "        # Create a DataFrame for paired sentences\n",
        "        data = pd.DataFrame({\"english_text\": english_sentences, \"chinese_text\": chinese_sentences})\n",
        "\n",
        "        # Shuffle the dataset\n",
        "        data = data.sample(frac=1).reset_index(drop=True)\n",
        "\n",
        "        # Adjust sample size if data size is less than requested sample size\n",
        "        sample_size = min(sample_size, len(data))\n",
        "        data = data.sample(n=sample_size, random_state=42)\n",
        "\n",
        "        # Calculate the number of samples for each split\n",
        "        train_end = int(sample_size * train_ratio)\n",
        "        dev_end = train_end + int(sample_size * dev_ratio)\n",
        "\n",
        "        # Split the dataset into train, dev, and test sets\n",
        "        train_data = data[:train_end]\n",
        "        dev_data = data[train_end:dev_end]\n",
        "        test_data = data[dev_end:]\n",
        "\n",
        "        print(f\"Loaded train data with {len(train_data)} samples.\")\n",
        "        print(f\"Loaded dev data with {len(dev_data)} samples.\")\n",
        "        print(f\"Loaded test data with {len(test_data)} samples.\")\n",
        "\n",
        "        return train_data, dev_data, test_data\n",
        "\n",
        "    except UnicodeDecodeError as e:\n",
        "        print(f\"Error reading the file: {e}\")\n",
        "        return None, None, None"
      ]
    },
    {
      "cell_type": "code",
      "execution_count": null,
      "metadata": {
        "id": "qXAywKJrZHg2"
      },
      "outputs": [],
      "source": [
        "def preprocess_data(data, tokenizer, max_length=50, src_lang=None, tgt_lang=None):\n",
        "    \"\"\"\n",
        "    Preprocesses the data for tokenization.\n",
        "\n",
        "    Args:\n",
        "        data (pd.DataFrame): Input data containing source and target texts.\n",
        "        tokenizer: Tokenizer to use for processing.\n",
        "        max_length (int): Maximum sequence length.\n",
        "        src_lang (str): Source language code (e.g., 'zh' for Chinese). Set to None if not required.\n",
        "        tgt_lang (str): Target language code (e.g., 'en' for English). Set to None if not required.\n",
        "\n",
        "    Returns:\n",
        "        Dataset: Tokenized dataset ready for model input.\n",
        "    \"\"\"\n",
        "    dataset = Dataset.from_pandas(data)\n",
        "\n",
        "    def tokenize_function(batch):\n",
        "        # Optionally set language codes for M2M100 or similar models\n",
        "        if src_lang is not None:\n",
        "            tokenizer.src_lang = src_lang\n",
        "        if tgt_lang is not None:\n",
        "            tokenizer.tgt_lang = tgt_lang\n",
        "\n",
        "        # Tokenize the source text\n",
        "        inputs = tokenizer(\n",
        "            batch[\"chinese_text\"],\n",
        "            padding=\"max_length\",\n",
        "            truncation=True,\n",
        "            max_length=max_length\n",
        "        )\n",
        "\n",
        "        # Tokenize the target text\n",
        "        targets = tokenizer(\n",
        "            batch[\"english_text\"],\n",
        "            padding=\"max_length\",\n",
        "            truncation=True,\n",
        "            max_length=max_length\n",
        "        )\n",
        "\n",
        "        # Prepare labels and replace padding tokens with -100 for loss calculation\n",
        "        batch[\"input_ids\"] = inputs[\"input_ids\"]\n",
        "        batch[\"attention_mask\"] = inputs[\"attention_mask\"]\n",
        "        batch[\"labels\"] = [\n",
        "            [(token if token != tokenizer.pad_token_id else -100) for token in label]\n",
        "            for label in targets[\"input_ids\"]\n",
        "        ]\n",
        "        return batch\n",
        "\n",
        "    # Tokenize and reformat the dataset\n",
        "    tokenized_dataset = dataset.map(tokenize_function, batched=True, remove_columns=[\"english_text\", \"chinese_text\"])\n",
        "    tokenized_dataset.set_format(type=\"torch\", columns=[\"input_ids\", \"attention_mask\", \"labels\"])\n",
        "\n",
        "    return tokenized_dataset"
      ]
    },
    {
      "cell_type": "code",
      "execution_count": null,
      "metadata": {
        "colab": {
          "base_uri": "https://localhost:8080/"
        },
        "id": "N79RbBPjrORm",
        "outputId": "21a0d925-ab34-41ac-c2ff-75c607ffe20f"
      },
      "outputs": [
        {
          "name": "stdout",
          "output_type": "stream",
          "text": [
            "Loaded train data with 80000 samples.\n",
            "Loaded dev data with 10000 samples.\n",
            "Loaded test data with 10000 samples.\n"
          ]
        }
      ],
      "source": [
        "# Load and preprocess the dataset\n",
        "data_file_path = \"/content/drive/MyDrive/CIS5800/Bilingual/Education/Bi-Education.txt\"\n",
        "train_data, dev_data, test_data = load_data_from_txt(data_file_path)"
      ]
    },
    {
      "cell_type": "markdown",
      "metadata": {
        "id": "ozU3DRKlwtH1"
      },
      "source": [
        "### **1.5 Initialize Evaluation Metrics: BLEU**"
      ]
    },
    {
      "cell_type": "code",
      "execution_count": null,
      "metadata": {
        "id": "bhRrgxxtwr6q",
        "colab": {
          "base_uri": "https://localhost:8080/",
          "height": 106
        },
        "outputId": "f26ebe4e-a943-47ca-fea1-3377dfe548b8"
      },
      "outputs": [
        {
          "output_type": "error",
          "ename": "SyntaxError",
          "evalue": "invalid syntax. Maybe you meant '==' or ':=' instead of '='? (<ipython-input-24-459752d69b64>, line 55)",
          "traceback": [
            "\u001b[0;36m  File \u001b[0;32m\"<ipython-input-24-459752d69b64>\"\u001b[0;36m, line \u001b[0;32m55\u001b[0m\n\u001b[0;31m    if model = \"alpaca\":\u001b[0m\n\u001b[0m       ^\u001b[0m\n\u001b[0;31mSyntaxError\u001b[0m\u001b[0;31m:\u001b[0m invalid syntax. Maybe you meant '==' or ':=' instead of '='?\n"
          ]
        }
      ],
      "source": [
        "def format_prompt(chinese_text):\n",
        "    return f'''Below is a Chinese sentence. Translate it into English.\n",
        "\n",
        "### Instruction:\n",
        "{chinese_text}\n",
        "\n",
        "### Response:\n",
        "'''\n",
        "\n",
        "def evaluate_bleu_score(model, tokenizer, test_data, max_length=50, device=\"cuda\", model_type = \"mbart\"):\n",
        "    \"\"\"\n",
        "    Evaluates the BLEU score of a given model on a test dataset.\n",
        "\n",
        "    Parameters:\n",
        "    - model: The translation model to evaluate (e.g., trained mBART model).\n",
        "    - tokenizer: The tokenizer corresponding to the model.\n",
        "    - test_data: The test dataset containing \"chinese_text\" and \"english_text\" columns.\n",
        "    - max_length: Maximum sequence length for translation generation.\n",
        "    - device: The device to run the evaluation on (\"cuda\" or \"cpu\").\n",
        "\n",
        "    Returns:\n",
        "    - average_bleu: The average BLEU score for the test set.\n",
        "    \"\"\"\n",
        "    # Move model to the specified device\n",
        "    model = model.to(device)\n",
        "    smooth_fn = SmoothingFunction().method1\n",
        "\n",
        "    # Prepare the test sentences\n",
        "    test_chinese_sentences = test_data[\"chinese_text\"].tolist()\n",
        "    test_english_references = test_data[\"english_text\"].tolist()\n",
        "\n",
        "    if Alpaca:\n",
        "      test_chinese_sentences = [format_prompt(sentence) for sentence in test_chinese_sentences]\n",
        "\n",
        "    bleu_scores = []\n",
        "\n",
        "    # Progress bar for tracking\n",
        "    for src_sentence, ref_sentence in tqdm(zip(test_chinese_sentences, test_english_references),\n",
        "                                           total=len(test_chinese_sentences),\n",
        "                                           desc=\"Calculating BLEU Scores\"):\n",
        "        # Tokenize and prepare the input with max_length\n",
        "        inputs = tokenizer(src_sentence, return_tensors=\"pt\", padding=True, truncation=True, max_length=max_length).to(device)\n",
        "\n",
        "        # Generate translation\n",
        "        with torch.no_grad():\n",
        "          if model_type == \"mabrt\":\n",
        "            generated_tokens = model.generate(**inputs, max_length=max_length)\n",
        "\n",
        "          elif model_type == \"m2m\":\n",
        "            generated_tokens = model.generate(**inputs, forced_bos_token_id=tokenizer.lang_code_to_id[\"en\"])\n",
        "\n",
        "        # Decode generated tokens to text\n",
        "        generated_sentence = tokenizer.decode(generated_tokens[0], skip_special_tokens=True)\n",
        "\n",
        "        if model = \"alpaca\":\n",
        "          generated_sentence = generated_sentence.replace('</s>', '')\n",
        "\n",
        "        # Tokenize reference and hypothesis for BLEU calculation\n",
        "        reference = [ref_sentence.split()]  # Reference should be a list of lists for sentence_bleu\n",
        "        hypothesis = generated_sentence.split()\n",
        "\n",
        "        # Compute BLEU score with smoothing\n",
        "        bleu_score = sentence_bleu(reference, hypothesis, smoothing_function=smooth_fn)\n",
        "        bleu_scores.append(bleu_score)\n",
        "\n",
        "    # Calculate and return the average BLEU score for the test set\n",
        "    average_bleu = sum(bleu_scores) / len(bleu_scores)\n",
        "    print(f\"Average BLEU score for the test set: {average_bleu:.4f}\")\n",
        "\n",
        "    return average_bleu"
      ]
    },
    {
      "cell_type": "code",
      "execution_count": null,
      "metadata": {
        "id": "EWB_nGyqUeSz"
      },
      "outputs": [],
      "source": [
        "def error_evaluate(model, tokenizer, test_data, save_path, max_length=50, device=\"cuda\", bleu_threshold=0.1, model_type = \"mabrt\"):\n",
        "    \"\"\"\n",
        "    Evaluate a translation model on a test set using BLEU score.\n",
        "\n",
        "    Parameters:\n",
        "    - model: Translation model (e.g., mBART).\n",
        "    - tokenizer: Tokenizer corresponding to the model.\n",
        "    - test_data: Test dataset as a DataFrame with 'chinese_text' and 'english_text' columns.\n",
        "    - save_path: Path to save the incorrect examples as a CSV file.\n",
        "    - max_length: Maximum sequence length for generated translations (default=50).\n",
        "    - device: Device to run the evaluation ('cuda' or 'cpu').\n",
        "    - bleu_threshold: BLEU score threshold to determine correctness (default=0.1).\n",
        "\n",
        "    Returns:\n",
        "    - results_df: DataFrame containing evaluation results.\n",
        "    - errors_df: DataFrame containing incorrect examples.\n",
        "    \"\"\"\n",
        "    # Move model to the specified device\n",
        "    model = model.to(device)\n",
        "\n",
        "    # Initialize smoothing function\n",
        "    smooth_fn = SmoothingFunction().method1\n",
        "\n",
        "    # Results storage\n",
        "    results = []\n",
        "\n",
        "    # Process test data\n",
        "    for idx, row in tqdm(test_data.iterrows(), total=len(test_data), desc=\"Evaluating BLEU\"):\n",
        "        chinese_input = row[\"chinese_text\"]\n",
        "        ground_truth = row[\"english_text\"]\n",
        "\n",
        "        # Step 1: Tokenize and move input to device\n",
        "        inputs = tokenizer(chinese_input, return_tensors=\"pt\", truncation=True, padding=True)\n",
        "        inputs = {key: value.to(device) for key, value in inputs.items()}\n",
        "\n",
        "        # Step 2: Generate translation\n",
        "        with torch.no_grad():\n",
        "          if model_type == \"mabrt\":\n",
        "            translated_tokens = model.generate(\n",
        "                **inputs, max_length=max_length, forced_bos_token_id=tokenizer.lang_code_to_id[\"en_XX\"]\n",
        "            )\n",
        "          elif model_type == \"m2m\":\n",
        "            translated_tokens = model.generate(**inputs, forced_bos_token_id=tokenizer.lang_code_to_id[\"en\"])\n",
        "\n",
        "        prediction = tokenizer.decode(translated_tokens[0], skip_special_tokens=True)\n",
        "\n",
        "        # Step 3: Calculate BLEU score\n",
        "        reference = [ground_truth.split()]  # Reference sentence split into tokens\n",
        "        hypothesis = prediction.split()     # Hypothesis sentence split into tokens\n",
        "        bleu_score = sentence_bleu(reference, hypothesis, smoothing_function=smooth_fn)\n",
        "\n",
        "        # Step 4: Determine correctness\n",
        "        is_correct = bleu_score >= bleu_threshold\n",
        "\n",
        "        # Step 5: Append results\n",
        "        results.append({\n",
        "            \"chinese_input\": chinese_input,\n",
        "            \"ground_truth\": ground_truth,\n",
        "            \"prediction\": prediction,\n",
        "            \"bleu_score\": round(bleu_score, 3),\n",
        "            \"correct\": is_correct\n",
        "        })\n",
        "\n",
        "    # Convert to DataFrame\n",
        "    results_df = pd.DataFrame(results)\n",
        "\n",
        "    # Filter incorrect translations\n",
        "    errors_df = results_df[~results_df[\"correct\"]]\n",
        "\n",
        "    # Print and save results\n",
        "    print(\"\\nAll Results:\")\n",
        "    print(results_df)\n",
        "\n",
        "    print(\"\\nError Examples:\")\n",
        "    print(errors_df)\n",
        "\n",
        "    # Save errors to CSV file\n",
        "    errors_df.to_csv(save_path, index=False)\n",
        "    print(f\"Error examples saved to '{save_path}'\")\n",
        "\n",
        "    return results_df, errors_df"
      ]
    },
    {
      "cell_type": "markdown",
      "metadata": {
        "id": "QhCijy_CqYHV"
      },
      "source": [
        "### **1.6 GPU and Memory Monitoring**"
      ]
    },
    {
      "cell_type": "code",
      "execution_count": null,
      "metadata": {
        "colab": {
          "base_uri": "https://localhost:8080/"
        },
        "id": "ScJcEeM3qxwf",
        "outputId": "b39fa912-69b3-4647-acce-2fe3d9ea6900"
      },
      "outputs": [
        {
          "name": "stdout",
          "output_type": "stream",
          "text": [
            "Directory created or already exists: /content/drive/MyDrive/CIS5800/Log/m2m\n",
            "Directory created or already exists: /content/drive/MyDrive/CIS5800/Log\n",
            "Directory created or already exists: /content/drive/MyDrive/CIS5800/Log/mBART\n",
            "Directory created or already exists: /content/drive/MyDrive/CIS5800/Log/mBART\n"
          ]
        }
      ],
      "source": [
        "file_path_m2m = \"/content/drive/MyDrive/CIS5800/Log/m2m/memory_usage.log\"\n",
        "file_path_m2m_lora = \"/content/drive/MyDrive/CIS5800/Log/memory_usage_lora.log\"\n",
        "\n",
        "file_path_mBART = \"/content/drive/MyDrive/CIS5800/Log/mBART/memory_usage.log\"\n",
        "file_path_mBART_lora = \"/content/drive/MyDrive/CIS5800/Log/mBART/memory_usage_lora.log\"\n",
        "\n",
        "paths = [file_path_m2m, file_path_m2m_lora, file_path_mBART, file_path_mBART_lora]\n",
        "\n",
        "for file_path in paths:\n",
        "  directory_path = os.path.dirname(file_path)\n",
        "  if not os.path.exists(directory_path):\n",
        "    os.makedirs(directory_path, exist_ok=True)\n",
        "  print(f\"Directory created or already exists: {directory_path}\")"
      ]
    },
    {
      "cell_type": "code",
      "execution_count": null,
      "metadata": {
        "id": "tZ0S4c2xqfHV"
      },
      "outputs": [],
      "source": [
        "# Define a function to monitor memory usage\n",
        "\n",
        "class MemoryUsageLogger(TrainerCallback):\n",
        "    def __init__(self, log_file):\n",
        "        self.log_file = log_file\n",
        "        # Initialize the log file and write headers\n",
        "        with open(log_file, \"w\") as f:\n",
        "            f.write(\"Step,Timestamp,Time (s),RAM Usage (GB),GPU Memory Usage (GB)\\n\")\n",
        "        self.start_time = time.time()\n",
        "\n",
        "    def on_step_end(self, args, state, control, **kwargs):\n",
        "        # Calculate memory usage\n",
        "        process = psutil.Process(os.getpid())\n",
        "        ram_usage = process.memory_info().rss / (1024 ** 3)  # Convert to GB\n",
        "\n",
        "        gpu_memory = 0\n",
        "        if torch.cuda.is_available():\n",
        "            gpu_memory = torch.cuda.memory_allocated() / (1024 ** 3)  # Convert to GB\n",
        "\n",
        "        # Log memory usage\n",
        "        current_time = time.time() - self.start_time\n",
        "        timestamp = time.strftime(\"%Y-%m-%d %H:%M:%S\", time.localtime())\n",
        "        with open(self.log_file, \"a\") as f:\n",
        "            f.write(f\"{state.global_step},{timestamp},{current_time:.2f},{ram_usage:.2f},{gpu_memory:.2f}\\n\")\n",
        "\n",
        "        # Optional: Print to console for real-time monitoring\n",
        "        print(f\"Step: {state.global_step}, Timestamp: {timestamp}, RAM: {ram_usage:.2f} GB, GPU: {gpu_memory:.2f} GB\")\n",
        "\n",
        "\n",
        "# Analyze logs to find top 15 memory usages\n",
        "def analyze_logs(log_file, output_file):\n",
        "    \"\"\"\n",
        "    Analyzes the memory log file to find the top 15 GPU and RAM usages\n",
        "    along with their timestamps and saves the results to a file.\n",
        "\n",
        "    Args:\n",
        "        log_file (str): Path to the input log file.\n",
        "        output_file (str): Path to the output file.\n",
        "    \"\"\"\n",
        "    # Check if the log file exists\n",
        "    if not os.path.exists(log_file):\n",
        "        raise FileNotFoundError(f\"Log file '{log_file}' does not exist.\")\n",
        "\n",
        "    # Read the log file into a DataFrame\n",
        "    df = pd.read_csv(log_file)\n",
        "\n",
        "    # Find the top 15 GPU memory usages\n",
        "    top_gpu_usage = df.nlargest(15, \"GPU Memory Usage (GB)\")\n",
        "\n",
        "    # Find the top 15 RAM usages\n",
        "    top_ram_usage = df.nlargest(15, \"RAM Usage (GB)\")\n",
        "\n",
        "    # Combine the results\n",
        "    combined = pd.concat([top_gpu_usage, top_ram_usage]).drop_duplicates().sort_values(by=\"Time (s)\")\n",
        "\n",
        "    # Ensure output file exists or create it\n",
        "    if not os.path.exists(output_file):\n",
        "        with open(output_file, \"w\") as f:\n",
        "            f.write(\"\")  # Create an empty file if it doesn't exist\n",
        "\n",
        "    # Save the results to the output file\n",
        "    combined.to_csv(output_file, index=False)\n",
        "\n",
        "    print(f\"Analysis complete. Top 15 memory logs saved to: {output_file}\")\n"
      ]
    },
    {
      "cell_type": "markdown",
      "metadata": {
        "id": "_KdUmj4Ayhkd"
      },
      "source": [
        "## **2. Baseline Evaluation (50,000 Samples)**"
      ]
    },
    {
      "cell_type": "markdown",
      "metadata": {
        "id": "uMZQWk2lttXo"
      },
      "source": [
        "### **2.1 Load Dataset (50,000)**"
      ]
    },
    {
      "cell_type": "code",
      "execution_count": null,
      "metadata": {
        "colab": {
          "base_uri": "https://localhost:8080/",
          "height": 937
        },
        "id": "XBpNkKCWt2b3",
        "outputId": "fc107207-2703-44af-fa5a-ee218b95eda8"
      },
      "outputs": [
        {
          "name": "stdout",
          "output_type": "stream",
          "text": [
            "Loaded train data with 40000 samples.\n",
            "Loaded dev data with 5000 samples.\n",
            "Loaded test data with 5000 samples.\n"
          ]
        },
        {
          "data": {
            "application/vnd.jupyter.widget-view+json": {
              "model_id": "0e816fff464a43419154e6e00b6b1f1a",
              "version_major": 2,
              "version_minor": 0
            },
            "text/plain": [
              "Map:   0%|          | 0/40000 [00:00<?, ? examples/s]"
            ]
          },
          "metadata": {},
          "output_type": "display_data"
        },
        {
          "data": {
            "application/vnd.jupyter.widget-view+json": {
              "model_id": "d13525771bf4465eab17147bcee2f715",
              "version_major": 2,
              "version_minor": 0
            },
            "text/plain": [
              "Map:   0%|          | 0/5000 [00:00<?, ? examples/s]"
            ]
          },
          "metadata": {},
          "output_type": "display_data"
        },
        {
          "data": {
            "application/vnd.jupyter.widget-view+json": {
              "model_id": "2ee5c10c834d49d8950fb133771f57bb",
              "version_major": 2,
              "version_minor": 0
            },
            "text/plain": [
              "Map:   0%|          | 0/5000 [00:00<?, ? examples/s]"
            ]
          },
          "metadata": {},
          "output_type": "display_data"
        },
        {
          "data": {
            "application/vnd.jupyter.widget-view+json": {
              "model_id": "8fd4030a53f9496d8c48891b6597ea0d",
              "version_major": 2,
              "version_minor": 0
            },
            "text/plain": [
              "Map:   0%|          | 0/40000 [00:00<?, ? examples/s]"
            ]
          },
          "metadata": {},
          "output_type": "display_data"
        },
        {
          "data": {
            "application/vnd.jupyter.widget-view+json": {
              "model_id": "6c55df4c13d24e24b2563d08184268de",
              "version_major": 2,
              "version_minor": 0
            },
            "text/plain": [
              "Map:   0%|          | 0/5000 [00:00<?, ? examples/s]"
            ]
          },
          "metadata": {},
          "output_type": "display_data"
        },
        {
          "data": {
            "application/vnd.jupyter.widget-view+json": {
              "model_id": "56f6640600f24f8ba223c01de241e340",
              "version_major": 2,
              "version_minor": 0
            },
            "text/plain": [
              "Map:   0%|          | 0/5000 [00:00<?, ? examples/s]"
            ]
          },
          "metadata": {},
          "output_type": "display_data"
        },
        {
          "name": "stdout",
          "output_type": "stream",
          "text": [
            "                                             english_text  \\\n",
            "234806  Pottery Barn: If I was a genie and could give ...   \n",
            "41549   First, during slewing, the voltage at the sour...   \n",
            "169822  Locke: I think that's overdoing it just a bit ...   \n",
            "313751  Amanda: I think I'll stick to a scoop of class...   \n",
            "32640   And it is expected that other interested parti...   \n",
            "\n",
            "                                          chinese_text  \n",
            "234806  家居用品陶瓷谷仓：设想如果我是一个天才，我能给于你理想的工作，工作会是什么？ 工作会在哪里？  \n",
            "41549                      第一种，在回摆过程中，在M5和M8源处的电压可能降低。  \n",
            "169822                 中文意思：洛克：我认为这做得有一点点过分，还是在他头上绑一条…  \n",
            "313751              阿曼达：我想我还是要一勺经典香草口味的除非你想和我一起吃一个香蕉船。  \n",
            "32640                    他还希望其他有关当事人能投放竟标也许能阻止新闻集团的计划。  \n",
            "                                             english_text  \\\n",
            "173397  He will see to it was that your plans quickly ...   \n",
            "296479  Plan, monitor & assure all machineries in good...   \n",
            "24319   There is a central vein in the center of the m...   \n",
            "371615  That's weighing remote military conjectures ag...   \n",
            "309857  Geocell is a new geosynthetics. It is efficaci...   \n",
            "\n",
            "                                    chinese_text  \n",
            "173397                         他将留意你的计划是否很快付诸实行。  \n",
            "296479                        计划、监控并确保所有设备的有效利用。  \n",
            "24319                          髓质中央有一大的静脉，称中央静脉。  \n",
            "371615  那不过是牵强附会的军事假设，而现在的事实却是无辜者正在惨遭杀害，这怎能同日而语!  \n",
            "309857          土工格室作为一种新型的土工合成材料，能有效的加固无粘性的风积沙。  \n",
            "                                             english_text  \\\n",
            "449881  The sergeant suggested reducing the rations by...   \n",
            "233204  A U.N. relief plane brought water, tents, cook...   \n",
            "13482   The Working Group suggests to either broaden t...   \n",
            "320630  Although his Ministry had a graphic design ate...   \n",
            "111437  \"The World of Cinemagic\"provides rare behind-t...   \n",
            "\n",
            "                                             chinese_text  \n",
            "449881             那位副官想出了一计：偷偷地用一个小勺子来量米，这样便可以减少分量，节省粮食。  \n",
            "233204      一架联合国救援飞机为灾情最严重的日惹省班图尔地区带去水、帐篷、烹饪器具以及成套的卫生用品。  \n",
            "13482   工作组建议要么拓宽存款的定义，将其它类型的存款包括在内，而不仅仅包含目前的消费及公司存款，要...  \n",
            "320630                          虽然该部有一个视觉设计室，但主要用来创作宣传材料。  \n",
            "111437   “电影魔术世界”使游客们能看到一些罕见的幕后情况，能有影响地参与那情节紧张的好莱坞电影技术领域。  \n"
          ]
        }
      ],
      "source": [
        "# Load and preprocess the dataset\n",
        "train_data, dev_data, test_data = load_data_from_txt(data_file_path, sample_size = 50000)\n",
        "\n",
        "tokenized_data_mbart_train = preprocess_data(train_data, tokenizer_mbart)\n",
        "tokenized_data_mbart_dev = preprocess_data(dev_data, tokenizer_mbart)\n",
        "tokenized_data_mbart_test = preprocess_data(test_data, tokenizer_mbart)\n",
        "\n",
        "tokenized_data_mtm_train = preprocess_data(train_data, tokenizer_mtm, max_length=20, src_lang=\"zh\", tgt_lang=\"en\")\n",
        "tokenized_data_mtm_dev = preprocess_data(dev_data, tokenizer_mtm, max_length=20, src_lang=\"zh\", tgt_lang=\"en\")\n",
        "tokenized_data_mtm_test = preprocess_data(test_data, tokenizer_mtm, max_length=20, src_lang=\"zh\", tgt_lang=\"en\")\n",
        "\n",
        "print(train_data.head())\n",
        "print(dev_data.head())\n",
        "print(test_data.head())"
      ]
    },
    {
      "cell_type": "markdown",
      "metadata": {
        "id": "-4Urv1Ng5VIN"
      },
      "source": [
        "### **2.2 Regular mBart**"
      ]
    },
    {
      "cell_type": "code",
      "execution_count": null,
      "metadata": {
        "colab": {
          "base_uri": "https://localhost:8080/"
        },
        "id": "ZZfQD1si5NOi",
        "outputId": "2de2bdaa-2b44-42c9-91c1-a3cdd89b1a06"
      },
      "outputs": [
        {
          "name": "stdout",
          "output_type": "stream",
          "text": [
            "Translation: I love machine learning, I love natural language processing\n"
          ]
        }
      ],
      "source": [
        "# Prepare input text\n",
        "text = \"我爱机器学习，我爱自然语言处理\"\n",
        "inputs = tokenizer_mbart(text, return_tensors=\"pt\")\n",
        "\n",
        "# Generate translation\n",
        "translated_tokens = model_mbart.generate(**inputs, forced_bos_token_id=tokenizer_mbart.lang_code_to_id[\"en_XX\"])\n",
        "translation = tokenizer_mbart.decode(translated_tokens[0], skip_special_tokens=True)\n",
        "\n",
        "print(\"Translation:\", translation)"
      ]
    },
    {
      "cell_type": "code",
      "execution_count": null,
      "metadata": {
        "colab": {
          "base_uri": "https://localhost:8080/"
        },
        "id": "27hPoCj6SBI0",
        "outputId": "c5b663e7-068d-46d1-83fd-a9a3da25294d"
      },
      "outputs": [
        {
          "name": "stderr",
          "output_type": "stream",
          "text": [
            "Calculating BLEU Scores: 100%|██████████| 5000/5000 [51:06<00:00,  1.63it/s]"
          ]
        },
        {
          "name": "stdout",
          "output_type": "stream",
          "text": [
            "Average BLEU score for the test set: 0.1169\n"
          ]
        },
        {
          "name": "stderr",
          "output_type": "stream",
          "text": [
            "\n"
          ]
        }
      ],
      "source": [
        "average_bleu = evaluate_bleu_score(model=model_mbart, tokenizer=tokenizer_mbart, test_data=test_data)"
      ]
    },
    {
      "cell_type": "code",
      "execution_count": null,
      "metadata": {
        "colab": {
          "base_uri": "https://localhost:8080/"
        },
        "id": "Lc4zyFWvOnwD",
        "outputId": "4e52b32f-efc3-45d8-928e-6377a83c9927"
      },
      "outputs": [
        {
          "name": "stderr",
          "output_type": "stream",
          "text": [
            "Evaluating BLEU: 100%|██████████| 5000/5000 [47:01<00:00,  1.77it/s]"
          ]
        },
        {
          "name": "stdout",
          "output_type": "stream",
          "text": [
            "\n",
            "All Results:\n",
            "                                         chinese_input  \\\n",
            "0                              雅典娜: 我们开始彼此统一，以感激和欢乐一起。   \n",
            "1                             GDP被公认为衡量一个国家经济实力的最重要指标。   \n",
            "2                                捷克共和国的扬?卡万是目前的联大会议主席。   \n",
            "3     大麻籽提供了所有必需的氨基酸，这意味着它们含有的蛋白质能够与肉类、鸡蛋和奶制品中的蛋白质相媲美。   \n",
            "4                                       黑核桃的果仁很难从壳中取出。   \n",
            "...                                                ...   \n",
            "4995                                休和托尼大吵了一架，现在谁也不理谁。   \n",
            "4996                                 音乐与舞曲的节拍，会让你精神高昂。   \n",
            "4997                     如果您的设置全部正确，那么您应该得到类似图33所示的情况。   \n",
            "4998                       我们都要做好自己工作，并且要在工作中找到精神上的乐趣。   \n",
            "4999                             记得爸爸妈妈忘记带食物的那次的野餐 吗 ?   \n",
            "\n",
            "                                           ground_truth  \\\n",
            "0     Ariana: We come together in the oneness, in th...   \n",
            "1     GDP by fair the mainest index that thinks to m...   \n",
            "2     Jan Kavan of the Czech Republic is the current...   \n",
            "3     Hemp seeds provide all of the essential amino ...   \n",
            "4     Black walnut kernels are difficult to get out ...   \n",
            "...                                                 ...   \n",
            "4995  Sue and Tony had a bust-up and aren't speaking...   \n",
            "4996  It can be music or dance beat, anything that w...   \n",
            "4997  If you provided all of the correct settings, y...   \n",
            "4998  We must cultivate our own garden and find the ...   \n",
            "4999  Do you remember that picnic when Mother and Pa...   \n",
            "\n",
            "                                             prediction  bleu_score  correct  \n",
            "0     Athena: We began to unite together in gratitud...       0.029    False  \n",
            "1     GDP is generally regarded as the most importan...       0.031    False  \n",
            "2     Jan Kavan of the Czech Republic is the current...       0.612     True  \n",
            "3     Cannabis seeds provide all the necessary amino...       0.089    False  \n",
            "4     The berries of black nuts are difficult to ext...       0.096    False  \n",
            "...                                                 ...         ...      ...  \n",
            "4995  Hugh and Tony had a big fight, and now no one ...       0.224     True  \n",
            "4996  The music and dance beats will make you feel v...       0.074    False  \n",
            "4997  If all settings are correct, you should get a ...       0.089    False  \n",
            "4998  We have to do our job well and find spiritual ...       0.040    False  \n",
            "4999  Do you remember the picnic where your parents ...       0.104     True  \n",
            "\n",
            "[5000 rows x 5 columns]\n",
            "\n",
            "Error Examples:\n",
            "                                         chinese_input  \\\n",
            "0                              雅典娜: 我们开始彼此统一，以感激和欢乐一起。   \n",
            "1                             GDP被公认为衡量一个国家经济实力的最重要指标。   \n",
            "3     大麻籽提供了所有必需的氨基酸，这意味着它们含有的蛋白质能够与肉类、鸡蛋和奶制品中的蛋白质相媲美。   \n",
            "4                                       黑核桃的果仁很难从壳中取出。   \n",
            "5               为美国国债最大的海外持有国，中国在债券市场上有着其它债权国不可比拟的重要性。   \n",
            "...                                                ...   \n",
            "4990                                阿甘意识到乔伊已不再给咖啡馆打工了。   \n",
            "4993                       他说，\"毫无疑问将会出现某种让新总统受到考验的事件\"。   \n",
            "4996                                 音乐与舞曲的节拍，会让你精神高昂。   \n",
            "4997                     如果您的设置全部正确，那么您应该得到类似图33所示的情况。   \n",
            "4998                       我们都要做好自己工作，并且要在工作中找到精神上的乐趣。   \n",
            "\n",
            "                                           ground_truth  \\\n",
            "0     Ariana: We come together in the oneness, in th...   \n",
            "1     GDP by fair the mainest index that thinks to m...   \n",
            "3     Hemp seeds provide all of the essential amino ...   \n",
            "4     Black walnut kernels are difficult to get out ...   \n",
            "5     As the largest foreign holder of US Treasurys,...   \n",
            "...                                                 ...   \n",
            "4990  Gunther realizes Joey's not working at the cof...   \n",
            "4993  There will be some event that will, in all lik...   \n",
            "4996  It can be music or dance beat, anything that w...   \n",
            "4997  If you provided all of the correct settings, y...   \n",
            "4998  We must cultivate our own garden and find the ...   \n",
            "\n",
            "                                             prediction  bleu_score  correct  \n",
            "0     Athena: We began to unite together in gratitud...       0.029    False  \n",
            "1     GDP is generally regarded as the most importan...       0.031    False  \n",
            "3     Cannabis seeds provide all the necessary amino...       0.089    False  \n",
            "4     The berries of black nuts are difficult to ext...       0.096    False  \n",
            "5     As the largest overseas holder of US Treasurie...       0.094    False  \n",
            "...                                                 ...         ...      ...  \n",
            "4990  Agan realizes that Joe is no longer working fo...       0.043    False  \n",
            "4993  \"There is no doubt that there will be some kin...       0.061    False  \n",
            "4996  The music and dance beats will make you feel v...       0.074    False  \n",
            "4997  If all settings are correct, you should get a ...       0.089    False  \n",
            "4998  We have to do our job well and find spiritual ...       0.040    False  \n",
            "\n",
            "[3214 rows x 5 columns]\n",
            "Error examples saved to '/content/drive/MyDrive/CIS5800/Error/mBart_base'\n"
          ]
        },
        {
          "name": "stderr",
          "output_type": "stream",
          "text": [
            "\n"
          ]
        },
        {
          "data": {
            "text/plain": [
              "(                                         chinese_input  \\\n",
              " 0                              雅典娜: 我们开始彼此统一，以感激和欢乐一起。   \n",
              " 1                             GDP被公认为衡量一个国家经济实力的最重要指标。   \n",
              " 2                                捷克共和国的扬?卡万是目前的联大会议主席。   \n",
              " 3     大麻籽提供了所有必需的氨基酸，这意味着它们含有的蛋白质能够与肉类、鸡蛋和奶制品中的蛋白质相媲美。   \n",
              " 4                                       黑核桃的果仁很难从壳中取出。   \n",
              " ...                                                ...   \n",
              " 4995                                休和托尼大吵了一架，现在谁也不理谁。   \n",
              " 4996                                 音乐与舞曲的节拍，会让你精神高昂。   \n",
              " 4997                     如果您的设置全部正确，那么您应该得到类似图33所示的情况。   \n",
              " 4998                       我们都要做好自己工作，并且要在工作中找到精神上的乐趣。   \n",
              " 4999                             记得爸爸妈妈忘记带食物的那次的野餐 吗 ?   \n",
              " \n",
              "                                            ground_truth  \\\n",
              " 0     Ariana: We come together in the oneness, in th...   \n",
              " 1     GDP by fair the mainest index that thinks to m...   \n",
              " 2     Jan Kavan of the Czech Republic is the current...   \n",
              " 3     Hemp seeds provide all of the essential amino ...   \n",
              " 4     Black walnut kernels are difficult to get out ...   \n",
              " ...                                                 ...   \n",
              " 4995  Sue and Tony had a bust-up and aren't speaking...   \n",
              " 4996  It can be music or dance beat, anything that w...   \n",
              " 4997  If you provided all of the correct settings, y...   \n",
              " 4998  We must cultivate our own garden and find the ...   \n",
              " 4999  Do you remember that picnic when Mother and Pa...   \n",
              " \n",
              "                                              prediction  bleu_score  correct  \n",
              " 0     Athena: We began to unite together in gratitud...       0.029    False  \n",
              " 1     GDP is generally regarded as the most importan...       0.031    False  \n",
              " 2     Jan Kavan of the Czech Republic is the current...       0.612     True  \n",
              " 3     Cannabis seeds provide all the necessary amino...       0.089    False  \n",
              " 4     The berries of black nuts are difficult to ext...       0.096    False  \n",
              " ...                                                 ...         ...      ...  \n",
              " 4995  Hugh and Tony had a big fight, and now no one ...       0.224     True  \n",
              " 4996  The music and dance beats will make you feel v...       0.074    False  \n",
              " 4997  If all settings are correct, you should get a ...       0.089    False  \n",
              " 4998  We have to do our job well and find spiritual ...       0.040    False  \n",
              " 4999  Do you remember the picnic where your parents ...       0.104     True  \n",
              " \n",
              " [5000 rows x 5 columns],\n",
              "                                          chinese_input  \\\n",
              " 0                              雅典娜: 我们开始彼此统一，以感激和欢乐一起。   \n",
              " 1                             GDP被公认为衡量一个国家经济实力的最重要指标。   \n",
              " 3     大麻籽提供了所有必需的氨基酸，这意味着它们含有的蛋白质能够与肉类、鸡蛋和奶制品中的蛋白质相媲美。   \n",
              " 4                                       黑核桃的果仁很难从壳中取出。   \n",
              " 5               为美国国债最大的海外持有国，中国在债券市场上有着其它债权国不可比拟的重要性。   \n",
              " ...                                                ...   \n",
              " 4990                                阿甘意识到乔伊已不再给咖啡馆打工了。   \n",
              " 4993                       他说，\"毫无疑问将会出现某种让新总统受到考验的事件\"。   \n",
              " 4996                                 音乐与舞曲的节拍，会让你精神高昂。   \n",
              " 4997                     如果您的设置全部正确，那么您应该得到类似图33所示的情况。   \n",
              " 4998                       我们都要做好自己工作，并且要在工作中找到精神上的乐趣。   \n",
              " \n",
              "                                            ground_truth  \\\n",
              " 0     Ariana: We come together in the oneness, in th...   \n",
              " 1     GDP by fair the mainest index that thinks to m...   \n",
              " 3     Hemp seeds provide all of the essential amino ...   \n",
              " 4     Black walnut kernels are difficult to get out ...   \n",
              " 5     As the largest foreign holder of US Treasurys,...   \n",
              " ...                                                 ...   \n",
              " 4990  Gunther realizes Joey's not working at the cof...   \n",
              " 4993  There will be some event that will, in all lik...   \n",
              " 4996  It can be music or dance beat, anything that w...   \n",
              " 4997  If you provided all of the correct settings, y...   \n",
              " 4998  We must cultivate our own garden and find the ...   \n",
              " \n",
              "                                              prediction  bleu_score  correct  \n",
              " 0     Athena: We began to unite together in gratitud...       0.029    False  \n",
              " 1     GDP is generally regarded as the most importan...       0.031    False  \n",
              " 3     Cannabis seeds provide all the necessary amino...       0.089    False  \n",
              " 4     The berries of black nuts are difficult to ext...       0.096    False  \n",
              " 5     As the largest overseas holder of US Treasurie...       0.094    False  \n",
              " ...                                                 ...         ...      ...  \n",
              " 4990  Agan realizes that Joe is no longer working fo...       0.043    False  \n",
              " 4993  \"There is no doubt that there will be some kin...       0.061    False  \n",
              " 4996  The music and dance beats will make you feel v...       0.074    False  \n",
              " 4997  If all settings are correct, you should get a ...       0.089    False  \n",
              " 4998  We have to do our job well and find spiritual ...       0.040    False  \n",
              " \n",
              " [3214 rows x 5 columns])"
            ]
          },
          "execution_count": 33,
          "metadata": {},
          "output_type": "execute_result"
        }
      ],
      "source": [
        "error_evaluate(model_mbart, tokenizer_mbart, test_data, \"/content/drive/MyDrive/CIS5800/Error/mBart_base\", max_length=50, device=\"cuda\", bleu_threshold=0.1)"
      ]
    },
    {
      "cell_type": "markdown",
      "metadata": {
        "id": "GILSJNwtBxpr"
      },
      "source": [
        "### **2.3 Regular M2M100**\n"
      ]
    },
    {
      "cell_type": "code",
      "execution_count": null,
      "metadata": {
        "colab": {
          "base_uri": "https://localhost:8080/"
        },
        "id": "EiSchVAUX0L1",
        "outputId": "b30deb6e-2749-48a0-8cd9-dfaf2a17b224"
      },
      "outputs": [
        {
          "name": "stdout",
          "output_type": "stream",
          "text": [
            "I love machine learning, I love natural language processing.\n"
          ]
        }
      ],
      "source": [
        "tokenizer_mtm.src_lang = \"zh\"\n",
        "inputs = tokenizer_mtm(\"我爱机器学习，我爱自然语言处理\", return_tensors=\"pt\")\n",
        "model_mtm.to(\"cpu\")\n",
        "outputs = model_mtm.generate(**inputs, forced_bos_token_id=tokenizer_mtm.lang_code_to_id[\"en\"])\n",
        "\n",
        "print(tokenizer_mtm.decode(outputs[0], skip_special_tokens=True))"
      ]
    },
    {
      "cell_type": "code",
      "execution_count": null,
      "metadata": {
        "colab": {
          "base_uri": "https://localhost:8080/"
        },
        "id": "_seqnfBMf6R0",
        "outputId": "a1641280-111e-4157-ac37-29402a8c978b"
      },
      "outputs": [
        {
          "name": "stderr",
          "output_type": "stream",
          "text": [
            "Calculating BLEU Scores: 100%|██████████| 5000/5000 [47:56<00:00,  1.74it/s]"
          ]
        },
        {
          "name": "stdout",
          "output_type": "stream",
          "text": [
            "Average BLEU score for the test set: 0.0347\n"
          ]
        },
        {
          "name": "stderr",
          "output_type": "stream",
          "text": [
            "\n"
          ]
        }
      ],
      "source": [
        "average_bleu = evaluate_bleu_score(model=model_mtm, tokenizer=tokenizer_mtm, test_data=test_data)"
      ]
    },
    {
      "cell_type": "code",
      "execution_count": null,
      "metadata": {
        "colab": {
          "background_save": true,
          "base_uri": "https://localhost:8080/"
        },
        "id": "H_Q2NLAxVYnQ",
        "outputId": "4f845e59-76ae-41ae-d12c-0babd887154f"
      },
      "outputs": [
        {
          "name": "stderr",
          "output_type": "stream",
          "text": [
            "Evaluating BLEU: 100%|██████████| 5000/5000 [42:22<00:00,  1.97it/s]"
          ]
        },
        {
          "name": "stdout",
          "output_type": "stream",
          "text": [
            "\n",
            "All Results:\n",
            "                                          chinese_input  \\\n",
            "0                那位副官想出了一计：偷偷地用一个小勺子来量米，这样便可以减少分量，节省粮食。   \n",
            "1         一架联合国救援飞机为灾情最严重的日惹省班图尔地区带去水、帐篷、烹饪器具以及成套的卫生用品。   \n",
            "2     工作组建议要么拓宽存款的定义，将其它类型的存款包括在内，而不仅仅包含目前的消费及公司存款，要...   \n",
            "3                             虽然该部有一个视觉设计室，但主要用来创作宣传材料。   \n",
            "4      “电影魔术世界”使游客们能看到一些罕见的幕后情况，能有影响地参与那情节紧张的好莱坞电影技术领域。   \n",
            "...                                                 ...   \n",
            "4995                                 用英文缮制的所有单据须一次寄交我行。   \n",
            "4996                            那些有作为者，那些成大事者，谁没有过开始呢 ?   \n",
            "4997  友谊的一个基本原则是不评判朋友、接受他的缺点，而对朋友的工作表现提出批评性的反馈意见则与此相矛盾。   \n",
            "4998                                 这些鱼种还被出口为国家换来大量外汇。   \n",
            "4999                               吸脂手术是一种吸取不需要部分脂肪的手术。   \n",
            "\n",
            "                                           ground_truth  \\\n",
            "0     The sergeant suggested reducing the rations by...   \n",
            "1     A U.N. relief plane brought water, tents, cook...   \n",
            "2     The Working Group suggests to either broaden t...   \n",
            "3     Although his Ministry had a graphic design ate...   \n",
            "4     \"The World of Cinemagic\"provides rare behind-t...   \n",
            "...                                                 ...   \n",
            "4995  All documents made out in english must sent to...   \n",
            "4996  As those who are into a major event, and who n...   \n",
            "4997  A basic rule of friendship is being non-judgem...   \n",
            "4998  These fingerling still are exported to be a co...   \n",
            "4999  Liposuction is the removal of fat by suction t...   \n",
            "\n",
            "                                             prediction  bleu_score  correct  \n",
            "0     The deputy officer found out a sum: secretly w...       0.012    False  \n",
            "1     A United Nations rescue aircraft brought water...       0.124     True  \n",
            "2     The work group recommends either extending the...       0.272     True  \n",
            "3     Although the department has a visual design ro...       0.019    False  \n",
            "4     The “Film Magic World” allows visitors to see ...       0.014    False  \n",
            "...                                                 ...         ...      ...  \n",
            "4995  All documents made in English must be submitte...       0.084    False  \n",
            "4996  Those who have acts, those who have become gre...       0.036    False  \n",
            "4997  One of the basic principles of friendship is n...       0.041    False  \n",
            "4998  These species are also exported to the country...       0.094    False  \n",
            "4999  Fat absorption surgery is an absorption that d...       0.017    False  \n",
            "\n",
            "[5000 rows x 5 columns]\n",
            "\n",
            "Error Examples:\n",
            "                                          chinese_input  \\\n",
            "0                那位副官想出了一计：偷偷地用一个小勺子来量米，这样便可以减少分量，节省粮食。   \n",
            "3                             虽然该部有一个视觉设计室，但主要用来创作宣传材料。   \n",
            "4      “电影魔术世界”使游客们能看到一些罕见的幕后情况，能有影响地参与那情节紧张的好莱坞电影技术领域。   \n",
            "5            张曼玉馅饼及冒名顶替者，由苏格兰乐队，他们1992年专辑斗篷和匕首湿湿湿假定的名称。   \n",
            "6     现产各种系列车型的离合器和分离轴承，产品销往澳、美、东南亚各国及全国各地，获得客户一至好评，...   \n",
            "...                                                 ...   \n",
            "4995                                 用英文缮制的所有单据须一次寄交我行。   \n",
            "4996                            那些有作为者，那些成大事者，谁没有过开始呢 ?   \n",
            "4997  友谊的一个基本原则是不评判朋友、接受他的缺点，而对朋友的工作表现提出批评性的反馈意见则与此相矛盾。   \n",
            "4998                                 这些鱼种还被出口为国家换来大量外汇。   \n",
            "4999                               吸脂手术是一种吸取不需要部分脂肪的手术。   \n",
            "\n",
            "                                           ground_truth  \\\n",
            "0     The sergeant suggested reducing the rations by...   \n",
            "3     Although his Ministry had a graphic design ate...   \n",
            "4     \"The World of Cinemagic\"provides rare behind-t...   \n",
            "5     Maggie Pie & The Impostors was the name assume...   \n",
            "6     At present, it is producing various models of ...   \n",
            "...                                                 ...   \n",
            "4995  All documents made out in english must sent to...   \n",
            "4996  As those who are into a major event, and who n...   \n",
            "4997  A basic rule of friendship is being non-judgem...   \n",
            "4998  These fingerling still are exported to be a co...   \n",
            "4999  Liposuction is the removal of fat by suction t...   \n",
            "\n",
            "                                             prediction  bleu_score  correct  \n",
            "0     The deputy officer found out a sum: secretly w...       0.012    False  \n",
            "3     Although the department has a visual design ro...       0.019    False  \n",
            "4     The “Film Magic World” allows visitors to see ...       0.014    False  \n",
            "5     Zhang Manjou Cake and the famous supporters ar...       0.023    False  \n",
            "6     Currently produced various series of vehicles ...       0.088    False  \n",
            "...                                                 ...         ...      ...  \n",
            "4995  All documents made in English must be submitte...       0.084    False  \n",
            "4996  Those who have acts, those who have become gre...       0.036    False  \n",
            "4997  One of the basic principles of friendship is n...       0.041    False  \n",
            "4998  These species are also exported to the country...       0.094    False  \n",
            "4999  Fat absorption surgery is an absorption that d...       0.017    False  \n",
            "\n",
            "[3652 rows x 5 columns]\n",
            "Error examples saved to '/content/drive/MyDrive/CIS5800/Error/m2m_base'\n"
          ]
        },
        {
          "name": "stderr",
          "output_type": "stream",
          "text": [
            "\n"
          ]
        },
        {
          "data": {
            "text/plain": [
              "(                                          chinese_input  \\\n",
              " 0                那位副官想出了一计：偷偷地用一个小勺子来量米，这样便可以减少分量，节省粮食。   \n",
              " 1         一架联合国救援飞机为灾情最严重的日惹省班图尔地区带去水、帐篷、烹饪器具以及成套的卫生用品。   \n",
              " 2     工作组建议要么拓宽存款的定义，将其它类型的存款包括在内，而不仅仅包含目前的消费及公司存款，要...   \n",
              " 3                             虽然该部有一个视觉设计室，但主要用来创作宣传材料。   \n",
              " 4      “电影魔术世界”使游客们能看到一些罕见的幕后情况，能有影响地参与那情节紧张的好莱坞电影技术领域。   \n",
              " ...                                                 ...   \n",
              " 4995                                 用英文缮制的所有单据须一次寄交我行。   \n",
              " 4996                            那些有作为者，那些成大事者，谁没有过开始呢 ?   \n",
              " 4997  友谊的一个基本原则是不评判朋友、接受他的缺点，而对朋友的工作表现提出批评性的反馈意见则与此相矛盾。   \n",
              " 4998                                 这些鱼种还被出口为国家换来大量外汇。   \n",
              " 4999                               吸脂手术是一种吸取不需要部分脂肪的手术。   \n",
              " \n",
              "                                            ground_truth  \\\n",
              " 0     The sergeant suggested reducing the rations by...   \n",
              " 1     A U.N. relief plane brought water, tents, cook...   \n",
              " 2     The Working Group suggests to either broaden t...   \n",
              " 3     Although his Ministry had a graphic design ate...   \n",
              " 4     \"The World of Cinemagic\"provides rare behind-t...   \n",
              " ...                                                 ...   \n",
              " 4995  All documents made out in english must sent to...   \n",
              " 4996  As those who are into a major event, and who n...   \n",
              " 4997  A basic rule of friendship is being non-judgem...   \n",
              " 4998  These fingerling still are exported to be a co...   \n",
              " 4999  Liposuction is the removal of fat by suction t...   \n",
              " \n",
              "                                              prediction  bleu_score  correct  \n",
              " 0     The deputy officer found out a sum: secretly w...       0.012    False  \n",
              " 1     A United Nations rescue aircraft brought water...       0.124     True  \n",
              " 2     The work group recommends either extending the...       0.272     True  \n",
              " 3     Although the department has a visual design ro...       0.019    False  \n",
              " 4     The “Film Magic World” allows visitors to see ...       0.014    False  \n",
              " ...                                                 ...         ...      ...  \n",
              " 4995  All documents made in English must be submitte...       0.084    False  \n",
              " 4996  Those who have acts, those who have become gre...       0.036    False  \n",
              " 4997  One of the basic principles of friendship is n...       0.041    False  \n",
              " 4998  These species are also exported to the country...       0.094    False  \n",
              " 4999  Fat absorption surgery is an absorption that d...       0.017    False  \n",
              " \n",
              " [5000 rows x 5 columns],\n",
              "                                           chinese_input  \\\n",
              " 0                那位副官想出了一计：偷偷地用一个小勺子来量米，这样便可以减少分量，节省粮食。   \n",
              " 3                             虽然该部有一个视觉设计室，但主要用来创作宣传材料。   \n",
              " 4      “电影魔术世界”使游客们能看到一些罕见的幕后情况，能有影响地参与那情节紧张的好莱坞电影技术领域。   \n",
              " 5            张曼玉馅饼及冒名顶替者，由苏格兰乐队，他们1992年专辑斗篷和匕首湿湿湿假定的名称。   \n",
              " 6     现产各种系列车型的离合器和分离轴承，产品销往澳、美、东南亚各国及全国各地，获得客户一至好评，...   \n",
              " ...                                                 ...   \n",
              " 4995                                 用英文缮制的所有单据须一次寄交我行。   \n",
              " 4996                            那些有作为者，那些成大事者，谁没有过开始呢 ?   \n",
              " 4997  友谊的一个基本原则是不评判朋友、接受他的缺点，而对朋友的工作表现提出批评性的反馈意见则与此相矛盾。   \n",
              " 4998                                 这些鱼种还被出口为国家换来大量外汇。   \n",
              " 4999                               吸脂手术是一种吸取不需要部分脂肪的手术。   \n",
              " \n",
              "                                            ground_truth  \\\n",
              " 0     The sergeant suggested reducing the rations by...   \n",
              " 3     Although his Ministry had a graphic design ate...   \n",
              " 4     \"The World of Cinemagic\"provides rare behind-t...   \n",
              " 5     Maggie Pie & The Impostors was the name assume...   \n",
              " 6     At present, it is producing various models of ...   \n",
              " ...                                                 ...   \n",
              " 4995  All documents made out in english must sent to...   \n",
              " 4996  As those who are into a major event, and who n...   \n",
              " 4997  A basic rule of friendship is being non-judgem...   \n",
              " 4998  These fingerling still are exported to be a co...   \n",
              " 4999  Liposuction is the removal of fat by suction t...   \n",
              " \n",
              "                                              prediction  bleu_score  correct  \n",
              " 0     The deputy officer found out a sum: secretly w...       0.012    False  \n",
              " 3     Although the department has a visual design ro...       0.019    False  \n",
              " 4     The “Film Magic World” allows visitors to see ...       0.014    False  \n",
              " 5     Zhang Manjou Cake and the famous supporters ar...       0.023    False  \n",
              " 6     Currently produced various series of vehicles ...       0.088    False  \n",
              " ...                                                 ...         ...      ...  \n",
              " 4995  All documents made in English must be submitte...       0.084    False  \n",
              " 4996  Those who have acts, those who have become gre...       0.036    False  \n",
              " 4997  One of the basic principles of friendship is n...       0.041    False  \n",
              " 4998  These species are also exported to the country...       0.094    False  \n",
              " 4999  Fat absorption surgery is an absorption that d...       0.017    False  \n",
              " \n",
              " [3652 rows x 5 columns])"
            ]
          },
          "execution_count": 67,
          "metadata": {},
          "output_type": "execute_result"
        }
      ],
      "source": [
        "error_evaluate(model_mtm, tokenizer_mtm, test_data, \"/content/drive/MyDrive/CIS5800/Error/m2m_base\", max_length=50, device=\"cuda\", bleu_threshold=0.1, model_type = \"m2m\")"
      ]
    },
    {
      "cell_type": "markdown",
      "metadata": {
        "id": "wm909v2MW6VE"
      },
      "source": [
        "## **3. Hyperparameter Tuning (10,000 Samples)**\n",
        "In this section, we performed hyperparamter tuning during fine-tuning on both model to see the best combination and performance. Notably, due to the limitation of computational resources, we performed a grid search on a smaller dataset (10000 samples) compared with previous part."
      ]
    },
    {
      "cell_type": "markdown",
      "metadata": {
        "id": "qx6APgdyXlgH"
      },
      "source": [
        "### **3.1 Load Dataset (10,000)**"
      ]
    },
    {
      "cell_type": "code",
      "execution_count": null,
      "metadata": {
        "colab": {
          "base_uri": "https://localhost:8080/",
          "height": 1000
        },
        "id": "GA9GkBo1XlBx",
        "outputId": "9cd8a1ff-20e9-4d34-8cbc-2e92ad521735"
      },
      "outputs": [
        {
          "name": "stdout",
          "output_type": "stream",
          "text": [
            "Loaded train data with 8000 samples.\n",
            "Loaded dev data with 1000 samples.\n",
            "Loaded test data with 1000 samples.\n"
          ]
        },
        {
          "data": {
            "application/vnd.jupyter.widget-view+json": {
              "model_id": "1d6a0f80d7e742f28251c2ba2f7210c7",
              "version_major": 2,
              "version_minor": 0
            },
            "text/plain": [
              "Map:   0%|          | 0/8000 [00:00<?, ? examples/s]"
            ]
          },
          "metadata": {},
          "output_type": "display_data"
        },
        {
          "data": {
            "application/vnd.jupyter.widget-view+json": {
              "model_id": "4521bcf3996b4a7fa8cf1f0cd228a08e",
              "version_major": 2,
              "version_minor": 0
            },
            "text/plain": [
              "Map:   0%|          | 0/1000 [00:00<?, ? examples/s]"
            ]
          },
          "metadata": {},
          "output_type": "display_data"
        },
        {
          "data": {
            "application/vnd.jupyter.widget-view+json": {
              "model_id": "31f6b9b2f9254c28aefa3dde62ca5a3a",
              "version_major": 2,
              "version_minor": 0
            },
            "text/plain": [
              "Map:   0%|          | 0/1000 [00:00<?, ? examples/s]"
            ]
          },
          "metadata": {},
          "output_type": "display_data"
        },
        {
          "data": {
            "application/vnd.jupyter.widget-view+json": {
              "model_id": "0c7835035ee64e53ac35f6f69d387d90",
              "version_major": 2,
              "version_minor": 0
            },
            "text/plain": [
              "Map:   0%|          | 0/8000 [00:00<?, ? examples/s]"
            ]
          },
          "metadata": {},
          "output_type": "display_data"
        },
        {
          "data": {
            "application/vnd.jupyter.widget-view+json": {
              "model_id": "e2681281f3c5494d9bb2a4a495fb8f4d",
              "version_major": 2,
              "version_minor": 0
            },
            "text/plain": [
              "Map:   0%|          | 0/1000 [00:00<?, ? examples/s]"
            ]
          },
          "metadata": {},
          "output_type": "display_data"
        },
        {
          "data": {
            "application/vnd.jupyter.widget-view+json": {
              "model_id": "2786976531a04a52ae4425cdc5c43bed",
              "version_major": 2,
              "version_minor": 0
            },
            "text/plain": [
              "Map:   0%|          | 0/1000 [00:00<?, ? examples/s]"
            ]
          },
          "metadata": {},
          "output_type": "display_data"
        },
        {
          "name": "stdout",
          "output_type": "stream",
          "text": [
            "                                             english_text  \\\n",
            "234806  At night, the bin is lit up a neon light point...   \n",
            "41549   Semantic opacity in Japanese mainly results fr...   \n",
            "169822  Therefore, the commodity market price is deter...   \n",
            "313751  Certain diets can also cause bad breath, inclu...   \n",
            "32640   Your body needs more of this mineral during pr...   \n",
            "\n",
            "                                             chinese_text  \n",
            "234806  他还提到，在夜晚，垃圾桶的开口处有霓虹灯光照亮，但是到目前为止，还没有人因为这个垃圾桶会说话...  \n",
            "41549             日语中主要使用语义模糊词语、多义词和语义概括(笼统)词语等来表达不明确的语义。  \n",
            "169822                           因此，该商品的市场销售价格，是由国外厂商决定的。  \n",
            "313751                       某些饮食也会导致不好的口气，包括那些高蛋白质和高糖食品。  \n",
            "32640                    你的身体为了赶上怀孕期间扩大的血液容量，需要更多的这种化学元素。  \n",
            "                                             english_text  \\\n",
            "196016  After the Firmament's collapse， radiation even...   \n",
            "301736  Marx foresaw constant internecine warfare amon...   \n",
            "439742  And in their prayers for you their hearts will...   \n",
            "313104  AS usually cause serious cardiovascular diseas...   \n",
            "273830  The determination of 24 hours urine protein? u...   \n",
            "\n",
            "                                   chinese_text  \n",
            "196016          冰天崩溃后，射线最终使人类身体变小，并逐渐缩短他们的生命长度。  \n",
            "301736  马克思预见到资本家会不断自相残杀，结果将造成越来越少的人控制着越来越大的帝国。  \n",
            "439742      14他们也因神极大的恩赐，显在你们心里，就切切地想念你们，为你们祈祷。  \n",
            "313104              AS常常引起心绞痛、心肌梗死、血栓等严重的心血管疾病。  \n",
            "273830                      24h 尿蛋白测定:采用考马斯亮蓝法。  \n",
            "                                             english_text  \\\n",
            "23402   Mount Desert Island in Acadia National Park is...   \n",
            "62827   Ether, glyme, diglyme, nitromethane, or other ...   \n",
            "230383  The processor manipulates the data, storing th...   \n",
            "206133  Low-overhead data collection by other devices ...   \n",
            "49689   And now, friends, fellow citizens of Gettysbur...   \n",
            "\n",
            "                                             chinese_text  \n",
            "23402                            位于阿卡迪亚国家公园中的山沙岛是最为著名的一个。  \n",
            "62827                  乙醚、乙二肟、二乙二肟，硝基甲烷或类似的适当的极性溶剂，可用作溶剂。  \n",
            "230383                               处理器处理没数据，将结果存回到存储器中。  \n",
            "206133                      低开销的数据收集的其他设备支持在特殊情况下 (如树路由)。  \n",
            "49689   朋友们，葛底斯堡和宾夕法尼亚州的同胞们，来自远方各州的同胞们，在这临别之际，我再一次恳请你们...  \n"
          ]
        }
      ],
      "source": [
        "# Load and preprocess the dataset\n",
        "train_data, dev_data, test_data = load_data_from_txt(data_file_path, sample_size = 10000)\n",
        "\n",
        "tokenized_data_mbart_train = preprocess_data(train_data, tokenizer_mbart)\n",
        "tokenized_data_mbart_dev = preprocess_data(dev_data, tokenizer_mbart)\n",
        "tokenized_data_mbart_test = preprocess_data(test_data, tokenizer_mbart)\n",
        "\n",
        "tokenized_data_mtm_train = preprocess_data(train_data, tokenizer_mtm, max_length=20, src_lang=\"zh\", tgt_lang=\"en\")\n",
        "tokenized_data_mtm_dev = preprocess_data(dev_data, tokenizer_mtm, max_length=20, src_lang=\"zh\", tgt_lang=\"en\")\n",
        "tokenized_data_mtm_test = preprocess_data(test_data, tokenizer_mtm, max_length=20, src_lang=\"zh\", tgt_lang=\"en\")\n",
        "\n",
        "print(train_data.head())\n",
        "print(dev_data.head())\n",
        "print(test_data.head())"
      ]
    },
    {
      "cell_type": "markdown",
      "metadata": {
        "id": "6d8JQtZ2p29a"
      },
      "source": [
        "### **3.2 mBart**"
      ]
    },
    {
      "cell_type": "markdown",
      "metadata": {
        "id": "2VmUXr3R0z3J"
      },
      "source": [
        "#### **3.2.1 Hyperparameter Tuning mBart with Regular Fine-Tine Technique**\n",
        "**Best Configuration:learning_rate = 2e-05, batch_size = 16, epochs = 1, validation_loss = 1.9151597023010254**"
      ]
    },
    {
      "cell_type": "code",
      "execution_count": null,
      "metadata": {
        "colab": {
          "base_uri": "https://localhost:8080/",
          "height": 1000
        },
        "id": "XHV_tsNf0zI9",
        "outputId": "00baa20d-e77f-4010-d1bd-07d200a5f3e7"
      },
      "outputs": [
        {
          "name": "stdout",
          "output_type": "stream",
          "text": [
            "Testing configuration: LR=2e-05, Batch Size=8, Epochs=1\n"
          ]
        },
        {
          "name": "stderr",
          "output_type": "stream",
          "text": [
            "/usr/local/lib/python3.10/dist-packages/transformers/training_args.py:1568: FutureWarning: `evaluation_strategy` is deprecated and will be removed in version 4.46 of 🤗 Transformers. Use `eval_strategy` instead\n",
            "  warnings.warn(\n",
            "<ipython-input-17-6079f8c1da14>:38: FutureWarning: `tokenizer` is deprecated and will be removed in version 5.0.0 for `Trainer.__init__`. Use `processing_class` instead.\n",
            "  trainer = Trainer(\n"
          ]
        },
        {
          "data": {
            "text/html": [
              "\n",
              "    <div>\n",
              "      \n",
              "      <progress value='1000' max='1000' style='width:300px; height:20px; vertical-align: middle;'></progress>\n",
              "      [1000/1000 02:53, Epoch 1/1]\n",
              "    </div>\n",
              "    <table border=\"1\" class=\"dataframe\">\n",
              "  <thead>\n",
              " <tr style=\"text-align: left;\">\n",
              "      <th>Epoch</th>\n",
              "      <th>Training Loss</th>\n",
              "      <th>Validation Loss</th>\n",
              "    </tr>\n",
              "  </thead>\n",
              "  <tbody>\n",
              "    <tr>\n",
              "      <td>1</td>\n",
              "      <td>1.956300</td>\n",
              "      <td>1.918204</td>\n",
              "    </tr>\n",
              "  </tbody>\n",
              "</table><p>"
            ],
            "text/plain": [
              "<IPython.core.display.HTML object>"
            ]
          },
          "metadata": {},
          "output_type": "display_data"
        },
        {
          "data": {
            "text/html": [
              "\n",
              "    <div>\n",
              "      \n",
              "      <progress value='125' max='125' style='width:300px; height:20px; vertical-align: middle;'></progress>\n",
              "      [125/125 00:05]\n",
              "    </div>\n",
              "    "
            ],
            "text/plain": [
              "<IPython.core.display.HTML object>"
            ]
          },
          "metadata": {},
          "output_type": "display_data"
        },
        {
          "name": "stdout",
          "output_type": "stream",
          "text": [
            "Evaluation results: {'eval_loss': 1.918204426765442, 'eval_runtime': 5.1355, 'eval_samples_per_second': 194.722, 'eval_steps_per_second': 24.34, 'epoch': 1.0}\n",
            "Testing configuration: LR=2e-05, Batch Size=8, Epochs=3\n"
          ]
        },
        {
          "name": "stderr",
          "output_type": "stream",
          "text": [
            "/usr/local/lib/python3.10/dist-packages/transformers/training_args.py:1568: FutureWarning: `evaluation_strategy` is deprecated and will be removed in version 4.46 of 🤗 Transformers. Use `eval_strategy` instead\n",
            "  warnings.warn(\n",
            "<ipython-input-17-6079f8c1da14>:38: FutureWarning: `tokenizer` is deprecated and will be removed in version 5.0.0 for `Trainer.__init__`. Use `processing_class` instead.\n",
            "  trainer = Trainer(\n"
          ]
        },
        {
          "data": {
            "text/html": [
              "\n",
              "    <div>\n",
              "      \n",
              "      <progress value='3000' max='3000' style='width:300px; height:20px; vertical-align: middle;'></progress>\n",
              "      [3000/3000 08:41, Epoch 3/3]\n",
              "    </div>\n",
              "    <table border=\"1\" class=\"dataframe\">\n",
              "  <thead>\n",
              " <tr style=\"text-align: left;\">\n",
              "      <th>Epoch</th>\n",
              "      <th>Training Loss</th>\n",
              "      <th>Validation Loss</th>\n",
              "    </tr>\n",
              "  </thead>\n",
              "  <tbody>\n",
              "    <tr>\n",
              "      <td>1</td>\n",
              "      <td>1.986700</td>\n",
              "      <td>1.939724</td>\n",
              "    </tr>\n",
              "    <tr>\n",
              "      <td>2</td>\n",
              "      <td>1.484500</td>\n",
              "      <td>1.985877</td>\n",
              "    </tr>\n",
              "    <tr>\n",
              "      <td>3</td>\n",
              "      <td>1.215000</td>\n",
              "      <td>2.056471</td>\n",
              "    </tr>\n",
              "  </tbody>\n",
              "</table><p>"
            ],
            "text/plain": [
              "<IPython.core.display.HTML object>"
            ]
          },
          "metadata": {},
          "output_type": "display_data"
        },
        {
          "data": {
            "text/html": [
              "\n",
              "    <div>\n",
              "      \n",
              "      <progress value='125' max='125' style='width:300px; height:20px; vertical-align: middle;'></progress>\n",
              "      [125/125 00:05]\n",
              "    </div>\n",
              "    "
            ],
            "text/plain": [
              "<IPython.core.display.HTML object>"
            ]
          },
          "metadata": {},
          "output_type": "display_data"
        },
        {
          "name": "stdout",
          "output_type": "stream",
          "text": [
            "Evaluation results: {'eval_loss': 2.0564706325531006, 'eval_runtime': 5.206, 'eval_samples_per_second': 192.087, 'eval_steps_per_second': 24.011, 'epoch': 3.0}\n",
            "Testing configuration: LR=2e-05, Batch Size=16, Epochs=1\n"
          ]
        },
        {
          "name": "stderr",
          "output_type": "stream",
          "text": [
            "/usr/local/lib/python3.10/dist-packages/transformers/training_args.py:1568: FutureWarning: `evaluation_strategy` is deprecated and will be removed in version 4.46 of 🤗 Transformers. Use `eval_strategy` instead\n",
            "  warnings.warn(\n",
            "<ipython-input-17-6079f8c1da14>:38: FutureWarning: `tokenizer` is deprecated and will be removed in version 5.0.0 for `Trainer.__init__`. Use `processing_class` instead.\n",
            "  trainer = Trainer(\n"
          ]
        },
        {
          "data": {
            "text/html": [
              "\n",
              "    <div>\n",
              "      \n",
              "      <progress value='500' max='500' style='width:300px; height:20px; vertical-align: middle;'></progress>\n",
              "      [500/500 02:11, Epoch 1/1]\n",
              "    </div>\n",
              "    <table border=\"1\" class=\"dataframe\">\n",
              "  <thead>\n",
              " <tr style=\"text-align: left;\">\n",
              "      <th>Epoch</th>\n",
              "      <th>Training Loss</th>\n",
              "      <th>Validation Loss</th>\n",
              "    </tr>\n",
              "  </thead>\n",
              "  <tbody>\n",
              "    <tr>\n",
              "      <td>1</td>\n",
              "      <td>1.946600</td>\n",
              "      <td>1.915160</td>\n",
              "    </tr>\n",
              "  </tbody>\n",
              "</table><p>"
            ],
            "text/plain": [
              "<IPython.core.display.HTML object>"
            ]
          },
          "metadata": {},
          "output_type": "display_data"
        },
        {
          "data": {
            "text/html": [
              "\n",
              "    <div>\n",
              "      \n",
              "      <progress value='63' max='63' style='width:300px; height:20px; vertical-align: middle;'></progress>\n",
              "      [63/63 00:04]\n",
              "    </div>\n",
              "    "
            ],
            "text/plain": [
              "<IPython.core.display.HTML object>"
            ]
          },
          "metadata": {},
          "output_type": "display_data"
        },
        {
          "name": "stdout",
          "output_type": "stream",
          "text": [
            "Evaluation results: {'eval_loss': 1.9151597023010254, 'eval_runtime': 4.4799, 'eval_samples_per_second': 223.221, 'eval_steps_per_second': 14.063, 'epoch': 1.0}\n",
            "Testing configuration: LR=2e-05, Batch Size=16, Epochs=3\n"
          ]
        },
        {
          "name": "stderr",
          "output_type": "stream",
          "text": [
            "/usr/local/lib/python3.10/dist-packages/transformers/training_args.py:1568: FutureWarning: `evaluation_strategy` is deprecated and will be removed in version 4.46 of 🤗 Transformers. Use `eval_strategy` instead\n",
            "  warnings.warn(\n",
            "<ipython-input-17-6079f8c1da14>:38: FutureWarning: `tokenizer` is deprecated and will be removed in version 5.0.0 for `Trainer.__init__`. Use `processing_class` instead.\n",
            "  trainer = Trainer(\n"
          ]
        },
        {
          "data": {
            "text/html": [
              "\n",
              "    <div>\n",
              "      \n",
              "      <progress value='1500' max='1500' style='width:300px; height:20px; vertical-align: middle;'></progress>\n",
              "      [1500/1500 06:35, Epoch 3/3]\n",
              "    </div>\n",
              "    <table border=\"1\" class=\"dataframe\">\n",
              "  <thead>\n",
              " <tr style=\"text-align: left;\">\n",
              "      <th>Epoch</th>\n",
              "      <th>Training Loss</th>\n",
              "      <th>Validation Loss</th>\n",
              "    </tr>\n",
              "  </thead>\n",
              "  <tbody>\n",
              "    <tr>\n",
              "      <td>1</td>\n",
              "      <td>1.961100</td>\n",
              "      <td>1.926324</td>\n",
              "    </tr>\n",
              "    <tr>\n",
              "      <td>2</td>\n",
              "      <td>1.578800</td>\n",
              "      <td>1.952229</td>\n",
              "    </tr>\n",
              "    <tr>\n",
              "      <td>3</td>\n",
              "      <td>1.367700</td>\n",
              "      <td>1.996490</td>\n",
              "    </tr>\n",
              "  </tbody>\n",
              "</table><p>"
            ],
            "text/plain": [
              "<IPython.core.display.HTML object>"
            ]
          },
          "metadata": {},
          "output_type": "display_data"
        },
        {
          "data": {
            "text/html": [
              "\n",
              "    <div>\n",
              "      \n",
              "      <progress value='63' max='63' style='width:300px; height:20px; vertical-align: middle;'></progress>\n",
              "      [63/63 00:04]\n",
              "    </div>\n",
              "    "
            ],
            "text/plain": [
              "<IPython.core.display.HTML object>"
            ]
          },
          "metadata": {},
          "output_type": "display_data"
        },
        {
          "name": "stdout",
          "output_type": "stream",
          "text": [
            "Evaluation results: {'eval_loss': 1.996490240097046, 'eval_runtime': 4.4775, 'eval_samples_per_second': 223.339, 'eval_steps_per_second': 14.07, 'epoch': 3.0}\n",
            "Testing configuration: LR=3e-05, Batch Size=8, Epochs=1\n"
          ]
        },
        {
          "name": "stderr",
          "output_type": "stream",
          "text": [
            "/usr/local/lib/python3.10/dist-packages/transformers/training_args.py:1568: FutureWarning: `evaluation_strategy` is deprecated and will be removed in version 4.46 of 🤗 Transformers. Use `eval_strategy` instead\n",
            "  warnings.warn(\n",
            "<ipython-input-17-6079f8c1da14>:38: FutureWarning: `tokenizer` is deprecated and will be removed in version 5.0.0 for `Trainer.__init__`. Use `processing_class` instead.\n",
            "  trainer = Trainer(\n"
          ]
        },
        {
          "data": {
            "text/html": [
              "\n",
              "    <div>\n",
              "      \n",
              "      <progress value='1000' max='1000' style='width:300px; height:20px; vertical-align: middle;'></progress>\n",
              "      [1000/1000 02:54, Epoch 1/1]\n",
              "    </div>\n",
              "    <table border=\"1\" class=\"dataframe\">\n",
              "  <thead>\n",
              " <tr style=\"text-align: left;\">\n",
              "      <th>Epoch</th>\n",
              "      <th>Training Loss</th>\n",
              "      <th>Validation Loss</th>\n",
              "    </tr>\n",
              "  </thead>\n",
              "  <tbody>\n",
              "    <tr>\n",
              "      <td>1</td>\n",
              "      <td>1.976000</td>\n",
              "      <td>1.933671</td>\n",
              "    </tr>\n",
              "  </tbody>\n",
              "</table><p>"
            ],
            "text/plain": [
              "<IPython.core.display.HTML object>"
            ]
          },
          "metadata": {},
          "output_type": "display_data"
        },
        {
          "data": {
            "text/html": [
              "\n",
              "    <div>\n",
              "      \n",
              "      <progress value='125' max='125' style='width:300px; height:20px; vertical-align: middle;'></progress>\n",
              "      [125/125 00:05]\n",
              "    </div>\n",
              "    "
            ],
            "text/plain": [
              "<IPython.core.display.HTML object>"
            ]
          },
          "metadata": {},
          "output_type": "display_data"
        },
        {
          "name": "stdout",
          "output_type": "stream",
          "text": [
            "Evaluation results: {'eval_loss': 1.9336711168289185, 'eval_runtime': 5.145, 'eval_samples_per_second': 194.365, 'eval_steps_per_second': 24.296, 'epoch': 1.0}\n",
            "Testing configuration: LR=3e-05, Batch Size=8, Epochs=3\n"
          ]
        },
        {
          "name": "stderr",
          "output_type": "stream",
          "text": [
            "/usr/local/lib/python3.10/dist-packages/transformers/training_args.py:1568: FutureWarning: `evaluation_strategy` is deprecated and will be removed in version 4.46 of 🤗 Transformers. Use `eval_strategy` instead\n",
            "  warnings.warn(\n",
            "<ipython-input-17-6079f8c1da14>:38: FutureWarning: `tokenizer` is deprecated and will be removed in version 5.0.0 for `Trainer.__init__`. Use `processing_class` instead.\n",
            "  trainer = Trainer(\n"
          ]
        },
        {
          "data": {
            "text/html": [
              "\n",
              "    <div>\n",
              "      \n",
              "      <progress value='3000' max='3000' style='width:300px; height:20px; vertical-align: middle;'></progress>\n",
              "      [3000/3000 08:43, Epoch 3/3]\n",
              "    </div>\n",
              "    <table border=\"1\" class=\"dataframe\">\n",
              "  <thead>\n",
              " <tr style=\"text-align: left;\">\n",
              "      <th>Epoch</th>\n",
              "      <th>Training Loss</th>\n",
              "      <th>Validation Loss</th>\n",
              "    </tr>\n",
              "  </thead>\n",
              "  <tbody>\n",
              "    <tr>\n",
              "      <td>1</td>\n",
              "      <td>2.027600</td>\n",
              "      <td>1.972491</td>\n",
              "    </tr>\n",
              "    <tr>\n",
              "      <td>2</td>\n",
              "      <td>1.382600</td>\n",
              "      <td>2.039524</td>\n",
              "    </tr>\n",
              "    <tr>\n",
              "      <td>3</td>\n",
              "      <td>1.009900</td>\n",
              "      <td>2.165004</td>\n",
              "    </tr>\n",
              "  </tbody>\n",
              "</table><p>"
            ],
            "text/plain": [
              "<IPython.core.display.HTML object>"
            ]
          },
          "metadata": {},
          "output_type": "display_data"
        },
        {
          "data": {
            "text/html": [
              "\n",
              "    <div>\n",
              "      \n",
              "      <progress value='125' max='125' style='width:300px; height:20px; vertical-align: middle;'></progress>\n",
              "      [125/125 00:05]\n",
              "    </div>\n",
              "    "
            ],
            "text/plain": [
              "<IPython.core.display.HTML object>"
            ]
          },
          "metadata": {},
          "output_type": "display_data"
        },
        {
          "name": "stdout",
          "output_type": "stream",
          "text": [
            "Evaluation results: {'eval_loss': 2.1650044918060303, 'eval_runtime': 5.1408, 'eval_samples_per_second': 194.524, 'eval_steps_per_second': 24.315, 'epoch': 3.0}\n",
            "Testing configuration: LR=3e-05, Batch Size=16, Epochs=1\n"
          ]
        },
        {
          "name": "stderr",
          "output_type": "stream",
          "text": [
            "/usr/local/lib/python3.10/dist-packages/transformers/training_args.py:1568: FutureWarning: `evaluation_strategy` is deprecated and will be removed in version 4.46 of 🤗 Transformers. Use `eval_strategy` instead\n",
            "  warnings.warn(\n",
            "<ipython-input-17-6079f8c1da14>:38: FutureWarning: `tokenizer` is deprecated and will be removed in version 5.0.0 for `Trainer.__init__`. Use `processing_class` instead.\n",
            "  trainer = Trainer(\n"
          ]
        },
        {
          "data": {
            "text/html": [
              "\n",
              "    <div>\n",
              "      \n",
              "      <progress value='500' max='500' style='width:300px; height:20px; vertical-align: middle;'></progress>\n",
              "      [500/500 02:11, Epoch 1/1]\n",
              "    </div>\n",
              "    <table border=\"1\" class=\"dataframe\">\n",
              "  <thead>\n",
              " <tr style=\"text-align: left;\">\n",
              "      <th>Epoch</th>\n",
              "      <th>Training Loss</th>\n",
              "      <th>Validation Loss</th>\n",
              "    </tr>\n",
              "  </thead>\n",
              "  <tbody>\n",
              "    <tr>\n",
              "      <td>1</td>\n",
              "      <td>1.956600</td>\n",
              "      <td>1.923363</td>\n",
              "    </tr>\n",
              "  </tbody>\n",
              "</table><p>"
            ],
            "text/plain": [
              "<IPython.core.display.HTML object>"
            ]
          },
          "metadata": {},
          "output_type": "display_data"
        },
        {
          "data": {
            "text/html": [
              "\n",
              "    <div>\n",
              "      \n",
              "      <progress value='63' max='63' style='width:300px; height:20px; vertical-align: middle;'></progress>\n",
              "      [63/63 00:04]\n",
              "    </div>\n",
              "    "
            ],
            "text/plain": [
              "<IPython.core.display.HTML object>"
            ]
          },
          "metadata": {},
          "output_type": "display_data"
        },
        {
          "name": "stdout",
          "output_type": "stream",
          "text": [
            "Evaluation results: {'eval_loss': 1.9233630895614624, 'eval_runtime': 4.4727, 'eval_samples_per_second': 223.576, 'eval_steps_per_second': 14.085, 'epoch': 1.0}\n",
            "Testing configuration: LR=3e-05, Batch Size=16, Epochs=3\n"
          ]
        },
        {
          "name": "stderr",
          "output_type": "stream",
          "text": [
            "/usr/local/lib/python3.10/dist-packages/transformers/training_args.py:1568: FutureWarning: `evaluation_strategy` is deprecated and will be removed in version 4.46 of 🤗 Transformers. Use `eval_strategy` instead\n",
            "  warnings.warn(\n",
            "<ipython-input-17-6079f8c1da14>:38: FutureWarning: `tokenizer` is deprecated and will be removed in version 5.0.0 for `Trainer.__init__`. Use `processing_class` instead.\n",
            "  trainer = Trainer(\n"
          ]
        },
        {
          "data": {
            "text/html": [
              "\n",
              "    <div>\n",
              "      \n",
              "      <progress value='1500' max='1500' style='width:300px; height:20px; vertical-align: middle;'></progress>\n",
              "      [1500/1500 06:35, Epoch 3/3]\n",
              "    </div>\n",
              "    <table border=\"1\" class=\"dataframe\">\n",
              "  <thead>\n",
              " <tr style=\"text-align: left;\">\n",
              "      <th>Epoch</th>\n",
              "      <th>Training Loss</th>\n",
              "      <th>Validation Loss</th>\n",
              "    </tr>\n",
              "  </thead>\n",
              "  <tbody>\n",
              "    <tr>\n",
              "      <td>1</td>\n",
              "      <td>1.985600</td>\n",
              "      <td>1.946692</td>\n",
              "    </tr>\n",
              "    <tr>\n",
              "      <td>2</td>\n",
              "      <td>1.480700</td>\n",
              "      <td>1.986397</td>\n",
              "    </tr>\n",
              "    <tr>\n",
              "      <td>3</td>\n",
              "      <td>1.186100</td>\n",
              "      <td>2.070349</td>\n",
              "    </tr>\n",
              "  </tbody>\n",
              "</table><p>"
            ],
            "text/plain": [
              "<IPython.core.display.HTML object>"
            ]
          },
          "metadata": {},
          "output_type": "display_data"
        },
        {
          "data": {
            "text/html": [
              "\n",
              "    <div>\n",
              "      \n",
              "      <progress value='63' max='63' style='width:300px; height:20px; vertical-align: middle;'></progress>\n",
              "      [63/63 00:04]\n",
              "    </div>\n",
              "    "
            ],
            "text/plain": [
              "<IPython.core.display.HTML object>"
            ]
          },
          "metadata": {},
          "output_type": "display_data"
        },
        {
          "name": "stdout",
          "output_type": "stream",
          "text": [
            "Evaluation results: {'eval_loss': 2.0703492164611816, 'eval_runtime': 4.4899, 'eval_samples_per_second': 222.722, 'eval_steps_per_second': 14.032, 'epoch': 3.0}\n",
            "Testing configuration: LR=5e-05, Batch Size=8, Epochs=1\n"
          ]
        },
        {
          "name": "stderr",
          "output_type": "stream",
          "text": [
            "/usr/local/lib/python3.10/dist-packages/transformers/training_args.py:1568: FutureWarning: `evaluation_strategy` is deprecated and will be removed in version 4.46 of 🤗 Transformers. Use `eval_strategy` instead\n",
            "  warnings.warn(\n",
            "<ipython-input-17-6079f8c1da14>:38: FutureWarning: `tokenizer` is deprecated and will be removed in version 5.0.0 for `Trainer.__init__`. Use `processing_class` instead.\n",
            "  trainer = Trainer(\n"
          ]
        },
        {
          "data": {
            "text/html": [
              "\n",
              "    <div>\n",
              "      \n",
              "      <progress value='1000' max='1000' style='width:300px; height:20px; vertical-align: middle;'></progress>\n",
              "      [1000/1000 02:53, Epoch 1/1]\n",
              "    </div>\n",
              "    <table border=\"1\" class=\"dataframe\">\n",
              "  <thead>\n",
              " <tr style=\"text-align: left;\">\n",
              "      <th>Epoch</th>\n",
              "      <th>Training Loss</th>\n",
              "      <th>Validation Loss</th>\n",
              "    </tr>\n",
              "  </thead>\n",
              "  <tbody>\n",
              "    <tr>\n",
              "      <td>1</td>\n",
              "      <td>2.017900</td>\n",
              "      <td>1.971304</td>\n",
              "    </tr>\n",
              "  </tbody>\n",
              "</table><p>"
            ],
            "text/plain": [
              "<IPython.core.display.HTML object>"
            ]
          },
          "metadata": {},
          "output_type": "display_data"
        },
        {
          "data": {
            "text/html": [
              "\n",
              "    <div>\n",
              "      \n",
              "      <progress value='125' max='125' style='width:300px; height:20px; vertical-align: middle;'></progress>\n",
              "      [125/125 00:05]\n",
              "    </div>\n",
              "    "
            ],
            "text/plain": [
              "<IPython.core.display.HTML object>"
            ]
          },
          "metadata": {},
          "output_type": "display_data"
        },
        {
          "name": "stdout",
          "output_type": "stream",
          "text": [
            "Evaluation results: {'eval_loss': 1.9713040590286255, 'eval_runtime': 5.194, 'eval_samples_per_second': 192.531, 'eval_steps_per_second': 24.066, 'epoch': 1.0}\n",
            "Testing configuration: LR=5e-05, Batch Size=8, Epochs=3\n"
          ]
        },
        {
          "name": "stderr",
          "output_type": "stream",
          "text": [
            "/usr/local/lib/python3.10/dist-packages/transformers/training_args.py:1568: FutureWarning: `evaluation_strategy` is deprecated and will be removed in version 4.46 of 🤗 Transformers. Use `eval_strategy` instead\n",
            "  warnings.warn(\n",
            "<ipython-input-17-6079f8c1da14>:38: FutureWarning: `tokenizer` is deprecated and will be removed in version 5.0.0 for `Trainer.__init__`. Use `processing_class` instead.\n",
            "  trainer = Trainer(\n"
          ]
        },
        {
          "data": {
            "text/html": [
              "\n",
              "    <div>\n",
              "      \n",
              "      <progress value='3000' max='3000' style='width:300px; height:20px; vertical-align: middle;'></progress>\n",
              "      [3000/3000 08:42, Epoch 3/3]\n",
              "    </div>\n",
              "    <table border=\"1\" class=\"dataframe\">\n",
              "  <thead>\n",
              " <tr style=\"text-align: left;\">\n",
              "      <th>Epoch</th>\n",
              "      <th>Training Loss</th>\n",
              "      <th>Validation Loss</th>\n",
              "    </tr>\n",
              "  </thead>\n",
              "  <tbody>\n",
              "    <tr>\n",
              "      <td>1</td>\n",
              "      <td>2.113400</td>\n",
              "      <td>2.046349</td>\n",
              "    </tr>\n",
              "    <tr>\n",
              "      <td>2</td>\n",
              "      <td>1.268500</td>\n",
              "      <td>2.138797</td>\n",
              "    </tr>\n",
              "    <tr>\n",
              "      <td>3</td>\n",
              "      <td>0.750800</td>\n",
              "      <td>2.369820</td>\n",
              "    </tr>\n",
              "  </tbody>\n",
              "</table><p>"
            ],
            "text/plain": [
              "<IPython.core.display.HTML object>"
            ]
          },
          "metadata": {},
          "output_type": "display_data"
        },
        {
          "data": {
            "text/html": [
              "\n",
              "    <div>\n",
              "      \n",
              "      <progress value='125' max='125' style='width:300px; height:20px; vertical-align: middle;'></progress>\n",
              "      [125/125 00:05]\n",
              "    </div>\n",
              "    "
            ],
            "text/plain": [
              "<IPython.core.display.HTML object>"
            ]
          },
          "metadata": {},
          "output_type": "display_data"
        },
        {
          "name": "stdout",
          "output_type": "stream",
          "text": [
            "Evaluation results: {'eval_loss': 2.3698198795318604, 'eval_runtime': 5.1351, 'eval_samples_per_second': 194.739, 'eval_steps_per_second': 24.342, 'epoch': 3.0}\n",
            "Testing configuration: LR=5e-05, Batch Size=16, Epochs=1\n"
          ]
        },
        {
          "name": "stderr",
          "output_type": "stream",
          "text": [
            "/usr/local/lib/python3.10/dist-packages/transformers/training_args.py:1568: FutureWarning: `evaluation_strategy` is deprecated and will be removed in version 4.46 of 🤗 Transformers. Use `eval_strategy` instead\n",
            "  warnings.warn(\n",
            "<ipython-input-17-6079f8c1da14>:38: FutureWarning: `tokenizer` is deprecated and will be removed in version 5.0.0 for `Trainer.__init__`. Use `processing_class` instead.\n",
            "  trainer = Trainer(\n"
          ]
        },
        {
          "data": {
            "text/html": [
              "\n",
              "    <div>\n",
              "      \n",
              "      <progress value='500' max='500' style='width:300px; height:20px; vertical-align: middle;'></progress>\n",
              "      [500/500 02:11, Epoch 1/1]\n",
              "    </div>\n",
              "    <table border=\"1\" class=\"dataframe\">\n",
              "  <thead>\n",
              " <tr style=\"text-align: left;\">\n",
              "      <th>Epoch</th>\n",
              "      <th>Training Loss</th>\n",
              "      <th>Validation Loss</th>\n",
              "    </tr>\n",
              "  </thead>\n",
              "  <tbody>\n",
              "    <tr>\n",
              "      <td>1</td>\n",
              "      <td>1.984200</td>\n",
              "      <td>1.946302</td>\n",
              "    </tr>\n",
              "  </tbody>\n",
              "</table><p>"
            ],
            "text/plain": [
              "<IPython.core.display.HTML object>"
            ]
          },
          "metadata": {},
          "output_type": "display_data"
        },
        {
          "data": {
            "text/html": [
              "\n",
              "    <div>\n",
              "      \n",
              "      <progress value='63' max='63' style='width:300px; height:20px; vertical-align: middle;'></progress>\n",
              "      [63/63 00:04]\n",
              "    </div>\n",
              "    "
            ],
            "text/plain": [
              "<IPython.core.display.HTML object>"
            ]
          },
          "metadata": {},
          "output_type": "display_data"
        },
        {
          "name": "stdout",
          "output_type": "stream",
          "text": [
            "Evaluation results: {'eval_loss': 1.9463016986846924, 'eval_runtime': 4.4694, 'eval_samples_per_second': 223.741, 'eval_steps_per_second': 14.096, 'epoch': 1.0}\n",
            "Testing configuration: LR=5e-05, Batch Size=16, Epochs=3\n"
          ]
        },
        {
          "name": "stderr",
          "output_type": "stream",
          "text": [
            "/usr/local/lib/python3.10/dist-packages/transformers/training_args.py:1568: FutureWarning: `evaluation_strategy` is deprecated and will be removed in version 4.46 of 🤗 Transformers. Use `eval_strategy` instead\n",
            "  warnings.warn(\n",
            "<ipython-input-17-6079f8c1da14>:38: FutureWarning: `tokenizer` is deprecated and will be removed in version 5.0.0 for `Trainer.__init__`. Use `processing_class` instead.\n",
            "  trainer = Trainer(\n"
          ]
        },
        {
          "data": {
            "text/html": [
              "\n",
              "    <div>\n",
              "      \n",
              "      <progress value='1500' max='1500' style='width:300px; height:20px; vertical-align: middle;'></progress>\n",
              "      [1500/1500 06:35, Epoch 3/3]\n",
              "    </div>\n",
              "    <table border=\"1\" class=\"dataframe\">\n",
              "  <thead>\n",
              " <tr style=\"text-align: left;\">\n",
              "      <th>Epoch</th>\n",
              "      <th>Training Loss</th>\n",
              "      <th>Validation Loss</th>\n",
              "    </tr>\n",
              "  </thead>\n",
              "  <tbody>\n",
              "    <tr>\n",
              "      <td>1</td>\n",
              "      <td>2.041800</td>\n",
              "      <td>1.996488</td>\n",
              "    </tr>\n",
              "    <tr>\n",
              "      <td>2</td>\n",
              "      <td>1.352300</td>\n",
              "      <td>2.062188</td>\n",
              "    </tr>\n",
              "    <tr>\n",
              "      <td>3</td>\n",
              "      <td>0.929100</td>\n",
              "      <td>2.219889</td>\n",
              "    </tr>\n",
              "  </tbody>\n",
              "</table><p>"
            ],
            "text/plain": [
              "<IPython.core.display.HTML object>"
            ]
          },
          "metadata": {},
          "output_type": "display_data"
        },
        {
          "data": {
            "text/html": [
              "\n",
              "    <div>\n",
              "      \n",
              "      <progress value='63' max='63' style='width:300px; height:20px; vertical-align: middle;'></progress>\n",
              "      [63/63 00:04]\n",
              "    </div>\n",
              "    "
            ],
            "text/plain": [
              "<IPython.core.display.HTML object>"
            ]
          },
          "metadata": {},
          "output_type": "display_data"
        },
        {
          "name": "stdout",
          "output_type": "stream",
          "text": [
            "Evaluation results: {'eval_loss': 2.2198894023895264, 'eval_runtime': 4.4756, 'eval_samples_per_second': 223.432, 'eval_steps_per_second': 14.076, 'epoch': 3.0}\n",
            "Best Configuration:\n",
            "{'learning_rate': 2e-05, 'batch_size': 16, 'epochs': 1}\n",
            "Best Evaluation Results:\n",
            "{'eval_loss': 1.9151597023010254, 'eval_runtime': 4.4799, 'eval_samples_per_second': 223.221, 'eval_steps_per_second': 14.063, 'epoch': 1.0}\n"
          ]
        }
      ],
      "source": [
        "# Define hyperparameter grid\n",
        "learning_rates = [2e-5, 3e-5, 5e-5]\n",
        "batch_sizes = [8, 16]\n",
        "epochs = [1, 3]\n",
        "\n",
        "# Store the best result\n",
        "best_result = None\n",
        "best_params = {}\n",
        "\n",
        "# Iterate over all hyperparameter combinations\n",
        "for lr, batch_size, epoch in itertools.product(learning_rates, batch_sizes, epochs):\n",
        "    print(f\"Testing configuration: LR={lr}, Batch Size={batch_size}, Epochs={epoch}\")\n",
        "\n",
        "    # Deep copy the initial model to ensure fresh start\n",
        "    model_mbart_tune = copy.deepcopy(model_mbart)\n",
        "    model_mbart_tune.config.pad_token_id = tokenizer_mbart.pad_token_id  # Set pad token ID\n",
        "\n",
        "    # Set a unique output directory for each configuration\n",
        "    output_dir = f\"./results/lr_{lr}_bs_{batch_size}_ep_{epoch}\"\n",
        "\n",
        "    # Define training arguments\n",
        "    training_args = TrainingArguments(\n",
        "        output_dir=output_dir,\n",
        "        evaluation_strategy=\"epoch\",      # Evaluate once per epoch\n",
        "        logging_strategy=\"steps\",         # Log training loss every few steps\n",
        "        logging_steps=100,\n",
        "        learning_rate=lr,\n",
        "        per_device_train_batch_size=batch_size,\n",
        "        per_device_eval_batch_size=batch_size,\n",
        "        num_train_epochs=epoch,\n",
        "        weight_decay=0.01,\n",
        "        remove_unused_columns=False,\n",
        "        save_strategy=\"no\",\n",
        "        report_to=\"none\",                 # Disable W&B integration\n",
        "    )\n",
        "\n",
        "    # Initialize Trainer\n",
        "    trainer = Trainer(\n",
        "        model=model_mbart_tune,\n",
        "        args=training_args,\n",
        "        train_dataset=tokenized_data_mbart_train,\n",
        "        eval_dataset=tokenized_data_mbart_dev,\n",
        "        tokenizer=tokenizer_mbart,\n",
        "    )\n",
        "\n",
        "    # Train the model\n",
        "    trainer.train()\n",
        "\n",
        "    # Evaluate the model\n",
        "    eval_results = trainer.evaluate()\n",
        "    print(f\"Evaluation results: {eval_results}\")\n",
        "\n",
        "    # Track the best configuration\n",
        "    if best_result is None or eval_results['eval_loss'] < best_result['eval_loss']:\n",
        "        best_result = eval_results\n",
        "        best_params = {\n",
        "            'learning_rate': lr,\n",
        "            'batch_size': batch_size,\n",
        "            'epochs': epoch\n",
        "        }\n",
        "\n",
        "# Print the best configuration\n",
        "print(\"Best Configuration:\")\n",
        "print(best_params)\n",
        "print(\"Best Evaluation Results:\")\n",
        "print(best_result)"
      ]
    },
    {
      "cell_type": "markdown",
      "metadata": {
        "id": "dVG55jwJkbtn"
      },
      "source": [
        "#### **3.2.2 Hyperparameter Tuning mBart with LoRA**\n",
        "Since a well-performing set of hyperparameters (learning_rate = 2e-05, batch_size = 16, epochs = 1) has already been identified during the above fine-tuning, it is reasonable to use these as a starting point for LoRA hyperparameter tuning. This is because using previously tuned traditional parameters provides a stable training baseline, reduces the search space, and allows focused optimization of LoRA-specific parameters, which have a greater impact on performance.\n",
        "\n",
        "**Best configuration:  r=8, alpha=64, dropout=0.0, validation loss = 1.967467**"
      ]
    },
    {
      "cell_type": "code",
      "execution_count": null,
      "metadata": {
        "colab": {
          "background_save": true,
          "base_uri": "https://localhost:8080/",
          "height": 1000
        },
        "id": "41lIoOprkihZ",
        "outputId": "d8ff5a94-a83c-4ac4-b43e-b07c9fe9cc38"
      },
      "outputs": [
        {
          "name": "stdout",
          "output_type": "stream",
          "text": [
            "Testing LoRA configuration: r=8, alpha=16, dropout=0.0\n"
          ]
        },
        {
          "name": "stderr",
          "output_type": "stream",
          "text": [
            "/usr/local/lib/python3.10/dist-packages/transformers/training_args.py:1568: FutureWarning: `evaluation_strategy` is deprecated and will be removed in version 4.46 of 🤗 Transformers. Use `eval_strategy` instead\n",
            "  warnings.warn(\n",
            "<ipython-input-64-377d6b3748e3>:41: FutureWarning: `tokenizer` is deprecated and will be removed in version 5.0.0 for `Trainer.__init__`. Use `processing_class` instead.\n",
            "  trainer = Trainer(\n"
          ]
        },
        {
          "data": {
            "text/html": [
              "\n",
              "    <div>\n",
              "      \n",
              "      <progress value='500' max='500' style='width:300px; height:20px; vertical-align: middle;'></progress>\n",
              "      [500/500 06:01, Epoch 1/1]\n",
              "    </div>\n",
              "    <table border=\"1\" class=\"dataframe\">\n",
              "  <thead>\n",
              " <tr style=\"text-align: left;\">\n",
              "      <th>Epoch</th>\n",
              "      <th>Training Loss</th>\n",
              "      <th>Validation Loss</th>\n",
              "    </tr>\n",
              "  </thead>\n",
              "  <tbody>\n",
              "    <tr>\n",
              "      <td>1</td>\n",
              "      <td>2.269500</td>\n",
              "      <td>2.186194</td>\n",
              "    </tr>\n",
              "  </tbody>\n",
              "</table><p>"
            ],
            "text/plain": [
              "<IPython.core.display.HTML object>"
            ]
          },
          "metadata": {},
          "output_type": "display_data"
        },
        {
          "data": {
            "text/html": [
              "\n",
              "    <div>\n",
              "      \n",
              "      <progress value='125' max='125' style='width:300px; height:20px; vertical-align: middle;'></progress>\n",
              "      [125/125 00:23]\n",
              "    </div>\n",
              "    "
            ],
            "text/plain": [
              "<IPython.core.display.HTML object>"
            ]
          },
          "metadata": {},
          "output_type": "display_data"
        },
        {
          "name": "stdout",
          "output_type": "stream",
          "text": [
            "Evaluation results: {'eval_loss': 2.18619441986084, 'eval_runtime': 24.0318, 'eval_samples_per_second': 41.611, 'eval_steps_per_second': 5.201, 'epoch': 1.0}\n",
            "Testing LoRA configuration: r=8, alpha=16, dropout=0.1\n"
          ]
        },
        {
          "name": "stderr",
          "output_type": "stream",
          "text": [
            "/usr/local/lib/python3.10/dist-packages/transformers/training_args.py:1568: FutureWarning: `evaluation_strategy` is deprecated and will be removed in version 4.46 of 🤗 Transformers. Use `eval_strategy` instead\n",
            "  warnings.warn(\n",
            "<ipython-input-64-377d6b3748e3>:41: FutureWarning: `tokenizer` is deprecated and will be removed in version 5.0.0 for `Trainer.__init__`. Use `processing_class` instead.\n",
            "  trainer = Trainer(\n"
          ]
        },
        {
          "data": {
            "text/html": [
              "\n",
              "    <div>\n",
              "      \n",
              "      <progress value='500' max='500' style='width:300px; height:20px; vertical-align: middle;'></progress>\n",
              "      [500/500 06:02, Epoch 1/1]\n",
              "    </div>\n",
              "    <table border=\"1\" class=\"dataframe\">\n",
              "  <thead>\n",
              " <tr style=\"text-align: left;\">\n",
              "      <th>Epoch</th>\n",
              "      <th>Training Loss</th>\n",
              "      <th>Validation Loss</th>\n",
              "    </tr>\n",
              "  </thead>\n",
              "  <tbody>\n",
              "    <tr>\n",
              "      <td>1</td>\n",
              "      <td>2.218100</td>\n",
              "      <td>2.136166</td>\n",
              "    </tr>\n",
              "  </tbody>\n",
              "</table><p>"
            ],
            "text/plain": [
              "<IPython.core.display.HTML object>"
            ]
          },
          "metadata": {},
          "output_type": "display_data"
        },
        {
          "data": {
            "text/html": [
              "\n",
              "    <div>\n",
              "      \n",
              "      <progress value='125' max='125' style='width:300px; height:20px; vertical-align: middle;'></progress>\n",
              "      [125/125 00:23]\n",
              "    </div>\n",
              "    "
            ],
            "text/plain": [
              "<IPython.core.display.HTML object>"
            ]
          },
          "metadata": {},
          "output_type": "display_data"
        },
        {
          "name": "stdout",
          "output_type": "stream",
          "text": [
            "Evaluation results: {'eval_loss': 2.1361663341522217, 'eval_runtime': 23.9919, 'eval_samples_per_second': 41.681, 'eval_steps_per_second': 5.21, 'epoch': 1.0}\n",
            "Testing LoRA configuration: r=8, alpha=16, dropout=0.2\n"
          ]
        },
        {
          "name": "stderr",
          "output_type": "stream",
          "text": [
            "/usr/local/lib/python3.10/dist-packages/transformers/training_args.py:1568: FutureWarning: `evaluation_strategy` is deprecated and will be removed in version 4.46 of 🤗 Transformers. Use `eval_strategy` instead\n",
            "  warnings.warn(\n",
            "<ipython-input-64-377d6b3748e3>:41: FutureWarning: `tokenizer` is deprecated and will be removed in version 5.0.0 for `Trainer.__init__`. Use `processing_class` instead.\n",
            "  trainer = Trainer(\n"
          ]
        },
        {
          "data": {
            "text/html": [
              "\n",
              "    <div>\n",
              "      \n",
              "      <progress value='500' max='500' style='width:300px; height:20px; vertical-align: middle;'></progress>\n",
              "      [500/500 06:02, Epoch 1/1]\n",
              "    </div>\n",
              "    <table border=\"1\" class=\"dataframe\">\n",
              "  <thead>\n",
              " <tr style=\"text-align: left;\">\n",
              "      <th>Epoch</th>\n",
              "      <th>Training Loss</th>\n",
              "      <th>Validation Loss</th>\n",
              "    </tr>\n",
              "  </thead>\n",
              "  <tbody>\n",
              "    <tr>\n",
              "      <td>1</td>\n",
              "      <td>2.228000</td>\n",
              "      <td>2.146366</td>\n",
              "    </tr>\n",
              "  </tbody>\n",
              "</table><p>"
            ],
            "text/plain": [
              "<IPython.core.display.HTML object>"
            ]
          },
          "metadata": {},
          "output_type": "display_data"
        },
        {
          "data": {
            "text/html": [
              "\n",
              "    <div>\n",
              "      \n",
              "      <progress value='125' max='125' style='width:300px; height:20px; vertical-align: middle;'></progress>\n",
              "      [125/125 00:23]\n",
              "    </div>\n",
              "    "
            ],
            "text/plain": [
              "<IPython.core.display.HTML object>"
            ]
          },
          "metadata": {},
          "output_type": "display_data"
        },
        {
          "name": "stdout",
          "output_type": "stream",
          "text": [
            "Evaluation results: {'eval_loss': 2.1463656425476074, 'eval_runtime': 24.1613, 'eval_samples_per_second': 41.389, 'eval_steps_per_second': 5.174, 'epoch': 1.0}\n",
            "Testing LoRA configuration: r=8, alpha=32, dropout=0.0\n"
          ]
        },
        {
          "name": "stderr",
          "output_type": "stream",
          "text": [
            "/usr/local/lib/python3.10/dist-packages/transformers/training_args.py:1568: FutureWarning: `evaluation_strategy` is deprecated and will be removed in version 4.46 of 🤗 Transformers. Use `eval_strategy` instead\n",
            "  warnings.warn(\n",
            "<ipython-input-64-377d6b3748e3>:41: FutureWarning: `tokenizer` is deprecated and will be removed in version 5.0.0 for `Trainer.__init__`. Use `processing_class` instead.\n",
            "  trainer = Trainer(\n"
          ]
        },
        {
          "data": {
            "text/html": [
              "\n",
              "    <div>\n",
              "      \n",
              "      <progress value='500' max='500' style='width:300px; height:20px; vertical-align: middle;'></progress>\n",
              "      [500/500 06:01, Epoch 1/1]\n",
              "    </div>\n",
              "    <table border=\"1\" class=\"dataframe\">\n",
              "  <thead>\n",
              " <tr style=\"text-align: left;\">\n",
              "      <th>Epoch</th>\n",
              "      <th>Training Loss</th>\n",
              "      <th>Validation Loss</th>\n",
              "    </tr>\n",
              "  </thead>\n",
              "  <tbody>\n",
              "    <tr>\n",
              "      <td>1</td>\n",
              "      <td>2.072600</td>\n",
              "      <td>2.003432</td>\n",
              "    </tr>\n",
              "  </tbody>\n",
              "</table><p>"
            ],
            "text/plain": [
              "<IPython.core.display.HTML object>"
            ]
          },
          "metadata": {},
          "output_type": "display_data"
        },
        {
          "data": {
            "text/html": [
              "\n",
              "    <div>\n",
              "      \n",
              "      <progress value='125' max='125' style='width:300px; height:20px; vertical-align: middle;'></progress>\n",
              "      [125/125 00:23]\n",
              "    </div>\n",
              "    "
            ],
            "text/plain": [
              "<IPython.core.display.HTML object>"
            ]
          },
          "metadata": {},
          "output_type": "display_data"
        },
        {
          "name": "stdout",
          "output_type": "stream",
          "text": [
            "Evaluation results: {'eval_loss': 2.003432035446167, 'eval_runtime': 24.0927, 'eval_samples_per_second': 41.506, 'eval_steps_per_second': 5.188, 'epoch': 1.0}\n",
            "Testing LoRA configuration: r=8, alpha=32, dropout=0.1\n"
          ]
        },
        {
          "name": "stderr",
          "output_type": "stream",
          "text": [
            "/usr/local/lib/python3.10/dist-packages/transformers/training_args.py:1568: FutureWarning: `evaluation_strategy` is deprecated and will be removed in version 4.46 of 🤗 Transformers. Use `eval_strategy` instead\n",
            "  warnings.warn(\n",
            "<ipython-input-64-377d6b3748e3>:41: FutureWarning: `tokenizer` is deprecated and will be removed in version 5.0.0 for `Trainer.__init__`. Use `processing_class` instead.\n",
            "  trainer = Trainer(\n"
          ]
        },
        {
          "data": {
            "text/html": [
              "\n",
              "    <div>\n",
              "      \n",
              "      <progress value='500' max='500' style='width:300px; height:20px; vertical-align: middle;'></progress>\n",
              "      [500/500 06:02, Epoch 1/1]\n",
              "    </div>\n",
              "    <table border=\"1\" class=\"dataframe\">\n",
              "  <thead>\n",
              " <tr style=\"text-align: left;\">\n",
              "      <th>Epoch</th>\n",
              "      <th>Training Loss</th>\n",
              "      <th>Validation Loss</th>\n",
              "    </tr>\n",
              "  </thead>\n",
              "  <tbody>\n",
              "    <tr>\n",
              "      <td>1</td>\n",
              "      <td>2.070800</td>\n",
              "      <td>2.004421</td>\n",
              "    </tr>\n",
              "  </tbody>\n",
              "</table><p>"
            ],
            "text/plain": [
              "<IPython.core.display.HTML object>"
            ]
          },
          "metadata": {},
          "output_type": "display_data"
        },
        {
          "data": {
            "text/html": [
              "\n",
              "    <div>\n",
              "      \n",
              "      <progress value='125' max='125' style='width:300px; height:20px; vertical-align: middle;'></progress>\n",
              "      [125/125 00:23]\n",
              "    </div>\n",
              "    "
            ],
            "text/plain": [
              "<IPython.core.display.HTML object>"
            ]
          },
          "metadata": {},
          "output_type": "display_data"
        },
        {
          "name": "stdout",
          "output_type": "stream",
          "text": [
            "Evaluation results: {'eval_loss': 2.004420518875122, 'eval_runtime': 24.0156, 'eval_samples_per_second': 41.64, 'eval_steps_per_second': 5.205, 'epoch': 1.0}\n",
            "Testing LoRA configuration: r=8, alpha=32, dropout=0.2\n"
          ]
        },
        {
          "name": "stderr",
          "output_type": "stream",
          "text": [
            "/usr/local/lib/python3.10/dist-packages/transformers/training_args.py:1568: FutureWarning: `evaluation_strategy` is deprecated and will be removed in version 4.46 of 🤗 Transformers. Use `eval_strategy` instead\n",
            "  warnings.warn(\n",
            "<ipython-input-64-377d6b3748e3>:41: FutureWarning: `tokenizer` is deprecated and will be removed in version 5.0.0 for `Trainer.__init__`. Use `processing_class` instead.\n",
            "  trainer = Trainer(\n"
          ]
        },
        {
          "data": {
            "text/html": [
              "\n",
              "    <div>\n",
              "      \n",
              "      <progress value='500' max='500' style='width:300px; height:20px; vertical-align: middle;'></progress>\n",
              "      [500/500 06:02, Epoch 1/1]\n",
              "    </div>\n",
              "    <table border=\"1\" class=\"dataframe\">\n",
              "  <thead>\n",
              " <tr style=\"text-align: left;\">\n",
              "      <th>Epoch</th>\n",
              "      <th>Training Loss</th>\n",
              "      <th>Validation Loss</th>\n",
              "    </tr>\n",
              "  </thead>\n",
              "  <tbody>\n",
              "    <tr>\n",
              "      <td>1</td>\n",
              "      <td>2.072200</td>\n",
              "      <td>2.005456</td>\n",
              "    </tr>\n",
              "  </tbody>\n",
              "</table><p>"
            ],
            "text/plain": [
              "<IPython.core.display.HTML object>"
            ]
          },
          "metadata": {},
          "output_type": "display_data"
        },
        {
          "data": {
            "text/html": [
              "\n",
              "    <div>\n",
              "      \n",
              "      <progress value='125' max='125' style='width:300px; height:20px; vertical-align: middle;'></progress>\n",
              "      [125/125 00:23]\n",
              "    </div>\n",
              "    "
            ],
            "text/plain": [
              "<IPython.core.display.HTML object>"
            ]
          },
          "metadata": {},
          "output_type": "display_data"
        },
        {
          "name": "stdout",
          "output_type": "stream",
          "text": [
            "Evaluation results: {'eval_loss': 2.005455732345581, 'eval_runtime': 24.0918, 'eval_samples_per_second': 41.508, 'eval_steps_per_second': 5.188, 'epoch': 1.0}\n",
            "Testing LoRA configuration: r=8, alpha=64, dropout=0.0\n"
          ]
        },
        {
          "name": "stderr",
          "output_type": "stream",
          "text": [
            "/usr/local/lib/python3.10/dist-packages/transformers/training_args.py:1568: FutureWarning: `evaluation_strategy` is deprecated and will be removed in version 4.46 of 🤗 Transformers. Use `eval_strategy` instead\n",
            "  warnings.warn(\n",
            "<ipython-input-64-377d6b3748e3>:41: FutureWarning: `tokenizer` is deprecated and will be removed in version 5.0.0 for `Trainer.__init__`. Use `processing_class` instead.\n",
            "  trainer = Trainer(\n"
          ]
        },
        {
          "data": {
            "text/html": [
              "\n",
              "    <div>\n",
              "      \n",
              "      <progress value='500' max='500' style='width:300px; height:20px; vertical-align: middle;'></progress>\n",
              "      [500/500 05:59, Epoch 1/1]\n",
              "    </div>\n",
              "    <table border=\"1\" class=\"dataframe\">\n",
              "  <thead>\n",
              " <tr style=\"text-align: left;\">\n",
              "      <th>Epoch</th>\n",
              "      <th>Training Loss</th>\n",
              "      <th>Validation Loss</th>\n",
              "    </tr>\n",
              "  </thead>\n",
              "  <tbody>\n",
              "    <tr>\n",
              "      <td>1</td>\n",
              "      <td>2.033000</td>\n",
              "      <td>1.967467</td>\n",
              "    </tr>\n",
              "  </tbody>\n",
              "</table><p>"
            ],
            "text/plain": [
              "<IPython.core.display.HTML object>"
            ]
          },
          "metadata": {},
          "output_type": "display_data"
        },
        {
          "data": {
            "text/html": [
              "\n",
              "    <div>\n",
              "      \n",
              "      <progress value='125' max='125' style='width:300px; height:20px; vertical-align: middle;'></progress>\n",
              "      [125/125 00:23]\n",
              "    </div>\n",
              "    "
            ],
            "text/plain": [
              "<IPython.core.display.HTML object>"
            ]
          },
          "metadata": {},
          "output_type": "display_data"
        },
        {
          "name": "stdout",
          "output_type": "stream",
          "text": [
            "Evaluation results: {'eval_loss': 1.9674665927886963, 'eval_runtime': 24.0202, 'eval_samples_per_second': 41.632, 'eval_steps_per_second': 5.204, 'epoch': 1.0}\n",
            "Testing LoRA configuration: r=8, alpha=64, dropout=0.1\n"
          ]
        },
        {
          "name": "stderr",
          "output_type": "stream",
          "text": [
            "/usr/local/lib/python3.10/dist-packages/transformers/training_args.py:1568: FutureWarning: `evaluation_strategy` is deprecated and will be removed in version 4.46 of 🤗 Transformers. Use `eval_strategy` instead\n",
            "  warnings.warn(\n",
            "<ipython-input-64-377d6b3748e3>:41: FutureWarning: `tokenizer` is deprecated and will be removed in version 5.0.0 for `Trainer.__init__`. Use `processing_class` instead.\n",
            "  trainer = Trainer(\n"
          ]
        },
        {
          "data": {
            "text/html": [
              "\n",
              "    <div>\n",
              "      \n",
              "      <progress value='500' max='500' style='width:300px; height:20px; vertical-align: middle;'></progress>\n",
              "      [500/500 06:01, Epoch 1/1]\n",
              "    </div>\n",
              "    <table border=\"1\" class=\"dataframe\">\n",
              "  <thead>\n",
              " <tr style=\"text-align: left;\">\n",
              "      <th>Epoch</th>\n",
              "      <th>Training Loss</th>\n",
              "      <th>Validation Loss</th>\n",
              "    </tr>\n",
              "  </thead>\n",
              "  <tbody>\n",
              "    <tr>\n",
              "      <td>1</td>\n",
              "      <td>2.031000</td>\n",
              "      <td>1.968252</td>\n",
              "    </tr>\n",
              "  </tbody>\n",
              "</table><p>"
            ],
            "text/plain": [
              "<IPython.core.display.HTML object>"
            ]
          },
          "metadata": {},
          "output_type": "display_data"
        },
        {
          "data": {
            "text/html": [
              "\n",
              "    <div>\n",
              "      \n",
              "      <progress value='125' max='125' style='width:300px; height:20px; vertical-align: middle;'></progress>\n",
              "      [125/125 00:23]\n",
              "    </div>\n",
              "    "
            ],
            "text/plain": [
              "<IPython.core.display.HTML object>"
            ]
          },
          "metadata": {},
          "output_type": "display_data"
        },
        {
          "name": "stdout",
          "output_type": "stream",
          "text": [
            "Evaluation results: {'eval_loss': 1.9682523012161255, 'eval_runtime': 24.0101, 'eval_samples_per_second': 41.649, 'eval_steps_per_second': 5.206, 'epoch': 1.0}\n",
            "Testing LoRA configuration: r=8, alpha=64, dropout=0.2\n"
          ]
        },
        {
          "name": "stderr",
          "output_type": "stream",
          "text": [
            "/usr/local/lib/python3.10/dist-packages/transformers/training_args.py:1568: FutureWarning: `evaluation_strategy` is deprecated and will be removed in version 4.46 of 🤗 Transformers. Use `eval_strategy` instead\n",
            "  warnings.warn(\n",
            "<ipython-input-64-377d6b3748e3>:41: FutureWarning: `tokenizer` is deprecated and will be removed in version 5.0.0 for `Trainer.__init__`. Use `processing_class` instead.\n",
            "  trainer = Trainer(\n"
          ]
        },
        {
          "data": {
            "text/html": [
              "\n",
              "    <div>\n",
              "      \n",
              "      <progress value='500' max='500' style='width:300px; height:20px; vertical-align: middle;'></progress>\n",
              "      [500/500 06:01, Epoch 1/1]\n",
              "    </div>\n",
              "    <table border=\"1\" class=\"dataframe\">\n",
              "  <thead>\n",
              " <tr style=\"text-align: left;\">\n",
              "      <th>Epoch</th>\n",
              "      <th>Training Loss</th>\n",
              "      <th>Validation Loss</th>\n",
              "    </tr>\n",
              "  </thead>\n",
              "  <tbody>\n",
              "    <tr>\n",
              "      <td>1</td>\n",
              "      <td>2.032000</td>\n",
              "      <td>1.968983</td>\n",
              "    </tr>\n",
              "  </tbody>\n",
              "</table><p>"
            ],
            "text/plain": [
              "<IPython.core.display.HTML object>"
            ]
          },
          "metadata": {},
          "output_type": "display_data"
        },
        {
          "data": {
            "text/html": [
              "\n",
              "    <div>\n",
              "      \n",
              "      <progress value='125' max='125' style='width:300px; height:20px; vertical-align: middle;'></progress>\n",
              "      [125/125 00:23]\n",
              "    </div>\n",
              "    "
            ],
            "text/plain": [
              "<IPython.core.display.HTML object>"
            ]
          },
          "metadata": {},
          "output_type": "display_data"
        },
        {
          "name": "stdout",
          "output_type": "stream",
          "text": [
            "Evaluation results: {'eval_loss': 1.9689826965332031, 'eval_runtime': 24.02, 'eval_samples_per_second': 41.632, 'eval_steps_per_second': 5.204, 'epoch': 1.0}\n",
            "Testing LoRA configuration: r=16, alpha=16, dropout=0.0\n"
          ]
        },
        {
          "name": "stderr",
          "output_type": "stream",
          "text": [
            "/usr/local/lib/python3.10/dist-packages/transformers/training_args.py:1568: FutureWarning: `evaluation_strategy` is deprecated and will be removed in version 4.46 of 🤗 Transformers. Use `eval_strategy` instead\n",
            "  warnings.warn(\n",
            "<ipython-input-64-377d6b3748e3>:41: FutureWarning: `tokenizer` is deprecated and will be removed in version 5.0.0 for `Trainer.__init__`. Use `processing_class` instead.\n",
            "  trainer = Trainer(\n"
          ]
        },
        {
          "data": {
            "text/html": [
              "\n",
              "    <div>\n",
              "      \n",
              "      <progress value='500' max='500' style='width:300px; height:20px; vertical-align: middle;'></progress>\n",
              "      [500/500 06:00, Epoch 1/1]\n",
              "    </div>\n",
              "    <table border=\"1\" class=\"dataframe\">\n",
              "  <thead>\n",
              " <tr style=\"text-align: left;\">\n",
              "      <th>Epoch</th>\n",
              "      <th>Training Loss</th>\n",
              "      <th>Validation Loss</th>\n",
              "    </tr>\n",
              "  </thead>\n",
              "  <tbody>\n",
              "    <tr>\n",
              "      <td>1</td>\n",
              "      <td>2.280500</td>\n",
              "      <td>2.197836</td>\n",
              "    </tr>\n",
              "  </tbody>\n",
              "</table><p>"
            ],
            "text/plain": [
              "<IPython.core.display.HTML object>"
            ]
          },
          "metadata": {},
          "output_type": "display_data"
        },
        {
          "data": {
            "text/html": [
              "\n",
              "    <div>\n",
              "      \n",
              "      <progress value='125' max='125' style='width:300px; height:20px; vertical-align: middle;'></progress>\n",
              "      [125/125 00:23]\n",
              "    </div>\n",
              "    "
            ],
            "text/plain": [
              "<IPython.core.display.HTML object>"
            ]
          },
          "metadata": {},
          "output_type": "display_data"
        },
        {
          "name": "stdout",
          "output_type": "stream",
          "text": [
            "Evaluation results: {'eval_loss': 2.197836399078369, 'eval_runtime': 24.0847, 'eval_samples_per_second': 41.52, 'eval_steps_per_second': 5.19, 'epoch': 1.0}\n",
            "Testing LoRA configuration: r=16, alpha=16, dropout=0.1\n"
          ]
        },
        {
          "name": "stderr",
          "output_type": "stream",
          "text": [
            "/usr/local/lib/python3.10/dist-packages/transformers/training_args.py:1568: FutureWarning: `evaluation_strategy` is deprecated and will be removed in version 4.46 of 🤗 Transformers. Use `eval_strategy` instead\n",
            "  warnings.warn(\n",
            "<ipython-input-64-377d6b3748e3>:41: FutureWarning: `tokenizer` is deprecated and will be removed in version 5.0.0 for `Trainer.__init__`. Use `processing_class` instead.\n",
            "  trainer = Trainer(\n"
          ]
        },
        {
          "data": {
            "text/html": [
              "\n",
              "    <div>\n",
              "      \n",
              "      <progress value='500' max='500' style='width:300px; height:20px; vertical-align: middle;'></progress>\n",
              "      [500/500 06:02, Epoch 1/1]\n",
              "    </div>\n",
              "    <table border=\"1\" class=\"dataframe\">\n",
              "  <thead>\n",
              " <tr style=\"text-align: left;\">\n",
              "      <th>Epoch</th>\n",
              "      <th>Training Loss</th>\n",
              "      <th>Validation Loss</th>\n",
              "    </tr>\n",
              "  </thead>\n",
              "  <tbody>\n",
              "    <tr>\n",
              "      <td>1</td>\n",
              "      <td>2.280000</td>\n",
              "      <td>2.202169</td>\n",
              "    </tr>\n",
              "  </tbody>\n",
              "</table><p>"
            ],
            "text/plain": [
              "<IPython.core.display.HTML object>"
            ]
          },
          "metadata": {},
          "output_type": "display_data"
        },
        {
          "data": {
            "text/html": [
              "\n",
              "    <div>\n",
              "      \n",
              "      <progress value='125' max='125' style='width:300px; height:20px; vertical-align: middle;'></progress>\n",
              "      [125/125 00:23]\n",
              "    </div>\n",
              "    "
            ],
            "text/plain": [
              "<IPython.core.display.HTML object>"
            ]
          },
          "metadata": {},
          "output_type": "display_data"
        },
        {
          "name": "stdout",
          "output_type": "stream",
          "text": [
            "Evaluation results: {'eval_loss': 2.2021687030792236, 'eval_runtime': 24.1264, 'eval_samples_per_second': 41.448, 'eval_steps_per_second': 5.181, 'epoch': 1.0}\n",
            "Testing LoRA configuration: r=16, alpha=16, dropout=0.2\n"
          ]
        },
        {
          "name": "stderr",
          "output_type": "stream",
          "text": [
            "/usr/local/lib/python3.10/dist-packages/transformers/training_args.py:1568: FutureWarning: `evaluation_strategy` is deprecated and will be removed in version 4.46 of 🤗 Transformers. Use `eval_strategy` instead\n",
            "  warnings.warn(\n",
            "<ipython-input-64-377d6b3748e3>:41: FutureWarning: `tokenizer` is deprecated and will be removed in version 5.0.0 for `Trainer.__init__`. Use `processing_class` instead.\n",
            "  trainer = Trainer(\n"
          ]
        },
        {
          "data": {
            "text/html": [
              "\n",
              "    <div>\n",
              "      \n",
              "      <progress value='500' max='500' style='width:300px; height:20px; vertical-align: middle;'></progress>\n",
              "      [500/500 06:02, Epoch 1/1]\n",
              "    </div>\n",
              "    <table border=\"1\" class=\"dataframe\">\n",
              "  <thead>\n",
              " <tr style=\"text-align: left;\">\n",
              "      <th>Epoch</th>\n",
              "      <th>Training Loss</th>\n",
              "      <th>Validation Loss</th>\n",
              "    </tr>\n",
              "  </thead>\n",
              "  <tbody>\n",
              "    <tr>\n",
              "      <td>1</td>\n",
              "      <td>2.290800</td>\n",
              "      <td>2.214560</td>\n",
              "    </tr>\n",
              "  </tbody>\n",
              "</table><p>"
            ],
            "text/plain": [
              "<IPython.core.display.HTML object>"
            ]
          },
          "metadata": {},
          "output_type": "display_data"
        },
        {
          "data": {
            "text/html": [
              "\n",
              "    <div>\n",
              "      \n",
              "      <progress value='125' max='125' style='width:300px; height:20px; vertical-align: middle;'></progress>\n",
              "      [125/125 00:23]\n",
              "    </div>\n",
              "    "
            ],
            "text/plain": [
              "<IPython.core.display.HTML object>"
            ]
          },
          "metadata": {},
          "output_type": "display_data"
        },
        {
          "name": "stdout",
          "output_type": "stream",
          "text": [
            "Evaluation results: {'eval_loss': 2.2145602703094482, 'eval_runtime': 24.0837, 'eval_samples_per_second': 41.522, 'eval_steps_per_second': 5.19, 'epoch': 1.0}\n",
            "Testing LoRA configuration: r=16, alpha=32, dropout=0.0\n"
          ]
        },
        {
          "name": "stderr",
          "output_type": "stream",
          "text": [
            "/usr/local/lib/python3.10/dist-packages/transformers/training_args.py:1568: FutureWarning: `evaluation_strategy` is deprecated and will be removed in version 4.46 of 🤗 Transformers. Use `eval_strategy` instead\n",
            "  warnings.warn(\n",
            "<ipython-input-64-377d6b3748e3>:41: FutureWarning: `tokenizer` is deprecated and will be removed in version 5.0.0 for `Trainer.__init__`. Use `processing_class` instead.\n",
            "  trainer = Trainer(\n"
          ]
        },
        {
          "data": {
            "text/html": [
              "\n",
              "    <div>\n",
              "      \n",
              "      <progress value='500' max='500' style='width:300px; height:20px; vertical-align: middle;'></progress>\n",
              "      [500/500 06:00, Epoch 1/1]\n",
              "    </div>\n",
              "    <table border=\"1\" class=\"dataframe\">\n",
              "  <thead>\n",
              " <tr style=\"text-align: left;\">\n",
              "      <th>Epoch</th>\n",
              "      <th>Training Loss</th>\n",
              "      <th>Validation Loss</th>\n",
              "    </tr>\n",
              "  </thead>\n",
              "  <tbody>\n",
              "    <tr>\n",
              "      <td>1</td>\n",
              "      <td>2.076000</td>\n",
              "      <td>2.006214</td>\n",
              "    </tr>\n",
              "  </tbody>\n",
              "</table><p>"
            ],
            "text/plain": [
              "<IPython.core.display.HTML object>"
            ]
          },
          "metadata": {},
          "output_type": "display_data"
        },
        {
          "data": {
            "text/html": [
              "\n",
              "    <div>\n",
              "      \n",
              "      <progress value='125' max='125' style='width:300px; height:20px; vertical-align: middle;'></progress>\n",
              "      [125/125 00:23]\n",
              "    </div>\n",
              "    "
            ],
            "text/plain": [
              "<IPython.core.display.HTML object>"
            ]
          },
          "metadata": {},
          "output_type": "display_data"
        },
        {
          "name": "stdout",
          "output_type": "stream",
          "text": [
            "Evaluation results: {'eval_loss': 2.006213665008545, 'eval_runtime': 24.1193, 'eval_samples_per_second': 41.461, 'eval_steps_per_second': 5.183, 'epoch': 1.0}\n",
            "Testing LoRA configuration: r=16, alpha=32, dropout=0.1\n"
          ]
        },
        {
          "name": "stderr",
          "output_type": "stream",
          "text": [
            "/usr/local/lib/python3.10/dist-packages/transformers/training_args.py:1568: FutureWarning: `evaluation_strategy` is deprecated and will be removed in version 4.46 of 🤗 Transformers. Use `eval_strategy` instead\n",
            "  warnings.warn(\n",
            "<ipython-input-64-377d6b3748e3>:41: FutureWarning: `tokenizer` is deprecated and will be removed in version 5.0.0 for `Trainer.__init__`. Use `processing_class` instead.\n",
            "  trainer = Trainer(\n"
          ]
        },
        {
          "data": {
            "text/html": [
              "\n",
              "    <div>\n",
              "      \n",
              "      <progress value='500' max='500' style='width:300px; height:20px; vertical-align: middle;'></progress>\n",
              "      [500/500 06:02, Epoch 1/1]\n",
              "    </div>\n",
              "    <table border=\"1\" class=\"dataframe\">\n",
              "  <thead>\n",
              " <tr style=\"text-align: left;\">\n",
              "      <th>Epoch</th>\n",
              "      <th>Training Loss</th>\n",
              "      <th>Validation Loss</th>\n",
              "    </tr>\n",
              "  </thead>\n",
              "  <tbody>\n",
              "    <tr>\n",
              "      <td>1</td>\n",
              "      <td>2.073900</td>\n",
              "      <td>2.007113</td>\n",
              "    </tr>\n",
              "  </tbody>\n",
              "</table><p>"
            ],
            "text/plain": [
              "<IPython.core.display.HTML object>"
            ]
          },
          "metadata": {},
          "output_type": "display_data"
        },
        {
          "data": {
            "text/html": [
              "\n",
              "    <div>\n",
              "      \n",
              "      <progress value='125' max='125' style='width:300px; height:20px; vertical-align: middle;'></progress>\n",
              "      [125/125 00:23]\n",
              "    </div>\n",
              "    "
            ],
            "text/plain": [
              "<IPython.core.display.HTML object>"
            ]
          },
          "metadata": {},
          "output_type": "display_data"
        },
        {
          "name": "stdout",
          "output_type": "stream",
          "text": [
            "Evaluation results: {'eval_loss': 2.007113456726074, 'eval_runtime': 23.9851, 'eval_samples_per_second': 41.693, 'eval_steps_per_second': 5.212, 'epoch': 1.0}\n",
            "Testing LoRA configuration: r=16, alpha=32, dropout=0.2\n"
          ]
        },
        {
          "name": "stderr",
          "output_type": "stream",
          "text": [
            "/usr/local/lib/python3.10/dist-packages/transformers/training_args.py:1568: FutureWarning: `evaluation_strategy` is deprecated and will be removed in version 4.46 of 🤗 Transformers. Use `eval_strategy` instead\n",
            "  warnings.warn(\n",
            "<ipython-input-64-377d6b3748e3>:41: FutureWarning: `tokenizer` is deprecated and will be removed in version 5.0.0 for `Trainer.__init__`. Use `processing_class` instead.\n",
            "  trainer = Trainer(\n"
          ]
        },
        {
          "data": {
            "text/html": [
              "\n",
              "    <div>\n",
              "      \n",
              "      <progress value='500' max='500' style='width:300px; height:20px; vertical-align: middle;'></progress>\n",
              "      [500/500 06:02, Epoch 1/1]\n",
              "    </div>\n",
              "    <table border=\"1\" class=\"dataframe\">\n",
              "  <thead>\n",
              " <tr style=\"text-align: left;\">\n",
              "      <th>Epoch</th>\n",
              "      <th>Training Loss</th>\n",
              "      <th>Validation Loss</th>\n",
              "    </tr>\n",
              "  </thead>\n",
              "  <tbody>\n",
              "    <tr>\n",
              "      <td>1</td>\n",
              "      <td>2.075300</td>\n",
              "      <td>2.008230</td>\n",
              "    </tr>\n",
              "  </tbody>\n",
              "</table><p>"
            ],
            "text/plain": [
              "<IPython.core.display.HTML object>"
            ]
          },
          "metadata": {},
          "output_type": "display_data"
        },
        {
          "data": {
            "text/html": [
              "\n",
              "    <div>\n",
              "      \n",
              "      <progress value='125' max='125' style='width:300px; height:20px; vertical-align: middle;'></progress>\n",
              "      [125/125 00:23]\n",
              "    </div>\n",
              "    "
            ],
            "text/plain": [
              "<IPython.core.display.HTML object>"
            ]
          },
          "metadata": {},
          "output_type": "display_data"
        },
        {
          "name": "stdout",
          "output_type": "stream",
          "text": [
            "Evaluation results: {'eval_loss': 2.0082297325134277, 'eval_runtime': 24.0578, 'eval_samples_per_second': 41.567, 'eval_steps_per_second': 5.196, 'epoch': 1.0}\n",
            "Testing LoRA configuration: r=16, alpha=64, dropout=0.0\n"
          ]
        },
        {
          "name": "stderr",
          "output_type": "stream",
          "text": [
            "/usr/local/lib/python3.10/dist-packages/transformers/training_args.py:1568: FutureWarning: `evaluation_strategy` is deprecated and will be removed in version 4.46 of 🤗 Transformers. Use `eval_strategy` instead\n",
            "  warnings.warn(\n",
            "<ipython-input-64-377d6b3748e3>:41: FutureWarning: `tokenizer` is deprecated and will be removed in version 5.0.0 for `Trainer.__init__`. Use `processing_class` instead.\n",
            "  trainer = Trainer(\n"
          ]
        },
        {
          "data": {
            "text/html": [
              "\n",
              "    <div>\n",
              "      \n",
              "      <progress value='500' max='500' style='width:300px; height:20px; vertical-align: middle;'></progress>\n",
              "      [500/500 06:00, Epoch 1/1]\n",
              "    </div>\n",
              "    <table border=\"1\" class=\"dataframe\">\n",
              "  <thead>\n",
              " <tr style=\"text-align: left;\">\n",
              "      <th>Epoch</th>\n",
              "      <th>Training Loss</th>\n",
              "      <th>Validation Loss</th>\n",
              "    </tr>\n",
              "  </thead>\n",
              "  <tbody>\n",
              "    <tr>\n",
              "      <td>1</td>\n",
              "      <td>2.039500</td>\n",
              "      <td>1.973194</td>\n",
              "    </tr>\n",
              "  </tbody>\n",
              "</table><p>"
            ],
            "text/plain": [
              "<IPython.core.display.HTML object>"
            ]
          },
          "metadata": {},
          "output_type": "display_data"
        },
        {
          "data": {
            "text/html": [
              "\n",
              "    <div>\n",
              "      \n",
              "      <progress value='125' max='125' style='width:300px; height:20px; vertical-align: middle;'></progress>\n",
              "      [125/125 00:23]\n",
              "    </div>\n",
              "    "
            ],
            "text/plain": [
              "<IPython.core.display.HTML object>"
            ]
          },
          "metadata": {},
          "output_type": "display_data"
        },
        {
          "name": "stdout",
          "output_type": "stream",
          "text": [
            "Evaluation results: {'eval_loss': 1.9731940031051636, 'eval_runtime': 24.043, 'eval_samples_per_second': 41.592, 'eval_steps_per_second': 5.199, 'epoch': 1.0}\n",
            "Testing LoRA configuration: r=16, alpha=64, dropout=0.1\n"
          ]
        },
        {
          "name": "stderr",
          "output_type": "stream",
          "text": [
            "/usr/local/lib/python3.10/dist-packages/transformers/training_args.py:1568: FutureWarning: `evaluation_strategy` is deprecated and will be removed in version 4.46 of 🤗 Transformers. Use `eval_strategy` instead\n",
            "  warnings.warn(\n",
            "<ipython-input-64-377d6b3748e3>:41: FutureWarning: `tokenizer` is deprecated and will be removed in version 5.0.0 for `Trainer.__init__`. Use `processing_class` instead.\n",
            "  trainer = Trainer(\n"
          ]
        },
        {
          "data": {
            "text/html": [
              "\n",
              "    <div>\n",
              "      \n",
              "      <progress value='500' max='500' style='width:300px; height:20px; vertical-align: middle;'></progress>\n",
              "      [500/500 06:02, Epoch 1/1]\n",
              "    </div>\n",
              "    <table border=\"1\" class=\"dataframe\">\n",
              "  <thead>\n",
              " <tr style=\"text-align: left;\">\n",
              "      <th>Epoch</th>\n",
              "      <th>Training Loss</th>\n",
              "      <th>Validation Loss</th>\n",
              "    </tr>\n",
              "  </thead>\n",
              "  <tbody>\n",
              "    <tr>\n",
              "      <td>1</td>\n",
              "      <td>2.036900</td>\n",
              "      <td>1.973644</td>\n",
              "    </tr>\n",
              "  </tbody>\n",
              "</table><p>"
            ],
            "text/plain": [
              "<IPython.core.display.HTML object>"
            ]
          },
          "metadata": {},
          "output_type": "display_data"
        },
        {
          "data": {
            "text/html": [
              "\n",
              "    <div>\n",
              "      \n",
              "      <progress value='125' max='125' style='width:300px; height:20px; vertical-align: middle;'></progress>\n",
              "      [125/125 00:23]\n",
              "    </div>\n",
              "    "
            ],
            "text/plain": [
              "<IPython.core.display.HTML object>"
            ]
          },
          "metadata": {},
          "output_type": "display_data"
        },
        {
          "name": "stdout",
          "output_type": "stream",
          "text": [
            "Evaluation results: {'eval_loss': 1.9736441373825073, 'eval_runtime': 24.127, 'eval_samples_per_second': 41.447, 'eval_steps_per_second': 5.181, 'epoch': 1.0}\n",
            "Testing LoRA configuration: r=16, alpha=64, dropout=0.2\n"
          ]
        },
        {
          "name": "stderr",
          "output_type": "stream",
          "text": [
            "/usr/local/lib/python3.10/dist-packages/transformers/training_args.py:1568: FutureWarning: `evaluation_strategy` is deprecated and will be removed in version 4.46 of 🤗 Transformers. Use `eval_strategy` instead\n",
            "  warnings.warn(\n",
            "<ipython-input-64-377d6b3748e3>:41: FutureWarning: `tokenizer` is deprecated and will be removed in version 5.0.0 for `Trainer.__init__`. Use `processing_class` instead.\n",
            "  trainer = Trainer(\n"
          ]
        },
        {
          "data": {
            "text/html": [
              "\n",
              "    <div>\n",
              "      \n",
              "      <progress value='500' max='500' style='width:300px; height:20px; vertical-align: middle;'></progress>\n",
              "      [500/500 06:02, Epoch 1/1]\n",
              "    </div>\n",
              "    <table border=\"1\" class=\"dataframe\">\n",
              "  <thead>\n",
              " <tr style=\"text-align: left;\">\n",
              "      <th>Epoch</th>\n",
              "      <th>Training Loss</th>\n",
              "      <th>Validation Loss</th>\n",
              "    </tr>\n",
              "  </thead>\n",
              "  <tbody>\n",
              "    <tr>\n",
              "      <td>1</td>\n",
              "      <td>2.037400</td>\n",
              "      <td>1.973854</td>\n",
              "    </tr>\n",
              "  </tbody>\n",
              "</table><p>"
            ],
            "text/plain": [
              "<IPython.core.display.HTML object>"
            ]
          },
          "metadata": {},
          "output_type": "display_data"
        },
        {
          "data": {
            "text/html": [
              "\n",
              "    <div>\n",
              "      \n",
              "      <progress value='125' max='125' style='width:300px; height:20px; vertical-align: middle;'></progress>\n",
              "      [125/125 00:23]\n",
              "    </div>\n",
              "    "
            ],
            "text/plain": [
              "<IPython.core.display.HTML object>"
            ]
          },
          "metadata": {},
          "output_type": "display_data"
        },
        {
          "name": "stdout",
          "output_type": "stream",
          "text": [
            "Evaluation results: {'eval_loss': 1.9738541841506958, 'eval_runtime': 24.1835, 'eval_samples_per_second': 41.35, 'eval_steps_per_second': 5.169, 'epoch': 1.0}\n",
            "Testing LoRA configuration: r=32, alpha=16, dropout=0.0\n"
          ]
        },
        {
          "name": "stderr",
          "output_type": "stream",
          "text": [
            "/usr/local/lib/python3.10/dist-packages/transformers/training_args.py:1568: FutureWarning: `evaluation_strategy` is deprecated and will be removed in version 4.46 of 🤗 Transformers. Use `eval_strategy` instead\n",
            "  warnings.warn(\n",
            "<ipython-input-64-377d6b3748e3>:41: FutureWarning: `tokenizer` is deprecated and will be removed in version 5.0.0 for `Trainer.__init__`. Use `processing_class` instead.\n",
            "  trainer = Trainer(\n"
          ]
        },
        {
          "data": {
            "text/html": [
              "\n",
              "    <div>\n",
              "      \n",
              "      <progress value='500' max='500' style='width:300px; height:20px; vertical-align: middle;'></progress>\n",
              "      [500/500 06:01, Epoch 1/1]\n",
              "    </div>\n",
              "    <table border=\"1\" class=\"dataframe\">\n",
              "  <thead>\n",
              " <tr style=\"text-align: left;\">\n",
              "      <th>Epoch</th>\n",
              "      <th>Training Loss</th>\n",
              "      <th>Validation Loss</th>\n",
              "    </tr>\n",
              "  </thead>\n",
              "  <tbody>\n",
              "    <tr>\n",
              "      <td>1</td>\n",
              "      <td>2.260900</td>\n",
              "      <td>2.176215</td>\n",
              "    </tr>\n",
              "  </tbody>\n",
              "</table><p>"
            ],
            "text/plain": [
              "<IPython.core.display.HTML object>"
            ]
          },
          "metadata": {},
          "output_type": "display_data"
        },
        {
          "data": {
            "text/html": [
              "\n",
              "    <div>\n",
              "      \n",
              "      <progress value='125' max='125' style='width:300px; height:20px; vertical-align: middle;'></progress>\n",
              "      [125/125 00:23]\n",
              "    </div>\n",
              "    "
            ],
            "text/plain": [
              "<IPython.core.display.HTML object>"
            ]
          },
          "metadata": {},
          "output_type": "display_data"
        },
        {
          "name": "stdout",
          "output_type": "stream",
          "text": [
            "Evaluation results: {'eval_loss': 2.176215410232544, 'eval_runtime': 24.1779, 'eval_samples_per_second': 41.36, 'eval_steps_per_second': 5.17, 'epoch': 1.0}\n",
            "Testing LoRA configuration: r=32, alpha=16, dropout=0.1\n"
          ]
        },
        {
          "name": "stderr",
          "output_type": "stream",
          "text": [
            "/usr/local/lib/python3.10/dist-packages/transformers/training_args.py:1568: FutureWarning: `evaluation_strategy` is deprecated and will be removed in version 4.46 of 🤗 Transformers. Use `eval_strategy` instead\n",
            "  warnings.warn(\n",
            "<ipython-input-64-377d6b3748e3>:41: FutureWarning: `tokenizer` is deprecated and will be removed in version 5.0.0 for `Trainer.__init__`. Use `processing_class` instead.\n",
            "  trainer = Trainer(\n"
          ]
        },
        {
          "data": {
            "text/html": [
              "\n",
              "    <div>\n",
              "      \n",
              "      <progress value='500' max='500' style='width:300px; height:20px; vertical-align: middle;'></progress>\n",
              "      [500/500 06:04, Epoch 1/1]\n",
              "    </div>\n",
              "    <table border=\"1\" class=\"dataframe\">\n",
              "  <thead>\n",
              " <tr style=\"text-align: left;\">\n",
              "      <th>Epoch</th>\n",
              "      <th>Training Loss</th>\n",
              "      <th>Validation Loss</th>\n",
              "    </tr>\n",
              "  </thead>\n",
              "  <tbody>\n",
              "    <tr>\n",
              "      <td>1</td>\n",
              "      <td>2.266600</td>\n",
              "      <td>2.187254</td>\n",
              "    </tr>\n",
              "  </tbody>\n",
              "</table><p>"
            ],
            "text/plain": [
              "<IPython.core.display.HTML object>"
            ]
          },
          "metadata": {},
          "output_type": "display_data"
        },
        {
          "data": {
            "text/html": [
              "\n",
              "    <div>\n",
              "      \n",
              "      <progress value='125' max='125' style='width:300px; height:20px; vertical-align: middle;'></progress>\n",
              "      [125/125 00:23]\n",
              "    </div>\n",
              "    "
            ],
            "text/plain": [
              "<IPython.core.display.HTML object>"
            ]
          },
          "metadata": {},
          "output_type": "display_data"
        },
        {
          "name": "stdout",
          "output_type": "stream",
          "text": [
            "Evaluation results: {'eval_loss': 2.187253713607788, 'eval_runtime': 24.1739, 'eval_samples_per_second': 41.367, 'eval_steps_per_second': 5.171, 'epoch': 1.0}\n",
            "Testing LoRA configuration: r=32, alpha=16, dropout=0.2\n"
          ]
        },
        {
          "name": "stderr",
          "output_type": "stream",
          "text": [
            "/usr/local/lib/python3.10/dist-packages/transformers/training_args.py:1568: FutureWarning: `evaluation_strategy` is deprecated and will be removed in version 4.46 of 🤗 Transformers. Use `eval_strategy` instead\n",
            "  warnings.warn(\n",
            "<ipython-input-64-377d6b3748e3>:41: FutureWarning: `tokenizer` is deprecated and will be removed in version 5.0.0 for `Trainer.__init__`. Use `processing_class` instead.\n",
            "  trainer = Trainer(\n"
          ]
        },
        {
          "data": {
            "text/html": [
              "\n",
              "    <div>\n",
              "      \n",
              "      <progress value='500' max='500' style='width:300px; height:20px; vertical-align: middle;'></progress>\n",
              "      [500/500 06:03, Epoch 1/1]\n",
              "    </div>\n",
              "    <table border=\"1\" class=\"dataframe\">\n",
              "  <thead>\n",
              " <tr style=\"text-align: left;\">\n",
              "      <th>Epoch</th>\n",
              "      <th>Training Loss</th>\n",
              "      <th>Validation Loss</th>\n",
              "    </tr>\n",
              "  </thead>\n",
              "  <tbody>\n",
              "    <tr>\n",
              "      <td>1</td>\n",
              "      <td>2.276200</td>\n",
              "      <td>2.197995</td>\n",
              "    </tr>\n",
              "  </tbody>\n",
              "</table><p>"
            ],
            "text/plain": [
              "<IPython.core.display.HTML object>"
            ]
          },
          "metadata": {},
          "output_type": "display_data"
        },
        {
          "data": {
            "text/html": [
              "\n",
              "    <div>\n",
              "      \n",
              "      <progress value='125' max='125' style='width:300px; height:20px; vertical-align: middle;'></progress>\n",
              "      [125/125 00:24]\n",
              "    </div>\n",
              "    "
            ],
            "text/plain": [
              "<IPython.core.display.HTML object>"
            ]
          },
          "metadata": {},
          "output_type": "display_data"
        },
        {
          "name": "stdout",
          "output_type": "stream",
          "text": [
            "Evaluation results: {'eval_loss': 2.197995185852051, 'eval_runtime': 24.2015, 'eval_samples_per_second': 41.32, 'eval_steps_per_second': 5.165, 'epoch': 1.0}\n",
            "Testing LoRA configuration: r=32, alpha=32, dropout=0.0\n"
          ]
        },
        {
          "name": "stderr",
          "output_type": "stream",
          "text": [
            "/usr/local/lib/python3.10/dist-packages/transformers/training_args.py:1568: FutureWarning: `evaluation_strategy` is deprecated and will be removed in version 4.46 of 🤗 Transformers. Use `eval_strategy` instead\n",
            "  warnings.warn(\n",
            "<ipython-input-64-377d6b3748e3>:41: FutureWarning: `tokenizer` is deprecated and will be removed in version 5.0.0 for `Trainer.__init__`. Use `processing_class` instead.\n",
            "  trainer = Trainer(\n"
          ]
        },
        {
          "data": {
            "text/html": [
              "\n",
              "    <div>\n",
              "      \n",
              "      <progress value='500' max='500' style='width:300px; height:20px; vertical-align: middle;'></progress>\n",
              "      [500/500 06:01, Epoch 1/1]\n",
              "    </div>\n",
              "    <table border=\"1\" class=\"dataframe\">\n",
              "  <thead>\n",
              " <tr style=\"text-align: left;\">\n",
              "      <th>Epoch</th>\n",
              "      <th>Training Loss</th>\n",
              "      <th>Validation Loss</th>\n",
              "    </tr>\n",
              "  </thead>\n",
              "  <tbody>\n",
              "    <tr>\n",
              "      <td>1</td>\n",
              "      <td>2.075400</td>\n",
              "      <td>2.005779</td>\n",
              "    </tr>\n",
              "  </tbody>\n",
              "</table><p>"
            ],
            "text/plain": [
              "<IPython.core.display.HTML object>"
            ]
          },
          "metadata": {},
          "output_type": "display_data"
        },
        {
          "data": {
            "text/html": [
              "\n",
              "    <div>\n",
              "      \n",
              "      <progress value='125' max='125' style='width:300px; height:20px; vertical-align: middle;'></progress>\n",
              "      [125/125 00:23]\n",
              "    </div>\n",
              "    "
            ],
            "text/plain": [
              "<IPython.core.display.HTML object>"
            ]
          },
          "metadata": {},
          "output_type": "display_data"
        },
        {
          "name": "stdout",
          "output_type": "stream",
          "text": [
            "Evaluation results: {'eval_loss': 2.0057790279388428, 'eval_runtime': 24.1308, 'eval_samples_per_second': 41.441, 'eval_steps_per_second': 5.18, 'epoch': 1.0}\n",
            "Testing LoRA configuration: r=32, alpha=32, dropout=0.1\n"
          ]
        },
        {
          "name": "stderr",
          "output_type": "stream",
          "text": [
            "/usr/local/lib/python3.10/dist-packages/transformers/training_args.py:1568: FutureWarning: `evaluation_strategy` is deprecated and will be removed in version 4.46 of 🤗 Transformers. Use `eval_strategy` instead\n",
            "  warnings.warn(\n",
            "<ipython-input-64-377d6b3748e3>:41: FutureWarning: `tokenizer` is deprecated and will be removed in version 5.0.0 for `Trainer.__init__`. Use `processing_class` instead.\n",
            "  trainer = Trainer(\n"
          ]
        },
        {
          "data": {
            "text/html": [
              "\n",
              "    <div>\n",
              "      \n",
              "      <progress value='500' max='500' style='width:300px; height:20px; vertical-align: middle;'></progress>\n",
              "      [500/500 06:04, Epoch 1/1]\n",
              "    </div>\n",
              "    <table border=\"1\" class=\"dataframe\">\n",
              "  <thead>\n",
              " <tr style=\"text-align: left;\">\n",
              "      <th>Epoch</th>\n",
              "      <th>Training Loss</th>\n",
              "      <th>Validation Loss</th>\n",
              "    </tr>\n",
              "  </thead>\n",
              "  <tbody>\n",
              "    <tr>\n",
              "      <td>1</td>\n",
              "      <td>2.073200</td>\n",
              "      <td>2.006605</td>\n",
              "    </tr>\n",
              "  </tbody>\n",
              "</table><p>"
            ],
            "text/plain": [
              "<IPython.core.display.HTML object>"
            ]
          },
          "metadata": {},
          "output_type": "display_data"
        },
        {
          "data": {
            "text/html": [
              "\n",
              "    <div>\n",
              "      \n",
              "      <progress value='125' max='125' style='width:300px; height:20px; vertical-align: middle;'></progress>\n",
              "      [125/125 00:24]\n",
              "    </div>\n",
              "    "
            ],
            "text/plain": [
              "<IPython.core.display.HTML object>"
            ]
          },
          "metadata": {},
          "output_type": "display_data"
        },
        {
          "name": "stdout",
          "output_type": "stream",
          "text": [
            "Evaluation results: {'eval_loss': 2.0066046714782715, 'eval_runtime': 24.2807, 'eval_samples_per_second': 41.185, 'eval_steps_per_second': 5.148, 'epoch': 1.0}\n",
            "Testing LoRA configuration: r=32, alpha=32, dropout=0.2\n"
          ]
        },
        {
          "name": "stderr",
          "output_type": "stream",
          "text": [
            "/usr/local/lib/python3.10/dist-packages/transformers/training_args.py:1568: FutureWarning: `evaluation_strategy` is deprecated and will be removed in version 4.46 of 🤗 Transformers. Use `eval_strategy` instead\n",
            "  warnings.warn(\n",
            "<ipython-input-64-377d6b3748e3>:41: FutureWarning: `tokenizer` is deprecated and will be removed in version 5.0.0 for `Trainer.__init__`. Use `processing_class` instead.\n",
            "  trainer = Trainer(\n"
          ]
        },
        {
          "data": {
            "text/html": [
              "\n",
              "    <div>\n",
              "      \n",
              "      <progress value='500' max='500' style='width:300px; height:20px; vertical-align: middle;'></progress>\n",
              "      [500/500 06:03, Epoch 1/1]\n",
              "    </div>\n",
              "    <table border=\"1\" class=\"dataframe\">\n",
              "  <thead>\n",
              " <tr style=\"text-align: left;\">\n",
              "      <th>Epoch</th>\n",
              "      <th>Training Loss</th>\n",
              "      <th>Validation Loss</th>\n",
              "    </tr>\n",
              "  </thead>\n",
              "  <tbody>\n",
              "    <tr>\n",
              "      <td>1</td>\n",
              "      <td>2.074700</td>\n",
              "      <td>2.007794</td>\n",
              "    </tr>\n",
              "  </tbody>\n",
              "</table><p>"
            ],
            "text/plain": [
              "<IPython.core.display.HTML object>"
            ]
          },
          "metadata": {},
          "output_type": "display_data"
        },
        {
          "data": {
            "text/html": [
              "\n",
              "    <div>\n",
              "      \n",
              "      <progress value='125' max='125' style='width:300px; height:20px; vertical-align: middle;'></progress>\n",
              "      [125/125 00:23]\n",
              "    </div>\n",
              "    "
            ],
            "text/plain": [
              "<IPython.core.display.HTML object>"
            ]
          },
          "metadata": {},
          "output_type": "display_data"
        },
        {
          "name": "stdout",
          "output_type": "stream",
          "text": [
            "Evaluation results: {'eval_loss': 2.0077943801879883, 'eval_runtime': 24.105, 'eval_samples_per_second': 41.485, 'eval_steps_per_second': 5.186, 'epoch': 1.0}\n",
            "Testing LoRA configuration: r=32, alpha=64, dropout=0.0\n"
          ]
        },
        {
          "name": "stderr",
          "output_type": "stream",
          "text": [
            "/usr/local/lib/python3.10/dist-packages/transformers/training_args.py:1568: FutureWarning: `evaluation_strategy` is deprecated and will be removed in version 4.46 of 🤗 Transformers. Use `eval_strategy` instead\n",
            "  warnings.warn(\n",
            "<ipython-input-64-377d6b3748e3>:41: FutureWarning: `tokenizer` is deprecated and will be removed in version 5.0.0 for `Trainer.__init__`. Use `processing_class` instead.\n",
            "  trainer = Trainer(\n"
          ]
        },
        {
          "data": {
            "text/html": [
              "\n",
              "    <div>\n",
              "      \n",
              "      <progress value='500' max='500' style='width:300px; height:20px; vertical-align: middle;'></progress>\n",
              "      [500/500 06:01, Epoch 1/1]\n",
              "    </div>\n",
              "    <table border=\"1\" class=\"dataframe\">\n",
              "  <thead>\n",
              " <tr style=\"text-align: left;\">\n",
              "      <th>Epoch</th>\n",
              "      <th>Training Loss</th>\n",
              "      <th>Validation Loss</th>\n",
              "    </tr>\n",
              "  </thead>\n",
              "  <tbody>\n",
              "    <tr>\n",
              "      <td>1</td>\n",
              "      <td>2.041200</td>\n",
              "      <td>1.974903</td>\n",
              "    </tr>\n",
              "  </tbody>\n",
              "</table><p>"
            ],
            "text/plain": [
              "<IPython.core.display.HTML object>"
            ]
          },
          "metadata": {},
          "output_type": "display_data"
        },
        {
          "data": {
            "text/html": [
              "\n",
              "    <div>\n",
              "      \n",
              "      <progress value='125' max='125' style='width:300px; height:20px; vertical-align: middle;'></progress>\n",
              "      [125/125 00:23]\n",
              "    </div>\n",
              "    "
            ],
            "text/plain": [
              "<IPython.core.display.HTML object>"
            ]
          },
          "metadata": {},
          "output_type": "display_data"
        },
        {
          "name": "stdout",
          "output_type": "stream",
          "text": [
            "Evaluation results: {'eval_loss': 1.974902868270874, 'eval_runtime': 24.1341, 'eval_samples_per_second': 41.435, 'eval_steps_per_second': 5.179, 'epoch': 1.0}\n",
            "Testing LoRA configuration: r=32, alpha=64, dropout=0.1\n"
          ]
        },
        {
          "name": "stderr",
          "output_type": "stream",
          "text": [
            "/usr/local/lib/python3.10/dist-packages/transformers/training_args.py:1568: FutureWarning: `evaluation_strategy` is deprecated and will be removed in version 4.46 of 🤗 Transformers. Use `eval_strategy` instead\n",
            "  warnings.warn(\n",
            "<ipython-input-64-377d6b3748e3>:41: FutureWarning: `tokenizer` is deprecated and will be removed in version 5.0.0 for `Trainer.__init__`. Use `processing_class` instead.\n",
            "  trainer = Trainer(\n"
          ]
        },
        {
          "data": {
            "text/html": [
              "\n",
              "    <div>\n",
              "      \n",
              "      <progress value='500' max='500' style='width:300px; height:20px; vertical-align: middle;'></progress>\n",
              "      [500/500 06:03, Epoch 1/1]\n",
              "    </div>\n",
              "    <table border=\"1\" class=\"dataframe\">\n",
              "  <thead>\n",
              " <tr style=\"text-align: left;\">\n",
              "      <th>Epoch</th>\n",
              "      <th>Training Loss</th>\n",
              "      <th>Validation Loss</th>\n",
              "    </tr>\n",
              "  </thead>\n",
              "  <tbody>\n",
              "    <tr>\n",
              "      <td>1</td>\n",
              "      <td>2.038600</td>\n",
              "      <td>1.975254</td>\n",
              "    </tr>\n",
              "  </tbody>\n",
              "</table><p>"
            ],
            "text/plain": [
              "<IPython.core.display.HTML object>"
            ]
          },
          "metadata": {},
          "output_type": "display_data"
        },
        {
          "data": {
            "text/html": [
              "\n",
              "    <div>\n",
              "      \n",
              "      <progress value='125' max='125' style='width:300px; height:20px; vertical-align: middle;'></progress>\n",
              "      [125/125 00:24]\n",
              "    </div>\n",
              "    "
            ],
            "text/plain": [
              "<IPython.core.display.HTML object>"
            ]
          },
          "metadata": {},
          "output_type": "display_data"
        },
        {
          "name": "stdout",
          "output_type": "stream",
          "text": [
            "Evaluation results: {'eval_loss': 1.9752542972564697, 'eval_runtime': 24.2397, 'eval_samples_per_second': 41.255, 'eval_steps_per_second': 5.157, 'epoch': 1.0}\n",
            "Testing LoRA configuration: r=32, alpha=64, dropout=0.2\n"
          ]
        },
        {
          "name": "stderr",
          "output_type": "stream",
          "text": [
            "/usr/local/lib/python3.10/dist-packages/transformers/training_args.py:1568: FutureWarning: `evaluation_strategy` is deprecated and will be removed in version 4.46 of 🤗 Transformers. Use `eval_strategy` instead\n",
            "  warnings.warn(\n",
            "<ipython-input-64-377d6b3748e3>:41: FutureWarning: `tokenizer` is deprecated and will be removed in version 5.0.0 for `Trainer.__init__`. Use `processing_class` instead.\n",
            "  trainer = Trainer(\n"
          ]
        },
        {
          "data": {
            "text/html": [
              "\n",
              "    <div>\n",
              "      \n",
              "      <progress value='500' max='500' style='width:300px; height:20px; vertical-align: middle;'></progress>\n",
              "      [500/500 06:04, Epoch 1/1]\n",
              "    </div>\n",
              "    <table border=\"1\" class=\"dataframe\">\n",
              "  <thead>\n",
              " <tr style=\"text-align: left;\">\n",
              "      <th>Epoch</th>\n",
              "      <th>Training Loss</th>\n",
              "      <th>Validation Loss</th>\n",
              "    </tr>\n",
              "  </thead>\n",
              "  <tbody>\n",
              "    <tr>\n",
              "      <td>1</td>\n",
              "      <td>2.039600</td>\n",
              "      <td>1.975913</td>\n",
              "    </tr>\n",
              "  </tbody>\n",
              "</table><p>"
            ],
            "text/plain": [
              "<IPython.core.display.HTML object>"
            ]
          },
          "metadata": {},
          "output_type": "display_data"
        },
        {
          "data": {
            "text/html": [
              "\n",
              "    <div>\n",
              "      \n",
              "      <progress value='125' max='125' style='width:300px; height:20px; vertical-align: middle;'></progress>\n",
              "      [125/125 00:24]\n",
              "    </div>\n",
              "    "
            ],
            "text/plain": [
              "<IPython.core.display.HTML object>"
            ]
          },
          "metadata": {},
          "output_type": "display_data"
        },
        {
          "name": "stdout",
          "output_type": "stream",
          "text": [
            "Evaluation results: {'eval_loss': 1.9759129285812378, 'eval_runtime': 24.3065, 'eval_samples_per_second': 41.141, 'eval_steps_per_second': 5.143, 'epoch': 1.0}\n"
          ]
        }
      ],
      "source": [
        "learning_rate = 2e-05\n",
        "batch_size = 16\n",
        "epochs = 1\n",
        "\n",
        "r_values = [8, 16, 32]  # Low-rank dimensions\n",
        "alpha_values = [16, 32, 64]  # Scaling factors\n",
        "dropout_values = [0.0, 0.1, 0.2]  # Dropout rates\n",
        "\n",
        "for r, alpha, dropout in product(r_values, alpha_values, dropout_values):\n",
        "    print(f\"Testing LoRA configuration: r={r}, alpha={alpha}, dropout={dropout}\")\n",
        "\n",
        "    lora_config = LoraConfig(\n",
        "        task_type=TaskType.SEQ_2_SEQ_LM,\n",
        "        inference_mode=False,\n",
        "        r=r,\n",
        "        lora_alpha=alpha,\n",
        "        lora_dropout=dropout,\n",
        "        target_modules=[\"q_proj\", \"v_proj\"],\n",
        "    )\n",
        "\n",
        "    # Apply LoRA\n",
        "    model_mbart_lora_tune = copy.deepcopy(model_mbart)\n",
        "    model_mbart_lora_tune = get_peft_model(model_mbart_lora_tune, lora_config)\n",
        "\n",
        "    # Define training arguments\n",
        "    training_args = TrainingArguments(\n",
        "        output_dir=f\"./results/lora_r_{r}_alpha_{alpha}_dropout_{dropout}\",\n",
        "        learning_rate=learning_rate,\n",
        "        per_device_train_batch_size=batch_size,\n",
        "        num_train_epochs=epochs,\n",
        "        evaluation_strategy=\"epoch\",\n",
        "        save_strategy=\"no\",\n",
        "        weight_decay=0.01,\n",
        "        remove_unused_columns=False,\n",
        "        logging_strategy=\"steps\",\n",
        "        logging_steps=100,\n",
        "        report_to=\"none\",\n",
        "    )\n",
        "\n",
        "    # Train and evaluate\n",
        "    trainer = Trainer(\n",
        "        model=model_mbart_lora_tune,\n",
        "        args=training_args,\n",
        "        train_dataset=tokenized_data_mbart_train,\n",
        "        eval_dataset=tokenized_data_mbart_dev,\n",
        "        tokenizer=tokenizer_mbart,\n",
        "    )\n",
        "\n",
        "    trainer.train()\n",
        "    eval_results = trainer.evaluate()\n",
        "    print(f\"Evaluation results: {eval_results}\")"
      ]
    },
    {
      "cell_type": "markdown",
      "metadata": {
        "id": "mJR8LtahC5m2"
      },
      "source": [
        "#### **3.2.3 Hyperparameter Tuning mBart with Layer Freezing**\n",
        "**Best Configuration: Encoder layers frozen = 8, Decoder layers frozen = 8, eval_loss =  1.9147837162017822**"
      ]
    },
    {
      "cell_type": "code",
      "execution_count": null,
      "metadata": {
        "colab": {
          "background_save": true
        },
        "id": "e-B_3uDnDq_n",
        "outputId": "1671bace-9909-49f5-c095-929159d19607"
      },
      "outputs": [
        {
          "name": "stdout",
          "output_type": "stream",
          "text": [
            "Testing Layer Freezing configuration: encoder_layers=8, decoder_layers=8\n"
          ]
        },
        {
          "name": "stderr",
          "output_type": "stream",
          "text": [
            "/usr/local/lib/python3.10/dist-packages/transformers/training_args.py:1568: FutureWarning: `evaluation_strategy` is deprecated and will be removed in version 4.46 of 🤗 Transformers. Use `eval_strategy` instead\n",
            "  warnings.warn(\n",
            "<ipython-input-65-f29569041e67>:51: FutureWarning: `tokenizer` is deprecated and will be removed in version 5.0.0 for `Trainer.__init__`. Use `processing_class` instead.\n",
            "  trainer = Trainer(\n"
          ]
        },
        {
          "data": {
            "text/html": [
              "\n",
              "    <div>\n",
              "      \n",
              "      <progress value='500' max='500' style='width:300px; height:20px; vertical-align: middle;'></progress>\n",
              "      [500/500 08:34, Epoch 1/1]\n",
              "    </div>\n",
              "    <table border=\"1\" class=\"dataframe\">\n",
              "  <thead>\n",
              " <tr style=\"text-align: left;\">\n",
              "      <th>Epoch</th>\n",
              "      <th>Training Loss</th>\n",
              "      <th>Validation Loss</th>\n",
              "    </tr>\n",
              "  </thead>\n",
              "  <tbody>\n",
              "    <tr>\n",
              "      <td>1</td>\n",
              "      <td>1.980300</td>\n",
              "      <td>1.914784</td>\n",
              "    </tr>\n",
              "  </tbody>\n",
              "</table><p>"
            ],
            "text/plain": [
              "<IPython.core.display.HTML object>"
            ]
          },
          "metadata": {},
          "output_type": "display_data"
        },
        {
          "data": {
            "text/html": [
              "\n",
              "    <div>\n",
              "      \n",
              "      <progress value='125' max='125' style='width:300px; height:20px; vertical-align: middle;'></progress>\n",
              "      [125/125 00:24]\n",
              "    </div>\n",
              "    "
            ],
            "text/plain": [
              "<IPython.core.display.HTML object>"
            ]
          },
          "metadata": {},
          "output_type": "display_data"
        },
        {
          "name": "stdout",
          "output_type": "stream",
          "text": [
            "Evaluation results for encoder=8, decoder=8: {'eval_loss': 1.9147837162017822, 'eval_runtime': 24.4993, 'eval_samples_per_second': 40.817, 'eval_steps_per_second': 5.102, 'epoch': 1.0}\n",
            "Testing Layer Freezing configuration: encoder_layers=8, decoder_layers=9\n"
          ]
        },
        {
          "name": "stderr",
          "output_type": "stream",
          "text": [
            "/usr/local/lib/python3.10/dist-packages/transformers/training_args.py:1568: FutureWarning: `evaluation_strategy` is deprecated and will be removed in version 4.46 of 🤗 Transformers. Use `eval_strategy` instead\n",
            "  warnings.warn(\n",
            "<ipython-input-65-f29569041e67>:51: FutureWarning: `tokenizer` is deprecated and will be removed in version 5.0.0 for `Trainer.__init__`. Use `processing_class` instead.\n",
            "  trainer = Trainer(\n"
          ]
        },
        {
          "data": {
            "text/html": [
              "\n",
              "    <div>\n",
              "      \n",
              "      <progress value='500' max='500' style='width:300px; height:20px; vertical-align: middle;'></progress>\n",
              "      [500/500 08:28, Epoch 1/1]\n",
              "    </div>\n",
              "    <table border=\"1\" class=\"dataframe\">\n",
              "  <thead>\n",
              " <tr style=\"text-align: left;\">\n",
              "      <th>Epoch</th>\n",
              "      <th>Training Loss</th>\n",
              "      <th>Validation Loss</th>\n",
              "    </tr>\n",
              "  </thead>\n",
              "  <tbody>\n",
              "    <tr>\n",
              "      <td>1</td>\n",
              "      <td>1.982700</td>\n",
              "      <td>1.917383</td>\n",
              "    </tr>\n",
              "  </tbody>\n",
              "</table><p>"
            ],
            "text/plain": [
              "<IPython.core.display.HTML object>"
            ]
          },
          "metadata": {},
          "output_type": "display_data"
        },
        {
          "data": {
            "text/html": [
              "\n",
              "    <div>\n",
              "      \n",
              "      <progress value='125' max='125' style='width:300px; height:20px; vertical-align: middle;'></progress>\n",
              "      [125/125 00:24]\n",
              "    </div>\n",
              "    "
            ],
            "text/plain": [
              "<IPython.core.display.HTML object>"
            ]
          },
          "metadata": {},
          "output_type": "display_data"
        },
        {
          "name": "stdout",
          "output_type": "stream",
          "text": [
            "Evaluation results for encoder=8, decoder=9: {'eval_loss': 1.917382836341858, 'eval_runtime': 24.5331, 'eval_samples_per_second': 40.761, 'eval_steps_per_second': 5.095, 'epoch': 1.0}\n",
            "Testing Layer Freezing configuration: encoder_layers=8, decoder_layers=10\n"
          ]
        },
        {
          "name": "stderr",
          "output_type": "stream",
          "text": [
            "/usr/local/lib/python3.10/dist-packages/transformers/training_args.py:1568: FutureWarning: `evaluation_strategy` is deprecated and will be removed in version 4.46 of 🤗 Transformers. Use `eval_strategy` instead\n",
            "  warnings.warn(\n",
            "<ipython-input-65-f29569041e67>:51: FutureWarning: `tokenizer` is deprecated and will be removed in version 5.0.0 for `Trainer.__init__`. Use `processing_class` instead.\n",
            "  trainer = Trainer(\n"
          ]
        },
        {
          "data": {
            "text/html": [
              "\n",
              "    <div>\n",
              "      \n",
              "      <progress value='500' max='500' style='width:300px; height:20px; vertical-align: middle;'></progress>\n",
              "      [500/500 08:19, Epoch 1/1]\n",
              "    </div>\n",
              "    <table border=\"1\" class=\"dataframe\">\n",
              "  <thead>\n",
              " <tr style=\"text-align: left;\">\n",
              "      <th>Epoch</th>\n",
              "      <th>Training Loss</th>\n",
              "      <th>Validation Loss</th>\n",
              "    </tr>\n",
              "  </thead>\n",
              "  <tbody>\n",
              "    <tr>\n",
              "      <td>1</td>\n",
              "      <td>1.985700</td>\n",
              "      <td>1.920089</td>\n",
              "    </tr>\n",
              "  </tbody>\n",
              "</table><p>"
            ],
            "text/plain": [
              "<IPython.core.display.HTML object>"
            ]
          },
          "metadata": {},
          "output_type": "display_data"
        },
        {
          "data": {
            "text/html": [
              "\n",
              "    <div>\n",
              "      \n",
              "      <progress value='125' max='125' style='width:300px; height:20px; vertical-align: middle;'></progress>\n",
              "      [125/125 00:24]\n",
              "    </div>\n",
              "    "
            ],
            "text/plain": [
              "<IPython.core.display.HTML object>"
            ]
          },
          "metadata": {},
          "output_type": "display_data"
        },
        {
          "name": "stdout",
          "output_type": "stream",
          "text": [
            "Evaluation results for encoder=8, decoder=10: {'eval_loss': 1.9200888872146606, 'eval_runtime': 24.4048, 'eval_samples_per_second': 40.976, 'eval_steps_per_second': 5.122, 'epoch': 1.0}\n",
            "Testing Layer Freezing configuration: encoder_layers=9, decoder_layers=8\n"
          ]
        },
        {
          "name": "stderr",
          "output_type": "stream",
          "text": [
            "/usr/local/lib/python3.10/dist-packages/transformers/training_args.py:1568: FutureWarning: `evaluation_strategy` is deprecated and will be removed in version 4.46 of 🤗 Transformers. Use `eval_strategy` instead\n",
            "  warnings.warn(\n",
            "<ipython-input-65-f29569041e67>:51: FutureWarning: `tokenizer` is deprecated and will be removed in version 5.0.0 for `Trainer.__init__`. Use `processing_class` instead.\n",
            "  trainer = Trainer(\n"
          ]
        },
        {
          "data": {
            "text/html": [
              "\n",
              "    <div>\n",
              "      \n",
              "      <progress value='500' max='500' style='width:300px; height:20px; vertical-align: middle;'></progress>\n",
              "      [500/500 08:29, Epoch 1/1]\n",
              "    </div>\n",
              "    <table border=\"1\" class=\"dataframe\">\n",
              "  <thead>\n",
              " <tr style=\"text-align: left;\">\n",
              "      <th>Epoch</th>\n",
              "      <th>Training Loss</th>\n",
              "      <th>Validation Loss</th>\n",
              "    </tr>\n",
              "  </thead>\n",
              "  <tbody>\n",
              "    <tr>\n",
              "      <td>1</td>\n",
              "      <td>1.983200</td>\n",
              "      <td>1.918116</td>\n",
              "    </tr>\n",
              "  </tbody>\n",
              "</table><p>"
            ],
            "text/plain": [
              "<IPython.core.display.HTML object>"
            ]
          },
          "metadata": {},
          "output_type": "display_data"
        },
        {
          "data": {
            "text/html": [
              "\n",
              "    <div>\n",
              "      \n",
              "      <progress value='125' max='125' style='width:300px; height:20px; vertical-align: middle;'></progress>\n",
              "      [125/125 00:24]\n",
              "    </div>\n",
              "    "
            ],
            "text/plain": [
              "<IPython.core.display.HTML object>"
            ]
          },
          "metadata": {},
          "output_type": "display_data"
        },
        {
          "name": "stdout",
          "output_type": "stream",
          "text": [
            "Evaluation results for encoder=9, decoder=8: {'eval_loss': 1.9181159734725952, 'eval_runtime': 24.4886, 'eval_samples_per_second': 40.835, 'eval_steps_per_second': 5.104, 'epoch': 1.0}\n",
            "Testing Layer Freezing configuration: encoder_layers=9, decoder_layers=9\n"
          ]
        },
        {
          "name": "stderr",
          "output_type": "stream",
          "text": [
            "/usr/local/lib/python3.10/dist-packages/transformers/training_args.py:1568: FutureWarning: `evaluation_strategy` is deprecated and will be removed in version 4.46 of 🤗 Transformers. Use `eval_strategy` instead\n",
            "  warnings.warn(\n",
            "<ipython-input-65-f29569041e67>:51: FutureWarning: `tokenizer` is deprecated and will be removed in version 5.0.0 for `Trainer.__init__`. Use `processing_class` instead.\n",
            "  trainer = Trainer(\n"
          ]
        },
        {
          "data": {
            "text/html": [
              "\n",
              "    <div>\n",
              "      \n",
              "      <progress value='500' max='500' style='width:300px; height:20px; vertical-align: middle;'></progress>\n",
              "      [500/500 08:22, Epoch 1/1]\n",
              "    </div>\n",
              "    <table border=\"1\" class=\"dataframe\">\n",
              "  <thead>\n",
              " <tr style=\"text-align: left;\">\n",
              "      <th>Epoch</th>\n",
              "      <th>Training Loss</th>\n",
              "      <th>Validation Loss</th>\n",
              "    </tr>\n",
              "  </thead>\n",
              "  <tbody>\n",
              "    <tr>\n",
              "      <td>1</td>\n",
              "      <td>1.985900</td>\n",
              "      <td>1.920977</td>\n",
              "    </tr>\n",
              "  </tbody>\n",
              "</table><p>"
            ],
            "text/plain": [
              "<IPython.core.display.HTML object>"
            ]
          },
          "metadata": {},
          "output_type": "display_data"
        },
        {
          "data": {
            "text/html": [
              "\n",
              "    <div>\n",
              "      \n",
              "      <progress value='125' max='125' style='width:300px; height:20px; vertical-align: middle;'></progress>\n",
              "      [125/125 00:24]\n",
              "    </div>\n",
              "    "
            ],
            "text/plain": [
              "<IPython.core.display.HTML object>"
            ]
          },
          "metadata": {},
          "output_type": "display_data"
        },
        {
          "name": "stdout",
          "output_type": "stream",
          "text": [
            "Evaluation results for encoder=9, decoder=9: {'eval_loss': 1.9209765195846558, 'eval_runtime': 24.4172, 'eval_samples_per_second': 40.955, 'eval_steps_per_second': 5.119, 'epoch': 1.0}\n",
            "Testing Layer Freezing configuration: encoder_layers=9, decoder_layers=10\n"
          ]
        },
        {
          "name": "stderr",
          "output_type": "stream",
          "text": [
            "/usr/local/lib/python3.10/dist-packages/transformers/training_args.py:1568: FutureWarning: `evaluation_strategy` is deprecated and will be removed in version 4.46 of 🤗 Transformers. Use `eval_strategy` instead\n",
            "  warnings.warn(\n",
            "<ipython-input-65-f29569041e67>:51: FutureWarning: `tokenizer` is deprecated and will be removed in version 5.0.0 for `Trainer.__init__`. Use `processing_class` instead.\n",
            "  trainer = Trainer(\n"
          ]
        },
        {
          "data": {
            "text/html": [
              "\n",
              "    <div>\n",
              "      \n",
              "      <progress value='500' max='500' style='width:300px; height:20px; vertical-align: middle;'></progress>\n",
              "      [500/500 08:14, Epoch 1/1]\n",
              "    </div>\n",
              "    <table border=\"1\" class=\"dataframe\">\n",
              "  <thead>\n",
              " <tr style=\"text-align: left;\">\n",
              "      <th>Epoch</th>\n",
              "      <th>Training Loss</th>\n",
              "      <th>Validation Loss</th>\n",
              "    </tr>\n",
              "  </thead>\n",
              "  <tbody>\n",
              "    <tr>\n",
              "      <td>1</td>\n",
              "      <td>1.989300</td>\n",
              "      <td>1.923922</td>\n",
              "    </tr>\n",
              "  </tbody>\n",
              "</table><p>"
            ],
            "text/plain": [
              "<IPython.core.display.HTML object>"
            ]
          },
          "metadata": {},
          "output_type": "display_data"
        },
        {
          "data": {
            "text/html": [
              "\n",
              "    <div>\n",
              "      \n",
              "      <progress value='125' max='125' style='width:300px; height:20px; vertical-align: middle;'></progress>\n",
              "      [125/125 00:24]\n",
              "    </div>\n",
              "    "
            ],
            "text/plain": [
              "<IPython.core.display.HTML object>"
            ]
          },
          "metadata": {},
          "output_type": "display_data"
        },
        {
          "name": "stdout",
          "output_type": "stream",
          "text": [
            "Evaluation results for encoder=9, decoder=10: {'eval_loss': 1.9239217042922974, 'eval_runtime': 24.4221, 'eval_samples_per_second': 40.947, 'eval_steps_per_second': 5.118, 'epoch': 1.0}\n",
            "Testing Layer Freezing configuration: encoder_layers=10, decoder_layers=8\n"
          ]
        },
        {
          "name": "stderr",
          "output_type": "stream",
          "text": [
            "/usr/local/lib/python3.10/dist-packages/transformers/training_args.py:1568: FutureWarning: `evaluation_strategy` is deprecated and will be removed in version 4.46 of 🤗 Transformers. Use `eval_strategy` instead\n",
            "  warnings.warn(\n",
            "<ipython-input-65-f29569041e67>:51: FutureWarning: `tokenizer` is deprecated and will be removed in version 5.0.0 for `Trainer.__init__`. Use `processing_class` instead.\n",
            "  trainer = Trainer(\n"
          ]
        },
        {
          "data": {
            "text/html": [
              "\n",
              "    <div>\n",
              "      \n",
              "      <progress value='500' max='500' style='width:300px; height:20px; vertical-align: middle;'></progress>\n",
              "      [500/500 08:23, Epoch 1/1]\n",
              "    </div>\n",
              "    <table border=\"1\" class=\"dataframe\">\n",
              "  <thead>\n",
              " <tr style=\"text-align: left;\">\n",
              "      <th>Epoch</th>\n",
              "      <th>Training Loss</th>\n",
              "      <th>Validation Loss</th>\n",
              "    </tr>\n",
              "  </thead>\n",
              "  <tbody>\n",
              "    <tr>\n",
              "      <td>1</td>\n",
              "      <td>1.987300</td>\n",
              "      <td>1.922695</td>\n",
              "    </tr>\n",
              "  </tbody>\n",
              "</table><p>"
            ],
            "text/plain": [
              "<IPython.core.display.HTML object>"
            ]
          },
          "metadata": {},
          "output_type": "display_data"
        },
        {
          "data": {
            "text/html": [
              "\n",
              "    <div>\n",
              "      \n",
              "      <progress value='125' max='125' style='width:300px; height:20px; vertical-align: middle;'></progress>\n",
              "      [125/125 00:24]\n",
              "    </div>\n",
              "    "
            ],
            "text/plain": [
              "<IPython.core.display.HTML object>"
            ]
          },
          "metadata": {},
          "output_type": "display_data"
        },
        {
          "name": "stdout",
          "output_type": "stream",
          "text": [
            "Evaluation results for encoder=10, decoder=8: {'eval_loss': 1.9226946830749512, 'eval_runtime': 24.4811, 'eval_samples_per_second': 40.848, 'eval_steps_per_second': 5.106, 'epoch': 1.0}\n",
            "Testing Layer Freezing configuration: encoder_layers=10, decoder_layers=9\n"
          ]
        },
        {
          "name": "stderr",
          "output_type": "stream",
          "text": [
            "/usr/local/lib/python3.10/dist-packages/transformers/training_args.py:1568: FutureWarning: `evaluation_strategy` is deprecated and will be removed in version 4.46 of 🤗 Transformers. Use `eval_strategy` instead\n",
            "  warnings.warn(\n",
            "<ipython-input-65-f29569041e67>:51: FutureWarning: `tokenizer` is deprecated and will be removed in version 5.0.0 for `Trainer.__init__`. Use `processing_class` instead.\n",
            "  trainer = Trainer(\n"
          ]
        },
        {
          "data": {
            "text/html": [
              "\n",
              "    <div>\n",
              "      \n",
              "      <progress value='500' max='500' style='width:300px; height:20px; vertical-align: middle;'></progress>\n",
              "      [500/500 08:16, Epoch 1/1]\n",
              "    </div>\n",
              "    <table border=\"1\" class=\"dataframe\">\n",
              "  <thead>\n",
              " <tr style=\"text-align: left;\">\n",
              "      <th>Epoch</th>\n",
              "      <th>Training Loss</th>\n",
              "      <th>Validation Loss</th>\n",
              "    </tr>\n",
              "  </thead>\n",
              "  <tbody>\n",
              "    <tr>\n",
              "      <td>1</td>\n",
              "      <td>1.990600</td>\n",
              "      <td>1.926136</td>\n",
              "    </tr>\n",
              "  </tbody>\n",
              "</table><p>"
            ],
            "text/plain": [
              "<IPython.core.display.HTML object>"
            ]
          },
          "metadata": {},
          "output_type": "display_data"
        },
        {
          "data": {
            "text/html": [
              "\n",
              "    <div>\n",
              "      \n",
              "      <progress value='125' max='125' style='width:300px; height:20px; vertical-align: middle;'></progress>\n",
              "      [125/125 00:24]\n",
              "    </div>\n",
              "    "
            ],
            "text/plain": [
              "<IPython.core.display.HTML object>"
            ]
          },
          "metadata": {},
          "output_type": "display_data"
        },
        {
          "name": "stdout",
          "output_type": "stream",
          "text": [
            "Evaluation results for encoder=10, decoder=9: {'eval_loss': 1.926135540008545, 'eval_runtime': 24.4352, 'eval_samples_per_second': 40.925, 'eval_steps_per_second': 5.116, 'epoch': 1.0}\n",
            "Testing Layer Freezing configuration: encoder_layers=10, decoder_layers=10\n"
          ]
        },
        {
          "name": "stderr",
          "output_type": "stream",
          "text": [
            "/usr/local/lib/python3.10/dist-packages/transformers/training_args.py:1568: FutureWarning: `evaluation_strategy` is deprecated and will be removed in version 4.46 of 🤗 Transformers. Use `eval_strategy` instead\n",
            "  warnings.warn(\n",
            "<ipython-input-65-f29569041e67>:51: FutureWarning: `tokenizer` is deprecated and will be removed in version 5.0.0 for `Trainer.__init__`. Use `processing_class` instead.\n",
            "  trainer = Trainer(\n"
          ]
        },
        {
          "data": {
            "text/html": [
              "\n",
              "    <div>\n",
              "      \n",
              "      <progress value='500' max='500' style='width:300px; height:20px; vertical-align: middle;'></progress>\n",
              "      [500/500 08:08, Epoch 1/1]\n",
              "    </div>\n",
              "    <table border=\"1\" class=\"dataframe\">\n",
              "  <thead>\n",
              " <tr style=\"text-align: left;\">\n",
              "      <th>Epoch</th>\n",
              "      <th>Training Loss</th>\n",
              "      <th>Validation Loss</th>\n",
              "    </tr>\n",
              "  </thead>\n",
              "  <tbody>\n",
              "    <tr>\n",
              "      <td>1</td>\n",
              "      <td>1.994200</td>\n",
              "      <td>1.929239</td>\n",
              "    </tr>\n",
              "  </tbody>\n",
              "</table><p>"
            ],
            "text/plain": [
              "<IPython.core.display.HTML object>"
            ]
          },
          "metadata": {},
          "output_type": "display_data"
        },
        {
          "data": {
            "text/html": [
              "\n",
              "    <div>\n",
              "      \n",
              "      <progress value='125' max='125' style='width:300px; height:20px; vertical-align: middle;'></progress>\n",
              "      [125/125 00:24]\n",
              "    </div>\n",
              "    "
            ],
            "text/plain": [
              "<IPython.core.display.HTML object>"
            ]
          },
          "metadata": {},
          "output_type": "display_data"
        },
        {
          "name": "stdout",
          "output_type": "stream",
          "text": [
            "Evaluation results for encoder=10, decoder=10: {'eval_loss': 1.9292387962341309, 'eval_runtime': 24.4241, 'eval_samples_per_second': 40.943, 'eval_steps_per_second': 5.118, 'epoch': 1.0}\n",
            "\n",
            "Best Configuration:\n",
            "Encoder layers frozen: 8\n",
            "Decoder layers frozen: 8\n",
            "Best Evaluation Results: {'eval_loss': 1.9147837162017822, 'eval_runtime': 24.4993, 'eval_samples_per_second': 40.817, 'eval_steps_per_second': 5.102, 'epoch': 1.0}\n"
          ]
        }
      ],
      "source": [
        "# Define hyperparameter search space\n",
        "freeze_encoder_layers_values = [8, 9, 10]  # Number of encoder layers to freeze\n",
        "freeze_decoder_layers_values = [8, 9, 10]  # Number of decoder layers to freeze\n",
        "\n",
        "learning_rate = 2e-05\n",
        "batch_size = 16\n",
        "epochs = 1\n",
        "\n",
        "# Variables to track the best configuration\n",
        "best_config = None\n",
        "best_eval_result = None\n",
        "best_metric = float(\"inf\")  # Assuming lower is better (e.g., validation loss)\n",
        "\n",
        "for freeze_encoder_layers, freeze_decoder_layers in product(freeze_encoder_layers_values, freeze_decoder_layers_values):\n",
        "    print(f\"Testing Layer Freezing configuration: encoder_layers={freeze_encoder_layers}, decoder_layers={freeze_decoder_layers}\")\n",
        "\n",
        "    # Create a new model copy for Layer Freezing\n",
        "    model_mbart_freeze_tune = copy.deepcopy(model_mbart)\n",
        "\n",
        "    # Apply Layer Freezing\n",
        "    for name, param in model_mbart_freeze_tune.named_parameters():\n",
        "        # Freeze encoder layers\n",
        "        if \"encoder.layers\" in name:\n",
        "            layer_num = int(name.split(\".\")[3])  # Extract layer index\n",
        "            if layer_num < freeze_encoder_layers:\n",
        "                param.requires_grad = False\n",
        "        # Freeze decoder layers\n",
        "        elif \"decoder.layers\" in name:\n",
        "            layer_num = int(name.split(\".\")[3])  # Extract layer index\n",
        "            if layer_num < freeze_decoder_layers:\n",
        "                param.requires_grad = False\n",
        "        else:\n",
        "            param.requires_grad = True  # Keep other parameters trainable\n",
        "\n",
        "    # Define training arguments\n",
        "    training_args = TrainingArguments(\n",
        "        output_dir=f\"./results/freeze_encoder_{freeze_encoder_layers}_decoder_{freeze_decoder_layers}\",\n",
        "        learning_rate=learning_rate,\n",
        "        per_device_train_batch_size=batch_size,\n",
        "        num_train_epochs=epochs,\n",
        "        evaluation_strategy=\"epoch\",\n",
        "        save_strategy=\"no\",\n",
        "        weight_decay=0.01,\n",
        "        remove_unused_columns=False,\n",
        "        logging_strategy=\"steps\",\n",
        "        logging_steps=100,\n",
        "        report_to=\"none\",\n",
        "    )\n",
        "\n",
        "    # Train and evaluate\n",
        "    trainer = Trainer(\n",
        "        model=model_mbart_freeze_tune,\n",
        "        args=training_args,\n",
        "        train_dataset=tokenized_data_mbart_train,\n",
        "        eval_dataset=tokenized_data_mbart_dev,\n",
        "        tokenizer=tokenizer_mbart,\n",
        "    )\n",
        "\n",
        "    trainer.train()\n",
        "    eval_results = trainer.evaluate()\n",
        "    print(f\"Evaluation results for encoder={freeze_encoder_layers}, decoder={freeze_decoder_layers}: {eval_results}\")\n",
        "\n",
        "    # Update best configuration if the current result is better\n",
        "    current_metric = eval_results[\"eval_loss\"]  # Replace with the appropriate key from eval_results\n",
        "    if current_metric < best_metric:\n",
        "        best_metric = current_metric\n",
        "        best_config = (freeze_encoder_layers, freeze_decoder_layers)\n",
        "        best_eval_result = eval_results\n",
        "\n",
        "# Print the best configuration and its results\n",
        "print(\"\\nBest Configuration:\")\n",
        "print(f\"Encoder layers frozen: {best_config[0]}\")\n",
        "print(f\"Decoder layers frozen: {best_config[1]}\")\n",
        "print(f\"Best Evaluation Results: {best_eval_result}\")"
      ]
    },
    {
      "cell_type": "markdown",
      "metadata": {
        "id": "rvEilsRXY4FV"
      },
      "source": [
        "### **3.3 M2M100**"
      ]
    },
    {
      "cell_type": "markdown",
      "metadata": {
        "id": "ikWMcrgpZT2b"
      },
      "source": [
        "#### **3.3.1 Hyperparameter Tuning M2M100 with Regular Fine-Tune Technique**\n",
        "**Best Configuration: learning_rate = 2e-05, batch_size = 16, epochs = 3, validation loss = 2.655961751937866**"
      ]
    },
    {
      "cell_type": "code",
      "execution_count": null,
      "metadata": {
        "colab": {
          "base_uri": "https://localhost:8080/",
          "height": 1000
        },
        "id": "nuiYU3HZY9cs",
        "outputId": "d7e133f9-743b-4acc-d24a-a656e9ea127a"
      },
      "outputs": [
        {
          "name": "stdout",
          "output_type": "stream",
          "text": [
            "Testing configuration: LR=2e-05, Batch Size=8, Epochs=1\n"
          ]
        },
        {
          "name": "stderr",
          "output_type": "stream",
          "text": [
            "/usr/local/lib/python3.10/dist-packages/transformers/training_args.py:1568: FutureWarning: `evaluation_strategy` is deprecated and will be removed in version 4.46 of 🤗 Transformers. Use `eval_strategy` instead\n",
            "  warnings.warn(\n",
            "<ipython-input-20-1c4afd065de1>:33: FutureWarning: `tokenizer` is deprecated and will be removed in version 5.0.0 for `Seq2SeqTrainer.__init__`. Use `processing_class` instead.\n",
            "  trainer = Seq2SeqTrainer(\n"
          ]
        },
        {
          "data": {
            "text/html": [
              "\n",
              "    <div>\n",
              "      \n",
              "      <progress value='1000' max='1000' style='width:300px; height:20px; vertical-align: middle;'></progress>\n",
              "      [1000/1000 02:14, Epoch 1/1]\n",
              "    </div>\n",
              "    <table border=\"1\" class=\"dataframe\">\n",
              "  <thead>\n",
              " <tr style=\"text-align: left;\">\n",
              "      <th>Epoch</th>\n",
              "      <th>Training Loss</th>\n",
              "      <th>Validation Loss</th>\n",
              "    </tr>\n",
              "  </thead>\n",
              "  <tbody>\n",
              "    <tr>\n",
              "      <td>1</td>\n",
              "      <td>2.838000</td>\n",
              "      <td>2.673186</td>\n",
              "    </tr>\n",
              "  </tbody>\n",
              "</table><p>"
            ],
            "text/plain": [
              "<IPython.core.display.HTML object>"
            ]
          },
          "metadata": {},
          "output_type": "display_data"
        },
        {
          "data": {
            "text/html": [
              "\n",
              "    <div>\n",
              "      \n",
              "      <progress value='125' max='125' style='width:300px; height:20px; vertical-align: middle;'></progress>\n",
              "      [125/125 00:04]\n",
              "    </div>\n",
              "    "
            ],
            "text/plain": [
              "<IPython.core.display.HTML object>"
            ]
          },
          "metadata": {},
          "output_type": "display_data"
        },
        {
          "name": "stdout",
          "output_type": "stream",
          "text": [
            "Evaluation results: {'eval_loss': 2.6731860637664795, 'eval_runtime': 4.2035, 'eval_samples_per_second': 237.898, 'eval_steps_per_second': 29.737, 'epoch': 1.0}\n",
            "Testing configuration: LR=2e-05, Batch Size=8, Epochs=3\n"
          ]
        },
        {
          "name": "stderr",
          "output_type": "stream",
          "text": [
            "/usr/local/lib/python3.10/dist-packages/transformers/training_args.py:1568: FutureWarning: `evaluation_strategy` is deprecated and will be removed in version 4.46 of 🤗 Transformers. Use `eval_strategy` instead\n",
            "  warnings.warn(\n",
            "<ipython-input-20-1c4afd065de1>:33: FutureWarning: `tokenizer` is deprecated and will be removed in version 5.0.0 for `Seq2SeqTrainer.__init__`. Use `processing_class` instead.\n",
            "  trainer = Seq2SeqTrainer(\n"
          ]
        },
        {
          "data": {
            "text/html": [
              "\n",
              "    <div>\n",
              "      \n",
              "      <progress value='3000' max='3000' style='width:300px; height:20px; vertical-align: middle;'></progress>\n",
              "      [3000/3000 06:45, Epoch 3/3]\n",
              "    </div>\n",
              "    <table border=\"1\" class=\"dataframe\">\n",
              "  <thead>\n",
              " <tr style=\"text-align: left;\">\n",
              "      <th>Epoch</th>\n",
              "      <th>Training Loss</th>\n",
              "      <th>Validation Loss</th>\n",
              "    </tr>\n",
              "  </thead>\n",
              "  <tbody>\n",
              "    <tr>\n",
              "      <td>1</td>\n",
              "      <td>2.861400</td>\n",
              "      <td>2.673662</td>\n",
              "    </tr>\n",
              "    <tr>\n",
              "      <td>2</td>\n",
              "      <td>2.301300</td>\n",
              "      <td>2.664213</td>\n",
              "    </tr>\n",
              "    <tr>\n",
              "      <td>3</td>\n",
              "      <td>2.040600</td>\n",
              "      <td>2.685887</td>\n",
              "    </tr>\n",
              "  </tbody>\n",
              "</table><p>"
            ],
            "text/plain": [
              "<IPython.core.display.HTML object>"
            ]
          },
          "metadata": {},
          "output_type": "display_data"
        },
        {
          "data": {
            "text/html": [
              "\n",
              "    <div>\n",
              "      \n",
              "      <progress value='125' max='125' style='width:300px; height:20px; vertical-align: middle;'></progress>\n",
              "      [125/125 00:04]\n",
              "    </div>\n",
              "    "
            ],
            "text/plain": [
              "<IPython.core.display.HTML object>"
            ]
          },
          "metadata": {},
          "output_type": "display_data"
        },
        {
          "name": "stdout",
          "output_type": "stream",
          "text": [
            "Evaluation results: {'eval_loss': 2.6858866214752197, 'eval_runtime': 4.2191, 'eval_samples_per_second': 237.017, 'eval_steps_per_second': 29.627, 'epoch': 3.0}\n",
            "Testing configuration: LR=2e-05, Batch Size=16, Epochs=1\n"
          ]
        },
        {
          "name": "stderr",
          "output_type": "stream",
          "text": [
            "/usr/local/lib/python3.10/dist-packages/transformers/training_args.py:1568: FutureWarning: `evaluation_strategy` is deprecated and will be removed in version 4.46 of 🤗 Transformers. Use `eval_strategy` instead\n",
            "  warnings.warn(\n",
            "<ipython-input-20-1c4afd065de1>:33: FutureWarning: `tokenizer` is deprecated and will be removed in version 5.0.0 for `Seq2SeqTrainer.__init__`. Use `processing_class` instead.\n",
            "  trainer = Seq2SeqTrainer(\n"
          ]
        },
        {
          "data": {
            "text/html": [
              "\n",
              "    <div>\n",
              "      \n",
              "      <progress value='500' max='500' style='width:300px; height:20px; vertical-align: middle;'></progress>\n",
              "      [500/500 01:08, Epoch 1/1]\n",
              "    </div>\n",
              "    <table border=\"1\" class=\"dataframe\">\n",
              "  <thead>\n",
              " <tr style=\"text-align: left;\">\n",
              "      <th>Epoch</th>\n",
              "      <th>Training Loss</th>\n",
              "      <th>Validation Loss</th>\n",
              "    </tr>\n",
              "  </thead>\n",
              "  <tbody>\n",
              "    <tr>\n",
              "      <td>1</td>\n",
              "      <td>2.859500</td>\n",
              "      <td>2.698718</td>\n",
              "    </tr>\n",
              "  </tbody>\n",
              "</table><p>"
            ],
            "text/plain": [
              "<IPython.core.display.HTML object>"
            ]
          },
          "metadata": {},
          "output_type": "display_data"
        },
        {
          "data": {
            "text/html": [
              "\n",
              "    <div>\n",
              "      \n",
              "      <progress value='63' max='63' style='width:300px; height:20px; vertical-align: middle;'></progress>\n",
              "      [63/63 00:02]\n",
              "    </div>\n",
              "    "
            ],
            "text/plain": [
              "<IPython.core.display.HTML object>"
            ]
          },
          "metadata": {},
          "output_type": "display_data"
        },
        {
          "name": "stdout",
          "output_type": "stream",
          "text": [
            "Evaluation results: {'eval_loss': 2.6987178325653076, 'eval_runtime': 2.248, 'eval_samples_per_second': 444.833, 'eval_steps_per_second': 28.024, 'epoch': 1.0}\n",
            "Testing configuration: LR=2e-05, Batch Size=16, Epochs=3\n"
          ]
        },
        {
          "name": "stderr",
          "output_type": "stream",
          "text": [
            "/usr/local/lib/python3.10/dist-packages/transformers/training_args.py:1568: FutureWarning: `evaluation_strategy` is deprecated and will be removed in version 4.46 of 🤗 Transformers. Use `eval_strategy` instead\n",
            "  warnings.warn(\n",
            "<ipython-input-20-1c4afd065de1>:33: FutureWarning: `tokenizer` is deprecated and will be removed in version 5.0.0 for `Seq2SeqTrainer.__init__`. Use `processing_class` instead.\n",
            "  trainer = Seq2SeqTrainer(\n"
          ]
        },
        {
          "data": {
            "text/html": [
              "\n",
              "    <div>\n",
              "      \n",
              "      <progress value='1500' max='1500' style='width:300px; height:20px; vertical-align: middle;'></progress>\n",
              "      [1500/1500 03:25, Epoch 3/3]\n",
              "    </div>\n",
              "    <table border=\"1\" class=\"dataframe\">\n",
              "  <thead>\n",
              " <tr style=\"text-align: left;\">\n",
              "      <th>Epoch</th>\n",
              "      <th>Training Loss</th>\n",
              "      <th>Validation Loss</th>\n",
              "    </tr>\n",
              "  </thead>\n",
              "  <tbody>\n",
              "    <tr>\n",
              "      <td>1</td>\n",
              "      <td>2.854500</td>\n",
              "      <td>2.677058</td>\n",
              "    </tr>\n",
              "    <tr>\n",
              "      <td>2</td>\n",
              "      <td>2.429400</td>\n",
              "      <td>2.647158</td>\n",
              "    </tr>\n",
              "    <tr>\n",
              "      <td>3</td>\n",
              "      <td>2.166500</td>\n",
              "      <td>2.655962</td>\n",
              "    </tr>\n",
              "  </tbody>\n",
              "</table><p>"
            ],
            "text/plain": [
              "<IPython.core.display.HTML object>"
            ]
          },
          "metadata": {},
          "output_type": "display_data"
        },
        {
          "data": {
            "text/html": [
              "\n",
              "    <div>\n",
              "      \n",
              "      <progress value='63' max='63' style='width:300px; height:20px; vertical-align: middle;'></progress>\n",
              "      [63/63 00:02]\n",
              "    </div>\n",
              "    "
            ],
            "text/plain": [
              "<IPython.core.display.HTML object>"
            ]
          },
          "metadata": {},
          "output_type": "display_data"
        },
        {
          "name": "stdout",
          "output_type": "stream",
          "text": [
            "Evaluation results: {'eval_loss': 2.655961751937866, 'eval_runtime': 2.2501, 'eval_samples_per_second': 444.42, 'eval_steps_per_second': 27.998, 'epoch': 3.0}\n",
            "Testing configuration: LR=3e-05, Batch Size=8, Epochs=1\n"
          ]
        },
        {
          "name": "stderr",
          "output_type": "stream",
          "text": [
            "/usr/local/lib/python3.10/dist-packages/transformers/training_args.py:1568: FutureWarning: `evaluation_strategy` is deprecated and will be removed in version 4.46 of 🤗 Transformers. Use `eval_strategy` instead\n",
            "  warnings.warn(\n",
            "<ipython-input-20-1c4afd065de1>:33: FutureWarning: `tokenizer` is deprecated and will be removed in version 5.0.0 for `Seq2SeqTrainer.__init__`. Use `processing_class` instead.\n",
            "  trainer = Seq2SeqTrainer(\n"
          ]
        },
        {
          "data": {
            "text/html": [
              "\n",
              "    <div>\n",
              "      \n",
              "      <progress value='1000' max='1000' style='width:300px; height:20px; vertical-align: middle;'></progress>\n",
              "      [1000/1000 02:15, Epoch 1/1]\n",
              "    </div>\n",
              "    <table border=\"1\" class=\"dataframe\">\n",
              "  <thead>\n",
              " <tr style=\"text-align: left;\">\n",
              "      <th>Epoch</th>\n",
              "      <th>Training Loss</th>\n",
              "      <th>Validation Loss</th>\n",
              "    </tr>\n",
              "  </thead>\n",
              "  <tbody>\n",
              "    <tr>\n",
              "      <td>1</td>\n",
              "      <td>2.834000</td>\n",
              "      <td>2.665765</td>\n",
              "    </tr>\n",
              "  </tbody>\n",
              "</table><p>"
            ],
            "text/plain": [
              "<IPython.core.display.HTML object>"
            ]
          },
          "metadata": {},
          "output_type": "display_data"
        },
        {
          "data": {
            "text/html": [
              "\n",
              "    <div>\n",
              "      \n",
              "      <progress value='125' max='125' style='width:300px; height:20px; vertical-align: middle;'></progress>\n",
              "      [125/125 00:04]\n",
              "    </div>\n",
              "    "
            ],
            "text/plain": [
              "<IPython.core.display.HTML object>"
            ]
          },
          "metadata": {},
          "output_type": "display_data"
        },
        {
          "name": "stdout",
          "output_type": "stream",
          "text": [
            "Evaluation results: {'eval_loss': 2.665764570236206, 'eval_runtime': 4.2025, 'eval_samples_per_second': 237.952, 'eval_steps_per_second': 29.744, 'epoch': 1.0}\n",
            "Testing configuration: LR=3e-05, Batch Size=8, Epochs=3\n"
          ]
        },
        {
          "name": "stderr",
          "output_type": "stream",
          "text": [
            "/usr/local/lib/python3.10/dist-packages/transformers/training_args.py:1568: FutureWarning: `evaluation_strategy` is deprecated and will be removed in version 4.46 of 🤗 Transformers. Use `eval_strategy` instead\n",
            "  warnings.warn(\n",
            "<ipython-input-20-1c4afd065de1>:33: FutureWarning: `tokenizer` is deprecated and will be removed in version 5.0.0 for `Seq2SeqTrainer.__init__`. Use `processing_class` instead.\n",
            "  trainer = Seq2SeqTrainer(\n"
          ]
        },
        {
          "data": {
            "text/html": [
              "\n",
              "    <div>\n",
              "      \n",
              "      <progress value='3000' max='3000' style='width:300px; height:20px; vertical-align: middle;'></progress>\n",
              "      [3000/3000 06:47, Epoch 3/3]\n",
              "    </div>\n",
              "    <table border=\"1\" class=\"dataframe\">\n",
              "  <thead>\n",
              " <tr style=\"text-align: left;\">\n",
              "      <th>Epoch</th>\n",
              "      <th>Training Loss</th>\n",
              "      <th>Validation Loss</th>\n",
              "    </tr>\n",
              "  </thead>\n",
              "  <tbody>\n",
              "    <tr>\n",
              "      <td>1</td>\n",
              "      <td>2.905500</td>\n",
              "      <td>2.720311</td>\n",
              "    </tr>\n",
              "    <tr>\n",
              "      <td>2</td>\n",
              "      <td>2.217300</td>\n",
              "      <td>2.704587</td>\n",
              "    </tr>\n",
              "    <tr>\n",
              "      <td>3</td>\n",
              "      <td>1.852800</td>\n",
              "      <td>2.739367</td>\n",
              "    </tr>\n",
              "  </tbody>\n",
              "</table><p>"
            ],
            "text/plain": [
              "<IPython.core.display.HTML object>"
            ]
          },
          "metadata": {},
          "output_type": "display_data"
        },
        {
          "data": {
            "text/html": [
              "\n",
              "    <div>\n",
              "      \n",
              "      <progress value='125' max='125' style='width:300px; height:20px; vertical-align: middle;'></progress>\n",
              "      [125/125 00:04]\n",
              "    </div>\n",
              "    "
            ],
            "text/plain": [
              "<IPython.core.display.HTML object>"
            ]
          },
          "metadata": {},
          "output_type": "display_data"
        },
        {
          "name": "stdout",
          "output_type": "stream",
          "text": [
            "Evaluation results: {'eval_loss': 2.7393667697906494, 'eval_runtime': 4.2274, 'eval_samples_per_second': 236.553, 'eval_steps_per_second': 29.569, 'epoch': 3.0}\n",
            "Testing configuration: LR=3e-05, Batch Size=16, Epochs=1\n"
          ]
        },
        {
          "name": "stderr",
          "output_type": "stream",
          "text": [
            "/usr/local/lib/python3.10/dist-packages/transformers/training_args.py:1568: FutureWarning: `evaluation_strategy` is deprecated and will be removed in version 4.46 of 🤗 Transformers. Use `eval_strategy` instead\n",
            "  warnings.warn(\n",
            "<ipython-input-20-1c4afd065de1>:33: FutureWarning: `tokenizer` is deprecated and will be removed in version 5.0.0 for `Seq2SeqTrainer.__init__`. Use `processing_class` instead.\n",
            "  trainer = Seq2SeqTrainer(\n"
          ]
        },
        {
          "data": {
            "text/html": [
              "\n",
              "    <div>\n",
              "      \n",
              "      <progress value='500' max='500' style='width:300px; height:20px; vertical-align: middle;'></progress>\n",
              "      [500/500 01:08, Epoch 1/1]\n",
              "    </div>\n",
              "    <table border=\"1\" class=\"dataframe\">\n",
              "  <thead>\n",
              " <tr style=\"text-align: left;\">\n",
              "      <th>Epoch</th>\n",
              "      <th>Training Loss</th>\n",
              "      <th>Validation Loss</th>\n",
              "    </tr>\n",
              "  </thead>\n",
              "  <tbody>\n",
              "    <tr>\n",
              "      <td>1</td>\n",
              "      <td>2.843300</td>\n",
              "      <td>2.678771</td>\n",
              "    </tr>\n",
              "  </tbody>\n",
              "</table><p>"
            ],
            "text/plain": [
              "<IPython.core.display.HTML object>"
            ]
          },
          "metadata": {},
          "output_type": "display_data"
        },
        {
          "data": {
            "text/html": [
              "\n",
              "    <div>\n",
              "      \n",
              "      <progress value='63' max='63' style='width:300px; height:20px; vertical-align: middle;'></progress>\n",
              "      [63/63 00:02]\n",
              "    </div>\n",
              "    "
            ],
            "text/plain": [
              "<IPython.core.display.HTML object>"
            ]
          },
          "metadata": {},
          "output_type": "display_data"
        },
        {
          "name": "stdout",
          "output_type": "stream",
          "text": [
            "Evaluation results: {'eval_loss': 2.6787710189819336, 'eval_runtime': 2.2424, 'eval_samples_per_second': 445.948, 'eval_steps_per_second': 28.095, 'epoch': 1.0}\n",
            "Testing configuration: LR=3e-05, Batch Size=16, Epochs=3\n"
          ]
        },
        {
          "name": "stderr",
          "output_type": "stream",
          "text": [
            "/usr/local/lib/python3.10/dist-packages/transformers/training_args.py:1568: FutureWarning: `evaluation_strategy` is deprecated and will be removed in version 4.46 of 🤗 Transformers. Use `eval_strategy` instead\n",
            "  warnings.warn(\n",
            "<ipython-input-20-1c4afd065de1>:33: FutureWarning: `tokenizer` is deprecated and will be removed in version 5.0.0 for `Seq2SeqTrainer.__init__`. Use `processing_class` instead.\n",
            "  trainer = Seq2SeqTrainer(\n"
          ]
        },
        {
          "data": {
            "text/html": [
              "\n",
              "    <div>\n",
              "      \n",
              "      <progress value='1500' max='1500' style='width:300px; height:20px; vertical-align: middle;'></progress>\n",
              "      [1500/1500 03:26, Epoch 3/3]\n",
              "    </div>\n",
              "    <table border=\"1\" class=\"dataframe\">\n",
              "  <thead>\n",
              " <tr style=\"text-align: left;\">\n",
              "      <th>Epoch</th>\n",
              "      <th>Training Loss</th>\n",
              "      <th>Validation Loss</th>\n",
              "    </tr>\n",
              "  </thead>\n",
              "  <tbody>\n",
              "    <tr>\n",
              "      <td>1</td>\n",
              "      <td>2.865500</td>\n",
              "      <td>2.689855</td>\n",
              "    </tr>\n",
              "    <tr>\n",
              "      <td>2</td>\n",
              "      <td>2.335700</td>\n",
              "      <td>2.675825</td>\n",
              "    </tr>\n",
              "    <tr>\n",
              "      <td>3</td>\n",
              "      <td>1.992300</td>\n",
              "      <td>2.694527</td>\n",
              "    </tr>\n",
              "  </tbody>\n",
              "</table><p>"
            ],
            "text/plain": [
              "<IPython.core.display.HTML object>"
            ]
          },
          "metadata": {},
          "output_type": "display_data"
        },
        {
          "data": {
            "text/html": [
              "\n",
              "    <div>\n",
              "      \n",
              "      <progress value='63' max='63' style='width:300px; height:20px; vertical-align: middle;'></progress>\n",
              "      [63/63 00:02]\n",
              "    </div>\n",
              "    "
            ],
            "text/plain": [
              "<IPython.core.display.HTML object>"
            ]
          },
          "metadata": {},
          "output_type": "display_data"
        },
        {
          "name": "stdout",
          "output_type": "stream",
          "text": [
            "Evaluation results: {'eval_loss': 2.6945269107818604, 'eval_runtime': 2.26, 'eval_samples_per_second': 442.477, 'eval_steps_per_second': 27.876, 'epoch': 3.0}\n",
            "Testing configuration: LR=5e-05, Batch Size=8, Epochs=1\n"
          ]
        },
        {
          "name": "stderr",
          "output_type": "stream",
          "text": [
            "/usr/local/lib/python3.10/dist-packages/transformers/training_args.py:1568: FutureWarning: `evaluation_strategy` is deprecated and will be removed in version 4.46 of 🤗 Transformers. Use `eval_strategy` instead\n",
            "  warnings.warn(\n",
            "<ipython-input-20-1c4afd065de1>:33: FutureWarning: `tokenizer` is deprecated and will be removed in version 5.0.0 for `Seq2SeqTrainer.__init__`. Use `processing_class` instead.\n",
            "  trainer = Seq2SeqTrainer(\n"
          ]
        },
        {
          "data": {
            "text/html": [
              "\n",
              "    <div>\n",
              "      \n",
              "      <progress value='1000' max='1000' style='width:300px; height:20px; vertical-align: middle;'></progress>\n",
              "      [1000/1000 02:15, Epoch 1/1]\n",
              "    </div>\n",
              "    <table border=\"1\" class=\"dataframe\">\n",
              "  <thead>\n",
              " <tr style=\"text-align: left;\">\n",
              "      <th>Epoch</th>\n",
              "      <th>Training Loss</th>\n",
              "      <th>Validation Loss</th>\n",
              "    </tr>\n",
              "  </thead>\n",
              "  <tbody>\n",
              "    <tr>\n",
              "      <td>1</td>\n",
              "      <td>2.872600</td>\n",
              "      <td>2.706617</td>\n",
              "    </tr>\n",
              "  </tbody>\n",
              "</table><p>"
            ],
            "text/plain": [
              "<IPython.core.display.HTML object>"
            ]
          },
          "metadata": {},
          "output_type": "display_data"
        },
        {
          "data": {
            "text/html": [
              "\n",
              "    <div>\n",
              "      \n",
              "      <progress value='125' max='125' style='width:300px; height:20px; vertical-align: middle;'></progress>\n",
              "      [125/125 00:04]\n",
              "    </div>\n",
              "    "
            ],
            "text/plain": [
              "<IPython.core.display.HTML object>"
            ]
          },
          "metadata": {},
          "output_type": "display_data"
        },
        {
          "name": "stdout",
          "output_type": "stream",
          "text": [
            "Evaluation results: {'eval_loss': 2.7066168785095215, 'eval_runtime': 4.1999, 'eval_samples_per_second': 238.103, 'eval_steps_per_second': 29.763, 'epoch': 1.0}\n",
            "Testing configuration: LR=5e-05, Batch Size=8, Epochs=3\n"
          ]
        },
        {
          "name": "stderr",
          "output_type": "stream",
          "text": [
            "/usr/local/lib/python3.10/dist-packages/transformers/training_args.py:1568: FutureWarning: `evaluation_strategy` is deprecated and will be removed in version 4.46 of 🤗 Transformers. Use `eval_strategy` instead\n",
            "  warnings.warn(\n",
            "<ipython-input-20-1c4afd065de1>:33: FutureWarning: `tokenizer` is deprecated and will be removed in version 5.0.0 for `Seq2SeqTrainer.__init__`. Use `processing_class` instead.\n",
            "  trainer = Seq2SeqTrainer(\n"
          ]
        },
        {
          "data": {
            "text/html": [
              "\n",
              "    <div>\n",
              "      \n",
              "      <progress value='3000' max='3000' style='width:300px; height:20px; vertical-align: middle;'></progress>\n",
              "      [3000/3000 06:46, Epoch 3/3]\n",
              "    </div>\n",
              "    <table border=\"1\" class=\"dataframe\">\n",
              "  <thead>\n",
              " <tr style=\"text-align: left;\">\n",
              "      <th>Epoch</th>\n",
              "      <th>Training Loss</th>\n",
              "      <th>Validation Loss</th>\n",
              "    </tr>\n",
              "  </thead>\n",
              "  <tbody>\n",
              "    <tr>\n",
              "      <td>1</td>\n",
              "      <td>3.016500</td>\n",
              "      <td>2.827892</td>\n",
              "    </tr>\n",
              "    <tr>\n",
              "      <td>2</td>\n",
              "      <td>2.143600</td>\n",
              "      <td>2.793673</td>\n",
              "    </tr>\n",
              "    <tr>\n",
              "      <td>3</td>\n",
              "      <td>1.615500</td>\n",
              "      <td>2.830040</td>\n",
              "    </tr>\n",
              "  </tbody>\n",
              "</table><p>"
            ],
            "text/plain": [
              "<IPython.core.display.HTML object>"
            ]
          },
          "metadata": {},
          "output_type": "display_data"
        },
        {
          "data": {
            "text/html": [
              "\n",
              "    <div>\n",
              "      \n",
              "      <progress value='125' max='125' style='width:300px; height:20px; vertical-align: middle;'></progress>\n",
              "      [125/125 00:04]\n",
              "    </div>\n",
              "    "
            ],
            "text/plain": [
              "<IPython.core.display.HTML object>"
            ]
          },
          "metadata": {},
          "output_type": "display_data"
        },
        {
          "name": "stdout",
          "output_type": "stream",
          "text": [
            "Evaluation results: {'eval_loss': 2.8300395011901855, 'eval_runtime': 4.2502, 'eval_samples_per_second': 235.281, 'eval_steps_per_second': 29.41, 'epoch': 3.0}\n",
            "Testing configuration: LR=5e-05, Batch Size=16, Epochs=1\n"
          ]
        },
        {
          "name": "stderr",
          "output_type": "stream",
          "text": [
            "/usr/local/lib/python3.10/dist-packages/transformers/training_args.py:1568: FutureWarning: `evaluation_strategy` is deprecated and will be removed in version 4.46 of 🤗 Transformers. Use `eval_strategy` instead\n",
            "  warnings.warn(\n",
            "<ipython-input-20-1c4afd065de1>:33: FutureWarning: `tokenizer` is deprecated and will be removed in version 5.0.0 for `Seq2SeqTrainer.__init__`. Use `processing_class` instead.\n",
            "  trainer = Seq2SeqTrainer(\n"
          ]
        },
        {
          "data": {
            "text/html": [
              "\n",
              "    <div>\n",
              "      \n",
              "      <progress value='500' max='500' style='width:300px; height:20px; vertical-align: middle;'></progress>\n",
              "      [500/500 01:08, Epoch 1/1]\n",
              "    </div>\n",
              "    <table border=\"1\" class=\"dataframe\">\n",
              "  <thead>\n",
              " <tr style=\"text-align: left;\">\n",
              "      <th>Epoch</th>\n",
              "      <th>Training Loss</th>\n",
              "      <th>Validation Loss</th>\n",
              "    </tr>\n",
              "  </thead>\n",
              "  <tbody>\n",
              "    <tr>\n",
              "      <td>1</td>\n",
              "      <td>2.853500</td>\n",
              "      <td>2.682950</td>\n",
              "    </tr>\n",
              "  </tbody>\n",
              "</table><p>"
            ],
            "text/plain": [
              "<IPython.core.display.HTML object>"
            ]
          },
          "metadata": {},
          "output_type": "display_data"
        },
        {
          "data": {
            "text/html": [
              "\n",
              "    <div>\n",
              "      \n",
              "      <progress value='63' max='63' style='width:300px; height:20px; vertical-align: middle;'></progress>\n",
              "      [63/63 00:02]\n",
              "    </div>\n",
              "    "
            ],
            "text/plain": [
              "<IPython.core.display.HTML object>"
            ]
          },
          "metadata": {},
          "output_type": "display_data"
        },
        {
          "name": "stdout",
          "output_type": "stream",
          "text": [
            "Evaluation results: {'eval_loss': 2.682950258255005, 'eval_runtime': 2.282, 'eval_samples_per_second': 438.206, 'eval_steps_per_second': 27.607, 'epoch': 1.0}\n",
            "Testing configuration: LR=5e-05, Batch Size=16, Epochs=3\n"
          ]
        },
        {
          "name": "stderr",
          "output_type": "stream",
          "text": [
            "/usr/local/lib/python3.10/dist-packages/transformers/training_args.py:1568: FutureWarning: `evaluation_strategy` is deprecated and will be removed in version 4.46 of 🤗 Transformers. Use `eval_strategy` instead\n",
            "  warnings.warn(\n",
            "<ipython-input-20-1c4afd065de1>:33: FutureWarning: `tokenizer` is deprecated and will be removed in version 5.0.0 for `Seq2SeqTrainer.__init__`. Use `processing_class` instead.\n",
            "  trainer = Seq2SeqTrainer(\n"
          ]
        },
        {
          "data": {
            "text/html": [
              "\n",
              "    <div>\n",
              "      \n",
              "      <progress value='1500' max='1500' style='width:300px; height:20px; vertical-align: middle;'></progress>\n",
              "      [1500/1500 03:25, Epoch 3/3]\n",
              "    </div>\n",
              "    <table border=\"1\" class=\"dataframe\">\n",
              "  <thead>\n",
              " <tr style=\"text-align: left;\">\n",
              "      <th>Epoch</th>\n",
              "      <th>Training Loss</th>\n",
              "      <th>Validation Loss</th>\n",
              "    </tr>\n",
              "  </thead>\n",
              "  <tbody>\n",
              "    <tr>\n",
              "      <td>1</td>\n",
              "      <td>2.929700</td>\n",
              "      <td>2.764360</td>\n",
              "    </tr>\n",
              "    <tr>\n",
              "      <td>2</td>\n",
              "      <td>2.234000</td>\n",
              "      <td>2.734500</td>\n",
              "    </tr>\n",
              "    <tr>\n",
              "      <td>3</td>\n",
              "      <td>1.754300</td>\n",
              "      <td>2.768544</td>\n",
              "    </tr>\n",
              "  </tbody>\n",
              "</table><p>"
            ],
            "text/plain": [
              "<IPython.core.display.HTML object>"
            ]
          },
          "metadata": {},
          "output_type": "display_data"
        },
        {
          "data": {
            "text/html": [
              "\n",
              "    <div>\n",
              "      \n",
              "      <progress value='63' max='63' style='width:300px; height:20px; vertical-align: middle;'></progress>\n",
              "      [63/63 00:02]\n",
              "    </div>\n",
              "    "
            ],
            "text/plain": [
              "<IPython.core.display.HTML object>"
            ]
          },
          "metadata": {},
          "output_type": "display_data"
        },
        {
          "name": "stdout",
          "output_type": "stream",
          "text": [
            "Evaluation results: {'eval_loss': 2.7685439586639404, 'eval_runtime': 2.2224, 'eval_samples_per_second': 449.962, 'eval_steps_per_second': 28.348, 'epoch': 3.0}\n",
            "Best Configuration:\n",
            "{'learning_rate': 2e-05, 'batch_size': 16, 'epochs': 3}\n",
            "Best Evaluation Results:\n",
            "{'eval_loss': 2.655961751937866, 'eval_runtime': 2.2501, 'eval_samples_per_second': 444.42, 'eval_steps_per_second': 27.998, 'epoch': 3.0}\n"
          ]
        }
      ],
      "source": [
        "learning_rates = [2e-5, 3e-5, 5e-5]\n",
        "batch_sizes = [8, 16]\n",
        "epochs = [1, 3]\n",
        "\n",
        "best_result = None\n",
        "best_params = {}\n",
        "\n",
        "for lr, batch_size, epoch in itertools.product(\n",
        "    learning_rates, batch_sizes, epochs\n",
        "):\n",
        "    print(f\"Testing configuration: LR={lr}, Batch Size={batch_size}, Epochs={epoch}\")\n",
        "\n",
        "    model_mtm_tune = copy.deepcopy(model_mtm)\n",
        "\n",
        "    output_dir = f\"./results/lr_{lr}_bs_{batch_size}_ep_{epoch}\"\n",
        "\n",
        "    training_args = Seq2SeqTrainingArguments(\n",
        "        output_dir=output_dir,\n",
        "        evaluation_strategy=\"epoch\",\n",
        "        logging_strategy=\"steps\",\n",
        "        logging_steps=100,\n",
        "        learning_rate=lr,\n",
        "        per_device_train_batch_size=batch_size,\n",
        "        per_device_eval_batch_size=batch_size,\n",
        "        num_train_epochs=epoch,\n",
        "        weight_decay=0.01,\n",
        "        fp16=True,\n",
        "        remove_unused_columns=False,\n",
        "        save_strategy=\"no\",\n",
        "        report_to=\"none\"\n",
        "    )\n",
        "\n",
        "    trainer = Seq2SeqTrainer(\n",
        "        model=model_mtm_tune,\n",
        "        args=training_args,\n",
        "        train_dataset=tokenized_data_mtm_train,\n",
        "        eval_dataset=tokenized_data_mtm_dev,\n",
        "        tokenizer=tokenizer_mtm\n",
        "    )\n",
        "\n",
        "    trainer.train()\n",
        "\n",
        "    eval_results = trainer.evaluate()\n",
        "    print(f\"Evaluation results: {eval_results}\")\n",
        "\n",
        "    if best_result is None or eval_results['eval_loss'] < best_result['eval_loss']:\n",
        "        best_result = eval_results\n",
        "        best_params = {\n",
        "            'learning_rate': lr,\n",
        "            'batch_size': batch_size,\n",
        "            'epochs': epoch\n",
        "        }\n",
        "\n",
        "print(\"Best Configuration:\")\n",
        "print(best_params)\n",
        "print(\"Best Evaluation Results:\")\n",
        "print(best_result)"
      ]
    },
    {
      "cell_type": "markdown",
      "metadata": {
        "id": "CUAae6juqj7c"
      },
      "source": [
        "#### **3.3.2 Hyperparameter Tuning M2M100 with LoRA**\n",
        "**Best configuration: r = 8, lora_alpha = 64, lora_dropout = 0.0, validation loss = 2.791430950164795**"
      ]
    },
    {
      "cell_type": "code",
      "execution_count": null,
      "metadata": {
        "colab": {
          "background_save": true
        },
        "id": "0MOTVOphqJVO",
        "outputId": "35efbd1d-29a4-4cad-fb56-aff338b97b5f"
      },
      "outputs": [
        {
          "name": "stdout",
          "output_type": "stream",
          "text": [
            "Testing LoRA configuration: r=8, alpha=16, dropout=0.0\n"
          ]
        },
        {
          "name": "stderr",
          "output_type": "stream",
          "text": [
            "/usr/local/lib/python3.10/dist-packages/transformers/training_args.py:1568: FutureWarning: `evaluation_strategy` is deprecated and will be removed in version 4.46 of 🤗 Transformers. Use `eval_strategy` instead\n",
            "  warnings.warn(\n",
            "<ipython-input-66-3d85924d9212>:63: FutureWarning: `tokenizer` is deprecated and will be removed in version 5.0.0 for `Seq2SeqTrainer.__init__`. Use `processing_class` instead.\n",
            "  trainer = Seq2SeqTrainer(\n"
          ]
        },
        {
          "data": {
            "text/html": [
              "\n",
              "    <div>\n",
              "      \n",
              "      <progress value='1500' max='1500' style='width:300px; height:20px; vertical-align: middle;'></progress>\n",
              "      [1500/1500 03:21, Epoch 3/3]\n",
              "    </div>\n",
              "    <table border=\"1\" class=\"dataframe\">\n",
              "  <thead>\n",
              " <tr style=\"text-align: left;\">\n",
              "      <th>Epoch</th>\n",
              "      <th>Training Loss</th>\n",
              "      <th>Validation Loss</th>\n",
              "    </tr>\n",
              "  </thead>\n",
              "  <tbody>\n",
              "    <tr>\n",
              "      <td>1</td>\n",
              "      <td>3.132100</td>\n",
              "      <td>2.899754</td>\n",
              "    </tr>\n",
              "    <tr>\n",
              "      <td>2</td>\n",
              "      <td>3.035600</td>\n",
              "      <td>2.852401</td>\n",
              "    </tr>\n",
              "    <tr>\n",
              "      <td>3</td>\n",
              "      <td>3.061000</td>\n",
              "      <td>2.842442</td>\n",
              "    </tr>\n",
              "  </tbody>\n",
              "</table><p>"
            ],
            "text/plain": [
              "<IPython.core.display.HTML object>"
            ]
          },
          "metadata": {},
          "output_type": "display_data"
        },
        {
          "data": {
            "text/html": [
              "\n",
              "    <div>\n",
              "      \n",
              "      <progress value='63' max='63' style='width:300px; height:20px; vertical-align: middle;'></progress>\n",
              "      [63/63 00:03]\n",
              "    </div>\n",
              "    "
            ],
            "text/plain": [
              "<IPython.core.display.HTML object>"
            ]
          },
          "metadata": {},
          "output_type": "display_data"
        },
        {
          "name": "stdout",
          "output_type": "stream",
          "text": [
            "Evaluation results: {'eval_loss': 2.8424415588378906, 'eval_runtime': 3.6997, 'eval_samples_per_second': 270.291, 'eval_steps_per_second': 17.028, 'epoch': 3.0}\n",
            "Testing LoRA configuration: r=8, alpha=16, dropout=0.1\n"
          ]
        },
        {
          "name": "stderr",
          "output_type": "stream",
          "text": [
            "/usr/local/lib/python3.10/dist-packages/transformers/training_args.py:1568: FutureWarning: `evaluation_strategy` is deprecated and will be removed in version 4.46 of 🤗 Transformers. Use `eval_strategy` instead\n",
            "  warnings.warn(\n",
            "<ipython-input-66-3d85924d9212>:63: FutureWarning: `tokenizer` is deprecated and will be removed in version 5.0.0 for `Seq2SeqTrainer.__init__`. Use `processing_class` instead.\n",
            "  trainer = Seq2SeqTrainer(\n"
          ]
        },
        {
          "data": {
            "text/html": [
              "\n",
              "    <div>\n",
              "      \n",
              "      <progress value='1500' max='1500' style='width:300px; height:20px; vertical-align: middle;'></progress>\n",
              "      [1500/1500 03:27, Epoch 3/3]\n",
              "    </div>\n",
              "    <table border=\"1\" class=\"dataframe\">\n",
              "  <thead>\n",
              " <tr style=\"text-align: left;\">\n",
              "      <th>Epoch</th>\n",
              "      <th>Training Loss</th>\n",
              "      <th>Validation Loss</th>\n",
              "    </tr>\n",
              "  </thead>\n",
              "  <tbody>\n",
              "    <tr>\n",
              "      <td>1</td>\n",
              "      <td>3.138800</td>\n",
              "      <td>2.899434</td>\n",
              "    </tr>\n",
              "    <tr>\n",
              "      <td>2</td>\n",
              "      <td>3.030700</td>\n",
              "      <td>2.852629</td>\n",
              "    </tr>\n",
              "    <tr>\n",
              "      <td>3</td>\n",
              "      <td>3.059800</td>\n",
              "      <td>2.842457</td>\n",
              "    </tr>\n",
              "  </tbody>\n",
              "</table><p>"
            ],
            "text/plain": [
              "<IPython.core.display.HTML object>"
            ]
          },
          "metadata": {},
          "output_type": "display_data"
        },
        {
          "data": {
            "text/html": [
              "\n",
              "    <div>\n",
              "      \n",
              "      <progress value='63' max='63' style='width:300px; height:20px; vertical-align: middle;'></progress>\n",
              "      [63/63 00:03]\n",
              "    </div>\n",
              "    "
            ],
            "text/plain": [
              "<IPython.core.display.HTML object>"
            ]
          },
          "metadata": {},
          "output_type": "display_data"
        },
        {
          "name": "stdout",
          "output_type": "stream",
          "text": [
            "Evaluation results: {'eval_loss': 2.842456579208374, 'eval_runtime': 3.7066, 'eval_samples_per_second': 269.786, 'eval_steps_per_second': 16.997, 'epoch': 3.0}\n",
            "Testing LoRA configuration: r=8, alpha=16, dropout=0.2\n"
          ]
        },
        {
          "name": "stderr",
          "output_type": "stream",
          "text": [
            "/usr/local/lib/python3.10/dist-packages/transformers/training_args.py:1568: FutureWarning: `evaluation_strategy` is deprecated and will be removed in version 4.46 of 🤗 Transformers. Use `eval_strategy` instead\n",
            "  warnings.warn(\n",
            "<ipython-input-66-3d85924d9212>:63: FutureWarning: `tokenizer` is deprecated and will be removed in version 5.0.0 for `Seq2SeqTrainer.__init__`. Use `processing_class` instead.\n",
            "  trainer = Seq2SeqTrainer(\n"
          ]
        },
        {
          "data": {
            "text/html": [
              "\n",
              "    <div>\n",
              "      \n",
              "      <progress value='1500' max='1500' style='width:300px; height:20px; vertical-align: middle;'></progress>\n",
              "      [1500/1500 03:30, Epoch 3/3]\n",
              "    </div>\n",
              "    <table border=\"1\" class=\"dataframe\">\n",
              "  <thead>\n",
              " <tr style=\"text-align: left;\">\n",
              "      <th>Epoch</th>\n",
              "      <th>Training Loss</th>\n",
              "      <th>Validation Loss</th>\n",
              "    </tr>\n",
              "  </thead>\n",
              "  <tbody>\n",
              "    <tr>\n",
              "      <td>1</td>\n",
              "      <td>3.142300</td>\n",
              "      <td>2.902096</td>\n",
              "    </tr>\n",
              "    <tr>\n",
              "      <td>2</td>\n",
              "      <td>3.033000</td>\n",
              "      <td>2.854503</td>\n",
              "    </tr>\n",
              "    <tr>\n",
              "      <td>3</td>\n",
              "      <td>3.061900</td>\n",
              "      <td>2.844099</td>\n",
              "    </tr>\n",
              "  </tbody>\n",
              "</table><p>"
            ],
            "text/plain": [
              "<IPython.core.display.HTML object>"
            ]
          },
          "metadata": {},
          "output_type": "display_data"
        },
        {
          "data": {
            "text/html": [
              "\n",
              "    <div>\n",
              "      \n",
              "      <progress value='63' max='63' style='width:300px; height:20px; vertical-align: middle;'></progress>\n",
              "      [63/63 00:03]\n",
              "    </div>\n",
              "    "
            ],
            "text/plain": [
              "<IPython.core.display.HTML object>"
            ]
          },
          "metadata": {},
          "output_type": "display_data"
        },
        {
          "name": "stdout",
          "output_type": "stream",
          "text": [
            "Evaluation results: {'eval_loss': 2.844099283218384, 'eval_runtime': 3.7644, 'eval_samples_per_second': 265.644, 'eval_steps_per_second': 16.736, 'epoch': 3.0}\n",
            "Testing LoRA configuration: r=8, alpha=32, dropout=0.0\n"
          ]
        },
        {
          "name": "stderr",
          "output_type": "stream",
          "text": [
            "/usr/local/lib/python3.10/dist-packages/transformers/training_args.py:1568: FutureWarning: `evaluation_strategy` is deprecated and will be removed in version 4.46 of 🤗 Transformers. Use `eval_strategy` instead\n",
            "  warnings.warn(\n",
            "<ipython-input-66-3d85924d9212>:63: FutureWarning: `tokenizer` is deprecated and will be removed in version 5.0.0 for `Seq2SeqTrainer.__init__`. Use `processing_class` instead.\n",
            "  trainer = Seq2SeqTrainer(\n"
          ]
        },
        {
          "data": {
            "text/html": [
              "\n",
              "    <div>\n",
              "      \n",
              "      <progress value='1500' max='1500' style='width:300px; height:20px; vertical-align: middle;'></progress>\n",
              "      [1500/1500 03:22, Epoch 3/3]\n",
              "    </div>\n",
              "    <table border=\"1\" class=\"dataframe\">\n",
              "  <thead>\n",
              " <tr style=\"text-align: left;\">\n",
              "      <th>Epoch</th>\n",
              "      <th>Training Loss</th>\n",
              "      <th>Validation Loss</th>\n",
              "    </tr>\n",
              "  </thead>\n",
              "  <tbody>\n",
              "    <tr>\n",
              "      <td>1</td>\n",
              "      <td>3.085700</td>\n",
              "      <td>2.859414</td>\n",
              "    </tr>\n",
              "    <tr>\n",
              "      <td>2</td>\n",
              "      <td>3.005700</td>\n",
              "      <td>2.825516</td>\n",
              "    </tr>\n",
              "    <tr>\n",
              "      <td>3</td>\n",
              "      <td>3.031200</td>\n",
              "      <td>2.816317</td>\n",
              "    </tr>\n",
              "  </tbody>\n",
              "</table><p>"
            ],
            "text/plain": [
              "<IPython.core.display.HTML object>"
            ]
          },
          "metadata": {},
          "output_type": "display_data"
        },
        {
          "data": {
            "text/html": [
              "\n",
              "    <div>\n",
              "      \n",
              "      <progress value='63' max='63' style='width:300px; height:20px; vertical-align: middle;'></progress>\n",
              "      [63/63 00:03]\n",
              "    </div>\n",
              "    "
            ],
            "text/plain": [
              "<IPython.core.display.HTML object>"
            ]
          },
          "metadata": {},
          "output_type": "display_data"
        },
        {
          "name": "stdout",
          "output_type": "stream",
          "text": [
            "Evaluation results: {'eval_loss': 2.816316843032837, 'eval_runtime': 3.7895, 'eval_samples_per_second': 263.89, 'eval_steps_per_second': 16.625, 'epoch': 3.0}\n",
            "Testing LoRA configuration: r=8, alpha=32, dropout=0.1\n"
          ]
        },
        {
          "name": "stderr",
          "output_type": "stream",
          "text": [
            "/usr/local/lib/python3.10/dist-packages/transformers/training_args.py:1568: FutureWarning: `evaluation_strategy` is deprecated and will be removed in version 4.46 of 🤗 Transformers. Use `eval_strategy` instead\n",
            "  warnings.warn(\n",
            "<ipython-input-66-3d85924d9212>:63: FutureWarning: `tokenizer` is deprecated and will be removed in version 5.0.0 for `Seq2SeqTrainer.__init__`. Use `processing_class` instead.\n",
            "  trainer = Seq2SeqTrainer(\n"
          ]
        },
        {
          "data": {
            "text/html": [
              "\n",
              "    <div>\n",
              "      \n",
              "      <progress value='1500' max='1500' style='width:300px; height:20px; vertical-align: middle;'></progress>\n",
              "      [1500/1500 03:29, Epoch 3/3]\n",
              "    </div>\n",
              "    <table border=\"1\" class=\"dataframe\">\n",
              "  <thead>\n",
              " <tr style=\"text-align: left;\">\n",
              "      <th>Epoch</th>\n",
              "      <th>Training Loss</th>\n",
              "      <th>Validation Loss</th>\n",
              "    </tr>\n",
              "  </thead>\n",
              "  <tbody>\n",
              "    <tr>\n",
              "      <td>1</td>\n",
              "      <td>3.094200</td>\n",
              "      <td>2.860676</td>\n",
              "    </tr>\n",
              "    <tr>\n",
              "      <td>2</td>\n",
              "      <td>3.002000</td>\n",
              "      <td>2.827018</td>\n",
              "    </tr>\n",
              "    <tr>\n",
              "      <td>3</td>\n",
              "      <td>3.032200</td>\n",
              "      <td>2.817689</td>\n",
              "    </tr>\n",
              "  </tbody>\n",
              "</table><p>"
            ],
            "text/plain": [
              "<IPython.core.display.HTML object>"
            ]
          },
          "metadata": {},
          "output_type": "display_data"
        },
        {
          "data": {
            "text/html": [
              "\n",
              "    <div>\n",
              "      \n",
              "      <progress value='63' max='63' style='width:300px; height:20px; vertical-align: middle;'></progress>\n",
              "      [63/63 00:03]\n",
              "    </div>\n",
              "    "
            ],
            "text/plain": [
              "<IPython.core.display.HTML object>"
            ]
          },
          "metadata": {},
          "output_type": "display_data"
        },
        {
          "name": "stdout",
          "output_type": "stream",
          "text": [
            "Evaluation results: {'eval_loss': 2.8176894187927246, 'eval_runtime': 3.7152, 'eval_samples_per_second': 269.164, 'eval_steps_per_second': 16.957, 'epoch': 3.0}\n",
            "Testing LoRA configuration: r=8, alpha=32, dropout=0.2\n"
          ]
        },
        {
          "name": "stderr",
          "output_type": "stream",
          "text": [
            "/usr/local/lib/python3.10/dist-packages/transformers/training_args.py:1568: FutureWarning: `evaluation_strategy` is deprecated and will be removed in version 4.46 of 🤗 Transformers. Use `eval_strategy` instead\n",
            "  warnings.warn(\n",
            "<ipython-input-66-3d85924d9212>:63: FutureWarning: `tokenizer` is deprecated and will be removed in version 5.0.0 for `Seq2SeqTrainer.__init__`. Use `processing_class` instead.\n",
            "  trainer = Seq2SeqTrainer(\n"
          ]
        },
        {
          "data": {
            "text/html": [
              "\n",
              "    <div>\n",
              "      \n",
              "      <progress value='1500' max='1500' style='width:300px; height:20px; vertical-align: middle;'></progress>\n",
              "      [1500/1500 03:31, Epoch 3/3]\n",
              "    </div>\n",
              "    <table border=\"1\" class=\"dataframe\">\n",
              "  <thead>\n",
              " <tr style=\"text-align: left;\">\n",
              "      <th>Epoch</th>\n",
              "      <th>Training Loss</th>\n",
              "      <th>Validation Loss</th>\n",
              "    </tr>\n",
              "  </thead>\n",
              "  <tbody>\n",
              "    <tr>\n",
              "      <td>1</td>\n",
              "      <td>3.097100</td>\n",
              "      <td>2.862704</td>\n",
              "    </tr>\n",
              "    <tr>\n",
              "      <td>2</td>\n",
              "      <td>3.004100</td>\n",
              "      <td>2.828652</td>\n",
              "    </tr>\n",
              "    <tr>\n",
              "      <td>3</td>\n",
              "      <td>3.034500</td>\n",
              "      <td>2.819312</td>\n",
              "    </tr>\n",
              "  </tbody>\n",
              "</table><p>"
            ],
            "text/plain": [
              "<IPython.core.display.HTML object>"
            ]
          },
          "metadata": {},
          "output_type": "display_data"
        },
        {
          "data": {
            "text/html": [
              "\n",
              "    <div>\n",
              "      \n",
              "      <progress value='63' max='63' style='width:300px; height:20px; vertical-align: middle;'></progress>\n",
              "      [63/63 00:03]\n",
              "    </div>\n",
              "    "
            ],
            "text/plain": [
              "<IPython.core.display.HTML object>"
            ]
          },
          "metadata": {},
          "output_type": "display_data"
        },
        {
          "name": "stdout",
          "output_type": "stream",
          "text": [
            "Evaluation results: {'eval_loss': 2.8193116188049316, 'eval_runtime': 3.6922, 'eval_samples_per_second': 270.842, 'eval_steps_per_second': 17.063, 'epoch': 3.0}\n",
            "Testing LoRA configuration: r=8, alpha=64, dropout=0.0\n"
          ]
        },
        {
          "name": "stderr",
          "output_type": "stream",
          "text": [
            "/usr/local/lib/python3.10/dist-packages/transformers/training_args.py:1568: FutureWarning: `evaluation_strategy` is deprecated and will be removed in version 4.46 of 🤗 Transformers. Use `eval_strategy` instead\n",
            "  warnings.warn(\n",
            "<ipython-input-66-3d85924d9212>:63: FutureWarning: `tokenizer` is deprecated and will be removed in version 5.0.0 for `Seq2SeqTrainer.__init__`. Use `processing_class` instead.\n",
            "  trainer = Seq2SeqTrainer(\n"
          ]
        },
        {
          "data": {
            "text/html": [
              "\n",
              "    <div>\n",
              "      \n",
              "      <progress value='1500' max='1500' style='width:300px; height:20px; vertical-align: middle;'></progress>\n",
              "      [1500/1500 03:23, Epoch 3/3]\n",
              "    </div>\n",
              "    <table border=\"1\" class=\"dataframe\">\n",
              "  <thead>\n",
              " <tr style=\"text-align: left;\">\n",
              "      <th>Epoch</th>\n",
              "      <th>Training Loss</th>\n",
              "      <th>Validation Loss</th>\n",
              "    </tr>\n",
              "  </thead>\n",
              "  <tbody>\n",
              "    <tr>\n",
              "      <td>1</td>\n",
              "      <td>3.055000</td>\n",
              "      <td>2.830839</td>\n",
              "    </tr>\n",
              "    <tr>\n",
              "      <td>2</td>\n",
              "      <td>2.976900</td>\n",
              "      <td>2.801368</td>\n",
              "    </tr>\n",
              "    <tr>\n",
              "      <td>3</td>\n",
              "      <td>2.999900</td>\n",
              "      <td>2.791431</td>\n",
              "    </tr>\n",
              "  </tbody>\n",
              "</table><p>"
            ],
            "text/plain": [
              "<IPython.core.display.HTML object>"
            ]
          },
          "metadata": {},
          "output_type": "display_data"
        },
        {
          "data": {
            "text/html": [
              "\n",
              "    <div>\n",
              "      \n",
              "      <progress value='63' max='63' style='width:300px; height:20px; vertical-align: middle;'></progress>\n",
              "      [63/63 00:03]\n",
              "    </div>\n",
              "    "
            ],
            "text/plain": [
              "<IPython.core.display.HTML object>"
            ]
          },
          "metadata": {},
          "output_type": "display_data"
        },
        {
          "name": "stdout",
          "output_type": "stream",
          "text": [
            "Evaluation results: {'eval_loss': 2.791430950164795, 'eval_runtime': 3.7583, 'eval_samples_per_second': 266.079, 'eval_steps_per_second': 16.763, 'epoch': 3.0}\n",
            "Testing LoRA configuration: r=8, alpha=64, dropout=0.1\n"
          ]
        },
        {
          "name": "stderr",
          "output_type": "stream",
          "text": [
            "/usr/local/lib/python3.10/dist-packages/transformers/training_args.py:1568: FutureWarning: `evaluation_strategy` is deprecated and will be removed in version 4.46 of 🤗 Transformers. Use `eval_strategy` instead\n",
            "  warnings.warn(\n",
            "<ipython-input-66-3d85924d9212>:63: FutureWarning: `tokenizer` is deprecated and will be removed in version 5.0.0 for `Seq2SeqTrainer.__init__`. Use `processing_class` instead.\n",
            "  trainer = Seq2SeqTrainer(\n"
          ]
        },
        {
          "data": {
            "text/html": [
              "\n",
              "    <div>\n",
              "      \n",
              "      <progress value='1500' max='1500' style='width:300px; height:20px; vertical-align: middle;'></progress>\n",
              "      [1500/1500 03:31, Epoch 3/3]\n",
              "    </div>\n",
              "    <table border=\"1\" class=\"dataframe\">\n",
              "  <thead>\n",
              " <tr style=\"text-align: left;\">\n",
              "      <th>Epoch</th>\n",
              "      <th>Training Loss</th>\n",
              "      <th>Validation Loss</th>\n",
              "    </tr>\n",
              "  </thead>\n",
              "  <tbody>\n",
              "    <tr>\n",
              "      <td>1</td>\n",
              "      <td>3.064200</td>\n",
              "      <td>2.832751</td>\n",
              "    </tr>\n",
              "    <tr>\n",
              "      <td>2</td>\n",
              "      <td>2.975200</td>\n",
              "      <td>2.804096</td>\n",
              "    </tr>\n",
              "    <tr>\n",
              "      <td>3</td>\n",
              "      <td>3.003500</td>\n",
              "      <td>2.794098</td>\n",
              "    </tr>\n",
              "  </tbody>\n",
              "</table><p>"
            ],
            "text/plain": [
              "<IPython.core.display.HTML object>"
            ]
          },
          "metadata": {},
          "output_type": "display_data"
        },
        {
          "data": {
            "text/html": [
              "\n",
              "    <div>\n",
              "      \n",
              "      <progress value='63' max='63' style='width:300px; height:20px; vertical-align: middle;'></progress>\n",
              "      [63/63 00:03]\n",
              "    </div>\n",
              "    "
            ],
            "text/plain": [
              "<IPython.core.display.HTML object>"
            ]
          },
          "metadata": {},
          "output_type": "display_data"
        },
        {
          "name": "stdout",
          "output_type": "stream",
          "text": [
            "Evaluation results: {'eval_loss': 2.794098138809204, 'eval_runtime': 3.7299, 'eval_samples_per_second': 268.103, 'eval_steps_per_second': 16.891, 'epoch': 3.0}\n",
            "Testing LoRA configuration: r=8, alpha=64, dropout=0.2\n"
          ]
        },
        {
          "name": "stderr",
          "output_type": "stream",
          "text": [
            "/usr/local/lib/python3.10/dist-packages/transformers/training_args.py:1568: FutureWarning: `evaluation_strategy` is deprecated and will be removed in version 4.46 of 🤗 Transformers. Use `eval_strategy` instead\n",
            "  warnings.warn(\n",
            "<ipython-input-66-3d85924d9212>:63: FutureWarning: `tokenizer` is deprecated and will be removed in version 5.0.0 for `Seq2SeqTrainer.__init__`. Use `processing_class` instead.\n",
            "  trainer = Seq2SeqTrainer(\n"
          ]
        },
        {
          "data": {
            "text/html": [
              "\n",
              "    <div>\n",
              "      \n",
              "      <progress value='1500' max='1500' style='width:300px; height:20px; vertical-align: middle;'></progress>\n",
              "      [1500/1500 03:32, Epoch 3/3]\n",
              "    </div>\n",
              "    <table border=\"1\" class=\"dataframe\">\n",
              "  <thead>\n",
              " <tr style=\"text-align: left;\">\n",
              "      <th>Epoch</th>\n",
              "      <th>Training Loss</th>\n",
              "      <th>Validation Loss</th>\n",
              "    </tr>\n",
              "  </thead>\n",
              "  <tbody>\n",
              "    <tr>\n",
              "      <td>1</td>\n",
              "      <td>3.067200</td>\n",
              "      <td>2.834798</td>\n",
              "    </tr>\n",
              "    <tr>\n",
              "      <td>2</td>\n",
              "      <td>2.978000</td>\n",
              "      <td>2.806042</td>\n",
              "    </tr>\n",
              "    <tr>\n",
              "      <td>3</td>\n",
              "      <td>3.006600</td>\n",
              "      <td>2.796152</td>\n",
              "    </tr>\n",
              "  </tbody>\n",
              "</table><p>"
            ],
            "text/plain": [
              "<IPython.core.display.HTML object>"
            ]
          },
          "metadata": {},
          "output_type": "display_data"
        },
        {
          "data": {
            "text/html": [
              "\n",
              "    <div>\n",
              "      \n",
              "      <progress value='63' max='63' style='width:300px; height:20px; vertical-align: middle;'></progress>\n",
              "      [63/63 00:03]\n",
              "    </div>\n",
              "    "
            ],
            "text/plain": [
              "<IPython.core.display.HTML object>"
            ]
          },
          "metadata": {},
          "output_type": "display_data"
        },
        {
          "name": "stdout",
          "output_type": "stream",
          "text": [
            "Evaluation results: {'eval_loss': 2.796152353286743, 'eval_runtime': 3.8743, 'eval_samples_per_second': 258.108, 'eval_steps_per_second': 16.261, 'epoch': 3.0}\n",
            "Testing LoRA configuration: r=16, alpha=16, dropout=0.0\n"
          ]
        },
        {
          "name": "stderr",
          "output_type": "stream",
          "text": [
            "/usr/local/lib/python3.10/dist-packages/transformers/training_args.py:1568: FutureWarning: `evaluation_strategy` is deprecated and will be removed in version 4.46 of 🤗 Transformers. Use `eval_strategy` instead\n",
            "  warnings.warn(\n",
            "<ipython-input-66-3d85924d9212>:63: FutureWarning: `tokenizer` is deprecated and will be removed in version 5.0.0 for `Seq2SeqTrainer.__init__`. Use `processing_class` instead.\n",
            "  trainer = Seq2SeqTrainer(\n"
          ]
        },
        {
          "data": {
            "text/html": [
              "\n",
              "    <div>\n",
              "      \n",
              "      <progress value='1500' max='1500' style='width:300px; height:20px; vertical-align: middle;'></progress>\n",
              "      [1500/1500 03:25, Epoch 3/3]\n",
              "    </div>\n",
              "    <table border=\"1\" class=\"dataframe\">\n",
              "  <thead>\n",
              " <tr style=\"text-align: left;\">\n",
              "      <th>Epoch</th>\n",
              "      <th>Training Loss</th>\n",
              "      <th>Validation Loss</th>\n",
              "    </tr>\n",
              "  </thead>\n",
              "  <tbody>\n",
              "    <tr>\n",
              "      <td>1</td>\n",
              "      <td>3.136900</td>\n",
              "      <td>2.903526</td>\n",
              "    </tr>\n",
              "    <tr>\n",
              "      <td>2</td>\n",
              "      <td>3.036600</td>\n",
              "      <td>2.853177</td>\n",
              "    </tr>\n",
              "    <tr>\n",
              "      <td>3</td>\n",
              "      <td>3.061600</td>\n",
              "      <td>2.842710</td>\n",
              "    </tr>\n",
              "  </tbody>\n",
              "</table><p>"
            ],
            "text/plain": [
              "<IPython.core.display.HTML object>"
            ]
          },
          "metadata": {},
          "output_type": "display_data"
        },
        {
          "data": {
            "text/html": [
              "\n",
              "    <div>\n",
              "      \n",
              "      <progress value='63' max='63' style='width:300px; height:20px; vertical-align: middle;'></progress>\n",
              "      [63/63 00:03]\n",
              "    </div>\n",
              "    "
            ],
            "text/plain": [
              "<IPython.core.display.HTML object>"
            ]
          },
          "metadata": {},
          "output_type": "display_data"
        },
        {
          "name": "stdout",
          "output_type": "stream",
          "text": [
            "Evaluation results: {'eval_loss': 2.842710494995117, 'eval_runtime': 3.7039, 'eval_samples_per_second': 269.989, 'eval_steps_per_second': 17.009, 'epoch': 3.0}\n",
            "Testing LoRA configuration: r=16, alpha=16, dropout=0.1\n"
          ]
        },
        {
          "name": "stderr",
          "output_type": "stream",
          "text": [
            "/usr/local/lib/python3.10/dist-packages/transformers/training_args.py:1568: FutureWarning: `evaluation_strategy` is deprecated and will be removed in version 4.46 of 🤗 Transformers. Use `eval_strategy` instead\n",
            "  warnings.warn(\n",
            "<ipython-input-66-3d85924d9212>:63: FutureWarning: `tokenizer` is deprecated and will be removed in version 5.0.0 for `Seq2SeqTrainer.__init__`. Use `processing_class` instead.\n",
            "  trainer = Seq2SeqTrainer(\n"
          ]
        },
        {
          "data": {
            "text/html": [
              "\n",
              "    <div>\n",
              "      \n",
              "      <progress value='1500' max='1500' style='width:300px; height:20px; vertical-align: middle;'></progress>\n",
              "      [1500/1500 03:32, Epoch 3/3]\n",
              "    </div>\n",
              "    <table border=\"1\" class=\"dataframe\">\n",
              "  <thead>\n",
              " <tr style=\"text-align: left;\">\n",
              "      <th>Epoch</th>\n",
              "      <th>Training Loss</th>\n",
              "      <th>Validation Loss</th>\n",
              "    </tr>\n",
              "  </thead>\n",
              "  <tbody>\n",
              "    <tr>\n",
              "      <td>1</td>\n",
              "      <td>3.145100</td>\n",
              "      <td>2.904814</td>\n",
              "    </tr>\n",
              "    <tr>\n",
              "      <td>2</td>\n",
              "      <td>3.032700</td>\n",
              "      <td>2.854481</td>\n",
              "    </tr>\n",
              "    <tr>\n",
              "      <td>3</td>\n",
              "      <td>3.062200</td>\n",
              "      <td>2.844057</td>\n",
              "    </tr>\n",
              "  </tbody>\n",
              "</table><p>"
            ],
            "text/plain": [
              "<IPython.core.display.HTML object>"
            ]
          },
          "metadata": {},
          "output_type": "display_data"
        },
        {
          "data": {
            "text/html": [
              "\n",
              "    <div>\n",
              "      \n",
              "      <progress value='63' max='63' style='width:300px; height:20px; vertical-align: middle;'></progress>\n",
              "      [63/63 00:03]\n",
              "    </div>\n",
              "    "
            ],
            "text/plain": [
              "<IPython.core.display.HTML object>"
            ]
          },
          "metadata": {},
          "output_type": "display_data"
        },
        {
          "name": "stdout",
          "output_type": "stream",
          "text": [
            "Evaluation results: {'eval_loss': 2.844057083129883, 'eval_runtime': 3.7589, 'eval_samples_per_second': 266.038, 'eval_steps_per_second': 16.76, 'epoch': 3.0}\n",
            "Testing LoRA configuration: r=16, alpha=16, dropout=0.2\n"
          ]
        },
        {
          "name": "stderr",
          "output_type": "stream",
          "text": [
            "/usr/local/lib/python3.10/dist-packages/transformers/training_args.py:1568: FutureWarning: `evaluation_strategy` is deprecated and will be removed in version 4.46 of 🤗 Transformers. Use `eval_strategy` instead\n",
            "  warnings.warn(\n",
            "<ipython-input-66-3d85924d9212>:63: FutureWarning: `tokenizer` is deprecated and will be removed in version 5.0.0 for `Seq2SeqTrainer.__init__`. Use `processing_class` instead.\n",
            "  trainer = Seq2SeqTrainer(\n"
          ]
        },
        {
          "data": {
            "text/html": [
              "\n",
              "    <div>\n",
              "      \n",
              "      <progress value='1500' max='1500' style='width:300px; height:20px; vertical-align: middle;'></progress>\n",
              "      [1500/1500 03:32, Epoch 3/3]\n",
              "    </div>\n",
              "    <table border=\"1\" class=\"dataframe\">\n",
              "  <thead>\n",
              " <tr style=\"text-align: left;\">\n",
              "      <th>Epoch</th>\n",
              "      <th>Training Loss</th>\n",
              "      <th>Validation Loss</th>\n",
              "    </tr>\n",
              "  </thead>\n",
              "  <tbody>\n",
              "    <tr>\n",
              "      <td>1</td>\n",
              "      <td>3.148200</td>\n",
              "      <td>2.907256</td>\n",
              "    </tr>\n",
              "    <tr>\n",
              "      <td>2</td>\n",
              "      <td>3.034800</td>\n",
              "      <td>2.855808</td>\n",
              "    </tr>\n",
              "    <tr>\n",
              "      <td>3</td>\n",
              "      <td>3.063800</td>\n",
              "      <td>2.845312</td>\n",
              "    </tr>\n",
              "  </tbody>\n",
              "</table><p>"
            ],
            "text/plain": [
              "<IPython.core.display.HTML object>"
            ]
          },
          "metadata": {},
          "output_type": "display_data"
        },
        {
          "data": {
            "text/html": [
              "\n",
              "    <div>\n",
              "      \n",
              "      <progress value='63' max='63' style='width:300px; height:20px; vertical-align: middle;'></progress>\n",
              "      [63/63 00:03]\n",
              "    </div>\n",
              "    "
            ],
            "text/plain": [
              "<IPython.core.display.HTML object>"
            ]
          },
          "metadata": {},
          "output_type": "display_data"
        },
        {
          "name": "stdout",
          "output_type": "stream",
          "text": [
            "Evaluation results: {'eval_loss': 2.8453116416931152, 'eval_runtime': 3.8189, 'eval_samples_per_second': 261.856, 'eval_steps_per_second': 16.497, 'epoch': 3.0}\n",
            "Testing LoRA configuration: r=16, alpha=32, dropout=0.0\n"
          ]
        },
        {
          "name": "stderr",
          "output_type": "stream",
          "text": [
            "/usr/local/lib/python3.10/dist-packages/transformers/training_args.py:1568: FutureWarning: `evaluation_strategy` is deprecated and will be removed in version 4.46 of 🤗 Transformers. Use `eval_strategy` instead\n",
            "  warnings.warn(\n",
            "<ipython-input-66-3d85924d9212>:63: FutureWarning: `tokenizer` is deprecated and will be removed in version 5.0.0 for `Seq2SeqTrainer.__init__`. Use `processing_class` instead.\n",
            "  trainer = Seq2SeqTrainer(\n"
          ]
        },
        {
          "data": {
            "text/html": [
              "\n",
              "    <div>\n",
              "      \n",
              "      <progress value='1500' max='1500' style='width:300px; height:20px; vertical-align: middle;'></progress>\n",
              "      [1500/1500 03:24, Epoch 3/3]\n",
              "    </div>\n",
              "    <table border=\"1\" class=\"dataframe\">\n",
              "  <thead>\n",
              " <tr style=\"text-align: left;\">\n",
              "      <th>Epoch</th>\n",
              "      <th>Training Loss</th>\n",
              "      <th>Validation Loss</th>\n",
              "    </tr>\n",
              "  </thead>\n",
              "  <tbody>\n",
              "    <tr>\n",
              "      <td>1</td>\n",
              "      <td>3.086600</td>\n",
              "      <td>2.859956</td>\n",
              "    </tr>\n",
              "    <tr>\n",
              "      <td>2</td>\n",
              "      <td>3.005500</td>\n",
              "      <td>2.825960</td>\n",
              "    </tr>\n",
              "    <tr>\n",
              "      <td>3</td>\n",
              "      <td>3.032000</td>\n",
              "      <td>2.816813</td>\n",
              "    </tr>\n",
              "  </tbody>\n",
              "</table><p>"
            ],
            "text/plain": [
              "<IPython.core.display.HTML object>"
            ]
          },
          "metadata": {},
          "output_type": "display_data"
        },
        {
          "data": {
            "text/html": [
              "\n",
              "    <div>\n",
              "      \n",
              "      <progress value='63' max='63' style='width:300px; height:20px; vertical-align: middle;'></progress>\n",
              "      [63/63 00:03]\n",
              "    </div>\n",
              "    "
            ],
            "text/plain": [
              "<IPython.core.display.HTML object>"
            ]
          },
          "metadata": {},
          "output_type": "display_data"
        },
        {
          "name": "stdout",
          "output_type": "stream",
          "text": [
            "Evaluation results: {'eval_loss': 2.8168129920959473, 'eval_runtime': 3.6945, 'eval_samples_per_second': 270.675, 'eval_steps_per_second': 17.053, 'epoch': 3.0}\n",
            "Testing LoRA configuration: r=16, alpha=32, dropout=0.1\n"
          ]
        },
        {
          "name": "stderr",
          "output_type": "stream",
          "text": [
            "/usr/local/lib/python3.10/dist-packages/transformers/training_args.py:1568: FutureWarning: `evaluation_strategy` is deprecated and will be removed in version 4.46 of 🤗 Transformers. Use `eval_strategy` instead\n",
            "  warnings.warn(\n",
            "<ipython-input-66-3d85924d9212>:63: FutureWarning: `tokenizer` is deprecated and will be removed in version 5.0.0 for `Seq2SeqTrainer.__init__`. Use `processing_class` instead.\n",
            "  trainer = Seq2SeqTrainer(\n"
          ]
        },
        {
          "data": {
            "text/html": [
              "\n",
              "    <div>\n",
              "      \n",
              "      <progress value='1500' max='1500' style='width:300px; height:20px; vertical-align: middle;'></progress>\n",
              "      [1500/1500 03:31, Epoch 3/3]\n",
              "    </div>\n",
              "    <table border=\"1\" class=\"dataframe\">\n",
              "  <thead>\n",
              " <tr style=\"text-align: left;\">\n",
              "      <th>Epoch</th>\n",
              "      <th>Training Loss</th>\n",
              "      <th>Validation Loss</th>\n",
              "    </tr>\n",
              "  </thead>\n",
              "  <tbody>\n",
              "    <tr>\n",
              "      <td>1</td>\n",
              "      <td>3.094500</td>\n",
              "      <td>2.861740</td>\n",
              "    </tr>\n",
              "    <tr>\n",
              "      <td>2</td>\n",
              "      <td>3.002500</td>\n",
              "      <td>2.828042</td>\n",
              "    </tr>\n",
              "    <tr>\n",
              "      <td>3</td>\n",
              "      <td>3.033200</td>\n",
              "      <td>2.818718</td>\n",
              "    </tr>\n",
              "  </tbody>\n",
              "</table><p>"
            ],
            "text/plain": [
              "<IPython.core.display.HTML object>"
            ]
          },
          "metadata": {},
          "output_type": "display_data"
        },
        {
          "data": {
            "text/html": [
              "\n",
              "    <div>\n",
              "      \n",
              "      <progress value='63' max='63' style='width:300px; height:20px; vertical-align: middle;'></progress>\n",
              "      [63/63 00:03]\n",
              "    </div>\n",
              "    "
            ],
            "text/plain": [
              "<IPython.core.display.HTML object>"
            ]
          },
          "metadata": {},
          "output_type": "display_data"
        },
        {
          "name": "stdout",
          "output_type": "stream",
          "text": [
            "Evaluation results: {'eval_loss': 2.818718433380127, 'eval_runtime': 3.7555, 'eval_samples_per_second': 266.273, 'eval_steps_per_second': 16.775, 'epoch': 3.0}\n",
            "Testing LoRA configuration: r=16, alpha=32, dropout=0.2\n"
          ]
        },
        {
          "name": "stderr",
          "output_type": "stream",
          "text": [
            "/usr/local/lib/python3.10/dist-packages/transformers/training_args.py:1568: FutureWarning: `evaluation_strategy` is deprecated and will be removed in version 4.46 of 🤗 Transformers. Use `eval_strategy` instead\n",
            "  warnings.warn(\n",
            "<ipython-input-66-3d85924d9212>:63: FutureWarning: `tokenizer` is deprecated and will be removed in version 5.0.0 for `Seq2SeqTrainer.__init__`. Use `processing_class` instead.\n",
            "  trainer = Seq2SeqTrainer(\n"
          ]
        },
        {
          "data": {
            "text/html": [
              "\n",
              "    <div>\n",
              "      \n",
              "      <progress value='1500' max='1500' style='width:300px; height:20px; vertical-align: middle;'></progress>\n",
              "      [1500/1500 03:32, Epoch 3/3]\n",
              "    </div>\n",
              "    <table border=\"1\" class=\"dataframe\">\n",
              "  <thead>\n",
              " <tr style=\"text-align: left;\">\n",
              "      <th>Epoch</th>\n",
              "      <th>Training Loss</th>\n",
              "      <th>Validation Loss</th>\n",
              "    </tr>\n",
              "  </thead>\n",
              "  <tbody>\n",
              "    <tr>\n",
              "      <td>1</td>\n",
              "      <td>3.097200</td>\n",
              "      <td>2.863936</td>\n",
              "    </tr>\n",
              "    <tr>\n",
              "      <td>2</td>\n",
              "      <td>3.004700</td>\n",
              "      <td>2.829329</td>\n",
              "    </tr>\n",
              "    <tr>\n",
              "      <td>3</td>\n",
              "      <td>3.035100</td>\n",
              "      <td>2.820055</td>\n",
              "    </tr>\n",
              "  </tbody>\n",
              "</table><p>"
            ],
            "text/plain": [
              "<IPython.core.display.HTML object>"
            ]
          },
          "metadata": {},
          "output_type": "display_data"
        },
        {
          "data": {
            "text/html": [
              "\n",
              "    <div>\n",
              "      \n",
              "      <progress value='63' max='63' style='width:300px; height:20px; vertical-align: middle;'></progress>\n",
              "      [63/63 00:03]\n",
              "    </div>\n",
              "    "
            ],
            "text/plain": [
              "<IPython.core.display.HTML object>"
            ]
          },
          "metadata": {},
          "output_type": "display_data"
        },
        {
          "name": "stdout",
          "output_type": "stream",
          "text": [
            "Evaluation results: {'eval_loss': 2.8200550079345703, 'eval_runtime': 3.7998, 'eval_samples_per_second': 263.174, 'eval_steps_per_second': 16.58, 'epoch': 3.0}\n",
            "Testing LoRA configuration: r=16, alpha=64, dropout=0.0\n"
          ]
        },
        {
          "name": "stderr",
          "output_type": "stream",
          "text": [
            "/usr/local/lib/python3.10/dist-packages/transformers/training_args.py:1568: FutureWarning: `evaluation_strategy` is deprecated and will be removed in version 4.46 of 🤗 Transformers. Use `eval_strategy` instead\n",
            "  warnings.warn(\n",
            "<ipython-input-66-3d85924d9212>:63: FutureWarning: `tokenizer` is deprecated and will be removed in version 5.0.0 for `Seq2SeqTrainer.__init__`. Use `processing_class` instead.\n",
            "  trainer = Seq2SeqTrainer(\n"
          ]
        },
        {
          "data": {
            "text/html": [
              "\n",
              "    <div>\n",
              "      \n",
              "      <progress value='1500' max='1500' style='width:300px; height:20px; vertical-align: middle;'></progress>\n",
              "      [1500/1500 03:23, Epoch 3/3]\n",
              "    </div>\n",
              "    <table border=\"1\" class=\"dataframe\">\n",
              "  <thead>\n",
              " <tr style=\"text-align: left;\">\n",
              "      <th>Epoch</th>\n",
              "      <th>Training Loss</th>\n",
              "      <th>Validation Loss</th>\n",
              "    </tr>\n",
              "  </thead>\n",
              "  <tbody>\n",
              "    <tr>\n",
              "      <td>1</td>\n",
              "      <td>3.056200</td>\n",
              "      <td>2.831883</td>\n",
              "    </tr>\n",
              "    <tr>\n",
              "      <td>2</td>\n",
              "      <td>2.976600</td>\n",
              "      <td>2.802105</td>\n",
              "    </tr>\n",
              "    <tr>\n",
              "      <td>3</td>\n",
              "      <td>3.000700</td>\n",
              "      <td>2.792005</td>\n",
              "    </tr>\n",
              "  </tbody>\n",
              "</table><p>"
            ],
            "text/plain": [
              "<IPython.core.display.HTML object>"
            ]
          },
          "metadata": {},
          "output_type": "display_data"
        },
        {
          "data": {
            "text/html": [
              "\n",
              "    <div>\n",
              "      \n",
              "      <progress value='63' max='63' style='width:300px; height:20px; vertical-align: middle;'></progress>\n",
              "      [63/63 00:03]\n",
              "    </div>\n",
              "    "
            ],
            "text/plain": [
              "<IPython.core.display.HTML object>"
            ]
          },
          "metadata": {},
          "output_type": "display_data"
        },
        {
          "name": "stdout",
          "output_type": "stream",
          "text": [
            "Evaluation results: {'eval_loss': 2.7920048236846924, 'eval_runtime': 3.6739, 'eval_samples_per_second': 272.191, 'eval_steps_per_second': 17.148, 'epoch': 3.0}\n",
            "Testing LoRA configuration: r=16, alpha=64, dropout=0.1\n"
          ]
        },
        {
          "name": "stderr",
          "output_type": "stream",
          "text": [
            "/usr/local/lib/python3.10/dist-packages/transformers/training_args.py:1568: FutureWarning: `evaluation_strategy` is deprecated and will be removed in version 4.46 of 🤗 Transformers. Use `eval_strategy` instead\n",
            "  warnings.warn(\n",
            "<ipython-input-66-3d85924d9212>:63: FutureWarning: `tokenizer` is deprecated and will be removed in version 5.0.0 for `Seq2SeqTrainer.__init__`. Use `processing_class` instead.\n",
            "  trainer = Seq2SeqTrainer(\n"
          ]
        },
        {
          "data": {
            "text/html": [
              "\n",
              "    <div>\n",
              "      \n",
              "      <progress value='1500' max='1500' style='width:300px; height:20px; vertical-align: middle;'></progress>\n",
              "      [1500/1500 03:31, Epoch 3/3]\n",
              "    </div>\n",
              "    <table border=\"1\" class=\"dataframe\">\n",
              "  <thead>\n",
              " <tr style=\"text-align: left;\">\n",
              "      <th>Epoch</th>\n",
              "      <th>Training Loss</th>\n",
              "      <th>Validation Loss</th>\n",
              "    </tr>\n",
              "  </thead>\n",
              "  <tbody>\n",
              "    <tr>\n",
              "      <td>1</td>\n",
              "      <td>3.064500</td>\n",
              "      <td>2.833652</td>\n",
              "    </tr>\n",
              "    <tr>\n",
              "      <td>2</td>\n",
              "      <td>2.974800</td>\n",
              "      <td>2.804765</td>\n",
              "    </tr>\n",
              "    <tr>\n",
              "      <td>3</td>\n",
              "      <td>3.003600</td>\n",
              "      <td>2.794752</td>\n",
              "    </tr>\n",
              "  </tbody>\n",
              "</table><p>"
            ],
            "text/plain": [
              "<IPython.core.display.HTML object>"
            ]
          },
          "metadata": {},
          "output_type": "display_data"
        },
        {
          "data": {
            "text/html": [
              "\n",
              "    <div>\n",
              "      \n",
              "      <progress value='63' max='63' style='width:300px; height:20px; vertical-align: middle;'></progress>\n",
              "      [63/63 00:03]\n",
              "    </div>\n",
              "    "
            ],
            "text/plain": [
              "<IPython.core.display.HTML object>"
            ]
          },
          "metadata": {},
          "output_type": "display_data"
        },
        {
          "name": "stdout",
          "output_type": "stream",
          "text": [
            "Evaluation results: {'eval_loss': 2.7947518825531006, 'eval_runtime': 3.7311, 'eval_samples_per_second': 268.018, 'eval_steps_per_second': 16.885, 'epoch': 3.0}\n",
            "Testing LoRA configuration: r=16, alpha=64, dropout=0.2\n"
          ]
        },
        {
          "name": "stderr",
          "output_type": "stream",
          "text": [
            "/usr/local/lib/python3.10/dist-packages/transformers/training_args.py:1568: FutureWarning: `evaluation_strategy` is deprecated and will be removed in version 4.46 of 🤗 Transformers. Use `eval_strategy` instead\n",
            "  warnings.warn(\n",
            "<ipython-input-66-3d85924d9212>:63: FutureWarning: `tokenizer` is deprecated and will be removed in version 5.0.0 for `Seq2SeqTrainer.__init__`. Use `processing_class` instead.\n",
            "  trainer = Seq2SeqTrainer(\n"
          ]
        },
        {
          "data": {
            "text/html": [
              "\n",
              "    <div>\n",
              "      \n",
              "      <progress value='1500' max='1500' style='width:300px; height:20px; vertical-align: middle;'></progress>\n",
              "      [1500/1500 03:30, Epoch 3/3]\n",
              "    </div>\n",
              "    <table border=\"1\" class=\"dataframe\">\n",
              "  <thead>\n",
              " <tr style=\"text-align: left;\">\n",
              "      <th>Epoch</th>\n",
              "      <th>Training Loss</th>\n",
              "      <th>Validation Loss</th>\n",
              "    </tr>\n",
              "  </thead>\n",
              "  <tbody>\n",
              "    <tr>\n",
              "      <td>1</td>\n",
              "      <td>3.066900</td>\n",
              "      <td>2.835549</td>\n",
              "    </tr>\n",
              "    <tr>\n",
              "      <td>2</td>\n",
              "      <td>2.977600</td>\n",
              "      <td>2.806368</td>\n",
              "    </tr>\n",
              "    <tr>\n",
              "      <td>3</td>\n",
              "      <td>3.006200</td>\n",
              "      <td>2.796460</td>\n",
              "    </tr>\n",
              "  </tbody>\n",
              "</table><p>"
            ],
            "text/plain": [
              "<IPython.core.display.HTML object>"
            ]
          },
          "metadata": {},
          "output_type": "display_data"
        },
        {
          "data": {
            "text/html": [
              "\n",
              "    <div>\n",
              "      \n",
              "      <progress value='63' max='63' style='width:300px; height:20px; vertical-align: middle;'></progress>\n",
              "      [63/63 00:03]\n",
              "    </div>\n",
              "    "
            ],
            "text/plain": [
              "<IPython.core.display.HTML object>"
            ]
          },
          "metadata": {},
          "output_type": "display_data"
        },
        {
          "name": "stdout",
          "output_type": "stream",
          "text": [
            "Evaluation results: {'eval_loss': 2.7964603900909424, 'eval_runtime': 3.6864, 'eval_samples_per_second': 271.265, 'eval_steps_per_second': 17.09, 'epoch': 3.0}\n",
            "Testing LoRA configuration: r=32, alpha=16, dropout=0.0\n"
          ]
        },
        {
          "name": "stderr",
          "output_type": "stream",
          "text": [
            "/usr/local/lib/python3.10/dist-packages/transformers/training_args.py:1568: FutureWarning: `evaluation_strategy` is deprecated and will be removed in version 4.46 of 🤗 Transformers. Use `eval_strategy` instead\n",
            "  warnings.warn(\n",
            "<ipython-input-66-3d85924d9212>:63: FutureWarning: `tokenizer` is deprecated and will be removed in version 5.0.0 for `Seq2SeqTrainer.__init__`. Use `processing_class` instead.\n",
            "  trainer = Seq2SeqTrainer(\n"
          ]
        },
        {
          "data": {
            "text/html": [
              "\n",
              "    <div>\n",
              "      \n",
              "      <progress value='1500' max='1500' style='width:300px; height:20px; vertical-align: middle;'></progress>\n",
              "      [1500/1500 03:23, Epoch 3/3]\n",
              "    </div>\n",
              "    <table border=\"1\" class=\"dataframe\">\n",
              "  <thead>\n",
              " <tr style=\"text-align: left;\">\n",
              "      <th>Epoch</th>\n",
              "      <th>Training Loss</th>\n",
              "      <th>Validation Loss</th>\n",
              "    </tr>\n",
              "  </thead>\n",
              "  <tbody>\n",
              "    <tr>\n",
              "      <td>1</td>\n",
              "      <td>3.137400</td>\n",
              "      <td>2.904030</td>\n",
              "    </tr>\n",
              "    <tr>\n",
              "      <td>2</td>\n",
              "      <td>3.037300</td>\n",
              "      <td>2.853239</td>\n",
              "    </tr>\n",
              "    <tr>\n",
              "      <td>3</td>\n",
              "      <td>3.061600</td>\n",
              "      <td>2.842674</td>\n",
              "    </tr>\n",
              "  </tbody>\n",
              "</table><p>"
            ],
            "text/plain": [
              "<IPython.core.display.HTML object>"
            ]
          },
          "metadata": {},
          "output_type": "display_data"
        },
        {
          "data": {
            "text/html": [
              "\n",
              "    <div>\n",
              "      \n",
              "      <progress value='63' max='63' style='width:300px; height:20px; vertical-align: middle;'></progress>\n",
              "      [63/63 00:03]\n",
              "    </div>\n",
              "    "
            ],
            "text/plain": [
              "<IPython.core.display.HTML object>"
            ]
          },
          "metadata": {},
          "output_type": "display_data"
        },
        {
          "name": "stdout",
          "output_type": "stream",
          "text": [
            "Evaluation results: {'eval_loss': 2.8426735401153564, 'eval_runtime': 3.6849, 'eval_samples_per_second': 271.376, 'eval_steps_per_second': 17.097, 'epoch': 3.0}\n",
            "Testing LoRA configuration: r=32, alpha=16, dropout=0.1\n"
          ]
        },
        {
          "name": "stderr",
          "output_type": "stream",
          "text": [
            "/usr/local/lib/python3.10/dist-packages/transformers/training_args.py:1568: FutureWarning: `evaluation_strategy` is deprecated and will be removed in version 4.46 of 🤗 Transformers. Use `eval_strategy` instead\n",
            "  warnings.warn(\n",
            "<ipython-input-66-3d85924d9212>:63: FutureWarning: `tokenizer` is deprecated and will be removed in version 5.0.0 for `Seq2SeqTrainer.__init__`. Use `processing_class` instead.\n",
            "  trainer = Seq2SeqTrainer(\n"
          ]
        },
        {
          "data": {
            "text/html": [
              "\n",
              "    <div>\n",
              "      \n",
              "      <progress value='1500' max='1500' style='width:300px; height:20px; vertical-align: middle;'></progress>\n",
              "      [1500/1500 03:30, Epoch 3/3]\n",
              "    </div>\n",
              "    <table border=\"1\" class=\"dataframe\">\n",
              "  <thead>\n",
              " <tr style=\"text-align: left;\">\n",
              "      <th>Epoch</th>\n",
              "      <th>Training Loss</th>\n",
              "      <th>Validation Loss</th>\n",
              "    </tr>\n",
              "  </thead>\n",
              "  <tbody>\n",
              "    <tr>\n",
              "      <td>1</td>\n",
              "      <td>3.146000</td>\n",
              "      <td>2.905088</td>\n",
              "    </tr>\n",
              "    <tr>\n",
              "      <td>2</td>\n",
              "      <td>3.033100</td>\n",
              "      <td>2.854301</td>\n",
              "    </tr>\n",
              "    <tr>\n",
              "      <td>3</td>\n",
              "      <td>3.061800</td>\n",
              "      <td>2.843768</td>\n",
              "    </tr>\n",
              "  </tbody>\n",
              "</table><p>"
            ],
            "text/plain": [
              "<IPython.core.display.HTML object>"
            ]
          },
          "metadata": {},
          "output_type": "display_data"
        },
        {
          "data": {
            "text/html": [
              "\n",
              "    <div>\n",
              "      \n",
              "      <progress value='63' max='63' style='width:300px; height:20px; vertical-align: middle;'></progress>\n",
              "      [63/63 00:03]\n",
              "    </div>\n",
              "    "
            ],
            "text/plain": [
              "<IPython.core.display.HTML object>"
            ]
          },
          "metadata": {},
          "output_type": "display_data"
        },
        {
          "name": "stdout",
          "output_type": "stream",
          "text": [
            "Evaluation results: {'eval_loss': 2.8437676429748535, 'eval_runtime': 3.8144, 'eval_samples_per_second': 262.166, 'eval_steps_per_second': 16.516, 'epoch': 3.0}\n",
            "Testing LoRA configuration: r=32, alpha=16, dropout=0.2\n"
          ]
        },
        {
          "name": "stderr",
          "output_type": "stream",
          "text": [
            "/usr/local/lib/python3.10/dist-packages/transformers/training_args.py:1568: FutureWarning: `evaluation_strategy` is deprecated and will be removed in version 4.46 of 🤗 Transformers. Use `eval_strategy` instead\n",
            "  warnings.warn(\n",
            "<ipython-input-66-3d85924d9212>:63: FutureWarning: `tokenizer` is deprecated and will be removed in version 5.0.0 for `Seq2SeqTrainer.__init__`. Use `processing_class` instead.\n",
            "  trainer = Seq2SeqTrainer(\n"
          ]
        },
        {
          "data": {
            "text/html": [
              "\n",
              "    <div>\n",
              "      \n",
              "      <progress value='1500' max='1500' style='width:300px; height:20px; vertical-align: middle;'></progress>\n",
              "      [1500/1500 03:30, Epoch 3/3]\n",
              "    </div>\n",
              "    <table border=\"1\" class=\"dataframe\">\n",
              "  <thead>\n",
              " <tr style=\"text-align: left;\">\n",
              "      <th>Epoch</th>\n",
              "      <th>Training Loss</th>\n",
              "      <th>Validation Loss</th>\n",
              "    </tr>\n",
              "  </thead>\n",
              "  <tbody>\n",
              "    <tr>\n",
              "      <td>1</td>\n",
              "      <td>3.149100</td>\n",
              "      <td>2.907387</td>\n",
              "    </tr>\n",
              "    <tr>\n",
              "      <td>2</td>\n",
              "      <td>3.034900</td>\n",
              "      <td>2.855451</td>\n",
              "    </tr>\n",
              "    <tr>\n",
              "      <td>3</td>\n",
              "      <td>3.063400</td>\n",
              "      <td>2.844864</td>\n",
              "    </tr>\n",
              "  </tbody>\n",
              "</table><p>"
            ],
            "text/plain": [
              "<IPython.core.display.HTML object>"
            ]
          },
          "metadata": {},
          "output_type": "display_data"
        },
        {
          "data": {
            "text/html": [
              "\n",
              "    <div>\n",
              "      \n",
              "      <progress value='63' max='63' style='width:300px; height:20px; vertical-align: middle;'></progress>\n",
              "      [63/63 00:03]\n",
              "    </div>\n",
              "    "
            ],
            "text/plain": [
              "<IPython.core.display.HTML object>"
            ]
          },
          "metadata": {},
          "output_type": "display_data"
        },
        {
          "name": "stdout",
          "output_type": "stream",
          "text": [
            "Evaluation results: {'eval_loss': 2.8448636531829834, 'eval_runtime': 3.7557, 'eval_samples_per_second': 266.263, 'eval_steps_per_second': 16.775, 'epoch': 3.0}\n",
            "Testing LoRA configuration: r=32, alpha=32, dropout=0.0\n"
          ]
        },
        {
          "name": "stderr",
          "output_type": "stream",
          "text": [
            "/usr/local/lib/python3.10/dist-packages/transformers/training_args.py:1568: FutureWarning: `evaluation_strategy` is deprecated and will be removed in version 4.46 of 🤗 Transformers. Use `eval_strategy` instead\n",
            "  warnings.warn(\n",
            "<ipython-input-66-3d85924d9212>:63: FutureWarning: `tokenizer` is deprecated and will be removed in version 5.0.0 for `Seq2SeqTrainer.__init__`. Use `processing_class` instead.\n",
            "  trainer = Seq2SeqTrainer(\n"
          ]
        },
        {
          "data": {
            "text/html": [
              "\n",
              "    <div>\n",
              "      \n",
              "      <progress value='1500' max='1500' style='width:300px; height:20px; vertical-align: middle;'></progress>\n",
              "      [1500/1500 03:22, Epoch 3/3]\n",
              "    </div>\n",
              "    <table border=\"1\" class=\"dataframe\">\n",
              "  <thead>\n",
              " <tr style=\"text-align: left;\">\n",
              "      <th>Epoch</th>\n",
              "      <th>Training Loss</th>\n",
              "      <th>Validation Loss</th>\n",
              "    </tr>\n",
              "  </thead>\n",
              "  <tbody>\n",
              "    <tr>\n",
              "      <td>1</td>\n",
              "      <td>3.088600</td>\n",
              "      <td>2.861762</td>\n",
              "    </tr>\n",
              "    <tr>\n",
              "      <td>2</td>\n",
              "      <td>3.006400</td>\n",
              "      <td>2.826118</td>\n",
              "    </tr>\n",
              "    <tr>\n",
              "      <td>3</td>\n",
              "      <td>3.032100</td>\n",
              "      <td>2.816821</td>\n",
              "    </tr>\n",
              "  </tbody>\n",
              "</table><p>"
            ],
            "text/plain": [
              "<IPython.core.display.HTML object>"
            ]
          },
          "metadata": {},
          "output_type": "display_data"
        },
        {
          "data": {
            "text/html": [
              "\n",
              "    <div>\n",
              "      \n",
              "      <progress value='63' max='63' style='width:300px; height:20px; vertical-align: middle;'></progress>\n",
              "      [63/63 00:03]\n",
              "    </div>\n",
              "    "
            ],
            "text/plain": [
              "<IPython.core.display.HTML object>"
            ]
          },
          "metadata": {},
          "output_type": "display_data"
        },
        {
          "name": "stdout",
          "output_type": "stream",
          "text": [
            "Evaluation results: {'eval_loss': 2.8168208599090576, 'eval_runtime': 3.6515, 'eval_samples_per_second': 273.863, 'eval_steps_per_second': 17.253, 'epoch': 3.0}\n",
            "Testing LoRA configuration: r=32, alpha=32, dropout=0.1\n"
          ]
        },
        {
          "name": "stderr",
          "output_type": "stream",
          "text": [
            "/usr/local/lib/python3.10/dist-packages/transformers/training_args.py:1568: FutureWarning: `evaluation_strategy` is deprecated and will be removed in version 4.46 of 🤗 Transformers. Use `eval_strategy` instead\n",
            "  warnings.warn(\n",
            "<ipython-input-66-3d85924d9212>:63: FutureWarning: `tokenizer` is deprecated and will be removed in version 5.0.0 for `Seq2SeqTrainer.__init__`. Use `processing_class` instead.\n",
            "  trainer = Seq2SeqTrainer(\n"
          ]
        },
        {
          "data": {
            "text/html": [
              "\n",
              "    <div>\n",
              "      \n",
              "      <progress value='1500' max='1500' style='width:300px; height:20px; vertical-align: middle;'></progress>\n",
              "      [1500/1500 03:30, Epoch 3/3]\n",
              "    </div>\n",
              "    <table border=\"1\" class=\"dataframe\">\n",
              "  <thead>\n",
              " <tr style=\"text-align: left;\">\n",
              "      <th>Epoch</th>\n",
              "      <th>Training Loss</th>\n",
              "      <th>Validation Loss</th>\n",
              "    </tr>\n",
              "  </thead>\n",
              "  <tbody>\n",
              "    <tr>\n",
              "      <td>1</td>\n",
              "      <td>3.096300</td>\n",
              "      <td>2.862282</td>\n",
              "    </tr>\n",
              "    <tr>\n",
              "      <td>2</td>\n",
              "      <td>3.003200</td>\n",
              "      <td>2.827423</td>\n",
              "    </tr>\n",
              "    <tr>\n",
              "      <td>3</td>\n",
              "      <td>3.032900</td>\n",
              "      <td>2.818080</td>\n",
              "    </tr>\n",
              "  </tbody>\n",
              "</table><p>"
            ],
            "text/plain": [
              "<IPython.core.display.HTML object>"
            ]
          },
          "metadata": {},
          "output_type": "display_data"
        },
        {
          "data": {
            "text/html": [
              "\n",
              "    <div>\n",
              "      \n",
              "      <progress value='63' max='63' style='width:300px; height:20px; vertical-align: middle;'></progress>\n",
              "      [63/63 00:03]\n",
              "    </div>\n",
              "    "
            ],
            "text/plain": [
              "<IPython.core.display.HTML object>"
            ]
          },
          "metadata": {},
          "output_type": "display_data"
        },
        {
          "name": "stdout",
          "output_type": "stream",
          "text": [
            "Evaluation results: {'eval_loss': 2.818079710006714, 'eval_runtime': 3.7697, 'eval_samples_per_second': 265.276, 'eval_steps_per_second': 16.712, 'epoch': 3.0}\n",
            "Testing LoRA configuration: r=32, alpha=32, dropout=0.2\n"
          ]
        },
        {
          "name": "stderr",
          "output_type": "stream",
          "text": [
            "/usr/local/lib/python3.10/dist-packages/transformers/training_args.py:1568: FutureWarning: `evaluation_strategy` is deprecated and will be removed in version 4.46 of 🤗 Transformers. Use `eval_strategy` instead\n",
            "  warnings.warn(\n",
            "<ipython-input-66-3d85924d9212>:63: FutureWarning: `tokenizer` is deprecated and will be removed in version 5.0.0 for `Seq2SeqTrainer.__init__`. Use `processing_class` instead.\n",
            "  trainer = Seq2SeqTrainer(\n"
          ]
        },
        {
          "data": {
            "text/html": [
              "\n",
              "    <div>\n",
              "      \n",
              "      <progress value='1500' max='1500' style='width:300px; height:20px; vertical-align: middle;'></progress>\n",
              "      [1500/1500 03:34, Epoch 3/3]\n",
              "    </div>\n",
              "    <table border=\"1\" class=\"dataframe\">\n",
              "  <thead>\n",
              " <tr style=\"text-align: left;\">\n",
              "      <th>Epoch</th>\n",
              "      <th>Training Loss</th>\n",
              "      <th>Validation Loss</th>\n",
              "    </tr>\n",
              "  </thead>\n",
              "  <tbody>\n",
              "    <tr>\n",
              "      <td>1</td>\n",
              "      <td>3.098700</td>\n",
              "      <td>2.864204</td>\n",
              "    </tr>\n",
              "    <tr>\n",
              "      <td>2</td>\n",
              "      <td>3.005300</td>\n",
              "      <td>2.828893</td>\n",
              "    </tr>\n",
              "    <tr>\n",
              "      <td>3</td>\n",
              "      <td>3.034800</td>\n",
              "      <td>2.819568</td>\n",
              "    </tr>\n",
              "  </tbody>\n",
              "</table><p>"
            ],
            "text/plain": [
              "<IPython.core.display.HTML object>"
            ]
          },
          "metadata": {},
          "output_type": "display_data"
        },
        {
          "data": {
            "text/html": [
              "\n",
              "    <div>\n",
              "      \n",
              "      <progress value='63' max='63' style='width:300px; height:20px; vertical-align: middle;'></progress>\n",
              "      [63/63 00:03]\n",
              "    </div>\n",
              "    "
            ],
            "text/plain": [
              "<IPython.core.display.HTML object>"
            ]
          },
          "metadata": {},
          "output_type": "display_data"
        },
        {
          "name": "stdout",
          "output_type": "stream",
          "text": [
            "Evaluation results: {'eval_loss': 2.819567918777466, 'eval_runtime': 3.7805, 'eval_samples_per_second': 264.518, 'eval_steps_per_second': 16.665, 'epoch': 3.0}\n",
            "Testing LoRA configuration: r=32, alpha=64, dropout=0.0\n"
          ]
        },
        {
          "name": "stderr",
          "output_type": "stream",
          "text": [
            "/usr/local/lib/python3.10/dist-packages/transformers/training_args.py:1568: FutureWarning: `evaluation_strategy` is deprecated and will be removed in version 4.46 of 🤗 Transformers. Use `eval_strategy` instead\n",
            "  warnings.warn(\n",
            "<ipython-input-66-3d85924d9212>:63: FutureWarning: `tokenizer` is deprecated and will be removed in version 5.0.0 for `Seq2SeqTrainer.__init__`. Use `processing_class` instead.\n",
            "  trainer = Seq2SeqTrainer(\n"
          ]
        },
        {
          "data": {
            "text/html": [
              "\n",
              "    <div>\n",
              "      \n",
              "      <progress value='1500' max='1500' style='width:300px; height:20px; vertical-align: middle;'></progress>\n",
              "      [1500/1500 03:27, Epoch 3/3]\n",
              "    </div>\n",
              "    <table border=\"1\" class=\"dataframe\">\n",
              "  <thead>\n",
              " <tr style=\"text-align: left;\">\n",
              "      <th>Epoch</th>\n",
              "      <th>Training Loss</th>\n",
              "      <th>Validation Loss</th>\n",
              "    </tr>\n",
              "  </thead>\n",
              "  <tbody>\n",
              "    <tr>\n",
              "      <td>1</td>\n",
              "      <td>3.056200</td>\n",
              "      <td>2.831829</td>\n",
              "    </tr>\n",
              "    <tr>\n",
              "      <td>2</td>\n",
              "      <td>2.977600</td>\n",
              "      <td>2.802418</td>\n",
              "    </tr>\n",
              "    <tr>\n",
              "      <td>3</td>\n",
              "      <td>3.001200</td>\n",
              "      <td>2.792586</td>\n",
              "    </tr>\n",
              "  </tbody>\n",
              "</table><p>"
            ],
            "text/plain": [
              "<IPython.core.display.HTML object>"
            ]
          },
          "metadata": {},
          "output_type": "display_data"
        },
        {
          "data": {
            "text/html": [
              "\n",
              "    <div>\n",
              "      \n",
              "      <progress value='63' max='63' style='width:300px; height:20px; vertical-align: middle;'></progress>\n",
              "      [63/63 00:03]\n",
              "    </div>\n",
              "    "
            ],
            "text/plain": [
              "<IPython.core.display.HTML object>"
            ]
          },
          "metadata": {},
          "output_type": "display_data"
        },
        {
          "name": "stdout",
          "output_type": "stream",
          "text": [
            "Evaluation results: {'eval_loss': 2.792585611343384, 'eval_runtime': 3.6608, 'eval_samples_per_second': 273.167, 'eval_steps_per_second': 17.21, 'epoch': 3.0}\n",
            "Testing LoRA configuration: r=32, alpha=64, dropout=0.1\n"
          ]
        },
        {
          "name": "stderr",
          "output_type": "stream",
          "text": [
            "/usr/local/lib/python3.10/dist-packages/transformers/training_args.py:1568: FutureWarning: `evaluation_strategy` is deprecated and will be removed in version 4.46 of 🤗 Transformers. Use `eval_strategy` instead\n",
            "  warnings.warn(\n",
            "<ipython-input-66-3d85924d9212>:63: FutureWarning: `tokenizer` is deprecated and will be removed in version 5.0.0 for `Seq2SeqTrainer.__init__`. Use `processing_class` instead.\n",
            "  trainer = Seq2SeqTrainer(\n"
          ]
        },
        {
          "data": {
            "text/html": [
              "\n",
              "    <div>\n",
              "      \n",
              "      <progress value='1500' max='1500' style='width:300px; height:20px; vertical-align: middle;'></progress>\n",
              "      [1500/1500 03:34, Epoch 3/3]\n",
              "    </div>\n",
              "    <table border=\"1\" class=\"dataframe\">\n",
              "  <thead>\n",
              " <tr style=\"text-align: left;\">\n",
              "      <th>Epoch</th>\n",
              "      <th>Training Loss</th>\n",
              "      <th>Validation Loss</th>\n",
              "    </tr>\n",
              "  </thead>\n",
              "  <tbody>\n",
              "    <tr>\n",
              "      <td>1</td>\n",
              "      <td>3.064900</td>\n",
              "      <td>2.833368</td>\n",
              "    </tr>\n",
              "    <tr>\n",
              "      <td>2</td>\n",
              "      <td>2.976100</td>\n",
              "      <td>2.804645</td>\n",
              "    </tr>\n",
              "    <tr>\n",
              "      <td>3</td>\n",
              "      <td>3.003700</td>\n",
              "      <td>2.794915</td>\n",
              "    </tr>\n",
              "  </tbody>\n",
              "</table><p>"
            ],
            "text/plain": [
              "<IPython.core.display.HTML object>"
            ]
          },
          "metadata": {},
          "output_type": "display_data"
        },
        {
          "data": {
            "text/html": [
              "\n",
              "    <div>\n",
              "      \n",
              "      <progress value='63' max='63' style='width:300px; height:20px; vertical-align: middle;'></progress>\n",
              "      [63/63 00:03]\n",
              "    </div>\n",
              "    "
            ],
            "text/plain": [
              "<IPython.core.display.HTML object>"
            ]
          },
          "metadata": {},
          "output_type": "display_data"
        },
        {
          "name": "stdout",
          "output_type": "stream",
          "text": [
            "Evaluation results: {'eval_loss': 2.7949154376983643, 'eval_runtime': 3.7462, 'eval_samples_per_second': 266.937, 'eval_steps_per_second': 16.817, 'epoch': 3.0}\n",
            "Testing LoRA configuration: r=32, alpha=64, dropout=0.2\n"
          ]
        },
        {
          "name": "stderr",
          "output_type": "stream",
          "text": [
            "/usr/local/lib/python3.10/dist-packages/transformers/training_args.py:1568: FutureWarning: `evaluation_strategy` is deprecated and will be removed in version 4.46 of 🤗 Transformers. Use `eval_strategy` instead\n",
            "  warnings.warn(\n",
            "<ipython-input-66-3d85924d9212>:63: FutureWarning: `tokenizer` is deprecated and will be removed in version 5.0.0 for `Seq2SeqTrainer.__init__`. Use `processing_class` instead.\n",
            "  trainer = Seq2SeqTrainer(\n"
          ]
        },
        {
          "data": {
            "text/html": [
              "\n",
              "    <div>\n",
              "      \n",
              "      <progress value='1500' max='1500' style='width:300px; height:20px; vertical-align: middle;'></progress>\n",
              "      [1500/1500 03:34, Epoch 3/3]\n",
              "    </div>\n",
              "    <table border=\"1\" class=\"dataframe\">\n",
              "  <thead>\n",
              " <tr style=\"text-align: left;\">\n",
              "      <th>Epoch</th>\n",
              "      <th>Training Loss</th>\n",
              "      <th>Validation Loss</th>\n",
              "    </tr>\n",
              "  </thead>\n",
              "  <tbody>\n",
              "    <tr>\n",
              "      <td>1</td>\n",
              "      <td>3.067600</td>\n",
              "      <td>2.835190</td>\n",
              "    </tr>\n",
              "    <tr>\n",
              "      <td>2</td>\n",
              "      <td>2.978700</td>\n",
              "      <td>2.806263</td>\n",
              "    </tr>\n",
              "    <tr>\n",
              "      <td>3</td>\n",
              "      <td>3.006200</td>\n",
              "      <td>2.796576</td>\n",
              "    </tr>\n",
              "  </tbody>\n",
              "</table><p>"
            ],
            "text/plain": [
              "<IPython.core.display.HTML object>"
            ]
          },
          "metadata": {},
          "output_type": "display_data"
        },
        {
          "data": {
            "text/html": [
              "\n",
              "    <div>\n",
              "      \n",
              "      <progress value='63' max='63' style='width:300px; height:20px; vertical-align: middle;'></progress>\n",
              "      [63/63 00:03]\n",
              "    </div>\n",
              "    "
            ],
            "text/plain": [
              "<IPython.core.display.HTML object>"
            ]
          },
          "metadata": {},
          "output_type": "display_data"
        },
        {
          "name": "stdout",
          "output_type": "stream",
          "text": [
            "Evaluation results: {'eval_loss': 2.7965757846832275, 'eval_runtime': 3.7868, 'eval_samples_per_second': 264.076, 'eval_steps_per_second': 16.637, 'epoch': 3.0}\n",
            "Best LoRA Configuration:\n",
            "{'r': 8, 'lora_alpha': 64, 'lora_dropout': 0.0}\n",
            "Best Evaluation Results:\n",
            "{'eval_loss': 2.791430950164795, 'eval_runtime': 3.7583, 'eval_samples_per_second': 266.079, 'eval_steps_per_second': 16.763, 'epoch': 3.0}\n"
          ]
        }
      ],
      "source": [
        "# Define hyperparameter grid for LoRA\n",
        "r_values = [8, 16, 32]  # Low-rank dimensions\n",
        "alpha_values = [16, 32, 64]  # Scaling factors\n",
        "dropout_values = [0.0, 0.1, 0.2]  # Dropout rates\n",
        "\n",
        "# Fixed learning rate, batch size, and epochs (from prior tuning)\n",
        "learning_rate = 2e-5\n",
        "batch_size = 16\n",
        "epochs = 3\n",
        "\n",
        "# Store the best result for LoRA tuning\n",
        "best_lora_result = None\n",
        "best_lora_params = {}\n",
        "\n",
        "# Iterate over all combinations of LoRA hyperparameters\n",
        "for r, alpha, dropout in itertools.product(r_values, alpha_values, dropout_values):\n",
        "    print(f\"Testing LoRA configuration: r={r}, alpha={alpha}, dropout={dropout}\")\n",
        "\n",
        "    # Create a deep copy of the original model for LoRA\n",
        "    model_mtm_lora_tune = copy.deepcopy(model_mtm)\n",
        "\n",
        "    # Configure LoRA\n",
        "    mtm_lora_config = LoraConfig(\n",
        "        task_type=TaskType.SEQ_2_SEQ_LM,\n",
        "        inference_mode=False,\n",
        "        r=r,\n",
        "        lora_alpha=alpha,\n",
        "        lora_dropout=dropout,\n",
        "        target_modules=[\"q_proj\", \"v_proj\"],\n",
        "    )\n",
        "\n",
        "    # Apply LoRA to M2M100 model\n",
        "    model_mtm_lora_tune = get_peft_model(model_mtm_lora_tune, mtm_lora_config)\n",
        "\n",
        "    # Ensure only LoRA layers are trainable\n",
        "    for name, param in model_mtm_lora.named_parameters():\n",
        "        if any(layer in name for layer in mtm_lora_config.target_modules):\n",
        "            param.requires_grad = True  # LoRA layers\n",
        "        else:\n",
        "            param.requires_grad = False  # Non-LoRA layers\n",
        "\n",
        "    # Set a unique output directory for each LoRA configuration\n",
        "    output_dir = f\"./results/lora_r_{r}_alpha_{alpha}_dropout_{dropout}\"\n",
        "\n",
        "    # Define training arguments\n",
        "    training_args = Seq2SeqTrainingArguments(\n",
        "        output_dir=output_dir,\n",
        "        evaluation_strategy=\"epoch\",\n",
        "        logging_strategy=\"steps\",\n",
        "        logging_steps=100,\n",
        "        learning_rate=learning_rate,\n",
        "        per_device_train_batch_size=batch_size,\n",
        "        per_device_eval_batch_size=batch_size,\n",
        "        num_train_epochs=epochs,\n",
        "        weight_decay=0.01,\n",
        "        fp16=True,\n",
        "        remove_unused_columns=False,\n",
        "        save_strategy=\"no\",\n",
        "        report_to=\"none\",\n",
        "    )\n",
        "\n",
        "    # Initialize Trainer\n",
        "    trainer = Seq2SeqTrainer(\n",
        "        model=model_mtm_lora_tune,\n",
        "        args=training_args,\n",
        "        train_dataset=tokenized_data_mtm_train,\n",
        "        eval_dataset=tokenized_data_mtm_dev,\n",
        "        tokenizer=tokenizer_mtm,\n",
        "    )\n",
        "\n",
        "    # Train the model\n",
        "    trainer.train()\n",
        "\n",
        "    # Evaluate the model\n",
        "    eval_results = trainer.evaluate()\n",
        "    print(f\"Evaluation results: {eval_results}\")\n",
        "\n",
        "    # Track the best configuration\n",
        "    if best_lora_result is None or eval_results['eval_loss'] < best_lora_result['eval_loss']:\n",
        "        best_lora_result = eval_results\n",
        "        best_lora_params = {\n",
        "            'r': r,\n",
        "            'lora_alpha': alpha,\n",
        "            'lora_dropout': dropout,\n",
        "        }\n",
        "\n",
        "# Print the best LoRA configuration and results\n",
        "print(\"Best LoRA Configuration:\")\n",
        "print(best_lora_params)\n",
        "print(\"Best Evaluation Results:\")\n",
        "print(best_lora_result)"
      ]
    },
    {
      "cell_type": "markdown",
      "metadata": {
        "id": "EtbitlEbDHdJ"
      },
      "source": [
        "#### **3.3.3 Hyperparameter Tuning M2M with Layer Freezing**\n",
        "**Best Configuration: freeze_encoder_layers =  8, freeze_decoder_layers = 8, eval_loss = 2.7465786933898926**"
      ]
    },
    {
      "cell_type": "code",
      "execution_count": null,
      "metadata": {
        "colab": {
          "background_save": true,
          "base_uri": "https://localhost:8080/",
          "height": 1000
        },
        "id": "aCrFMZXEE8mz",
        "outputId": "21bd348d-29f1-4b61-9776-14d2861ddfb4"
      },
      "outputs": [
        {
          "name": "stdout",
          "output_type": "stream",
          "text": [
            "Testing Layer Freezing configuration: encoder_layers=8, decoder_layers=8\n"
          ]
        },
        {
          "name": "stderr",
          "output_type": "stream",
          "text": [
            "/usr/local/lib/python3.10/dist-packages/transformers/training_args.py:1568: FutureWarning: `evaluation_strategy` is deprecated and will be removed in version 4.46 of 🤗 Transformers. Use `eval_strategy` instead\n",
            "  warnings.warn(\n",
            "<ipython-input-16-c7a80e31ea6b>:57: FutureWarning: `tokenizer` is deprecated and will be removed in version 5.0.0 for `Seq2SeqTrainer.__init__`. Use `processing_class` instead.\n",
            "  trainer = Seq2SeqTrainer(\n"
          ]
        },
        {
          "data": {
            "text/html": [
              "\n",
              "    <div>\n",
              "      \n",
              "      <progress value='1500' max='1500' style='width:300px; height:20px; vertical-align: middle;'></progress>\n",
              "      [1500/1500 05:21, Epoch 3/3]\n",
              "    </div>\n",
              "    <table border=\"1\" class=\"dataframe\">\n",
              "  <thead>\n",
              " <tr style=\"text-align: left;\">\n",
              "      <th>Epoch</th>\n",
              "      <th>Training Loss</th>\n",
              "      <th>Validation Loss</th>\n",
              "    </tr>\n",
              "  </thead>\n",
              "  <tbody>\n",
              "    <tr>\n",
              "      <td>1</td>\n",
              "      <td>2.999300</td>\n",
              "      <td>2.774960</td>\n",
              "    </tr>\n",
              "    <tr>\n",
              "      <td>2</td>\n",
              "      <td>2.758300</td>\n",
              "      <td>2.745686</td>\n",
              "    </tr>\n",
              "    <tr>\n",
              "      <td>3</td>\n",
              "      <td>2.579800</td>\n",
              "      <td>2.746579</td>\n",
              "    </tr>\n",
              "  </tbody>\n",
              "</table><p>"
            ],
            "text/plain": [
              "<IPython.core.display.HTML object>"
            ]
          },
          "metadata": {},
          "output_type": "display_data"
        },
        {
          "data": {
            "text/html": [
              "\n",
              "    <div>\n",
              "      \n",
              "      <progress value='63' max='63' style='width:300px; height:20px; vertical-align: middle;'></progress>\n",
              "      [63/63 00:02]\n",
              "    </div>\n",
              "    "
            ],
            "text/plain": [
              "<IPython.core.display.HTML object>"
            ]
          },
          "metadata": {},
          "output_type": "display_data"
        },
        {
          "name": "stdout",
          "output_type": "stream",
          "text": [
            "Evaluation results: {'eval_loss': 2.7465786933898926, 'eval_runtime': 2.7368, 'eval_samples_per_second': 365.386, 'eval_steps_per_second': 23.019, 'epoch': 3.0}\n",
            "Testing Layer Freezing configuration: encoder_layers=8, decoder_layers=9\n"
          ]
        },
        {
          "name": "stderr",
          "output_type": "stream",
          "text": [
            "/usr/local/lib/python3.10/dist-packages/transformers/training_args.py:1568: FutureWarning: `evaluation_strategy` is deprecated and will be removed in version 4.46 of 🤗 Transformers. Use `eval_strategy` instead\n",
            "  warnings.warn(\n",
            "<ipython-input-16-c7a80e31ea6b>:57: FutureWarning: `tokenizer` is deprecated and will be removed in version 5.0.0 for `Seq2SeqTrainer.__init__`. Use `processing_class` instead.\n",
            "  trainer = Seq2SeqTrainer(\n"
          ]
        },
        {
          "data": {
            "text/html": [
              "\n",
              "    <div>\n",
              "      \n",
              "      <progress value='1500' max='1500' style='width:300px; height:20px; vertical-align: middle;'></progress>\n",
              "      [1500/1500 05:10, Epoch 3/3]\n",
              "    </div>\n",
              "    <table border=\"1\" class=\"dataframe\">\n",
              "  <thead>\n",
              " <tr style=\"text-align: left;\">\n",
              "      <th>Epoch</th>\n",
              "      <th>Training Loss</th>\n",
              "      <th>Validation Loss</th>\n",
              "    </tr>\n",
              "  </thead>\n",
              "  <tbody>\n",
              "    <tr>\n",
              "      <td>1</td>\n",
              "      <td>3.012900</td>\n",
              "      <td>2.788489</td>\n",
              "    </tr>\n",
              "    <tr>\n",
              "      <td>2</td>\n",
              "      <td>2.788600</td>\n",
              "      <td>2.760466</td>\n",
              "    </tr>\n",
              "    <tr>\n",
              "      <td>3</td>\n",
              "      <td>2.624200</td>\n",
              "      <td>2.759859</td>\n",
              "    </tr>\n",
              "  </tbody>\n",
              "</table><p>"
            ],
            "text/plain": [
              "<IPython.core.display.HTML object>"
            ]
          },
          "metadata": {},
          "output_type": "display_data"
        },
        {
          "data": {
            "text/html": [
              "\n",
              "    <div>\n",
              "      \n",
              "      <progress value='63' max='63' style='width:300px; height:20px; vertical-align: middle;'></progress>\n",
              "      [63/63 00:02]\n",
              "    </div>\n",
              "    "
            ],
            "text/plain": [
              "<IPython.core.display.HTML object>"
            ]
          },
          "metadata": {},
          "output_type": "display_data"
        },
        {
          "name": "stdout",
          "output_type": "stream",
          "text": [
            "Evaluation results: {'eval_loss': 2.7598588466644287, 'eval_runtime': 2.7138, 'eval_samples_per_second': 368.485, 'eval_steps_per_second': 23.215, 'epoch': 3.0}\n",
            "Testing Layer Freezing configuration: encoder_layers=8, decoder_layers=10\n"
          ]
        },
        {
          "name": "stderr",
          "output_type": "stream",
          "text": [
            "/usr/local/lib/python3.10/dist-packages/transformers/training_args.py:1568: FutureWarning: `evaluation_strategy` is deprecated and will be removed in version 4.46 of 🤗 Transformers. Use `eval_strategy` instead\n",
            "  warnings.warn(\n",
            "<ipython-input-16-c7a80e31ea6b>:57: FutureWarning: `tokenizer` is deprecated and will be removed in version 5.0.0 for `Seq2SeqTrainer.__init__`. Use `processing_class` instead.\n",
            "  trainer = Seq2SeqTrainer(\n"
          ]
        },
        {
          "data": {
            "text/html": [
              "\n",
              "    <div>\n",
              "      \n",
              "      <progress value='1500' max='1500' style='width:300px; height:20px; vertical-align: middle;'></progress>\n",
              "      [1500/1500 04:58, Epoch 3/3]\n",
              "    </div>\n",
              "    <table border=\"1\" class=\"dataframe\">\n",
              "  <thead>\n",
              " <tr style=\"text-align: left;\">\n",
              "      <th>Epoch</th>\n",
              "      <th>Training Loss</th>\n",
              "      <th>Validation Loss</th>\n",
              "    </tr>\n",
              "  </thead>\n",
              "  <tbody>\n",
              "    <tr>\n",
              "      <td>1</td>\n",
              "      <td>3.025700</td>\n",
              "      <td>2.799694</td>\n",
              "    </tr>\n",
              "    <tr>\n",
              "      <td>2</td>\n",
              "      <td>2.819700</td>\n",
              "      <td>2.772981</td>\n",
              "    </tr>\n",
              "    <tr>\n",
              "      <td>3</td>\n",
              "      <td>2.666000</td>\n",
              "      <td>2.771988</td>\n",
              "    </tr>\n",
              "  </tbody>\n",
              "</table><p>"
            ],
            "text/plain": [
              "<IPython.core.display.HTML object>"
            ]
          },
          "metadata": {},
          "output_type": "display_data"
        },
        {
          "data": {
            "text/html": [
              "\n",
              "    <div>\n",
              "      \n",
              "      <progress value='63' max='63' style='width:300px; height:20px; vertical-align: middle;'></progress>\n",
              "      [63/63 00:02]\n",
              "    </div>\n",
              "    "
            ],
            "text/plain": [
              "<IPython.core.display.HTML object>"
            ]
          },
          "metadata": {},
          "output_type": "display_data"
        },
        {
          "name": "stdout",
          "output_type": "stream",
          "text": [
            "Evaluation results: {'eval_loss': 2.7719881534576416, 'eval_runtime': 2.7139, 'eval_samples_per_second': 368.477, 'eval_steps_per_second': 23.214, 'epoch': 3.0}\n",
            "Testing Layer Freezing configuration: encoder_layers=9, decoder_layers=8\n"
          ]
        },
        {
          "name": "stderr",
          "output_type": "stream",
          "text": [
            "/usr/local/lib/python3.10/dist-packages/transformers/training_args.py:1568: FutureWarning: `evaluation_strategy` is deprecated and will be removed in version 4.46 of 🤗 Transformers. Use `eval_strategy` instead\n",
            "  warnings.warn(\n",
            "<ipython-input-16-c7a80e31ea6b>:57: FutureWarning: `tokenizer` is deprecated and will be removed in version 5.0.0 for `Seq2SeqTrainer.__init__`. Use `processing_class` instead.\n",
            "  trainer = Seq2SeqTrainer(\n"
          ]
        },
        {
          "data": {
            "text/html": [
              "\n",
              "    <div>\n",
              "      \n",
              "      <progress value='1500' max='1500' style='width:300px; height:20px; vertical-align: middle;'></progress>\n",
              "      [1500/1500 05:14, Epoch 3/3]\n",
              "    </div>\n",
              "    <table border=\"1\" class=\"dataframe\">\n",
              "  <thead>\n",
              " <tr style=\"text-align: left;\">\n",
              "      <th>Epoch</th>\n",
              "      <th>Training Loss</th>\n",
              "      <th>Validation Loss</th>\n",
              "    </tr>\n",
              "  </thead>\n",
              "  <tbody>\n",
              "    <tr>\n",
              "      <td>1</td>\n",
              "      <td>3.007400</td>\n",
              "      <td>2.780797</td>\n",
              "    </tr>\n",
              "    <tr>\n",
              "      <td>2</td>\n",
              "      <td>2.776000</td>\n",
              "      <td>2.750747</td>\n",
              "    </tr>\n",
              "    <tr>\n",
              "      <td>3</td>\n",
              "      <td>2.606400</td>\n",
              "      <td>2.750795</td>\n",
              "    </tr>\n",
              "  </tbody>\n",
              "</table><p>"
            ],
            "text/plain": [
              "<IPython.core.display.HTML object>"
            ]
          },
          "metadata": {},
          "output_type": "display_data"
        },
        {
          "data": {
            "text/html": [
              "\n",
              "    <div>\n",
              "      \n",
              "      <progress value='63' max='63' style='width:300px; height:20px; vertical-align: middle;'></progress>\n",
              "      [63/63 00:02]\n",
              "    </div>\n",
              "    "
            ],
            "text/plain": [
              "<IPython.core.display.HTML object>"
            ]
          },
          "metadata": {},
          "output_type": "display_data"
        },
        {
          "name": "stdout",
          "output_type": "stream",
          "text": [
            "Evaluation results: {'eval_loss': 2.7507948875427246, 'eval_runtime': 2.7219, 'eval_samples_per_second': 367.391, 'eval_steps_per_second': 23.146, 'epoch': 3.0}\n",
            "Testing Layer Freezing configuration: encoder_layers=9, decoder_layers=9\n"
          ]
        },
        {
          "name": "stderr",
          "output_type": "stream",
          "text": [
            "/usr/local/lib/python3.10/dist-packages/transformers/training_args.py:1568: FutureWarning: `evaluation_strategy` is deprecated and will be removed in version 4.46 of 🤗 Transformers. Use `eval_strategy` instead\n",
            "  warnings.warn(\n",
            "<ipython-input-16-c7a80e31ea6b>:57: FutureWarning: `tokenizer` is deprecated and will be removed in version 5.0.0 for `Seq2SeqTrainer.__init__`. Use `processing_class` instead.\n",
            "  trainer = Seq2SeqTrainer(\n"
          ]
        },
        {
          "data": {
            "text/html": [
              "\n",
              "    <div>\n",
              "      \n",
              "      <progress value='1500' max='1500' style='width:300px; height:20px; vertical-align: middle;'></progress>\n",
              "      [1500/1500 05:01, Epoch 3/3]\n",
              "    </div>\n",
              "    <table border=\"1\" class=\"dataframe\">\n",
              "  <thead>\n",
              " <tr style=\"text-align: left;\">\n",
              "      <th>Epoch</th>\n",
              "      <th>Training Loss</th>\n",
              "      <th>Validation Loss</th>\n",
              "    </tr>\n",
              "  </thead>\n",
              "  <tbody>\n",
              "    <tr>\n",
              "      <td>1</td>\n",
              "      <td>3.021400</td>\n",
              "      <td>2.795025</td>\n",
              "    </tr>\n",
              "    <tr>\n",
              "      <td>2</td>\n",
              "      <td>2.807500</td>\n",
              "      <td>2.766944</td>\n",
              "    </tr>\n",
              "    <tr>\n",
              "      <td>3</td>\n",
              "      <td>2.652100</td>\n",
              "      <td>2.765029</td>\n",
              "    </tr>\n",
              "  </tbody>\n",
              "</table><p>"
            ],
            "text/plain": [
              "<IPython.core.display.HTML object>"
            ]
          },
          "metadata": {},
          "output_type": "display_data"
        },
        {
          "data": {
            "text/html": [
              "\n",
              "    <div>\n",
              "      \n",
              "      <progress value='63' max='63' style='width:300px; height:20px; vertical-align: middle;'></progress>\n",
              "      [63/63 00:02]\n",
              "    </div>\n",
              "    "
            ],
            "text/plain": [
              "<IPython.core.display.HTML object>"
            ]
          },
          "metadata": {},
          "output_type": "display_data"
        },
        {
          "name": "stdout",
          "output_type": "stream",
          "text": [
            "Evaluation results: {'eval_loss': 2.765029191970825, 'eval_runtime': 2.6979, 'eval_samples_per_second': 370.661, 'eval_steps_per_second': 23.352, 'epoch': 3.0}\n",
            "Testing Layer Freezing configuration: encoder_layers=9, decoder_layers=10\n"
          ]
        },
        {
          "name": "stderr",
          "output_type": "stream",
          "text": [
            "/usr/local/lib/python3.10/dist-packages/transformers/training_args.py:1568: FutureWarning: `evaluation_strategy` is deprecated and will be removed in version 4.46 of 🤗 Transformers. Use `eval_strategy` instead\n",
            "  warnings.warn(\n",
            "<ipython-input-16-c7a80e31ea6b>:57: FutureWarning: `tokenizer` is deprecated and will be removed in version 5.0.0 for `Seq2SeqTrainer.__init__`. Use `processing_class` instead.\n",
            "  trainer = Seq2SeqTrainer(\n"
          ]
        },
        {
          "data": {
            "text/html": [
              "\n",
              "    <div>\n",
              "      \n",
              "      <progress value='1500' max='1500' style='width:300px; height:20px; vertical-align: middle;'></progress>\n",
              "      [1500/1500 04:48, Epoch 3/3]\n",
              "    </div>\n",
              "    <table border=\"1\" class=\"dataframe\">\n",
              "  <thead>\n",
              " <tr style=\"text-align: left;\">\n",
              "      <th>Epoch</th>\n",
              "      <th>Training Loss</th>\n",
              "      <th>Validation Loss</th>\n",
              "    </tr>\n",
              "  </thead>\n",
              "  <tbody>\n",
              "    <tr>\n",
              "      <td>1</td>\n",
              "      <td>3.035400</td>\n",
              "      <td>2.806822</td>\n",
              "    </tr>\n",
              "    <tr>\n",
              "      <td>2</td>\n",
              "      <td>2.840000</td>\n",
              "      <td>2.779782</td>\n",
              "    </tr>\n",
              "    <tr>\n",
              "      <td>3</td>\n",
              "      <td>2.695300</td>\n",
              "      <td>2.778074</td>\n",
              "    </tr>\n",
              "  </tbody>\n",
              "</table><p>"
            ],
            "text/plain": [
              "<IPython.core.display.HTML object>"
            ]
          },
          "metadata": {},
          "output_type": "display_data"
        },
        {
          "data": {
            "text/html": [
              "\n",
              "    <div>\n",
              "      \n",
              "      <progress value='63' max='63' style='width:300px; height:20px; vertical-align: middle;'></progress>\n",
              "      [63/63 00:02]\n",
              "    </div>\n",
              "    "
            ],
            "text/plain": [
              "<IPython.core.display.HTML object>"
            ]
          },
          "metadata": {},
          "output_type": "display_data"
        },
        {
          "name": "stdout",
          "output_type": "stream",
          "text": [
            "Evaluation results: {'eval_loss': 2.778073787689209, 'eval_runtime': 2.6997, 'eval_samples_per_second': 370.411, 'eval_steps_per_second': 23.336, 'epoch': 3.0}\n",
            "Testing Layer Freezing configuration: encoder_layers=10, decoder_layers=8\n"
          ]
        },
        {
          "name": "stderr",
          "output_type": "stream",
          "text": [
            "/usr/local/lib/python3.10/dist-packages/transformers/training_args.py:1568: FutureWarning: `evaluation_strategy` is deprecated and will be removed in version 4.46 of 🤗 Transformers. Use `eval_strategy` instead\n",
            "  warnings.warn(\n",
            "<ipython-input-16-c7a80e31ea6b>:57: FutureWarning: `tokenizer` is deprecated and will be removed in version 5.0.0 for `Seq2SeqTrainer.__init__`. Use `processing_class` instead.\n",
            "  trainer = Seq2SeqTrainer(\n"
          ]
        },
        {
          "data": {
            "text/html": [
              "\n",
              "    <div>\n",
              "      \n",
              "      <progress value='1500' max='1500' style='width:300px; height:20px; vertical-align: middle;'></progress>\n",
              "      [1500/1500 05:04, Epoch 3/3]\n",
              "    </div>\n",
              "    <table border=\"1\" class=\"dataframe\">\n",
              "  <thead>\n",
              " <tr style=\"text-align: left;\">\n",
              "      <th>Epoch</th>\n",
              "      <th>Training Loss</th>\n",
              "      <th>Validation Loss</th>\n",
              "    </tr>\n",
              "  </thead>\n",
              "  <tbody>\n",
              "    <tr>\n",
              "      <td>1</td>\n",
              "      <td>3.017400</td>\n",
              "      <td>2.790179</td>\n",
              "    </tr>\n",
              "    <tr>\n",
              "      <td>2</td>\n",
              "      <td>2.796100</td>\n",
              "      <td>2.757497</td>\n",
              "    </tr>\n",
              "    <tr>\n",
              "      <td>3</td>\n",
              "      <td>2.637000</td>\n",
              "      <td>2.757425</td>\n",
              "    </tr>\n",
              "  </tbody>\n",
              "</table><p>"
            ],
            "text/plain": [
              "<IPython.core.display.HTML object>"
            ]
          },
          "metadata": {},
          "output_type": "display_data"
        },
        {
          "data": {
            "text/html": [
              "\n",
              "    <div>\n",
              "      \n",
              "      <progress value='63' max='63' style='width:300px; height:20px; vertical-align: middle;'></progress>\n",
              "      [63/63 00:02]\n",
              "    </div>\n",
              "    "
            ],
            "text/plain": [
              "<IPython.core.display.HTML object>"
            ]
          },
          "metadata": {},
          "output_type": "display_data"
        },
        {
          "name": "stdout",
          "output_type": "stream",
          "text": [
            "Evaluation results: {'eval_loss': 2.757425308227539, 'eval_runtime': 2.7256, 'eval_samples_per_second': 366.895, 'eval_steps_per_second': 23.114, 'epoch': 3.0}\n",
            "Testing Layer Freezing configuration: encoder_layers=10, decoder_layers=9\n"
          ]
        },
        {
          "name": "stderr",
          "output_type": "stream",
          "text": [
            "/usr/local/lib/python3.10/dist-packages/transformers/training_args.py:1568: FutureWarning: `evaluation_strategy` is deprecated and will be removed in version 4.46 of 🤗 Transformers. Use `eval_strategy` instead\n",
            "  warnings.warn(\n",
            "<ipython-input-16-c7a80e31ea6b>:57: FutureWarning: `tokenizer` is deprecated and will be removed in version 5.0.0 for `Seq2SeqTrainer.__init__`. Use `processing_class` instead.\n",
            "  trainer = Seq2SeqTrainer(\n"
          ]
        },
        {
          "data": {
            "text/html": [
              "\n",
              "    <div>\n",
              "      \n",
              "      <progress value='1500' max='1500' style='width:300px; height:20px; vertical-align: middle;'></progress>\n",
              "      [1500/1500 04:51, Epoch 3/3]\n",
              "    </div>\n",
              "    <table border=\"1\" class=\"dataframe\">\n",
              "  <thead>\n",
              " <tr style=\"text-align: left;\">\n",
              "      <th>Epoch</th>\n",
              "      <th>Training Loss</th>\n",
              "      <th>Validation Loss</th>\n",
              "    </tr>\n",
              "  </thead>\n",
              "  <tbody>\n",
              "    <tr>\n",
              "      <td>1</td>\n",
              "      <td>3.034400</td>\n",
              "      <td>2.805163</td>\n",
              "    </tr>\n",
              "    <tr>\n",
              "      <td>2</td>\n",
              "      <td>2.828900</td>\n",
              "      <td>2.775208</td>\n",
              "    </tr>\n",
              "    <tr>\n",
              "      <td>3</td>\n",
              "      <td>2.684400</td>\n",
              "      <td>2.772708</td>\n",
              "    </tr>\n",
              "  </tbody>\n",
              "</table><p>"
            ],
            "text/plain": [
              "<IPython.core.display.HTML object>"
            ]
          },
          "metadata": {},
          "output_type": "display_data"
        },
        {
          "data": {
            "text/html": [
              "\n",
              "    <div>\n",
              "      \n",
              "      <progress value='63' max='63' style='width:300px; height:20px; vertical-align: middle;'></progress>\n",
              "      [63/63 00:02]\n",
              "    </div>\n",
              "    "
            ],
            "text/plain": [
              "<IPython.core.display.HTML object>"
            ]
          },
          "metadata": {},
          "output_type": "display_data"
        },
        {
          "name": "stdout",
          "output_type": "stream",
          "text": [
            "Evaluation results: {'eval_loss': 2.77270770072937, 'eval_runtime': 2.7284, 'eval_samples_per_second': 366.511, 'eval_steps_per_second': 23.09, 'epoch': 3.0}\n",
            "Testing Layer Freezing configuration: encoder_layers=10, decoder_layers=10\n"
          ]
        },
        {
          "name": "stderr",
          "output_type": "stream",
          "text": [
            "/usr/local/lib/python3.10/dist-packages/transformers/training_args.py:1568: FutureWarning: `evaluation_strategy` is deprecated and will be removed in version 4.46 of 🤗 Transformers. Use `eval_strategy` instead\n",
            "  warnings.warn(\n",
            "<ipython-input-16-c7a80e31ea6b>:57: FutureWarning: `tokenizer` is deprecated and will be removed in version 5.0.0 for `Seq2SeqTrainer.__init__`. Use `processing_class` instead.\n",
            "  trainer = Seq2SeqTrainer(\n"
          ]
        },
        {
          "data": {
            "text/html": [
              "\n",
              "    <div>\n",
              "      \n",
              "      <progress value='1500' max='1500' style='width:300px; height:20px; vertical-align: middle;'></progress>\n",
              "      [1500/1500 04:39, Epoch 3/3]\n",
              "    </div>\n",
              "    <table border=\"1\" class=\"dataframe\">\n",
              "  <thead>\n",
              " <tr style=\"text-align: left;\">\n",
              "      <th>Epoch</th>\n",
              "      <th>Training Loss</th>\n",
              "      <th>Validation Loss</th>\n",
              "    </tr>\n",
              "  </thead>\n",
              "  <tbody>\n",
              "    <tr>\n",
              "      <td>1</td>\n",
              "      <td>3.050900</td>\n",
              "      <td>2.818181</td>\n",
              "    </tr>\n",
              "    <tr>\n",
              "      <td>2</td>\n",
              "      <td>2.863100</td>\n",
              "      <td>2.789517</td>\n",
              "    </tr>\n",
              "    <tr>\n",
              "      <td>3</td>\n",
              "      <td>2.729200</td>\n",
              "      <td>2.787092</td>\n",
              "    </tr>\n",
              "  </tbody>\n",
              "</table><p>"
            ],
            "text/plain": [
              "<IPython.core.display.HTML object>"
            ]
          },
          "metadata": {},
          "output_type": "display_data"
        },
        {
          "data": {
            "text/html": [
              "\n",
              "    <div>\n",
              "      \n",
              "      <progress value='63' max='63' style='width:300px; height:20px; vertical-align: middle;'></progress>\n",
              "      [63/63 00:02]\n",
              "    </div>\n",
              "    "
            ],
            "text/plain": [
              "<IPython.core.display.HTML object>"
            ]
          },
          "metadata": {},
          "output_type": "display_data"
        },
        {
          "name": "stdout",
          "output_type": "stream",
          "text": [
            "Evaluation results: {'eval_loss': 2.787092447280884, 'eval_runtime': 2.7197, 'eval_samples_per_second': 367.693, 'eval_steps_per_second': 23.165, 'epoch': 3.0}\n",
            "Best Layer Freezing Configuration:\n",
            "{'freeze_encoder_layers': 8, 'freeze_decoder_layers': 8}\n",
            "Best Evaluation Results:\n",
            "{'eval_loss': 2.7465786933898926, 'eval_runtime': 2.7368, 'eval_samples_per_second': 365.386, 'eval_steps_per_second': 23.019, 'epoch': 3.0}\n"
          ]
        }
      ],
      "source": [
        "# Hyperparameter grid for Layer Freezing\n",
        "freeze_encoder_layers_values = [8, 9, 10]  # Number of encoder layers to freeze\n",
        "freeze_decoder_layers_values = [8, 9, 10]   # Number of decoder layers to freeze\n",
        "\n",
        "# Fixed learning rate, batch size, and epochs (from prior tuning)\n",
        "learning_rate = 2e-5\n",
        "batch_size = 16\n",
        "epochs = 3\n",
        "\n",
        "# Store the best result for Layer Freezing tuning\n",
        "best_freeze_result = None\n",
        "best_freeze_params = {}\n",
        "\n",
        "# Iterate over all combinations of Layer Freezing hyperparameters\n",
        "for freeze_encoder_layers, freeze_decoder_layers in itertools.product(freeze_encoder_layers_values, freeze_decoder_layers_values):\n",
        "    print(f\"Testing Layer Freezing configuration: encoder_layers={freeze_encoder_layers}, decoder_layers={freeze_decoder_layers}\")\n",
        "\n",
        "    # Create a deep copy of the original model for Layer Freezing\n",
        "    model_mtm_freeze_tune = copy.deepcopy(model_mtm)\n",
        "\n",
        "    # Apply Layer Freezing\n",
        "    for name, param in model_mtm_freeze_tune.named_parameters():\n",
        "        # Freeze encoder layers\n",
        "        if \"encoder.layers\" in name:\n",
        "            layer_num = int(name.split(\".\")[3])  # Extract the layer index\n",
        "            if layer_num < freeze_encoder_layers:\n",
        "                param.requires_grad = False\n",
        "        # Freeze decoder layers\n",
        "        elif \"decoder.layers\" in name:\n",
        "            layer_num = int(name.split(\".\")[3])  # Extract the layer index\n",
        "            if layer_num < freeze_decoder_layers:\n",
        "                param.requires_grad = False\n",
        "        else:\n",
        "            param.requires_grad = True  # Keep other parameters trainable\n",
        "\n",
        "    # Set a unique output directory for each Layer Freezing configuration\n",
        "    output_dir = f\"./results/freeze_encoder_{freeze_encoder_layers}_decoder_{freeze_decoder_layers}\"\n",
        "\n",
        "    # Define training arguments\n",
        "    training_args = Seq2SeqTrainingArguments(\n",
        "        output_dir=output_dir,\n",
        "        evaluation_strategy=\"epoch\",\n",
        "        logging_strategy=\"steps\",\n",
        "        logging_steps=100,\n",
        "        learning_rate=learning_rate,\n",
        "        per_device_train_batch_size=batch_size,\n",
        "        per_device_eval_batch_size=batch_size,\n",
        "        num_train_epochs=epochs,\n",
        "        weight_decay=0.01,\n",
        "        fp16=True,\n",
        "        remove_unused_columns=False,\n",
        "        save_strategy=\"no\",\n",
        "        report_to=\"none\",\n",
        "    )\n",
        "\n",
        "    # Initialize Trainer\n",
        "    trainer = Seq2SeqTrainer(\n",
        "        model=model_mtm_freeze_tune,\n",
        "        args=training_args,\n",
        "        train_dataset=tokenized_data_mtm_train,\n",
        "        eval_dataset=tokenized_data_mtm_dev,\n",
        "        tokenizer=tokenizer_mtm,\n",
        "    )\n",
        "\n",
        "    # Train the model\n",
        "    trainer.train()\n",
        "\n",
        "    # Evaluate the model\n",
        "    eval_results = trainer.evaluate()\n",
        "    print(f\"Evaluation results: {eval_results}\")\n",
        "\n",
        "    # Track the best configuration\n",
        "    if best_freeze_result is None or eval_results['eval_loss'] < best_freeze_result['eval_loss']:\n",
        "        best_freeze_result = eval_results\n",
        "        best_freeze_params = {\n",
        "            'freeze_encoder_layers': freeze_encoder_layers,\n",
        "            'freeze_decoder_layers': freeze_decoder_layers,\n",
        "        }\n",
        "\n",
        "# Print the best Layer Freezing configuration and results\n",
        "print(\"Best Layer Freezing Configuration:\")\n",
        "print(best_freeze_params)\n",
        "print(\"Best Evaluation Results:\")\n",
        "print(best_freeze_result)"
      ]
    },
    {
      "cell_type": "markdown",
      "metadata": {
        "id": "5Sv8OTsV4GXX"
      },
      "source": [
        "## **4. Fine-Tune mBART (50,000 Samples)**\n"
      ]
    },
    {
      "cell_type": "markdown",
      "metadata": {
        "id": "Jsn31bI2zpkF"
      },
      "source": [
        "### **4.1 Load Dataset (50,000)**\n"
      ]
    },
    {
      "cell_type": "code",
      "execution_count": null,
      "metadata": {
        "colab": {
          "base_uri": "https://localhost:8080/",
          "height": 945
        },
        "id": "UUGmvMB6zwrv",
        "outputId": "9b114ea5-7cb6-4448-9c79-91278a061051"
      },
      "outputs": [
        {
          "name": "stdout",
          "output_type": "stream",
          "text": [
            "Loaded train data with 40000 samples.\n",
            "Loaded dev data with 5000 samples.\n",
            "Loaded test data with 5000 samples.\n"
          ]
        },
        {
          "data": {
            "application/vnd.jupyter.widget-view+json": {
              "model_id": "0df55ac979dd496b9881660dbce773d1",
              "version_major": 2,
              "version_minor": 0
            },
            "text/plain": [
              "Map:   0%|          | 0/40000 [00:00<?, ? examples/s]"
            ]
          },
          "metadata": {},
          "output_type": "display_data"
        },
        {
          "data": {
            "application/vnd.jupyter.widget-view+json": {
              "model_id": "eb262d8c3d43456d9ae0fa93d4a88a7f",
              "version_major": 2,
              "version_minor": 0
            },
            "text/plain": [
              "Map:   0%|          | 0/5000 [00:00<?, ? examples/s]"
            ]
          },
          "metadata": {},
          "output_type": "display_data"
        },
        {
          "data": {
            "application/vnd.jupyter.widget-view+json": {
              "model_id": "84c4626088ae48229776fe1934f2f501",
              "version_major": 2,
              "version_minor": 0
            },
            "text/plain": [
              "Map:   0%|          | 0/5000 [00:00<?, ? examples/s]"
            ]
          },
          "metadata": {},
          "output_type": "display_data"
        },
        {
          "name": "stdout",
          "output_type": "stream",
          "text": [
            "                                             english_text  \\\n",
            "234806  Second, even when the stock market as a whole ...   \n",
            "41549   The upfront work is the secret to a million-do...   \n",
            "169822  Bill :Actually, my blood pressure isn't that h...   \n",
            "313751  Kylie accepted the advice and went on to recor...   \n",
            "32640   All the examiners commented that Jack had an i...   \n",
            "\n",
            "                                        chinese_text  \n",
            "234806  第二，即使股票市场是个公司整体，有时，即使好的公司在走完这10年之前也会出现不好的时候。  \n",
            "41549                           这是渐渐变成拥有百万资产的大企业的秘密。  \n",
            "169822             比尔：事实上我的血压也没有那么高，但据说血压会随年龄的增长而增高。  \n",
            "313751                          剀莉接受了这个提议，录制了这首歌的单曲。  \n",
            "32640              所有考官们评论说杰克思路清晰，给人印象深刻，独立判断能力也相当强。  \n",
            "                                             english_text  \\\n",
            "173397  They spend a lifetime fighting a losing battle...   \n",
            "296479  As regards inferior quality of your goods, we ...   \n",
            "24319   His lectures will cover some of the topics pec...   \n",
            "371615  In this paper, an incentive mechanism for impl...   \n",
            "309857  Miguel: I can't turn my back on Pedro. We're f...   \n",
            "\n",
            "                                       chinese_text  \n",
            "173397  他们花了一生的时间来做一场不会胜利的战斗，他们的对手是下垂的屁股，凸起的肚子和双下巴。  \n",
            "296479                     由於你方产品质量低劣，我方要求你方赔偿十万台币。  \n",
            "24319                           他的课会涉及计算机科学特有的一些话题。  \n",
            "371615     应用激励机制设计理论设计了有限信息下应用排污收费对排污者进行管理的一种激励机制。  \n",
            "309857                        我不能不理睬佩德罗，我们是朋友，我喜欢他。  \n",
            "                                             english_text  \\\n",
            "449881  \"O yes, certainly,\"said the girl with a sort o...   \n",
            "233204  The invention relates to a manufacturing metho...   \n",
            "13482   Activities in the gym might include the treadm...   \n",
            "320630  He was so lazy that he rusted out when he was ...   \n",
            "111437  This year's curators understood that no matter...   \n",
            "\n",
            "                                             chinese_text  \n",
            "449881              “呵，好，当然，”那女孩说，她表现的那种认真的，灵敏的样子，看来有点好笑。  \n",
            "233204                                 本发明涉及适形调强准直器的制造方法。  \n",
            "13482   健身房里的运动可能包括原地蹬脚踏车、划圆圈、爬楼梯，以及参与人数不等的团体活动如有氧运动、跆...  \n",
            "320630                                       他懒极了，因此未老先衰。  \n",
            "111437  今年的策展人很清楚，无论怎样第75届双年展定为什么主题，人们一看即知这属于惠特尼，所以他们只...  \n"
          ]
        }
      ],
      "source": [
        "# Load and preprocess the dataset\n",
        "train_data, dev_data, test_data = load_data_from_txt(data_file_path, sample_size = 50000)\n",
        "\n",
        "# Proceed with tokenization\n",
        "tokenized_data_mbart_train = preprocess_data(train_data, tokenizer_mbart)\n",
        "tokenized_data_mbart_dev = preprocess_data(dev_data, tokenizer_mbart)\n",
        "tokenized_data_mbart_test = preprocess_data(test_data, tokenizer_mbart)\n",
        "\n",
        "# Print the sampled data for verification\n",
        "print(train_data.head())\n",
        "print(dev_data.head())\n",
        "print(test_data.head())"
      ]
    },
    {
      "cell_type": "markdown",
      "metadata": {
        "id": "F_GMPXVmiZj6"
      },
      "source": [
        "### **4.2 Fine-Tune mBart with Regular Technique**"
      ]
    },
    {
      "cell_type": "code",
      "execution_count": null,
      "metadata": {
        "colab": {
          "background_save": true,
          "base_uri": "https://localhost:8080/",
          "height": 144
        },
        "id": "4q-V9mZntFPD",
        "outputId": "7ecd7152-263d-4b22-f6a4-ba8cb89bf6e7"
      },
      "outputs": [
        {
          "name": "stderr",
          "output_type": "stream",
          "text": [
            "/usr/local/lib/python3.10/dist-packages/transformers/training_args.py:1568: FutureWarning: `evaluation_strategy` is deprecated and will be removed in version 4.46 of 🤗 Transformers. Use `eval_strategy` instead\n",
            "  warnings.warn(\n",
            "<ipython-input-17-e4fd4acbfa13>:33: FutureWarning: `tokenizer` is deprecated and will be removed in version 5.0.0 for `Trainer.__init__`. Use `processing_class` instead.\n",
            "  trainer = Trainer(\n"
          ]
        },
        {
          "data": {
            "text/html": [
              "\n",
              "    <div>\n",
              "      \n",
              "      <progress value='2500' max='2500' style='width:300px; height:20px; vertical-align: middle;'></progress>\n",
              "      [2500/2500 50:41, Epoch 1/1]\n",
              "    </div>\n",
              "    <table border=\"1\" class=\"dataframe\">\n",
              "  <thead>\n",
              " <tr style=\"text-align: left;\">\n",
              "      <th>Epoch</th>\n",
              "      <th>Training Loss</th>\n",
              "      <th>Validation Loss</th>\n",
              "    </tr>\n",
              "  </thead>\n",
              "  <tbody>\n",
              "    <tr>\n",
              "      <td>1</td>\n",
              "      <td>1.922700</td>\n",
              "      <td>1.880119</td>\n",
              "    </tr>\n",
              "  </tbody>\n",
              "</table><p>"
            ],
            "text/plain": [
              "<IPython.core.display.HTML object>"
            ]
          },
          "metadata": {},
          "output_type": "display_data"
        },
        {
          "data": {
            "text/plain": [
              "TrainOutput(global_step=2500, training_loss=1.952279345703125, metrics={'train_runtime': 3043.1991, 'train_samples_per_second': 13.144, 'train_steps_per_second': 0.822, 'total_flos': 4232675328000000.0, 'train_loss': 1.952279345703125, 'epoch': 1.0})"
            ]
          },
          "execution_count": 17,
          "metadata": {},
          "output_type": "execute_result"
        }
      ],
      "source": [
        "os.environ[\"WANDB_DISABLED\"] = \"true\"\n",
        "\n",
        "model_mbart_finetune = copy.deepcopy(model_mbart)\n",
        "\n",
        "# Log file\n",
        "# log_file = \"/content/drive/MyDrive/CIS5800/Log/mBART/Education/memory_usage.log\"\n",
        "# analysis_output_file = \"/content/drive/MyDrive/CIS5800/Log/mBART/Education/memory_analysis.csv\"\n",
        "\n",
        "# log_dir = os.path.dirname(log_file)\n",
        "# if not os.path.exists(log_dir):\n",
        "#     os.makedirs(log_dir)\n",
        "\n",
        "# Config pad token id\n",
        "model_mbart_finetune.config.pad_token_id = tokenizer_mbart.pad_token_id\n",
        "\n",
        "# Configure TrainingArguments\n",
        "training_args = TrainingArguments(\n",
        "    output_dir=\"./results\",\n",
        "    evaluation_strategy=\"epoch\",       # Evaluate once per epoch\n",
        "    logging_strategy=\"steps\",          # Log training loss every few steps\n",
        "    logging_steps=100,                 # Adjust based on desired logging frequency\n",
        "    learning_rate=2e-5,\n",
        "    per_device_train_batch_size=16,\n",
        "    per_device_eval_batch_size=16,\n",
        "    num_train_epochs=1,\n",
        "    weight_decay=0.01,\n",
        "    remove_unused_columns=False,\n",
        "    save_strategy=\"no\",\n",
        "    report_to=\"none\"                   # Disable W&B integration\n",
        ")\n",
        "\n",
        "# Initialize Trainer\n",
        "trainer = Trainer(\n",
        "    model=model_mbart_finetune,\n",
        "    args=training_args,\n",
        "    train_dataset=tokenized_data_mbart_train,\n",
        "    eval_dataset=tokenized_data_mbart_dev,\n",
        "    tokenizer=tokenizer_mbart,\n",
        "    # callbacks=[MemoryUsageLogger(log_file)]  # Add the callback here\n",
        ")\n",
        "\n",
        "# Start training\n",
        "trainer.train()\n",
        "\n",
        "# Analyze logs\n",
        "# analyze_logs(log_file, analysis_output_file)\n",
        "\n",
        "# Indicate completion\n",
        "# print(\"Normal fine-tuning completed. Memory usage logged in:\", log_file)\n",
        "# print(\"Top memory usage analysis saved in:\", analysis_output_file)"
      ]
    },
    {
      "cell_type": "code",
      "execution_count": null,
      "metadata": {
        "colab": {
          "background_save": true
        },
        "id": "ZR2-pfYPaHaG",
        "outputId": "e4c17456-234f-429d-8961-53d7dadf4798"
      },
      "outputs": [
        {
          "name": "stderr",
          "output_type": "stream",
          "text": [
            "Calculating BLEU Scores: 100%|██████████| 5000/5000 [46:24<00:00,  1.80it/s]"
          ]
        },
        {
          "name": "stdout",
          "output_type": "stream",
          "text": [
            "Average BLEU score for the test set: 0.1192\n"
          ]
        },
        {
          "name": "stderr",
          "output_type": "stream",
          "text": [
            "\n"
          ]
        }
      ],
      "source": [
        "average_bleu = evaluate_bleu_score(model=model_mbart_finetune, tokenizer=tokenizer_mbart, test_data=test_data)"
      ]
    },
    {
      "cell_type": "code",
      "execution_count": null,
      "metadata": {
        "colab": {
          "background_save": true,
          "base_uri": "https://localhost:8080/"
        },
        "id": "O8bak1OXrKqp",
        "outputId": "e9b9b242-36c3-4057-cf33-4554d5ba085e"
      },
      "outputs": [
        {
          "name": "stderr",
          "output_type": "stream",
          "text": [
            "Evaluating BLEU: 100%|██████████| 5000/5000 [50:17<00:00,  1.66it/s]\n"
          ]
        },
        {
          "name": "stdout",
          "output_type": "stream",
          "text": [
            "\n",
            "All Results:\n",
            "                                          chinese_input  \\\n",
            "0                         她接受采访时称,在失业水平下降之前,可能不会出现实质改善.   \n",
            "1     但，让我们面对它，生命中充满了各种各样的考试——有一些你第一而有一些你却不及格——因此，从某...   \n",
            "2          由于因一块著名的景点遭到破坏而羞愧不已，政府投入了数亿美元建造排污设施以及采取其他措施。   \n",
            "3            结果SRY、SOX9、WT1、SF1、AMH及DAX1等基因都参与哺乳动物性别决定。   \n",
            "4                     您没有办法来表明这个方法是否也应该或不应该对该JAR之外的类可用。   \n",
            "...                                                 ...   \n",
            "4995                     在此场合，我们可以看到变态行为是以原始的、渐进的方式完成的。   \n",
            "4996                                  我住的地方离拉萨坐车需一周的路程。   \n",
            "4997  本文最后还针对招商银行外汇业务差异化营销战略的选择方向提出合理化建议,指出招商银行重庆分行可...   \n",
            "4998                                   天生此人，注定他一辈子庸庸碌碌。   \n",
            "4999                    苏联的许多经验是好的，但是如果采取教条主义的方法去学习就坏了。   \n",
            "\n",
            "                                           ground_truth  \\\n",
            "0     No real improvement is possible until unemploy...   \n",
            "1     But let ’s face it, life is filled with all ki...   \n",
            "2     Shamed by damage to a renowned beauty spot, th...   \n",
            "3     Results The SRY, SOX 9, WT 1, SF 1, AMH and DA...   \n",
            "4     You have no way to indicate whether this metho...   \n",
            "...                                                 ...   \n",
            "4995  In this case we see the act of metamorphosis p...   \n",
            "4996  The place I live about one week by bus from lh...   \n",
            "4997  In the light of the direction of choice about ...   \n",
            "4998  He was a man designed by Nature for an unevent...   \n",
            "4999  A lot of the experience of the Soviet Union is...   \n",
            "\n",
            "                                             prediction  bleu_score  correct  \n",
            "0     She said there may be no substantive improveme...       0.213     True  \n",
            "1     But, let's face it, life is full of all kinds ...       0.274     True  \n",
            "2     The government has spent billions of dollars o...       0.053    False  \n",
            "3     Results The genes SRY, SOX 9, WT 1, SF 1, AMF ...       0.388     True  \n",
            "4     You have no way of indicating whether or not t...       0.479     True  \n",
            "...                                                 ...         ...      ...  \n",
            "4995  In this situation, we can see that the deforma...       0.041    False  \n",
            "4996  It takes a week to drive from where I live to ...       0.043    False  \n",
            "4997  At the end of this paper, we also put forward ...       0.051    False  \n",
            "4998  This man, born from the womb, is doomed to do ...       0.014    False  \n",
            "4999  Much of the experience of the Soviet Union is ...       0.523     True  \n",
            "\n",
            "[5000 rows x 5 columns]\n",
            "\n",
            "Error Examples:\n",
            "                                          chinese_input  \\\n",
            "2          由于因一块著名的景点遭到破坏而羞愧不已，政府投入了数亿美元建造排污设施以及采取其他措施。   \n",
            "5                                  全美国，有成千上万的大学生参加体育运动。   \n",
            "6              我一直梦想着像一个美丽的芭蕾演员一样跳舞，轻盈地旋来转去，耳边是人们的掌声喝彩。   \n",
            "10                自始至终我们坚持一个策略：成为世界领先的为多个市场提供高性能产品的供应商。   \n",
            "11                                他虽然15岁了，但他的智力年龄却低于5岁。   \n",
            "...                                                 ...   \n",
            "4994                         一团咀嚼过的食物嘴中或消化道中的一团软的咀嚼过的食物   \n",
            "4995                     在此场合，我们可以看到变态行为是以原始的、渐进的方式完成的。   \n",
            "4996                                  我住的地方离拉萨坐车需一周的路程。   \n",
            "4997  本文最后还针对招商银行外汇业务差异化营销战略的选择方向提出合理化建议,指出招商银行重庆分行可...   \n",
            "4998                                   天生此人，注定他一辈子庸庸碌碌。   \n",
            "\n",
            "                                           ground_truth  \\\n",
            "2     Shamed by damage to a renowned beauty spot, th...   \n",
            "5     Thousands of college students around the Unite...   \n",
            "6     I always had the dream to dance like a beautif...   \n",
            "10    And few companies offer more products for the ...   \n",
            "11    Though he is fifteen, he has a mental age of l...   \n",
            "...                                                 ...   \n",
            "4994  A soft mass of chewed food within the mouth or...   \n",
            "4995  In this case we see the act of metamorphosis p...   \n",
            "4996  The place I live about one week by bus from lh...   \n",
            "4997  In the light of the direction of choice about ...   \n",
            "4998  He was a man designed by Nature for an unevent...   \n",
            "\n",
            "                                             prediction  bleu_score  correct  \n",
            "2     The government has spent billions of dollars o...       0.053    False  \n",
            "5     Across the United States, there are thousands ...       0.086    False  \n",
            "6     I've always dreamt of dancing like a beautiful...       0.078    False  \n",
            "10    From the beginning to the end we adhere to one...       0.020    False  \n",
            "11    Although he is 15 years old, his intellectual ...       0.042    False  \n",
            "...                                                 ...         ...      ...  \n",
            "4994  A slice of chewed food a slice of soft chewed ...       0.091    False  \n",
            "4995  In this situation, we can see that the deforma...       0.041    False  \n",
            "4996  It takes a week to drive from where I live to ...       0.043    False  \n",
            "4997  At the end of this paper, we also put forward ...       0.051    False  \n",
            "4998  This man, born from the womb, is doomed to do ...       0.014    False  \n",
            "\n",
            "[3250 rows x 5 columns]\n",
            "Error examples saved to '/content/drive/MyDrive/CIS5800/Error/mBart_finetune'\n"
          ]
        },
        {
          "data": {
            "text/plain": [
              "(                                          chinese_input  \\\n",
              " 0                         她接受采访时称,在失业水平下降之前,可能不会出现实质改善.   \n",
              " 1     但，让我们面对它，生命中充满了各种各样的考试——有一些你第一而有一些你却不及格——因此，从某...   \n",
              " 2          由于因一块著名的景点遭到破坏而羞愧不已，政府投入了数亿美元建造排污设施以及采取其他措施。   \n",
              " 3            结果SRY、SOX9、WT1、SF1、AMH及DAX1等基因都参与哺乳动物性别决定。   \n",
              " 4                     您没有办法来表明这个方法是否也应该或不应该对该JAR之外的类可用。   \n",
              " ...                                                 ...   \n",
              " 4995                     在此场合，我们可以看到变态行为是以原始的、渐进的方式完成的。   \n",
              " 4996                                  我住的地方离拉萨坐车需一周的路程。   \n",
              " 4997  本文最后还针对招商银行外汇业务差异化营销战略的选择方向提出合理化建议,指出招商银行重庆分行可...   \n",
              " 4998                                   天生此人，注定他一辈子庸庸碌碌。   \n",
              " 4999                    苏联的许多经验是好的，但是如果采取教条主义的方法去学习就坏了。   \n",
              " \n",
              "                                            ground_truth  \\\n",
              " 0     No real improvement is possible until unemploy...   \n",
              " 1     But let ’s face it, life is filled with all ki...   \n",
              " 2     Shamed by damage to a renowned beauty spot, th...   \n",
              " 3     Results The SRY, SOX 9, WT 1, SF 1, AMH and DA...   \n",
              " 4     You have no way to indicate whether this metho...   \n",
              " ...                                                 ...   \n",
              " 4995  In this case we see the act of metamorphosis p...   \n",
              " 4996  The place I live about one week by bus from lh...   \n",
              " 4997  In the light of the direction of choice about ...   \n",
              " 4998  He was a man designed by Nature for an unevent...   \n",
              " 4999  A lot of the experience of the Soviet Union is...   \n",
              " \n",
              "                                              prediction  bleu_score  correct  \n",
              " 0     She said there may be no substantive improveme...       0.213     True  \n",
              " 1     But, let's face it, life is full of all kinds ...       0.274     True  \n",
              " 2     The government has spent billions of dollars o...       0.053    False  \n",
              " 3     Results The genes SRY, SOX 9, WT 1, SF 1, AMF ...       0.388     True  \n",
              " 4     You have no way of indicating whether or not t...       0.479     True  \n",
              " ...                                                 ...         ...      ...  \n",
              " 4995  In this situation, we can see that the deforma...       0.041    False  \n",
              " 4996  It takes a week to drive from where I live to ...       0.043    False  \n",
              " 4997  At the end of this paper, we also put forward ...       0.051    False  \n",
              " 4998  This man, born from the womb, is doomed to do ...       0.014    False  \n",
              " 4999  Much of the experience of the Soviet Union is ...       0.523     True  \n",
              " \n",
              " [5000 rows x 5 columns],\n",
              "                                           chinese_input  \\\n",
              " 2          由于因一块著名的景点遭到破坏而羞愧不已，政府投入了数亿美元建造排污设施以及采取其他措施。   \n",
              " 5                                  全美国，有成千上万的大学生参加体育运动。   \n",
              " 6              我一直梦想着像一个美丽的芭蕾演员一样跳舞，轻盈地旋来转去，耳边是人们的掌声喝彩。   \n",
              " 10                自始至终我们坚持一个策略：成为世界领先的为多个市场提供高性能产品的供应商。   \n",
              " 11                                他虽然15岁了，但他的智力年龄却低于5岁。   \n",
              " ...                                                 ...   \n",
              " 4994                         一团咀嚼过的食物嘴中或消化道中的一团软的咀嚼过的食物   \n",
              " 4995                     在此场合，我们可以看到变态行为是以原始的、渐进的方式完成的。   \n",
              " 4996                                  我住的地方离拉萨坐车需一周的路程。   \n",
              " 4997  本文最后还针对招商银行外汇业务差异化营销战略的选择方向提出合理化建议,指出招商银行重庆分行可...   \n",
              " 4998                                   天生此人，注定他一辈子庸庸碌碌。   \n",
              " \n",
              "                                            ground_truth  \\\n",
              " 2     Shamed by damage to a renowned beauty spot, th...   \n",
              " 5     Thousands of college students around the Unite...   \n",
              " 6     I always had the dream to dance like a beautif...   \n",
              " 10    And few companies offer more products for the ...   \n",
              " 11    Though he is fifteen, he has a mental age of l...   \n",
              " ...                                                 ...   \n",
              " 4994  A soft mass of chewed food within the mouth or...   \n",
              " 4995  In this case we see the act of metamorphosis p...   \n",
              " 4996  The place I live about one week by bus from lh...   \n",
              " 4997  In the light of the direction of choice about ...   \n",
              " 4998  He was a man designed by Nature for an unevent...   \n",
              " \n",
              "                                              prediction  bleu_score  correct  \n",
              " 2     The government has spent billions of dollars o...       0.053    False  \n",
              " 5     Across the United States, there are thousands ...       0.086    False  \n",
              " 6     I've always dreamt of dancing like a beautiful...       0.078    False  \n",
              " 10    From the beginning to the end we adhere to one...       0.020    False  \n",
              " 11    Although he is 15 years old, his intellectual ...       0.042    False  \n",
              " ...                                                 ...         ...      ...  \n",
              " 4994  A slice of chewed food a slice of soft chewed ...       0.091    False  \n",
              " 4995  In this situation, we can see that the deforma...       0.041    False  \n",
              " 4996  It takes a week to drive from where I live to ...       0.043    False  \n",
              " 4997  At the end of this paper, we also put forward ...       0.051    False  \n",
              " 4998  This man, born from the womb, is doomed to do ...       0.014    False  \n",
              " \n",
              " [3250 rows x 5 columns])"
            ]
          },
          "execution_count": 19,
          "metadata": {},
          "output_type": "execute_result"
        }
      ],
      "source": [
        "error_evaluate(model_mbart_finetune, tokenizer_mbart, test_data, \"/content/drive/MyDrive/CIS5800/Error/mBart_finetune\", max_length=50, device=\"cuda\", bleu_threshold=0.1)"
      ]
    },
    {
      "cell_type": "code",
      "execution_count": null,
      "metadata": {
        "colab": {
          "background_save": true
        },
        "id": "zIGniBfnGnPB"
      },
      "outputs": [],
      "source": [
        "del model_mbart_finetune\n",
        "gc.collect()\n",
        "torch.cuda.empty_cache()\n",
        "torch.cuda.synchronize()"
      ]
    },
    {
      "cell_type": "markdown",
      "metadata": {
        "id": "MvhxsNrG4-4o"
      },
      "source": [
        "### **4.3 Fine-tune mBart with LoRA**"
      ]
    },
    {
      "cell_type": "code",
      "execution_count": null,
      "metadata": {
        "colab": {
          "background_save": true,
          "base_uri": "https://localhost:8080/",
          "height": 144
        },
        "id": "rT0A-EvQ5HvA",
        "outputId": "e355bbb4-c505-496d-9a2e-042b775fa660"
      },
      "outputs": [
        {
          "name": "stderr",
          "output_type": "stream",
          "text": [
            "/usr/local/lib/python3.10/dist-packages/transformers/training_args.py:1568: FutureWarning: `evaluation_strategy` is deprecated and will be removed in version 4.46 of 🤗 Transformers. Use `eval_strategy` instead\n",
            "  warnings.warn(\n",
            "<ipython-input-17-8bf0403d4c35>:44: FutureWarning: `tokenizer` is deprecated and will be removed in version 5.0.0 for `Trainer.__init__`. Use `processing_class` instead.\n",
            "  trainer = Trainer(\n"
          ]
        },
        {
          "data": {
            "text/html": [
              "\n",
              "    <div>\n",
              "      \n",
              "      <progress value='2500' max='2500' style='width:300px; height:20px; vertical-align: middle;'></progress>\n",
              "      [2500/2500 27:21, Epoch 1/1]\n",
              "    </div>\n",
              "    <table border=\"1\" class=\"dataframe\">\n",
              "  <thead>\n",
              " <tr style=\"text-align: left;\">\n",
              "      <th>Epoch</th>\n",
              "      <th>Training Loss</th>\n",
              "      <th>Validation Loss</th>\n",
              "    </tr>\n",
              "  </thead>\n",
              "  <tbody>\n",
              "    <tr>\n",
              "      <td>1</td>\n",
              "      <td>1.960100</td>\n",
              "      <td>1.942648</td>\n",
              "    </tr>\n",
              "  </tbody>\n",
              "</table><p>"
            ],
            "text/plain": [
              "<IPython.core.display.HTML object>"
            ]
          },
          "metadata": {},
          "output_type": "display_data"
        },
        {
          "data": {
            "text/plain": [
              "TrainOutput(global_step=2500, training_loss=2.016888739013672, metrics={'train_runtime': 1643.4707, 'train_samples_per_second': 24.339, 'train_steps_per_second': 1.521, 'total_flos': 4246831104000000.0, 'train_loss': 2.016888739013672, 'epoch': 1.0})"
            ]
          },
          "execution_count": 17,
          "metadata": {},
          "output_type": "execute_result"
        }
      ],
      "source": [
        "os.environ[\"WANDB_DISABLED\"] = \"true\"\n",
        "\n",
        "model_mbart_lora_finetune = copy.deepcopy(model_mbart)\n",
        "\n",
        "# LoRA Fine-tuning with memory monitoring\n",
        "\n",
        "# Initialize monitoring thread\n",
        "# log_file = \"/content/drive/MyDrive/CIS5800/Log/mBART/Education/memory_usage_lora.log\"\n",
        "# analysis_output_file = \"/content/drive/MyDrive/CIS5800/Log/mBART/Education/memory_analysis_lora.csv\"\n",
        "\n",
        "# log_dir = os.path.dirname(log_file)\n",
        "# if not os.path.exists(log_dir):\n",
        "#     os.makedirs(log_dir)\n",
        "\n",
        "# LoRA model configuration\n",
        "mbart_lora_config = LoraConfig(\n",
        "    task_type=TaskType.SEQ_2_SEQ_LM,\n",
        "    inference_mode=False,\n",
        "    r=8,  # Low-rank dimension\n",
        "    lora_alpha=64,\n",
        "    lora_dropout=0.0,\n",
        "    target_modules=[\"q_proj\", \"v_proj\"],\n",
        ")\n",
        "\n",
        "model_mbart_lora_finetune = get_peft_model(model_mbart_lora_finetune, mbart_lora_config)\n",
        "model_mbart_lora_finetune.config.pad_token_id = tokenizer_mbart.pad_token_id\n",
        "\n",
        "# TrainingArguments with best params\n",
        "training_args = TrainingArguments(\n",
        "    output_dir=\"./results\",\n",
        "    evaluation_strategy=\"epoch\",\n",
        "    learning_rate=2e-5,  # Best learning rate\n",
        "    per_device_train_batch_size=16,  # Best batch size\n",
        "    per_device_eval_batch_size=16,  # Best batch size\n",
        "    num_train_epochs=1,  # Best epoch\n",
        "    weight_decay=0.01,\n",
        "    remove_unused_columns=False,\n",
        "    logging_steps=100,\n",
        "    save_strategy=\"no\",\n",
        "    report_to=\"none\",\n",
        ")\n",
        "\n",
        "# Trainer setup\n",
        "trainer = Trainer(\n",
        "    model=model_mbart_lora_finetune,\n",
        "    args=training_args,\n",
        "    train_dataset=tokenized_data_mbart_train,\n",
        "    eval_dataset=tokenized_data_mbart_dev,\n",
        "    tokenizer=tokenizer_mbart,\n",
        "    # callbacks=[MemoryUsageLogger(log_file)]\n",
        ")\n",
        "\n",
        "# Start training\n",
        "trainer.train()\n",
        "\n",
        "# Analyze logs\n",
        "# analyze_logs(log_file, analysis_output_file)\n",
        "\n",
        "# Indicate completion\n",
        "# print(\"LoRA fine-tuning completed. Memory usage logged in:\", log_file)\n",
        "# print(\"Top memory usage analysis saved in:\", analysis_output_file)"
      ]
    },
    {
      "cell_type": "code",
      "execution_count": null,
      "metadata": {
        "colab": {
          "background_save": true
        },
        "id": "VCT8wsySASz8",
        "outputId": "8583aa17-3d81-44fd-bbe4-4e46fd3183fb"
      },
      "outputs": [
        {
          "name": "stderr",
          "output_type": "stream",
          "text": [
            "Calculating BLEU Scores: 100%|██████████| 5000/5000 [58:07<00:00,  1.43it/s]"
          ]
        },
        {
          "name": "stdout",
          "output_type": "stream",
          "text": [
            "Average BLEU score for the test set: 0.1153\n"
          ]
        },
        {
          "name": "stderr",
          "output_type": "stream",
          "text": [
            "\n"
          ]
        }
      ],
      "source": [
        "average_bleu = evaluate_bleu_score(model=model_mbart_lora_finetune, tokenizer=tokenizer_mbart, test_data=test_data)"
      ]
    },
    {
      "cell_type": "code",
      "execution_count": null,
      "metadata": {
        "colab": {
          "background_save": true
        },
        "id": "Lx7p0Q5ZAYqr",
        "outputId": "093315a3-eaae-4eb6-d86f-441f63c9e7cb"
      },
      "outputs": [
        {
          "name": "stderr",
          "output_type": "stream",
          "text": [
            "Evaluating BLEU:   0%|          | 0/5000 [00:00<?, ?it/s]Asking to truncate to max_length but no maximum length is provided and the model has no predefined maximum length. Default to no truncation.\n",
            "Evaluating BLEU: 100%|██████████| 5000/5000 [1:03:59<00:00,  1.30it/s]\n"
          ]
        },
        {
          "name": "stdout",
          "output_type": "stream",
          "text": [
            "\n",
            "All Results:\n",
            "                                          chinese_input  \\\n",
            "0                                    将生面团一切为二，再分别揉成长条形。   \n",
            "1                                    可邮寄汇票或填写信用卡付款表给我们。   \n",
            "2                                 他总是先收买一个对继承遗产最没有希望的人。   \n",
            "3     另外，这年的开局不错：冬天天气很理想，2段长时间的低温有利于植株，2，3月雨水充足，葡萄出芽...   \n",
            "4                              每当按某个新的信息改写记录，就叫作更新这一记录。   \n",
            "...                                                 ...   \n",
            "4995  独立完成办公室日常的行政管理工作，并协助全国的办公用品采购工作。配合人事行政经理起草、改相关...   \n",
            "4996              密码给予某一任意意义的符号、字母和单词的系统，用于传输需要保密或简结的信息   \n",
            "4997           目的探讨棘阿米巴属自由生活阿米巴引起的肉芽肿性脑膜脑炎的临床病理特点及鉴别诊断。   \n",
            "4998                    \"不如趁势连我们一齐撵了,我们也好,你也不愁再有好的来伏侍你\"   \n",
            "4999                        他预定今晚从八点到十点将在布郎克斯区的‘晴空月’饭店。   \n",
            "\n",
            "                                           ground_truth  \\\n",
            "0     Cut the dough in half and shape each half into...   \n",
            "1     By mailing bank draft in US funds OR fill in o...   \n",
            "2     It was his way to buy out the most unlikely cl...   \n",
            "3     In addition, the year had got off to a good st...   \n",
            "4     Whenever a record is rewritten with some new i...   \n",
            "...                                                 ...   \n",
            "4995  Complete daily office administration managemen...   \n",
            "4996  A system of symbols, letters, or words given c...   \n",
            "4997  Objective To study the clinicopathological cha...   \n",
            "4998  \"Why not take this chance to get rid of the lo...   \n",
            "4999  From eight to ten tonight he'll be at the Luna...   \n",
            "\n",
            "                                             prediction  bleu_score  correct  \n",
            "0     Divide the dough into two pieces and rub them ...       0.043    False  \n",
            "1     You can mail us a bill of lading or fill in th...       0.026    False  \n",
            "2     He always buys first a person who has the leas...       0.016    False  \n",
            "3     In addition, this year's starting point is goo...       0.017    False  \n",
            "4     Every time a record is rewritten with a new in...       0.494     True  \n",
            "...                                                 ...         ...      ...  \n",
            "4995  Completes the daily administrative management ...       0.039    False  \n",
            "4996  A system of symbols, letters, and words of arb...       0.171     True  \n",
            "4997  Objective To investigate the clinical characte...       0.249     True  \n",
            "4998  \"It's better to let us go, and we'll be all ri...       0.010    False  \n",
            "4999  He's scheduled to be at the Broke Moon Hotel i...       0.065    False  \n",
            "\n",
            "[5000 rows x 5 columns]\n",
            "\n",
            "Error Examples:\n",
            "                                          chinese_input  \\\n",
            "0                                    将生面团一切为二，再分别揉成长条形。   \n",
            "1                                    可邮寄汇票或填写信用卡付款表给我们。   \n",
            "2                                 他总是先收买一个对继承遗产最没有希望的人。   \n",
            "3     另外，这年的开局不错：冬天天气很理想，2段长时间的低温有利于植株，2，3月雨水充足，葡萄出芽...   \n",
            "5          无故缺席三次（含）以上者，成绩不予通过。病假、事假等合理原因，请依学校规定办理请假手续。   \n",
            "...                                                 ...   \n",
            "4991                            整点警报整点警报功能可在每小时整点时发出鸣响。   \n",
            "4992                       英格兰西南部和威尔士之间首次轮渡的初步设计方案已经起草。   \n",
            "4995  独立完成办公室日常的行政管理工作，并协助全国的办公用品采购工作。配合人事行政经理起草、改相关...   \n",
            "4998                    \"不如趁势连我们一齐撵了,我们也好,你也不愁再有好的来伏侍你\"   \n",
            "4999                        他预定今晚从八点到十点将在布郎克斯区的‘晴空月’饭店。   \n",
            "\n",
            "                                           ground_truth  \\\n",
            "0     Cut the dough in half and shape each half into...   \n",
            "1     By mailing bank draft in US funds OR fill in o...   \n",
            "2     It was his way to buy out the most unlikely cl...   \n",
            "3     In addition, the year had got off to a good st...   \n",
            "5     Absence three times and above will flunk. Sick...   \n",
            "...                                                 ...   \n",
            "4991  Hourly Alarm The hourly alarm causes the watch...   \n",
            "4992  Initial plans are drawn up for the first car f...   \n",
            "4995  Complete daily office administration managemen...   \n",
            "4998  \"Why not take this chance to get rid of the lo...   \n",
            "4999  From eight to ten tonight he'll be at the Luna...   \n",
            "\n",
            "                                             prediction  bleu_score  correct  \n",
            "0     Divide the dough into two pieces and rub them ...       0.043    False  \n",
            "1     You can mail us a bill of lading or fill in th...       0.026    False  \n",
            "2     He always buys first a person who has the leas...       0.016    False  \n",
            "3     In addition, this year's starting point is goo...       0.017    False  \n",
            "5     If you are absent for more than three (includi...       0.007    False  \n",
            "...                                                 ...         ...      ...  \n",
            "4991  Full-point alert The full-point alert function...       0.018    False  \n",
            "4992  A preliminary design plan for the first rounda...       0.078    False  \n",
            "4995  Completes the daily administrative management ...       0.039    False  \n",
            "4998  \"It's better to let us go, and we'll be all ri...       0.010    False  \n",
            "4999  He's scheduled to be at the Broke Moon Hotel i...       0.065    False  \n",
            "\n",
            "[3262 rows x 5 columns]\n",
            "Error examples saved to '/content/drive/MyDrive/CIS5800/Error/mBart_lora'\n"
          ]
        },
        {
          "data": {
            "text/plain": [
              "(                                          chinese_input  \\\n",
              " 0                                    将生面团一切为二，再分别揉成长条形。   \n",
              " 1                                    可邮寄汇票或填写信用卡付款表给我们。   \n",
              " 2                                 他总是先收买一个对继承遗产最没有希望的人。   \n",
              " 3     另外，这年的开局不错：冬天天气很理想，2段长时间的低温有利于植株，2，3月雨水充足，葡萄出芽...   \n",
              " 4                              每当按某个新的信息改写记录，就叫作更新这一记录。   \n",
              " ...                                                 ...   \n",
              " 4995  独立完成办公室日常的行政管理工作，并协助全国的办公用品采购工作。配合人事行政经理起草、改相关...   \n",
              " 4996              密码给予某一任意意义的符号、字母和单词的系统，用于传输需要保密或简结的信息   \n",
              " 4997           目的探讨棘阿米巴属自由生活阿米巴引起的肉芽肿性脑膜脑炎的临床病理特点及鉴别诊断。   \n",
              " 4998                    \"不如趁势连我们一齐撵了,我们也好,你也不愁再有好的来伏侍你\"   \n",
              " 4999                        他预定今晚从八点到十点将在布郎克斯区的‘晴空月’饭店。   \n",
              " \n",
              "                                            ground_truth  \\\n",
              " 0     Cut the dough in half and shape each half into...   \n",
              " 1     By mailing bank draft in US funds OR fill in o...   \n",
              " 2     It was his way to buy out the most unlikely cl...   \n",
              " 3     In addition, the year had got off to a good st...   \n",
              " 4     Whenever a record is rewritten with some new i...   \n",
              " ...                                                 ...   \n",
              " 4995  Complete daily office administration managemen...   \n",
              " 4996  A system of symbols, letters, or words given c...   \n",
              " 4997  Objective To study the clinicopathological cha...   \n",
              " 4998  \"Why not take this chance to get rid of the lo...   \n",
              " 4999  From eight to ten tonight he'll be at the Luna...   \n",
              " \n",
              "                                              prediction  bleu_score  correct  \n",
              " 0     Divide the dough into two pieces and rub them ...       0.043    False  \n",
              " 1     You can mail us a bill of lading or fill in th...       0.026    False  \n",
              " 2     He always buys first a person who has the leas...       0.016    False  \n",
              " 3     In addition, this year's starting point is goo...       0.017    False  \n",
              " 4     Every time a record is rewritten with a new in...       0.494     True  \n",
              " ...                                                 ...         ...      ...  \n",
              " 4995  Completes the daily administrative management ...       0.039    False  \n",
              " 4996  A system of symbols, letters, and words of arb...       0.171     True  \n",
              " 4997  Objective To investigate the clinical characte...       0.249     True  \n",
              " 4998  \"It's better to let us go, and we'll be all ri...       0.010    False  \n",
              " 4999  He's scheduled to be at the Broke Moon Hotel i...       0.065    False  \n",
              " \n",
              " [5000 rows x 5 columns],\n",
              "                                           chinese_input  \\\n",
              " 0                                    将生面团一切为二，再分别揉成长条形。   \n",
              " 1                                    可邮寄汇票或填写信用卡付款表给我们。   \n",
              " 2                                 他总是先收买一个对继承遗产最没有希望的人。   \n",
              " 3     另外，这年的开局不错：冬天天气很理想，2段长时间的低温有利于植株，2，3月雨水充足，葡萄出芽...   \n",
              " 5          无故缺席三次（含）以上者，成绩不予通过。病假、事假等合理原因，请依学校规定办理请假手续。   \n",
              " ...                                                 ...   \n",
              " 4991                            整点警报整点警报功能可在每小时整点时发出鸣响。   \n",
              " 4992                       英格兰西南部和威尔士之间首次轮渡的初步设计方案已经起草。   \n",
              " 4995  独立完成办公室日常的行政管理工作，并协助全国的办公用品采购工作。配合人事行政经理起草、改相关...   \n",
              " 4998                    \"不如趁势连我们一齐撵了,我们也好,你也不愁再有好的来伏侍你\"   \n",
              " 4999                        他预定今晚从八点到十点将在布郎克斯区的‘晴空月’饭店。   \n",
              " \n",
              "                                            ground_truth  \\\n",
              " 0     Cut the dough in half and shape each half into...   \n",
              " 1     By mailing bank draft in US funds OR fill in o...   \n",
              " 2     It was his way to buy out the most unlikely cl...   \n",
              " 3     In addition, the year had got off to a good st...   \n",
              " 5     Absence three times and above will flunk. Sick...   \n",
              " ...                                                 ...   \n",
              " 4991  Hourly Alarm The hourly alarm causes the watch...   \n",
              " 4992  Initial plans are drawn up for the first car f...   \n",
              " 4995  Complete daily office administration managemen...   \n",
              " 4998  \"Why not take this chance to get rid of the lo...   \n",
              " 4999  From eight to ten tonight he'll be at the Luna...   \n",
              " \n",
              "                                              prediction  bleu_score  correct  \n",
              " 0     Divide the dough into two pieces and rub them ...       0.043    False  \n",
              " 1     You can mail us a bill of lading or fill in th...       0.026    False  \n",
              " 2     He always buys first a person who has the leas...       0.016    False  \n",
              " 3     In addition, this year's starting point is goo...       0.017    False  \n",
              " 5     If you are absent for more than three (includi...       0.007    False  \n",
              " ...                                                 ...         ...      ...  \n",
              " 4991  Full-point alert The full-point alert function...       0.018    False  \n",
              " 4992  A preliminary design plan for the first rounda...       0.078    False  \n",
              " 4995  Completes the daily administrative management ...       0.039    False  \n",
              " 4998  \"It's better to let us go, and we'll be all ri...       0.010    False  \n",
              " 4999  He's scheduled to be at the Broke Moon Hotel i...       0.065    False  \n",
              " \n",
              " [3262 rows x 5 columns])"
            ]
          },
          "execution_count": 18,
          "metadata": {},
          "output_type": "execute_result"
        }
      ],
      "source": [
        "error_evaluate(model_mbart_lora_finetune, tokenizer_mbart, test_data, \"/content/drive/MyDrive/CIS5800/Error/mBart_lora\", max_length=50, device=\"cuda\", bleu_threshold=0.1)"
      ]
    },
    {
      "cell_type": "code",
      "execution_count": null,
      "metadata": {
        "colab": {
          "background_save": true
        },
        "id": "2grIf3BtJqxK"
      },
      "outputs": [],
      "source": [
        "del model_mbart_lora_finetune\n",
        "gc.collect()\n",
        "torch.cuda.empty_cache()\n",
        "torch.cuda.synchronize()"
      ]
    },
    {
      "cell_type": "markdown",
      "metadata": {
        "id": "9I5TYlxXPVhk"
      },
      "source": [
        "### **4.4 Fine-Tune mBart with Layer Freezing**"
      ]
    },
    {
      "cell_type": "code",
      "execution_count": null,
      "metadata": {
        "colab": {
          "background_save": true,
          "base_uri": "https://localhost:8080/",
          "height": 144
        },
        "id": "3ECRKvjgPob-",
        "outputId": "ecd3fe80-26ff-445b-9262-4ae4ccd0088b"
      },
      "outputs": [
        {
          "name": "stderr",
          "output_type": "stream",
          "text": [
            "/usr/local/lib/python3.10/dist-packages/transformers/training_args.py:1568: FutureWarning: `evaluation_strategy` is deprecated and will be removed in version 4.46 of 🤗 Transformers. Use `eval_strategy` instead\n",
            "  warnings.warn(\n",
            "<ipython-input-19-f487a4015949>:51: FutureWarning: `tokenizer` is deprecated and will be removed in version 5.0.0 for `Trainer.__init__`. Use `processing_class` instead.\n",
            "  trainer = Trainer(\n"
          ]
        },
        {
          "data": {
            "text/html": [
              "\n",
              "    <div>\n",
              "      \n",
              "      <progress value='2500' max='2500' style='width:300px; height:20px; vertical-align: middle;'></progress>\n",
              "      [2500/2500 39:59, Epoch 1/1]\n",
              "    </div>\n",
              "    <table border=\"1\" class=\"dataframe\">\n",
              "  <thead>\n",
              " <tr style=\"text-align: left;\">\n",
              "      <th>Epoch</th>\n",
              "      <th>Training Loss</th>\n",
              "      <th>Validation Loss</th>\n",
              "    </tr>\n",
              "  </thead>\n",
              "  <tbody>\n",
              "    <tr>\n",
              "      <td>1</td>\n",
              "      <td>1.919100</td>\n",
              "      <td>1.931081</td>\n",
              "    </tr>\n",
              "  </tbody>\n",
              "</table><p>"
            ],
            "text/plain": [
              "<IPython.core.display.HTML object>"
            ]
          },
          "metadata": {},
          "output_type": "display_data"
        },
        {
          "data": {
            "text/plain": [
              "TrainOutput(global_step=2500, training_loss=1.9690359008789062, metrics={'train_runtime': 2401.6029, 'train_samples_per_second': 16.656, 'train_steps_per_second': 1.041, 'total_flos': 4232675328000000.0, 'train_loss': 1.9690359008789062, 'epoch': 1.0})"
            ]
          },
          "execution_count": 19,
          "metadata": {},
          "output_type": "execute_result"
        }
      ],
      "source": [
        "os.environ[\"WANDB_DISABLED\"] = \"true\"\n",
        "\n",
        "model_mbart_freeze_finetune = copy.deepcopy(model_mbart)\n",
        "\n",
        "# Layer Freezing Fine-tuning with memory monitoring\n",
        "\n",
        "# Initialize monitoring thread\n",
        "# log_file = \"/content/drive/MyDrive/CIS5800/Log/mBART/Education/memory_usage_freeze.log\"\n",
        "# analysis_output_file = \"/content/drive/MyDrive/CIS5800/Log/mBART/Education/memory_analysis_freeze.csv\"\n",
        "\n",
        "# log_dir = os.path.dirname(log_file)\n",
        "# if not os.path.exists(log_dir):\n",
        "#     os.makedirs(log_dir)\n",
        "\n",
        "freeze_encoder_layers = 8\n",
        "freeze_decoder_layers = 8\n",
        "\n",
        "# Apply Layer Freezing\n",
        "for name, param in model_mbart_freeze_finetune.named_parameters():\n",
        "    # Freeze encoder layers\n",
        "    if \"encoder.layers\" in name:\n",
        "        layer_num = int(name.split(\".\")[3])  # Extract layer index\n",
        "        if layer_num < freeze_encoder_layers:\n",
        "            param.requires_grad = False\n",
        "    # Freeze decoder layers\n",
        "    elif \"decoder.layers\" in name:\n",
        "        layer_num = int(name.split(\".\")[3])  # Extract layer index\n",
        "        if layer_num < freeze_decoder_layers:\n",
        "            param.requires_grad = False\n",
        "    else:\n",
        "        param.requires_grad = True  # Keep other parameters trainable\n",
        "\n",
        "model_mbart_freeze_finetune.config.pad_token_id = tokenizer_mbart.pad_token_id\n",
        "\n",
        "# TrainingArguments with best params\n",
        "training_args = TrainingArguments(\n",
        "    output_dir=\"./results\",\n",
        "    evaluation_strategy=\"epoch\",\n",
        "    learning_rate=2e-5,  # Best learning rate\n",
        "    per_device_train_batch_size=16,  # Best batch size\n",
        "    per_device_eval_batch_size=16,  # Best batch size\n",
        "    num_train_epochs=1,  # Best epoch\n",
        "    weight_decay=0.01,\n",
        "    remove_unused_columns=False,\n",
        "    logging_steps=100,\n",
        "    save_strategy=\"no\",\n",
        "    report_to=\"none\",\n",
        ")\n",
        "\n",
        "# Trainer setup\n",
        "trainer = Trainer(\n",
        "    model=model_mbart_freeze_finetune,\n",
        "    args=training_args,\n",
        "    train_dataset=tokenized_data_mbart_train,\n",
        "    eval_dataset=tokenized_data_mbart_dev,\n",
        "    tokenizer=tokenizer_mbart,\n",
        "    # callbacks=[MemoryUsageLogger(log_file)]\n",
        ")\n",
        "\n",
        "# Start training\n",
        "trainer.train()\n",
        "\n",
        "# # Analyze logs\n",
        "# analyze_logs(log_file, analysis_output_file)\n",
        "\n",
        "# # Indicate completion\n",
        "# print(\"LoRA fine-tuning completed. Memory usage logged in:\", log_file)\n",
        "# print(\"Top memory usage analysis saved in:\", analysis_output_file)"
      ]
    },
    {
      "cell_type": "code",
      "execution_count": null,
      "metadata": {
        "colab": {
          "background_save": true
        },
        "id": "kw25897GQmwn",
        "outputId": "a0fd2b92-8c0f-4674-dc91-2f22f4d00ce5"
      },
      "outputs": [
        {
          "name": "stderr",
          "output_type": "stream",
          "text": [
            "Calculating BLEU Scores: 100%|██████████| 5000/5000 [46:38<00:00,  1.79it/s]"
          ]
        },
        {
          "name": "stdout",
          "output_type": "stream",
          "text": [
            "Average BLEU score for the test set: 0.1178\n"
          ]
        },
        {
          "name": "stderr",
          "output_type": "stream",
          "text": [
            "\n"
          ]
        }
      ],
      "source": [
        "average_bleu = evaluate_bleu_score(model=model_mbart_freeze_finetune, tokenizer=tokenizer_mbart, test_data=test_data)"
      ]
    },
    {
      "cell_type": "code",
      "execution_count": null,
      "metadata": {
        "colab": {
          "background_save": true
        },
        "id": "3X4MSdTYk22G",
        "outputId": "6c8189ce-b7a2-4e3e-dd42-0afd83a4db94"
      },
      "outputs": [
        {
          "name": "stderr",
          "output_type": "stream",
          "text": [
            "Evaluating BLEU:   0%|          | 0/5000 [00:00<?, ?it/s]Asking to truncate to max_length but no maximum length is provided and the model has no predefined maximum length. Default to no truncation.\n",
            "Evaluating BLEU: 100%|██████████| 5000/5000 [48:10<00:00,  1.73it/s]"
          ]
        },
        {
          "name": "stdout",
          "output_type": "stream",
          "text": [
            "\n",
            "All Results:\n",
            "                                          chinese_input  \\\n",
            "0                 “呵，好，当然，”那女孩说，她表现的那种认真的，灵敏的样子，看来有点好笑。   \n",
            "1                                    本发明涉及适形调强准直器的制造方法。   \n",
            "2     健身房里的运动可能包括原地蹬脚踏车、划圆圈、爬楼梯，以及参与人数不等的团体活动如有氧运动、跆...   \n",
            "3                                          他懒极了，因此未老先衰。   \n",
            "4     今年的策展人很清楚，无论怎样第75届双年展定为什么主题，人们一看即知这属于惠特尼，所以他们只...   \n",
            "...                                                 ...   \n",
            "4995                            目的研究玻璃体视网膜手术术后高 眼压 的原因。   \n",
            "4996                                  你一会感觉良好但是却开始失去控制。   \n",
            "4997                      本合同将以交钥匙工程为基础，由一家英国/瑞典合资企业承包。   \n",
            "4998                     提供有效的媒介计划和购买，以及长期及稳定的媒体合作关系资源。   \n",
            "4999                   拉格比球比赛19世纪初创立于沃尔威克郡的拉格比学校，因此而得名。   \n",
            "\n",
            "                                           ground_truth  \\\n",
            "0     \"O yes, certainly,\"said the girl with a sort o...   \n",
            "1     The invention relates to a manufacturing metho...   \n",
            "2     Activities in the gym might include the treadm...   \n",
            "3     He was so lazy that he rusted out when he was ...   \n",
            "4     This year's curators understood that no matter...   \n",
            "...                                                 ...   \n",
            "4995  Objective To evaluate the cause of intraocular...   \n",
            "4996  You're fine for a while but you start to lose ...   \n",
            "4997  The contract's going to a British / Swedish jo...   \n",
            "4998  To provide media planning and buying, and some...   \n",
            "4999  The game \" Rugby \" was invented at Rugby Schoo...   \n",
            "\n",
            "                                             prediction  bleu_score  correct  \n",
            "0     \"Oh, yes, of course,\" said the girl, with the ...       0.012    False  \n",
            "1     The present invention relates to the manufactu...       0.076    False  \n",
            "2     Exercises in gyms may include pedaling, circli...       0.044    False  \n",
            "3     He was so lazy that he didn't give in to old age.       0.384     True  \n",
            "4     This year's curators are clear that whatever t...       0.042    False  \n",
            "...                                                 ...         ...      ...  \n",
            "4995  Objective To investigate the causes of high op...       0.037    False  \n",
            "4996  As soon as you feel good, you start to lose co...       0.351     True  \n",
            "4997  This contract will be contracted by a UK/Swedi...       0.017    False  \n",
            "4998  Provide effective media planning and purchasin...       0.078    False  \n",
            "4999  Rugby soccer was founded in the early 19th cen...       0.084    False  \n",
            "\n",
            "[5000 rows x 5 columns]\n",
            "\n",
            "Error Examples:\n",
            "                                          chinese_input  \\\n",
            "0                 “呵，好，当然，”那女孩说，她表现的那种认真的，灵敏的样子，看来有点好笑。   \n",
            "1                                    本发明涉及适形调强准直器的制造方法。   \n",
            "2     健身房里的运动可能包括原地蹬脚踏车、划圆圈、爬楼梯，以及参与人数不等的团体活动如有氧运动、跆...   \n",
            "4     今年的策展人很清楚，无论怎样第75届双年展定为什么主题，人们一看即知这属于惠特尼，所以他们只...   \n",
            "6                        生命是由快乐时光组成的一个链条，而绝不仅仅是一种简单的存在。   \n",
            "...                                                 ...   \n",
            "4994                           她的目标：宰掉21个北方佬，21是她情郎的年龄。   \n",
            "4995                            目的研究玻璃体视网膜手术术后高 眼压 的原因。   \n",
            "4997                      本合同将以交钥匙工程为基础，由一家英国/瑞典合资企业承包。   \n",
            "4998                     提供有效的媒介计划和购买，以及长期及稳定的媒体合作关系资源。   \n",
            "4999                   拉格比球比赛19世纪初创立于沃尔威克郡的拉格比学校，因此而得名。   \n",
            "\n",
            "                                           ground_truth  \\\n",
            "0     \"O yes, certainly,\"said the girl with a sort o...   \n",
            "1     The invention relates to a manufacturing metho...   \n",
            "2     Activities in the gym might include the treadm...   \n",
            "4     This year's curators understood that no matter...   \n",
            "6     Life is a chian of moment of enjoyment, not on...   \n",
            "...                                                 ...   \n",
            "4994  Her goal: to slay 21 Yankees, one for each yea...   \n",
            "4995  Objective To evaluate the cause of intraocular...   \n",
            "4997  The contract's going to a British / Swedish jo...   \n",
            "4998  To provide media planning and buying, and some...   \n",
            "4999  The game \" Rugby \" was invented at Rugby Schoo...   \n",
            "\n",
            "                                             prediction  bleu_score  correct  \n",
            "0     \"Oh, yes, of course,\" said the girl, with the ...       0.012    False  \n",
            "1     The present invention relates to the manufactu...       0.076    False  \n",
            "2     Exercises in gyms may include pedaling, circli...       0.044    False  \n",
            "4     This year's curators are clear that whatever t...       0.042    False  \n",
            "6     Life is a chain of happy moments, and not just...       0.087    False  \n",
            "...                                                 ...         ...      ...  \n",
            "4994  Her goal is to kill 21 Yankees, 21 is her love...       0.035    False  \n",
            "4995  Objective To investigate the causes of high op...       0.037    False  \n",
            "4997  This contract will be contracted by a UK/Swedi...       0.017    False  \n",
            "4998  Provide effective media planning and purchasin...       0.078    False  \n",
            "4999  Rugby soccer was founded in the early 19th cen...       0.084    False  \n",
            "\n",
            "[3204 rows x 5 columns]\n",
            "Error examples saved to '/content/drive/MyDrive/CIS5800/Error/mBart_freeze'\n"
          ]
        },
        {
          "name": "stderr",
          "output_type": "stream",
          "text": [
            "\n"
          ]
        },
        {
          "data": {
            "text/plain": [
              "(                                          chinese_input  \\\n",
              " 0                 “呵，好，当然，”那女孩说，她表现的那种认真的，灵敏的样子，看来有点好笑。   \n",
              " 1                                    本发明涉及适形调强准直器的制造方法。   \n",
              " 2     健身房里的运动可能包括原地蹬脚踏车、划圆圈、爬楼梯，以及参与人数不等的团体活动如有氧运动、跆...   \n",
              " 3                                          他懒极了，因此未老先衰。   \n",
              " 4     今年的策展人很清楚，无论怎样第75届双年展定为什么主题，人们一看即知这属于惠特尼，所以他们只...   \n",
              " ...                                                 ...   \n",
              " 4995                            目的研究玻璃体视网膜手术术后高 眼压 的原因。   \n",
              " 4996                                  你一会感觉良好但是却开始失去控制。   \n",
              " 4997                      本合同将以交钥匙工程为基础，由一家英国/瑞典合资企业承包。   \n",
              " 4998                     提供有效的媒介计划和购买，以及长期及稳定的媒体合作关系资源。   \n",
              " 4999                   拉格比球比赛19世纪初创立于沃尔威克郡的拉格比学校，因此而得名。   \n",
              " \n",
              "                                            ground_truth  \\\n",
              " 0     \"O yes, certainly,\"said the girl with a sort o...   \n",
              " 1     The invention relates to a manufacturing metho...   \n",
              " 2     Activities in the gym might include the treadm...   \n",
              " 3     He was so lazy that he rusted out when he was ...   \n",
              " 4     This year's curators understood that no matter...   \n",
              " ...                                                 ...   \n",
              " 4995  Objective To evaluate the cause of intraocular...   \n",
              " 4996  You're fine for a while but you start to lose ...   \n",
              " 4997  The contract's going to a British / Swedish jo...   \n",
              " 4998  To provide media planning and buying, and some...   \n",
              " 4999  The game \" Rugby \" was invented at Rugby Schoo...   \n",
              " \n",
              "                                              prediction  bleu_score  correct  \n",
              " 0     \"Oh, yes, of course,\" said the girl, with the ...       0.012    False  \n",
              " 1     The present invention relates to the manufactu...       0.076    False  \n",
              " 2     Exercises in gyms may include pedaling, circli...       0.044    False  \n",
              " 3     He was so lazy that he didn't give in to old age.       0.384     True  \n",
              " 4     This year's curators are clear that whatever t...       0.042    False  \n",
              " ...                                                 ...         ...      ...  \n",
              " 4995  Objective To investigate the causes of high op...       0.037    False  \n",
              " 4996  As soon as you feel good, you start to lose co...       0.351     True  \n",
              " 4997  This contract will be contracted by a UK/Swedi...       0.017    False  \n",
              " 4998  Provide effective media planning and purchasin...       0.078    False  \n",
              " 4999  Rugby soccer was founded in the early 19th cen...       0.084    False  \n",
              " \n",
              " [5000 rows x 5 columns],\n",
              "                                           chinese_input  \\\n",
              " 0                 “呵，好，当然，”那女孩说，她表现的那种认真的，灵敏的样子，看来有点好笑。   \n",
              " 1                                    本发明涉及适形调强准直器的制造方法。   \n",
              " 2     健身房里的运动可能包括原地蹬脚踏车、划圆圈、爬楼梯，以及参与人数不等的团体活动如有氧运动、跆...   \n",
              " 4     今年的策展人很清楚，无论怎样第75届双年展定为什么主题，人们一看即知这属于惠特尼，所以他们只...   \n",
              " 6                        生命是由快乐时光组成的一个链条，而绝不仅仅是一种简单的存在。   \n",
              " ...                                                 ...   \n",
              " 4994                           她的目标：宰掉21个北方佬，21是她情郎的年龄。   \n",
              " 4995                            目的研究玻璃体视网膜手术术后高 眼压 的原因。   \n",
              " 4997                      本合同将以交钥匙工程为基础，由一家英国/瑞典合资企业承包。   \n",
              " 4998                     提供有效的媒介计划和购买，以及长期及稳定的媒体合作关系资源。   \n",
              " 4999                   拉格比球比赛19世纪初创立于沃尔威克郡的拉格比学校，因此而得名。   \n",
              " \n",
              "                                            ground_truth  \\\n",
              " 0     \"O yes, certainly,\"said the girl with a sort o...   \n",
              " 1     The invention relates to a manufacturing metho...   \n",
              " 2     Activities in the gym might include the treadm...   \n",
              " 4     This year's curators understood that no matter...   \n",
              " 6     Life is a chian of moment of enjoyment, not on...   \n",
              " ...                                                 ...   \n",
              " 4994  Her goal: to slay 21 Yankees, one for each yea...   \n",
              " 4995  Objective To evaluate the cause of intraocular...   \n",
              " 4997  The contract's going to a British / Swedish jo...   \n",
              " 4998  To provide media planning and buying, and some...   \n",
              " 4999  The game \" Rugby \" was invented at Rugby Schoo...   \n",
              " \n",
              "                                              prediction  bleu_score  correct  \n",
              " 0     \"Oh, yes, of course,\" said the girl, with the ...       0.012    False  \n",
              " 1     The present invention relates to the manufactu...       0.076    False  \n",
              " 2     Exercises in gyms may include pedaling, circli...       0.044    False  \n",
              " 4     This year's curators are clear that whatever t...       0.042    False  \n",
              " 6     Life is a chain of happy moments, and not just...       0.087    False  \n",
              " ...                                                 ...         ...      ...  \n",
              " 4994  Her goal is to kill 21 Yankees, 21 is her love...       0.035    False  \n",
              " 4995  Objective To investigate the causes of high op...       0.037    False  \n",
              " 4997  This contract will be contracted by a UK/Swedi...       0.017    False  \n",
              " 4998  Provide effective media planning and purchasin...       0.078    False  \n",
              " 4999  Rugby soccer was founded in the early 19th cen...       0.084    False  \n",
              " \n",
              " [3204 rows x 5 columns])"
            ]
          },
          "execution_count": 20,
          "metadata": {},
          "output_type": "execute_result"
        }
      ],
      "source": [
        "error_evaluate(model_mbart_freeze_finetune, tokenizer_mbart, test_data, \"/content/drive/MyDrive/CIS5800/Error/mBart_freeze\", max_length=50, device=\"cuda\", bleu_threshold=0.1)"
      ]
    },
    {
      "cell_type": "code",
      "execution_count": null,
      "metadata": {
        "colab": {
          "background_save": true
        },
        "id": "LjMXvn3ZKJpt"
      },
      "outputs": [],
      "source": [
        "del model_mbart_freeze_finetune\n",
        "del tokenized_data_mbart_train\n",
        "del tokenized_data_mbart_dev\n",
        "del tokenized_data_mbart_test\n",
        "gc.collect()\n",
        "torch.cuda.empty_cache()\n",
        "torch.cuda.synchronize()"
      ]
    },
    {
      "cell_type": "markdown",
      "metadata": {
        "id": "n0heTFBaBoyX"
      },
      "source": [
        "## **5. Fine-Tune M2M100 (50,000 Samples)**\n"
      ]
    },
    {
      "cell_type": "markdown",
      "metadata": {
        "id": "6Wuhnfza0boW"
      },
      "source": [
        "### **5.1 Load Dataset (50,000)**"
      ]
    },
    {
      "cell_type": "code",
      "execution_count": null,
      "metadata": {
        "colab": {
          "base_uri": "https://localhost:8080/",
          "height": 945
        },
        "id": "BKzde-Q10eAL",
        "outputId": "56546b9d-8e18-4e9e-9314-12b9cbb4eba8"
      },
      "outputs": [
        {
          "name": "stdout",
          "output_type": "stream",
          "text": [
            "Loaded train data with 40000 samples.\n",
            "Loaded dev data with 5000 samples.\n",
            "Loaded test data with 5000 samples.\n"
          ]
        },
        {
          "data": {
            "application/vnd.jupyter.widget-view+json": {
              "model_id": "c37cd6fecb1f4a3091f86d7bcb2617f5",
              "version_major": 2,
              "version_minor": 0
            },
            "text/plain": [
              "Map:   0%|          | 0/40000 [00:00<?, ? examples/s]"
            ]
          },
          "metadata": {},
          "output_type": "display_data"
        },
        {
          "data": {
            "application/vnd.jupyter.widget-view+json": {
              "model_id": "ef9af1cf8b48457bb2d19d40eb447c32",
              "version_major": 2,
              "version_minor": 0
            },
            "text/plain": [
              "Map:   0%|          | 0/5000 [00:00<?, ? examples/s]"
            ]
          },
          "metadata": {},
          "output_type": "display_data"
        },
        {
          "data": {
            "application/vnd.jupyter.widget-view+json": {
              "model_id": "556df846c929405d829d466d359beda1",
              "version_major": 2,
              "version_minor": 0
            },
            "text/plain": [
              "Map:   0%|          | 0/5000 [00:00<?, ? examples/s]"
            ]
          },
          "metadata": {},
          "output_type": "display_data"
        },
        {
          "name": "stdout",
          "output_type": "stream",
          "text": [
            "                                             english_text  \\\n",
            "234806  They tried to sell me a bill of goods about a ...   \n",
            "41549   But then, Willowville folks don't know to this...   \n",
            "169822  Her sociable manner is really a mask for a ver...   \n",
            "313751  They have been exhibited in London's V A museu...   \n",
            "32640   Your phone will be unable to accurately determ...   \n",
            "\n",
            "                                             chinese_text  \n",
            "234806                                      他们试图骗我买一辆二手车。  \n",
            "41549   然而,威罗维利镇的人们至今也想不到的是,埃米莉·霍顿其实是马克·梅切尔的女儿,而马克却从来没...  \n",
            "169822                             她那好交际的作风，实际上是她腼腆天性的伪装。  \n",
            "313751  这些设计品在伦敦维多利亚·阿尔伯特博物馆展出过，也入选过《世界时尚》杂志(Voguemaga...  \n",
            "32640                                “:”你的手机不能准确定位目前你的位置。  \n",
            "                                             english_text  \\\n",
            "173397  Katsushika City Museum is the museum of local ...   \n",
            "296479  But, maybe we need to throw out the idea of vi...   \n",
            "24319   Now that the baby can hear, some moms like to ...   \n",
            "371615  A survey composed of multiple choice and trans...   \n",
            "309857  If you have exactly the same one - same color,...   \n",
            "\n",
            "                                   chinese_text  \n",
            "173397                  葛饰区乡土天文馆是一所地方历史博物馆和天文馆。  \n",
            "296479  但是，也许我们需要完全丢掉处女这个概念，不要有从一个行为中你会失去什么的想法。  \n",
            "24319                既然婴儿能听到了，一些妈妈喜欢读书或放音乐给宝贝听。  \n",
            "371615     调查采用能力测试的形式，结合定性和定量分析探求词块能力和语言能力的关系。  \n",
            "309857       如果你们有完全一样的 —— 同样颜色，同样款式，同样尺寸，当然愿意。  \n",
            "                                             english_text  \\\n",
            "449881  The upper end of a stay 10 is mounted on a cei...   \n",
            "233204  An Environmental Law and Policy Center represe...   \n",
            "13482   What about you, Mike? Do you think we should t...   \n",
            "320630  But since the blockade began, he has had to re...   \n",
            "111437  Some pulled a long face as they glanced at the...   \n",
            "\n",
            "                                     chinese_text  \n",
            "449881                      支架10的上端安装在车内空间中的天花板上。  \n",
            "233204               一个环境法律和政策中心的代表说，风能类似的基准已经工作。  \n",
            "13482                你呢，迈克? 你认为我们应该把CP21告诉凯先生 吗 ?  \n",
            "320630  以前他直接从中国进口货物，但是封锁开始后，他只得求助于走私犯并且得多付40%的钱。  \n",
            "111437                           有几位可就拉长了脸瞧着会场门口。  \n"
          ]
        }
      ],
      "source": [
        "# Load and preprocess the dataset\n",
        "train_data, dev_data, test_data = load_data_from_txt(data_file_path, sample_size = 50000)\n",
        "\n",
        "tokenized_data_mtm_train = preprocess_data(train_data, tokenizer_mtm, max_length=20, src_lang=\"zh\", tgt_lang=\"en\")\n",
        "tokenized_data_mtm_dev = preprocess_data(dev_data, tokenizer_mtm, max_length=20, src_lang=\"zh\", tgt_lang=\"en\")\n",
        "tokenized_data_mtm_test = preprocess_data(test_data, tokenizer_mtm, max_length=20, src_lang=\"zh\", tgt_lang=\"en\")\n",
        "\n",
        "print(train_data.head())\n",
        "print(dev_data.head())\n",
        "print(test_data.head())"
      ]
    },
    {
      "cell_type": "markdown",
      "metadata": {
        "id": "9TKJqLOrebzH"
      },
      "source": [
        "### **5.2 Fine-Tuned M2M100 with Regular Method**"
      ]
    },
    {
      "cell_type": "code",
      "execution_count": null,
      "metadata": {
        "colab": {
          "background_save": true,
          "base_uri": "https://localhost:8080/",
          "height": 349
        },
        "id": "i3B5LItQYL8z",
        "outputId": "966fe584-e61f-4825-b91f-2d4482d51970"
      },
      "outputs": [
        {
          "name": "stderr",
          "output_type": "stream",
          "text": [
            "/usr/local/lib/python3.10/dist-packages/transformers/training_args.py:1568: FutureWarning: `evaluation_strategy` is deprecated and will be removed in version 4.46 of 🤗 Transformers. Use `eval_strategy` instead\n",
            "  warnings.warn(\n",
            "<ipython-input-17-0fb7a7a7977a>:34: FutureWarning: `tokenizer` is deprecated and will be removed in version 5.0.0 for `Seq2SeqTrainer.__init__`. Use `processing_class` instead.\n",
            "  trainer = Seq2SeqTrainer(\n"
          ]
        },
        {
          "data": {
            "text/html": [
              "\n",
              "    <div>\n",
              "      \n",
              "      <progress value='936' max='936' style='width:300px; height:20px; vertical-align: middle;'></progress>\n",
              "      [936/936 45:46, Epoch 2/3]\n",
              "    </div>\n",
              "    <table border=\"1\" class=\"dataframe\">\n",
              "  <thead>\n",
              " <tr style=\"text-align: left;\">\n",
              "      <th>Epoch</th>\n",
              "      <th>Training Loss</th>\n",
              "      <th>Validation Loss</th>\n",
              "    </tr>\n",
              "  </thead>\n",
              "  <tbody>\n",
              "    <tr>\n",
              "      <td>0</td>\n",
              "      <td>2.742000</td>\n",
              "      <td>2.572316</td>\n",
              "    </tr>\n",
              "    <tr>\n",
              "      <td>2</td>\n",
              "      <td>2.458700</td>\n",
              "      <td>2.527643</td>\n",
              "    </tr>\n",
              "  </tbody>\n",
              "</table><p>"
            ],
            "text/plain": [
              "<IPython.core.display.HTML object>"
            ]
          },
          "metadata": {},
          "output_type": "display_data"
        },
        {
          "data": {
            "text/plain": [
              "TrainOutput(global_step=936, training_loss=2.619048306065747, metrics={'train_runtime': 2750.5289, 'train_samples_per_second': 43.628, 'train_steps_per_second': 0.34, 'total_flos': 5071024768942080.0, 'train_loss': 2.619048306065747, 'epoch': 2.9952})"
            ]
          },
          "execution_count": 17,
          "metadata": {},
          "output_type": "execute_result"
        }
      ],
      "source": [
        "os.environ[\"WANDB_DISABLED\"] = \"true\"\n",
        "\n",
        "model_mtm_finetune = copy.deepcopy(model_mtm)\n",
        "\n",
        "# Fine-tune the model on a small subset for testing\n",
        "# Initialize monitoring thread\n",
        "# log_file = \"/content/drive/MyDrive/CIS5800/Log/m2m/Education/memory_usage.log\"\n",
        "# analysis_output_file = \"/content/drive/MyDrive/CIS5800/Log/m2m/Education/memory_analysis.csv\"\n",
        "\n",
        "# log_dir = os.path.dirname(log_file)\n",
        "# if not os.path.exists(log_dir):\n",
        "#     os.makedirs(log_dir)\n",
        "\n",
        "# Config pad token id\n",
        "model_mtm_finetune.config.pad_token_id = tokenizer_mtm.pad_token_id\n",
        "\n",
        "# Configure TrainingArguments\n",
        "training_args = Seq2SeqTrainingArguments(\n",
        "    output_dir=\"./results\",\n",
        "    evaluation_strategy=\"epoch\",\n",
        "    logging_strategy=\"steps\",\n",
        "    logging_steps=100,\n",
        "    learning_rate=2e-5,\n",
        "    per_device_train_batch_size=16,\n",
        "    per_device_eval_batch_size=16,\n",
        "    num_train_epochs=3,\n",
        "    weight_decay=0.01,\n",
        "    gradient_accumulation_steps=8,\n",
        "    remove_unused_columns=False,\n",
        "    save_strategy=\"no\",\n",
        "    report_to=\"none\"\n",
        ")\n",
        "\n",
        "trainer = Seq2SeqTrainer(\n",
        "    model=model_mtm_finetune,\n",
        "    args=training_args,\n",
        "    train_dataset=tokenized_data_mtm_train,\n",
        "    eval_dataset=tokenized_data_mtm_dev,\n",
        "    tokenizer=tokenizer_mtm,\n",
        "    # callbacks=[MemoryUsageLogger(log_file)]\n",
        ")\n",
        "\n",
        "# Start training\n",
        "trainer.train()\n",
        "\n",
        "# Analyze logs\n",
        "# analyze_logs(log_file, analysis_output_file)\n",
        "\n",
        "# Indicate completion\n",
        "# print(\"Normal fine-tuning completed. Memory usage logged in:\", log_file)\n",
        "# print(\"Top memory usage analysis saved in:\", analysis_output_file)"
      ]
    },
    {
      "cell_type": "code",
      "execution_count": null,
      "metadata": {
        "colab": {
          "background_save": true
        },
        "id": "CGnzJYoXgoNg",
        "outputId": "d83c5a03-e3be-4e24-9a7e-b9c5dd5f4c31"
      },
      "outputs": [
        {
          "name": "stderr",
          "output_type": "stream",
          "text": [
            "Calculating BLEU Scores: 100%|██████████| 5000/5000 [26:54<00:00,  3.10it/s]"
          ]
        },
        {
          "name": "stdout",
          "output_type": "stream",
          "text": [
            "Average BLEU score for the test set: 0.0809\n"
          ]
        },
        {
          "name": "stderr",
          "output_type": "stream",
          "text": [
            "\n"
          ]
        }
      ],
      "source": [
        "average_bleu = evaluate_bleu_score(model=model_mtm_finetune, tokenizer=tokenizer_mtm, test_data=test_data)"
      ]
    },
    {
      "cell_type": "code",
      "execution_count": null,
      "metadata": {
        "colab": {
          "background_save": true
        },
        "id": "Ozqp5ofWM3c-",
        "outputId": "e1ded2a3-1024-40ae-9ee8-dd2c547990dc"
      },
      "outputs": [
        {
          "name": "stderr",
          "output_type": "stream",
          "text": [
            "Evaluating BLEU: 100%|██████████| 5000/5000 [27:09<00:00,  3.07it/s]"
          ]
        },
        {
          "name": "stdout",
          "output_type": "stream",
          "text": [
            "\n",
            "All Results:\n",
            "                                          chinese_input  \\\n",
            "0                                 支架10的上端安装在车内空间中的天花板上。   \n",
            "1                          一个环境法律和政策中心的代表说，风能类似的基准已经工作。   \n",
            "2                          你呢，迈克? 你认为我们应该把CP21告诉凯先生 吗 ?   \n",
            "3             以前他直接从中国进口货物，但是封锁开始后，他只得求助于走私犯并且得多付40%的钱。   \n",
            "4                                      有几位可就拉长了脸瞧着会场门口。   \n",
            "...                                                 ...   \n",
            "4995                        把燃料成本改变为燃料成本，通过在词组中间添加一个空格。   \n",
            "4996                            例如，您可能安装了服务包，但没有安装处理器包。   \n",
            "4997  实际上，没有一个善于思考的人会拒绝接受他们的第一个观点：即情感生活的巨大变化要求表达方式也随...   \n",
            "4998               美国人与一般人所认定的典型不同，他们并不会到处拥抱、亲吻遇见的每一个人。   \n",
            "4999                      “你们知道，”父亲接着说，“在这鬼窝窝洞里，冷得象狗一样。   \n",
            "\n",
            "                                           ground_truth  \\\n",
            "0     The upper end of a stay 10 is mounted on a cei...   \n",
            "1     An Environmental Law and Policy Center represe...   \n",
            "2     What about you, Mike? Do you think we should t...   \n",
            "3     But since the blockade began, he has had to re...   \n",
            "4     Some pulled a long face as they glanced at the...   \n",
            "...                                                 ...   \n",
            "4995  Change FuelCost to Fuel Cost by placing a spac...   \n",
            "4996  For example, you may have installed a service ...   \n",
            "4997  All the same, no thinking man can refuse to ac...   \n",
            "4998  Contrary to some stereotypes, Americans don't ...   \n",
            "4999  \"Do you know ,\" went on the father, \"that it's...   \n",
            "\n",
            "                                             prediction  bleu_score  correct  \n",
            "0     The upper end of the shelf 10 is installed on ...       0.197     True  \n",
            "1     A representative of the Center for Environment...       0.177     True  \n",
            "2     What about you, Mike? Do you think we should t...       0.727     True  \n",
            "3     He had imported goods directly from China, but...       0.102     True  \n",
            "4     A few of them pulled their face and looked at ...       0.033    False  \n",
            "...                                                 ...         ...      ...  \n",
            "4995  Change fuel cost to fuel cost by adding a spac...       0.023    False  \n",
            "4996  For example, you may have installed a Service ...       0.437     True  \n",
            "4997  In fact, no one who is good in thinking will r...       0.138     True  \n",
            "4998  Americans, unlike the typical people, are not ...       0.014    False  \n",
            "4999  \"You know,\" said the father, \"in this hole, it...       0.031    False  \n",
            "\n",
            "[5000 rows x 5 columns]\n",
            "\n",
            "Error Examples:\n",
            "                                          chinese_input  \\\n",
            "4                                      有几位可就拉长了脸瞧着会场门口。   \n",
            "5     中国抗战八年，她还算侥幸，自始至终，鬼子都不曾去惹她，假如也像马来亚沦陷了若干年月，我不知她...   \n",
            "7                              由于水位不断上升，随都能看到搜救被困居民的场景。   \n",
            "8                               梯形导向浮阀塔板具有良好的流体力学和传质性能。   \n",
            "10                            这些新观点、新命题，对党史研究有着重大的指导作用。   \n",
            "...                                                 ...   \n",
            "4993                 保险公司也是获益者，他们可以通过更好的途径获得最新资料用于保险精算。   \n",
            "4994                              至少有14人死于这场暴雨，上千人流离失所。   \n",
            "4995                        把燃料成本改变为燃料成本，通过在词组中间添加一个空格。   \n",
            "4998               美国人与一般人所认定的典型不同，他们并不会到处拥抱、亲吻遇见的每一个人。   \n",
            "4999                      “你们知道，”父亲接着说，“在这鬼窝窝洞里，冷得象狗一样。   \n",
            "\n",
            "                                           ground_truth  \\\n",
            "4     Some pulled a long face as they glanced at the...   \n",
            "5     In China's eight years of fighting a war, she ...   \n",
            "7     Scenes like this one have been playing out all...   \n",
            "8     The trapezoidal directed valve trays have exce...   \n",
            "10    These new point of views, new proposition, to ...   \n",
            "...                                                 ...   \n",
            "4993  Insurance companies benefit fromthe informatio...   \n",
            "4994  At least 1deaths are being blamed on the massi...   \n",
            "4995  Change FuelCost to Fuel Cost by placing a spac...   \n",
            "4998  Contrary to some stereotypes, Americans don't ...   \n",
            "4999  \"Do you know ,\" went on the father, \"that it's...   \n",
            "\n",
            "                                             prediction  bleu_score  correct  \n",
            "4     A few of them pulled their face and looked at ...       0.033    False  \n",
            "5     After eight years of China's resistance, she w...       0.002    False  \n",
            "7     As the water level continues to rise, the scen...       0.009    False  \n",
            "8     The staircase-oriented floating valve panel ha...       0.021    False  \n",
            "10    These new points of view and new arguments hav...       0.031    False  \n",
            "...                                                 ...         ...      ...  \n",
            "4993  Insurance firms are also profitable, and they ...       0.013    False  \n",
            "4994  At least 14 people were killed in the storm an...       0.031    False  \n",
            "4995  Change fuel cost to fuel cost by adding a spac...       0.023    False  \n",
            "4998  Americans, unlike the typical people, are not ...       0.014    False  \n",
            "4999  \"You know,\" said the father, \"in this hole, it...       0.031    False  \n",
            "\n",
            "[3884 rows x 5 columns]\n",
            "Error examples saved to '/content/drive/MyDrive/CIS5800/Error/m2m_finetune'\n"
          ]
        },
        {
          "name": "stderr",
          "output_type": "stream",
          "text": [
            "\n"
          ]
        },
        {
          "data": {
            "text/plain": [
              "(                                          chinese_input  \\\n",
              " 0                                 支架10的上端安装在车内空间中的天花板上。   \n",
              " 1                          一个环境法律和政策中心的代表说，风能类似的基准已经工作。   \n",
              " 2                          你呢，迈克? 你认为我们应该把CP21告诉凯先生 吗 ?   \n",
              " 3             以前他直接从中国进口货物，但是封锁开始后，他只得求助于走私犯并且得多付40%的钱。   \n",
              " 4                                      有几位可就拉长了脸瞧着会场门口。   \n",
              " ...                                                 ...   \n",
              " 4995                        把燃料成本改变为燃料成本，通过在词组中间添加一个空格。   \n",
              " 4996                            例如，您可能安装了服务包，但没有安装处理器包。   \n",
              " 4997  实际上，没有一个善于思考的人会拒绝接受他们的第一个观点：即情感生活的巨大变化要求表达方式也随...   \n",
              " 4998               美国人与一般人所认定的典型不同，他们并不会到处拥抱、亲吻遇见的每一个人。   \n",
              " 4999                      “你们知道，”父亲接着说，“在这鬼窝窝洞里，冷得象狗一样。   \n",
              " \n",
              "                                            ground_truth  \\\n",
              " 0     The upper end of a stay 10 is mounted on a cei...   \n",
              " 1     An Environmental Law and Policy Center represe...   \n",
              " 2     What about you, Mike? Do you think we should t...   \n",
              " 3     But since the blockade began, he has had to re...   \n",
              " 4     Some pulled a long face as they glanced at the...   \n",
              " ...                                                 ...   \n",
              " 4995  Change FuelCost to Fuel Cost by placing a spac...   \n",
              " 4996  For example, you may have installed a service ...   \n",
              " 4997  All the same, no thinking man can refuse to ac...   \n",
              " 4998  Contrary to some stereotypes, Americans don't ...   \n",
              " 4999  \"Do you know ,\" went on the father, \"that it's...   \n",
              " \n",
              "                                              prediction  bleu_score  correct  \n",
              " 0     The upper end of the shelf 10 is installed on ...       0.197     True  \n",
              " 1     A representative of the Center for Environment...       0.177     True  \n",
              " 2     What about you, Mike? Do you think we should t...       0.727     True  \n",
              " 3     He had imported goods directly from China, but...       0.102     True  \n",
              " 4     A few of them pulled their face and looked at ...       0.033    False  \n",
              " ...                                                 ...         ...      ...  \n",
              " 4995  Change fuel cost to fuel cost by adding a spac...       0.023    False  \n",
              " 4996  For example, you may have installed a Service ...       0.437     True  \n",
              " 4997  In fact, no one who is good in thinking will r...       0.138     True  \n",
              " 4998  Americans, unlike the typical people, are not ...       0.014    False  \n",
              " 4999  \"You know,\" said the father, \"in this hole, it...       0.031    False  \n",
              " \n",
              " [5000 rows x 5 columns],\n",
              "                                           chinese_input  \\\n",
              " 4                                      有几位可就拉长了脸瞧着会场门口。   \n",
              " 5     中国抗战八年，她还算侥幸，自始至终，鬼子都不曾去惹她，假如也像马来亚沦陷了若干年月，我不知她...   \n",
              " 7                              由于水位不断上升，随都能看到搜救被困居民的场景。   \n",
              " 8                               梯形导向浮阀塔板具有良好的流体力学和传质性能。   \n",
              " 10                            这些新观点、新命题，对党史研究有着重大的指导作用。   \n",
              " ...                                                 ...   \n",
              " 4993                 保险公司也是获益者，他们可以通过更好的途径获得最新资料用于保险精算。   \n",
              " 4994                              至少有14人死于这场暴雨，上千人流离失所。   \n",
              " 4995                        把燃料成本改变为燃料成本，通过在词组中间添加一个空格。   \n",
              " 4998               美国人与一般人所认定的典型不同，他们并不会到处拥抱、亲吻遇见的每一个人。   \n",
              " 4999                      “你们知道，”父亲接着说，“在这鬼窝窝洞里，冷得象狗一样。   \n",
              " \n",
              "                                            ground_truth  \\\n",
              " 4     Some pulled a long face as they glanced at the...   \n",
              " 5     In China's eight years of fighting a war, she ...   \n",
              " 7     Scenes like this one have been playing out all...   \n",
              " 8     The trapezoidal directed valve trays have exce...   \n",
              " 10    These new point of views, new proposition, to ...   \n",
              " ...                                                 ...   \n",
              " 4993  Insurance companies benefit fromthe informatio...   \n",
              " 4994  At least 1deaths are being blamed on the massi...   \n",
              " 4995  Change FuelCost to Fuel Cost by placing a spac...   \n",
              " 4998  Contrary to some stereotypes, Americans don't ...   \n",
              " 4999  \"Do you know ,\" went on the father, \"that it's...   \n",
              " \n",
              "                                              prediction  bleu_score  correct  \n",
              " 4     A few of them pulled their face and looked at ...       0.033    False  \n",
              " 5     After eight years of China's resistance, she w...       0.002    False  \n",
              " 7     As the water level continues to rise, the scen...       0.009    False  \n",
              " 8     The staircase-oriented floating valve panel ha...       0.021    False  \n",
              " 10    These new points of view and new arguments hav...       0.031    False  \n",
              " ...                                                 ...         ...      ...  \n",
              " 4993  Insurance firms are also profitable, and they ...       0.013    False  \n",
              " 4994  At least 14 people were killed in the storm an...       0.031    False  \n",
              " 4995  Change fuel cost to fuel cost by adding a spac...       0.023    False  \n",
              " 4998  Americans, unlike the typical people, are not ...       0.014    False  \n",
              " 4999  \"You know,\" said the father, \"in this hole, it...       0.031    False  \n",
              " \n",
              " [3884 rows x 5 columns])"
            ]
          },
          "execution_count": 18,
          "metadata": {},
          "output_type": "execute_result"
        }
      ],
      "source": [
        "error_evaluate(model_mtm_finetune, tokenizer_mtm, test_data, \"/content/drive/MyDrive/CIS5800/Error/m2m_finetune\", max_length=50, device=\"cuda\", bleu_threshold=0.1, model_type = \"m2m\")"
      ]
    },
    {
      "cell_type": "code",
      "execution_count": null,
      "metadata": {
        "colab": {
          "background_save": true
        },
        "id": "Wi3U5v1kMaUx"
      },
      "outputs": [],
      "source": [
        "del model_mtm_finetune\n",
        "gc.collect()\n",
        "torch.cuda.empty_cache()\n",
        "torch.cuda.synchronize()"
      ]
    },
    {
      "cell_type": "markdown",
      "metadata": {
        "id": "POk2iB0V5ULw"
      },
      "source": [
        "### **5.3 Fine-Tine M2M100 with LoRA**"
      ]
    },
    {
      "cell_type": "code",
      "execution_count": null,
      "metadata": {
        "colab": {
          "background_save": true
        },
        "id": "1SWoXpHB5kn0",
        "outputId": "1f043f13-2125-4c18-980b-68cabf4fb437"
      },
      "outputs": [
        {
          "name": "stderr",
          "output_type": "stream",
          "text": [
            "<ipython-input-20-7c973f6ea38a>:43: FutureWarning: `tokenizer` is deprecated and will be removed in version 5.0.0 for `Trainer.__init__`. Use `processing_class` instead.\n",
            "  trainer = Trainer(\n"
          ]
        },
        {
          "data": {
            "text/html": [
              "\n",
              "    <div>\n",
              "      \n",
              "      <progress value='7500' max='7500' style='width:300px; height:20px; vertical-align: middle;'></progress>\n",
              "      [7500/7500 29:02, Epoch 3/3]\n",
              "    </div>\n",
              "    <table border=\"1\" class=\"dataframe\">\n",
              "  <thead>\n",
              " <tr style=\"text-align: left;\">\n",
              "      <th>Epoch</th>\n",
              "      <th>Training Loss</th>\n",
              "      <th>Validation Loss</th>\n",
              "    </tr>\n",
              "  </thead>\n",
              "  <tbody>\n",
              "    <tr>\n",
              "      <td>1</td>\n",
              "      <td>2.946400</td>\n",
              "      <td>2.757318</td>\n",
              "    </tr>\n",
              "    <tr>\n",
              "      <td>2</td>\n",
              "      <td>2.881300</td>\n",
              "      <td>2.688100</td>\n",
              "    </tr>\n",
              "    <tr>\n",
              "      <td>3</td>\n",
              "      <td>2.833100</td>\n",
              "      <td>2.674909</td>\n",
              "    </tr>\n",
              "  </tbody>\n",
              "</table><p>"
            ],
            "text/plain": [
              "<IPython.core.display.HTML object>"
            ]
          },
          "metadata": {},
          "output_type": "display_data"
        },
        {
          "data": {
            "text/plain": [
              "TrainOutput(global_step=7500, training_loss=2.9112531982421874, metrics={'train_runtime': 1742.3146, 'train_samples_per_second': 68.874, 'train_steps_per_second': 4.305, 'total_flos': 5096138342400000.0, 'train_loss': 2.9112531982421874, 'epoch': 3.0})"
            ]
          },
          "execution_count": 20,
          "metadata": {},
          "output_type": "execute_result"
        }
      ],
      "source": [
        "os.environ[\"WANDB_DISABLED\"] = \"true\"\n",
        "\n",
        "model_mtm_lora_finetune = copy.deepcopy(model_mtm)\n",
        "\n",
        "# LoRA Fine-tuning with memory monitoring\n",
        "\n",
        "# # Initialize monitoring thread\n",
        "# log_file = \"/content/drive/MyDrive/CIS5800/Log/m2m/Education/memory_usage_lora.log\"\n",
        "# analysis_output_file = \"/content/drive/MyDrive/CIS5800/Log/m2m/Education/memory_analysis_lora.csv\"\n",
        "\n",
        "# log_dir = os.path.dirname(log_file)\n",
        "# if not os.path.exists(log_dir):\n",
        "#     os.makedirs(log_dir)\n",
        "\n",
        "mtm_lora_config = LoraConfig( # constructor\n",
        "    task_type=TaskType.SEQ_2_SEQ_LM,\n",
        "    inference_mode=False,\n",
        "    r=8,\n",
        "    lora_alpha=64,\n",
        "    lora_dropout=0.0, # change\n",
        "    target_modules=[\"q_proj\", \"v_proj\"],\n",
        ")\n",
        "\n",
        "model_mtm_lora_finetune = get_peft_model(model_mtm_lora_finetune, mtm_lora_config)\n",
        "model_mtm_lora_finetune.config.pad_token_id = tokenizer_mtm.pad_token_id # tokenizer as the config for tokenizer\n",
        "\n",
        "training_args = TrainingArguments(\n",
        "    output_dir=\"./results\",\n",
        "    eval_strategy=\"epoch\",\n",
        "    learning_rate=2e-5,\n",
        "    per_device_train_batch_size=16,\n",
        "    per_device_eval_batch_size=16,\n",
        "    num_train_epochs=3,\n",
        "    weight_decay=0.01,\n",
        "    remove_unused_columns=False,\n",
        "    logging_steps=100,\n",
        "    save_steps=500,\n",
        "    save_total_limit=2,\n",
        "    save_strategy=\"no\",\n",
        "    report_to=\"none\",\n",
        ")\n",
        "\n",
        "trainer = Trainer(\n",
        "    model=model_mtm_lora_finetune,\n",
        "    args=training_args,\n",
        "    train_dataset=tokenized_data_mtm_train,\n",
        "    eval_dataset=tokenized_data_mtm_dev,\n",
        "    tokenizer=tokenizer_mtm,\n",
        "    # callbacks=[MemoryUsageLogger(log_file)]\n",
        ")\n",
        "\n",
        "# Start training\n",
        "trainer.train()\n",
        "\n",
        "# Analyze logs\n",
        "# analyze_logs(log_file, analysis_output_file)\n",
        "\n",
        "# # Indicate completion\n",
        "# print(\"LoRA fine-tuning completed. Memory usage logged in:\", log_file)\n",
        "# print(\"Top memory usage analysis saved in:\", analysis_output_file)"
      ]
    },
    {
      "cell_type": "code",
      "execution_count": null,
      "metadata": {
        "colab": {
          "background_save": true
        },
        "id": "61wkfD8JBk8S",
        "outputId": "8b672e94-3cb9-4e5e-e67f-9f84771a72dd"
      },
      "outputs": [
        {
          "name": "stderr",
          "output_type": "stream",
          "text": [
            "Calculating BLEU Scores: 100%|██████████| 5000/5000 [35:59<00:00,  2.32it/s]"
          ]
        },
        {
          "name": "stdout",
          "output_type": "stream",
          "text": [
            "Average BLEU score for the test set: 0.0782\n"
          ]
        },
        {
          "name": "stderr",
          "output_type": "stream",
          "text": [
            "\n"
          ]
        }
      ],
      "source": [
        "average_bleu = evaluate_bleu_score(model=model_mtm_lora_finetune, tokenizer=tokenizer_mtm, test_data=test_data)"
      ]
    },
    {
      "cell_type": "code",
      "execution_count": null,
      "metadata": {
        "colab": {
          "background_save": true
        },
        "id": "ceYN6PkNNwe0",
        "outputId": "4008edb3-fd60-41a1-f8b7-7beb5b3289d5"
      },
      "outputs": [
        {
          "name": "stderr",
          "output_type": "stream",
          "text": [
            "Evaluating BLEU: 100%|██████████| 5000/5000 [36:23<00:00,  2.29it/s]"
          ]
        },
        {
          "name": "stdout",
          "output_type": "stream",
          "text": [
            "\n",
            "All Results:\n",
            "                                          chinese_input  \\\n",
            "0                                 支架10的上端安装在车内空间中的天花板上。   \n",
            "1                          一个环境法律和政策中心的代表说，风能类似的基准已经工作。   \n",
            "2                          你呢，迈克? 你认为我们应该把CP21告诉凯先生 吗 ?   \n",
            "3             以前他直接从中国进口货物，但是封锁开始后，他只得求助于走私犯并且得多付40%的钱。   \n",
            "4                                      有几位可就拉长了脸瞧着会场门口。   \n",
            "...                                                 ...   \n",
            "4995                        把燃料成本改变为燃料成本，通过在词组中间添加一个空格。   \n",
            "4996                            例如，您可能安装了服务包，但没有安装处理器包。   \n",
            "4997  实际上，没有一个善于思考的人会拒绝接受他们的第一个观点：即情感生活的巨大变化要求表达方式也随...   \n",
            "4998               美国人与一般人所认定的典型不同，他们并不会到处拥抱、亲吻遇见的每一个人。   \n",
            "4999                      “你们知道，”父亲接着说，“在这鬼窝窝洞里，冷得象狗一样。   \n",
            "\n",
            "                                           ground_truth  \\\n",
            "0     The upper end of a stay 10 is mounted on a cei...   \n",
            "1     An Environmental Law and Policy Center represe...   \n",
            "2     What about you, Mike? Do you think we should t...   \n",
            "3     But since the blockade began, he has had to re...   \n",
            "4     Some pulled a long face as they glanced at the...   \n",
            "...                                                 ...   \n",
            "4995  Change FuelCost to Fuel Cost by placing a spac...   \n",
            "4996  For example, you may have installed a service ...   \n",
            "4997  All the same, no thinking man can refuse to ac...   \n",
            "4998  Contrary to some stereotypes, Americans don't ...   \n",
            "4999  \"Do you know ,\" went on the father, \"that it's...   \n",
            "\n",
            "                                             prediction  bleu_score  correct  \n",
            "0     The upper end of the shell 10 is installed on ...       0.197     True  \n",
            "1     A representative of the Environmental Law and ...       0.240     True  \n",
            "2     What about you, Mike? Do you think we should t...       0.655     True  \n",
            "3     He had previously imported goods directly from...       0.041    False  \n",
            "4       Some of them looked at the door of the meeting.       0.045    False  \n",
            "...                                                 ...         ...      ...  \n",
            "4995  Change fuel costs into fuel costs by adding a ...       0.022    False  \n",
            "4996  For example, you may have a service pack insta...       0.376     True  \n",
            "4997  In fact, no one who is good at thinking will r...       0.134     True  \n",
            "4998  The Americans are different from the typical p...       0.020    False  \n",
            "4999  \"You know,\" said the father, \"in this hole, it...       0.031    False  \n",
            "\n",
            "[5000 rows x 5 columns]\n",
            "\n",
            "Error Examples:\n",
            "                                          chinese_input  \\\n",
            "3             以前他直接从中国进口货物，但是封锁开始后，他只得求助于走私犯并且得多付40%的钱。   \n",
            "4                                      有几位可就拉长了脸瞧着会场门口。   \n",
            "5     中国抗战八年，她还算侥幸，自始至终，鬼子都不曾去惹她，假如也像马来亚沦陷了若干年月，我不知她...   \n",
            "6                                       他跌倒时, 头碰到箱子的一角。   \n",
            "7                              由于水位不断上升，随都能看到搜救被困居民的场景。   \n",
            "...                                                 ...   \n",
            "4993                 保险公司也是获益者，他们可以通过更好的途径获得最新资料用于保险精算。   \n",
            "4994                              至少有14人死于这场暴雨，上千人流离失所。   \n",
            "4995                        把燃料成本改变为燃料成本，通过在词组中间添加一个空格。   \n",
            "4998               美国人与一般人所认定的典型不同，他们并不会到处拥抱、亲吻遇见的每一个人。   \n",
            "4999                      “你们知道，”父亲接着说，“在这鬼窝窝洞里，冷得象狗一样。   \n",
            "\n",
            "                                           ground_truth  \\\n",
            "3     But since the blockade began, he has had to re...   \n",
            "4     Some pulled a long face as they glanced at the...   \n",
            "5     In China's eight years of fighting a war, she ...   \n",
            "6      He fell and hit his head on the corner of a box.   \n",
            "7     Scenes like this one have been playing out all...   \n",
            "...                                                 ...   \n",
            "4993  Insurance companies benefit fromthe informatio...   \n",
            "4994  At least 1deaths are being blamed on the massi...   \n",
            "4995  Change FuelCost to Fuel Cost by placing a spac...   \n",
            "4998  Contrary to some stereotypes, Americans don't ...   \n",
            "4999  \"Do you know ,\" went on the father, \"that it's...   \n",
            "\n",
            "                                             prediction  bleu_score  correct  \n",
            "3     He had previously imported goods directly from...       0.041    False  \n",
            "4       Some of them looked at the door of the meeting.       0.045    False  \n",
            "5     For eight years of China's resistance, she was...       0.004    False  \n",
            "6       When he fell, his head hit a corner of the box.       0.061    False  \n",
            "7     As the water level continues to rise, the scen...       0.010    False  \n",
            "...                                                 ...         ...      ...  \n",
            "4993  Insurance companies are also profitable, and t...       0.025    False  \n",
            "4994  At least 14 people were killed in the storm, a...       0.031    False  \n",
            "4995  Change fuel costs into fuel costs by adding a ...       0.022    False  \n",
            "4998  The Americans are different from the typical p...       0.020    False  \n",
            "4999  \"You know,\" said the father, \"in this hole, it...       0.031    False  \n",
            "\n",
            "[3960 rows x 5 columns]\n",
            "Error examples saved to '/content/drive/MyDrive/CIS5800/Error/m2m_lora'\n"
          ]
        },
        {
          "name": "stderr",
          "output_type": "stream",
          "text": [
            "\n"
          ]
        },
        {
          "data": {
            "text/plain": [
              "(                                          chinese_input  \\\n",
              " 0                                 支架10的上端安装在车内空间中的天花板上。   \n",
              " 1                          一个环境法律和政策中心的代表说，风能类似的基准已经工作。   \n",
              " 2                          你呢，迈克? 你认为我们应该把CP21告诉凯先生 吗 ?   \n",
              " 3             以前他直接从中国进口货物，但是封锁开始后，他只得求助于走私犯并且得多付40%的钱。   \n",
              " 4                                      有几位可就拉长了脸瞧着会场门口。   \n",
              " ...                                                 ...   \n",
              " 4995                        把燃料成本改变为燃料成本，通过在词组中间添加一个空格。   \n",
              " 4996                            例如，您可能安装了服务包，但没有安装处理器包。   \n",
              " 4997  实际上，没有一个善于思考的人会拒绝接受他们的第一个观点：即情感生活的巨大变化要求表达方式也随...   \n",
              " 4998               美国人与一般人所认定的典型不同，他们并不会到处拥抱、亲吻遇见的每一个人。   \n",
              " 4999                      “你们知道，”父亲接着说，“在这鬼窝窝洞里，冷得象狗一样。   \n",
              " \n",
              "                                            ground_truth  \\\n",
              " 0     The upper end of a stay 10 is mounted on a cei...   \n",
              " 1     An Environmental Law and Policy Center represe...   \n",
              " 2     What about you, Mike? Do you think we should t...   \n",
              " 3     But since the blockade began, he has had to re...   \n",
              " 4     Some pulled a long face as they glanced at the...   \n",
              " ...                                                 ...   \n",
              " 4995  Change FuelCost to Fuel Cost by placing a spac...   \n",
              " 4996  For example, you may have installed a service ...   \n",
              " 4997  All the same, no thinking man can refuse to ac...   \n",
              " 4998  Contrary to some stereotypes, Americans don't ...   \n",
              " 4999  \"Do you know ,\" went on the father, \"that it's...   \n",
              " \n",
              "                                              prediction  bleu_score  correct  \n",
              " 0     The upper end of the shell 10 is installed on ...       0.197     True  \n",
              " 1     A representative of the Environmental Law and ...       0.240     True  \n",
              " 2     What about you, Mike? Do you think we should t...       0.655     True  \n",
              " 3     He had previously imported goods directly from...       0.041    False  \n",
              " 4       Some of them looked at the door of the meeting.       0.045    False  \n",
              " ...                                                 ...         ...      ...  \n",
              " 4995  Change fuel costs into fuel costs by adding a ...       0.022    False  \n",
              " 4996  For example, you may have a service pack insta...       0.376     True  \n",
              " 4997  In fact, no one who is good at thinking will r...       0.134     True  \n",
              " 4998  The Americans are different from the typical p...       0.020    False  \n",
              " 4999  \"You know,\" said the father, \"in this hole, it...       0.031    False  \n",
              " \n",
              " [5000 rows x 5 columns],\n",
              "                                           chinese_input  \\\n",
              " 3             以前他直接从中国进口货物，但是封锁开始后，他只得求助于走私犯并且得多付40%的钱。   \n",
              " 4                                      有几位可就拉长了脸瞧着会场门口。   \n",
              " 5     中国抗战八年，她还算侥幸，自始至终，鬼子都不曾去惹她，假如也像马来亚沦陷了若干年月，我不知她...   \n",
              " 6                                       他跌倒时, 头碰到箱子的一角。   \n",
              " 7                              由于水位不断上升，随都能看到搜救被困居民的场景。   \n",
              " ...                                                 ...   \n",
              " 4993                 保险公司也是获益者，他们可以通过更好的途径获得最新资料用于保险精算。   \n",
              " 4994                              至少有14人死于这场暴雨，上千人流离失所。   \n",
              " 4995                        把燃料成本改变为燃料成本，通过在词组中间添加一个空格。   \n",
              " 4998               美国人与一般人所认定的典型不同，他们并不会到处拥抱、亲吻遇见的每一个人。   \n",
              " 4999                      “你们知道，”父亲接着说，“在这鬼窝窝洞里，冷得象狗一样。   \n",
              " \n",
              "                                            ground_truth  \\\n",
              " 3     But since the blockade began, he has had to re...   \n",
              " 4     Some pulled a long face as they glanced at the...   \n",
              " 5     In China's eight years of fighting a war, she ...   \n",
              " 6      He fell and hit his head on the corner of a box.   \n",
              " 7     Scenes like this one have been playing out all...   \n",
              " ...                                                 ...   \n",
              " 4993  Insurance companies benefit fromthe informatio...   \n",
              " 4994  At least 1deaths are being blamed on the massi...   \n",
              " 4995  Change FuelCost to Fuel Cost by placing a spac...   \n",
              " 4998  Contrary to some stereotypes, Americans don't ...   \n",
              " 4999  \"Do you know ,\" went on the father, \"that it's...   \n",
              " \n",
              "                                              prediction  bleu_score  correct  \n",
              " 3     He had previously imported goods directly from...       0.041    False  \n",
              " 4       Some of them looked at the door of the meeting.       0.045    False  \n",
              " 5     For eight years of China's resistance, she was...       0.004    False  \n",
              " 6       When he fell, his head hit a corner of the box.       0.061    False  \n",
              " 7     As the water level continues to rise, the scen...       0.010    False  \n",
              " ...                                                 ...         ...      ...  \n",
              " 4993  Insurance companies are also profitable, and t...       0.025    False  \n",
              " 4994  At least 14 people were killed in the storm, a...       0.031    False  \n",
              " 4995  Change fuel costs into fuel costs by adding a ...       0.022    False  \n",
              " 4998  The Americans are different from the typical p...       0.020    False  \n",
              " 4999  \"You know,\" said the father, \"in this hole, it...       0.031    False  \n",
              " \n",
              " [3960 rows x 5 columns])"
            ]
          },
          "execution_count": 21,
          "metadata": {},
          "output_type": "execute_result"
        }
      ],
      "source": [
        "error_evaluate(model_mtm_lora_finetune, tokenizer_mtm, test_data, \"/content/drive/MyDrive/CIS5800/Error/m2m_lora\", max_length=50, device=\"cuda\", bleu_threshold=0.1, model_type = \"m2m\")"
      ]
    },
    {
      "cell_type": "code",
      "execution_count": null,
      "metadata": {
        "colab": {
          "background_save": true
        },
        "id": "AForYtL9NMwG"
      },
      "outputs": [],
      "source": [
        "del model_mtm_lora_finetune\n",
        "gc.collect()\n",
        "torch.cuda.empty_cache()\n",
        "torch.cuda.synchronize()"
      ]
    },
    {
      "cell_type": "markdown",
      "metadata": {
        "id": "K12gQZseTFVQ"
      },
      "source": [
        "### **5.4 Fine-Tune M2M with Layer Freezing**"
      ]
    },
    {
      "cell_type": "code",
      "execution_count": null,
      "metadata": {
        "colab": {
          "base_uri": "https://localhost:8080/",
          "height": 360
        },
        "id": "01aWpe-iTOh5",
        "outputId": "0324eec2-4e17-41be-b796-40776c46695f"
      },
      "outputs": [
        {
          "metadata": {
            "tags": null
          },
          "name": "stderr",
          "output_type": "stream",
          "text": [
            "<ipython-input-23-80796311a631>:52: FutureWarning: `tokenizer` is deprecated and will be removed in version 5.0.0 for `Trainer.__init__`. Use `processing_class` instead.\n",
            "  trainer = Trainer(\n"
          ]
        },
        {
          "data": {
            "text/html": [
              "\n",
              "    <div>\n",
              "      \n",
              "      <progress value='5289' max='7500' style='width:300px; height:20px; vertical-align: middle;'></progress>\n",
              "      [5289/7500 33:28 < 13:59, 2.63 it/s, Epoch 2.12/3]\n",
              "    </div>\n",
              "    <table border=\"1\" class=\"dataframe\">\n",
              "  <thead>\n",
              " <tr style=\"text-align: left;\">\n",
              "      <th>Epoch</th>\n",
              "      <th>Training Loss</th>\n",
              "      <th>Validation Loss</th>\n",
              "    </tr>\n",
              "  </thead>\n",
              "  <tbody>\n",
              "    <tr>\n",
              "      <td>1</td>\n",
              "      <td>2.863800</td>\n",
              "      <td>2.681758</td>\n",
              "    </tr>\n",
              "    <tr>\n",
              "      <td>2</td>\n",
              "      <td>2.653900</td>\n",
              "      <td>2.632754</td>\n",
              "    </tr>\n",
              "  </tbody>\n",
              "</table><p>"
            ],
            "text/plain": [
              "<IPython.core.display.HTML object>"
            ]
          },
          "metadata": {},
          "output_type": "display_data"
        },
        {
          "output_type": "display_data",
          "data": {
            "text/plain": [
              "<IPython.core.display.HTML object>"
            ],
            "text/html": [
              "\n",
              "    <div>\n",
              "      \n",
              "      <progress value='7500' max='7500' style='width:300px; height:20px; vertical-align: middle;'></progress>\n",
              "      [7500/7500 47:34, Epoch 3/3]\n",
              "    </div>\n",
              "    <table border=\"1\" class=\"dataframe\">\n",
              "  <thead>\n",
              " <tr style=\"text-align: left;\">\n",
              "      <th>Epoch</th>\n",
              "      <th>Training Loss</th>\n",
              "      <th>Validation Loss</th>\n",
              "    </tr>\n",
              "  </thead>\n",
              "  <tbody>\n",
              "    <tr>\n",
              "      <td>1</td>\n",
              "      <td>2.863800</td>\n",
              "      <td>2.681758</td>\n",
              "    </tr>\n",
              "    <tr>\n",
              "      <td>2</td>\n",
              "      <td>2.653900</td>\n",
              "      <td>2.632754</td>\n",
              "    </tr>\n",
              "    <tr>\n",
              "      <td>3</td>\n",
              "      <td>2.507400</td>\n",
              "      <td>2.625175</td>\n",
              "    </tr>\n",
              "  </tbody>\n",
              "</table><p>"
            ]
          },
          "metadata": {}
        },
        {
          "output_type": "execute_result",
          "data": {
            "text/plain": [
              "TrainOutput(global_step=7500, training_loss=2.690735758463542, metrics={'train_runtime': 2855.0678, 'train_samples_per_second': 42.031, 'train_steps_per_second': 2.627, 'total_flos': 5079151411200000.0, 'train_loss': 2.690735758463542, 'epoch': 3.0})"
            ]
          },
          "metadata": {},
          "execution_count": 23
        }
      ],
      "source": [
        "os.environ[\"WANDB_DISABLED\"] = \"true\"\n",
        "\n",
        "model_mtm_freeze_finetune = copy.deepcopy(model_mtm)\n",
        "\n",
        "# Layer Freezing Fine-tuning with memory monitoring\n",
        "\n",
        "# Initialize monitoring thread\n",
        "# log_file = \"/content/drive/MyDrive/CIS5800/Log/m2m/Education/memory_usage_freeze.log\"\n",
        "# analysis_output_file = \"/content/drive/MyDrive/CIS5800/Log/m2m/Education/memory_analysis_freeze.csv\"\n",
        "\n",
        "# log_dir = os.path.dirname(log_file)\n",
        "# if not os.path.exists(log_dir):\n",
        "#     os.makedirs(log_dir)\n",
        "\n",
        "freeze_encoder_layers = 8\n",
        "freeze_decoder_layers = 8\n",
        "\n",
        "# Apply Layer Freezing\n",
        "for name, param in model_mtm_freeze_finetune.named_parameters():\n",
        "    # Freeze encoder layers\n",
        "    if \"encoder.layers\" in name:\n",
        "        layer_num = int(name.split(\".\")[3])  # Extract the layer index\n",
        "        if layer_num < freeze_encoder_layers:\n",
        "            param.requires_grad = False\n",
        "    # Freeze decoder layers\n",
        "    elif \"decoder.layers\" in name:\n",
        "        layer_num = int(name.split(\".\")[3])  # Extract the layer index\n",
        "        if layer_num < freeze_decoder_layers:\n",
        "            param.requires_grad = False\n",
        "    else:\n",
        "        param.requires_grad = True  # Keep other parameters trainable\n",
        "\n",
        "\n",
        "model_mtm_freeze_finetune.config.pad_token_id = tokenizer_mtm.pad_token_id # tokenizer as the config for tokenizer\n",
        "\n",
        "training_args = TrainingArguments(\n",
        "        output_dir=\"./results\",\n",
        "        eval_strategy=\"epoch\",\n",
        "        learning_rate=2e-5,\n",
        "        per_device_train_batch_size=16,\n",
        "        per_device_eval_batch_size=16,\n",
        "        num_train_epochs=3,\n",
        "        weight_decay=0.01,\n",
        "        remove_unused_columns=False,\n",
        "        logging_steps=100,\n",
        "        save_steps=500,\n",
        "        save_total_limit=2,\n",
        "        save_strategy=\"no\",\n",
        "        report_to=\"none\",\n",
        ")\n",
        "\n",
        "trainer = Trainer(\n",
        "    model=model_mtm_freeze_finetune,\n",
        "    args=training_args,\n",
        "    train_dataset=tokenized_data_mtm_train,\n",
        "    eval_dataset=tokenized_data_mtm_dev,\n",
        "    tokenizer=tokenizer_mtm,\n",
        "    # callbacks=[MemoryUsageLogger(log_file)]\n",
        ")\n",
        "\n",
        "# Start training\n",
        "trainer.train()\n",
        "\n",
        "# Analyze logs\n",
        "# analyze_logs(log_file, analysis_output_file)\n",
        "\n",
        "# # Indicate completion\n",
        "# print(\"LoRA fine-tuning completed. Memory usage logged in:\", log_file)\n",
        "# print(\"Top memory usage analysis saved in:\", analysis_output_file)"
      ]
    },
    {
      "cell_type": "code",
      "execution_count": null,
      "metadata": {
        "id": "P9lvB5JzT9SW"
      },
      "outputs": [],
      "source": [
        "average_bleu = evaluate_bleu_score(model=model_mtm_freeze_finetune, tokenizer=tokenizer_mtm, test_data=test_data, model_type = \"m2m\")"
      ]
    },
    {
      "cell_type": "code",
      "source": [
        "error_evaluate(model_mtm_freeze_finetune, tokenizer_mtm, test_data, \"/content/drive/MyDrive/CIS5800/Error/m2m_freeze\", max_length=50, device=\"cuda\", bleu_threshold=0.1, model_type = \"m2m\")"
      ],
      "metadata": {
        "colab": {
          "base_uri": "https://localhost:8080/"
        },
        "id": "gbRLc-GN1i1S",
        "outputId": "28ce313f-deb4-422e-e226-2570bbe09d29"
      },
      "execution_count": null,
      "outputs": [
        {
          "output_type": "stream",
          "name": "stderr",
          "text": [
            "Evaluating BLEU: 100%|██████████| 5000/5000 [29:06<00:00,  2.86it/s]"
          ]
        },
        {
          "output_type": "stream",
          "name": "stdout",
          "text": [
            "\n",
            "All Results:\n",
            "                                          chinese_input  \\\n",
            "0                                 支架10的上端安装在车内空间中的天花板上。   \n",
            "1                          一个环境法律和政策中心的代表说，风能类似的基准已经工作。   \n",
            "2                          你呢，迈克? 你认为我们应该把CP21告诉凯先生 吗 ?   \n",
            "3             以前他直接从中国进口货物，但是封锁开始后，他只得求助于走私犯并且得多付40%的钱。   \n",
            "4                                      有几位可就拉长了脸瞧着会场门口。   \n",
            "...                                                 ...   \n",
            "4995                        把燃料成本改变为燃料成本，通过在词组中间添加一个空格。   \n",
            "4996                            例如，您可能安装了服务包，但没有安装处理器包。   \n",
            "4997  实际上，没有一个善于思考的人会拒绝接受他们的第一个观点：即情感生活的巨大变化要求表达方式也随...   \n",
            "4998               美国人与一般人所认定的典型不同，他们并不会到处拥抱、亲吻遇见的每一个人。   \n",
            "4999                      “你们知道，”父亲接着说，“在这鬼窝窝洞里，冷得象狗一样。   \n",
            "\n",
            "                                           ground_truth  \\\n",
            "0     The upper end of a stay 10 is mounted on a cei...   \n",
            "1     An Environmental Law and Policy Center represe...   \n",
            "2     What about you, Mike? Do you think we should t...   \n",
            "3     But since the blockade began, he has had to re...   \n",
            "4     Some pulled a long face as they glanced at the...   \n",
            "...                                                 ...   \n",
            "4995  Change FuelCost to Fuel Cost by placing a spac...   \n",
            "4996  For example, you may have installed a service ...   \n",
            "4997  All the same, no thinking man can refuse to ac...   \n",
            "4998  Contrary to some stereotypes, Americans don't ...   \n",
            "4999  \"Do you know ,\" went on the father, \"that it's...   \n",
            "\n",
            "                                             prediction  bleu_score  correct  \n",
            "0     The upper end of the shelf 10 is installed on ...       0.197     True  \n",
            "1     A representative of the Center for Environment...       0.177     True  \n",
            "2     What about you, Mike? Do you think we should t...       0.682     True  \n",
            "3     Before he had imported goods directly from Chi...       0.109     True  \n",
            "4     Several of them looked at the door of the meet...       0.040    False  \n",
            "...                                                 ...         ...      ...  \n",
            "4995  Change fuel cost to fuel cost by adding a spac...       0.034    False  \n",
            "4996  For example, you may have installed a Service ...       0.426     True  \n",
            "4997  In fact, none of those who think well will ref...       0.146     True  \n",
            "4998  Americans, unlike the typical people, are not ...       0.014    False  \n",
            "4999  \"You know,\" said the father, \"in this hole, it...       0.031    False  \n",
            "\n",
            "[5000 rows x 5 columns]\n",
            "\n",
            "Error Examples:\n",
            "                                          chinese_input  \\\n",
            "4                                      有几位可就拉长了脸瞧着会场门口。   \n",
            "5     中国抗战八年，她还算侥幸，自始至终，鬼子都不曾去惹她，假如也像马来亚沦陷了若干年月，我不知她...   \n",
            "7                              由于水位不断上升，随都能看到搜救被困居民的场景。   \n",
            "8                               梯形导向浮阀塔板具有良好的流体力学和传质性能。   \n",
            "10                            这些新观点、新命题，对党史研究有着重大的指导作用。   \n",
            "...                                                 ...   \n",
            "4993                 保险公司也是获益者，他们可以通过更好的途径获得最新资料用于保险精算。   \n",
            "4994                              至少有14人死于这场暴雨，上千人流离失所。   \n",
            "4995                        把燃料成本改变为燃料成本，通过在词组中间添加一个空格。   \n",
            "4998               美国人与一般人所认定的典型不同，他们并不会到处拥抱、亲吻遇见的每一个人。   \n",
            "4999                      “你们知道，”父亲接着说，“在这鬼窝窝洞里，冷得象狗一样。   \n",
            "\n",
            "                                           ground_truth  \\\n",
            "4     Some pulled a long face as they glanced at the...   \n",
            "5     In China's eight years of fighting a war, she ...   \n",
            "7     Scenes like this one have been playing out all...   \n",
            "8     The trapezoidal directed valve trays have exce...   \n",
            "10    These new point of views, new proposition, to ...   \n",
            "...                                                 ...   \n",
            "4993  Insurance companies benefit fromthe informatio...   \n",
            "4994  At least 1deaths are being blamed on the massi...   \n",
            "4995  Change FuelCost to Fuel Cost by placing a spac...   \n",
            "4998  Contrary to some stereotypes, Americans don't ...   \n",
            "4999  \"Do you know ,\" went on the father, \"that it's...   \n",
            "\n",
            "                                             prediction  bleu_score  correct  \n",
            "4     Several of them looked at the door of the meet...       0.040    False  \n",
            "5     After eight years of China's resistance, she w...       0.005    False  \n",
            "7     As the water level is rising, there is a scene...       0.010    False  \n",
            "8     The staircase-oriented floating valve panel ha...       0.021    False  \n",
            "10    These new points of view and new arguments hav...       0.031    False  \n",
            "...                                                 ...         ...      ...  \n",
            "4993  Insurance companies are also profitable, they ...       0.024    False  \n",
            "4994  At least 14 people were killed in the storm an...       0.031    False  \n",
            "4995  Change fuel cost to fuel cost by adding a spac...       0.034    False  \n",
            "4998  Americans, unlike the typical people, are not ...       0.014    False  \n",
            "4999  \"You know,\" said the father, \"in this hole, it...       0.031    False  \n",
            "\n",
            "[3813 rows x 5 columns]\n",
            "Error examples saved to '/content/drive/MyDrive/CIS5800/Error/m2m_freeze'\n"
          ]
        },
        {
          "output_type": "stream",
          "name": "stderr",
          "text": [
            "\n"
          ]
        },
        {
          "output_type": "execute_result",
          "data": {
            "text/plain": [
              "(                                          chinese_input  \\\n",
              " 0                                 支架10的上端安装在车内空间中的天花板上。   \n",
              " 1                          一个环境法律和政策中心的代表说，风能类似的基准已经工作。   \n",
              " 2                          你呢，迈克? 你认为我们应该把CP21告诉凯先生 吗 ?   \n",
              " 3             以前他直接从中国进口货物，但是封锁开始后，他只得求助于走私犯并且得多付40%的钱。   \n",
              " 4                                      有几位可就拉长了脸瞧着会场门口。   \n",
              " ...                                                 ...   \n",
              " 4995                        把燃料成本改变为燃料成本，通过在词组中间添加一个空格。   \n",
              " 4996                            例如，您可能安装了服务包，但没有安装处理器包。   \n",
              " 4997  实际上，没有一个善于思考的人会拒绝接受他们的第一个观点：即情感生活的巨大变化要求表达方式也随...   \n",
              " 4998               美国人与一般人所认定的典型不同，他们并不会到处拥抱、亲吻遇见的每一个人。   \n",
              " 4999                      “你们知道，”父亲接着说，“在这鬼窝窝洞里，冷得象狗一样。   \n",
              " \n",
              "                                            ground_truth  \\\n",
              " 0     The upper end of a stay 10 is mounted on a cei...   \n",
              " 1     An Environmental Law and Policy Center represe...   \n",
              " 2     What about you, Mike? Do you think we should t...   \n",
              " 3     But since the blockade began, he has had to re...   \n",
              " 4     Some pulled a long face as they glanced at the...   \n",
              " ...                                                 ...   \n",
              " 4995  Change FuelCost to Fuel Cost by placing a spac...   \n",
              " 4996  For example, you may have installed a service ...   \n",
              " 4997  All the same, no thinking man can refuse to ac...   \n",
              " 4998  Contrary to some stereotypes, Americans don't ...   \n",
              " 4999  \"Do you know ,\" went on the father, \"that it's...   \n",
              " \n",
              "                                              prediction  bleu_score  correct  \n",
              " 0     The upper end of the shelf 10 is installed on ...       0.197     True  \n",
              " 1     A representative of the Center for Environment...       0.177     True  \n",
              " 2     What about you, Mike? Do you think we should t...       0.682     True  \n",
              " 3     Before he had imported goods directly from Chi...       0.109     True  \n",
              " 4     Several of them looked at the door of the meet...       0.040    False  \n",
              " ...                                                 ...         ...      ...  \n",
              " 4995  Change fuel cost to fuel cost by adding a spac...       0.034    False  \n",
              " 4996  For example, you may have installed a Service ...       0.426     True  \n",
              " 4997  In fact, none of those who think well will ref...       0.146     True  \n",
              " 4998  Americans, unlike the typical people, are not ...       0.014    False  \n",
              " 4999  \"You know,\" said the father, \"in this hole, it...       0.031    False  \n",
              " \n",
              " [5000 rows x 5 columns],\n",
              "                                           chinese_input  \\\n",
              " 4                                      有几位可就拉长了脸瞧着会场门口。   \n",
              " 5     中国抗战八年，她还算侥幸，自始至终，鬼子都不曾去惹她，假如也像马来亚沦陷了若干年月，我不知她...   \n",
              " 7                              由于水位不断上升，随都能看到搜救被困居民的场景。   \n",
              " 8                               梯形导向浮阀塔板具有良好的流体力学和传质性能。   \n",
              " 10                            这些新观点、新命题，对党史研究有着重大的指导作用。   \n",
              " ...                                                 ...   \n",
              " 4993                 保险公司也是获益者，他们可以通过更好的途径获得最新资料用于保险精算。   \n",
              " 4994                              至少有14人死于这场暴雨，上千人流离失所。   \n",
              " 4995                        把燃料成本改变为燃料成本，通过在词组中间添加一个空格。   \n",
              " 4998               美国人与一般人所认定的典型不同，他们并不会到处拥抱、亲吻遇见的每一个人。   \n",
              " 4999                      “你们知道，”父亲接着说，“在这鬼窝窝洞里，冷得象狗一样。   \n",
              " \n",
              "                                            ground_truth  \\\n",
              " 4     Some pulled a long face as they glanced at the...   \n",
              " 5     In China's eight years of fighting a war, she ...   \n",
              " 7     Scenes like this one have been playing out all...   \n",
              " 8     The trapezoidal directed valve trays have exce...   \n",
              " 10    These new point of views, new proposition, to ...   \n",
              " ...                                                 ...   \n",
              " 4993  Insurance companies benefit fromthe informatio...   \n",
              " 4994  At least 1deaths are being blamed on the massi...   \n",
              " 4995  Change FuelCost to Fuel Cost by placing a spac...   \n",
              " 4998  Contrary to some stereotypes, Americans don't ...   \n",
              " 4999  \"Do you know ,\" went on the father, \"that it's...   \n",
              " \n",
              "                                              prediction  bleu_score  correct  \n",
              " 4     Several of them looked at the door of the meet...       0.040    False  \n",
              " 5     After eight years of China's resistance, she w...       0.005    False  \n",
              " 7     As the water level is rising, there is a scene...       0.010    False  \n",
              " 8     The staircase-oriented floating valve panel ha...       0.021    False  \n",
              " 10    These new points of view and new arguments hav...       0.031    False  \n",
              " ...                                                 ...         ...      ...  \n",
              " 4993  Insurance companies are also profitable, they ...       0.024    False  \n",
              " 4994  At least 14 people were killed in the storm an...       0.031    False  \n",
              " 4995  Change fuel cost to fuel cost by adding a spac...       0.034    False  \n",
              " 4998  Americans, unlike the typical people, are not ...       0.014    False  \n",
              " 4999  \"You know,\" said the father, \"in this hole, it...       0.031    False  \n",
              " \n",
              " [3813 rows x 5 columns])"
            ]
          },
          "metadata": {},
          "execution_count": 25
        }
      ]
    },
    {
      "cell_type": "code",
      "execution_count": null,
      "metadata": {
        "id": "5rHhSwSQNmkR"
      },
      "outputs": [],
      "source": [
        "del model_mtm_freeze_finetune\n",
        "del tokenized_data_mtm_train\n",
        "del tokenized_data_mtm_dev\n",
        "del tokenized_data_mtm_test\n",
        "gc.collect()\n",
        "torch.cuda.empty_cache()\n",
        "torch.cuda.synchronize()"
      ]
    },
    {
      "cell_type": "markdown",
      "metadata": {
        "id": "dTTh0H4P9kr8"
      },
      "source": [
        "## **6. Parameters and GPU Usage Comparison**"
      ]
    },
    {
      "cell_type": "markdown",
      "metadata": {
        "id": "qR1e2lboBO6s"
      },
      "source": [
        "### **6.1 Parameter Comparison**"
      ]
    },
    {
      "cell_type": "code",
      "execution_count": null,
      "metadata": {
        "colab": {
          "base_uri": "https://localhost:8080/"
        },
        "id": "bf_jVfe0ppWk",
        "outputId": "fa670d1f-549a-4910-ba56-8379ada7cb84"
      },
      "outputs": [
        {
          "name": "stdout",
          "output_type": "stream",
          "text": [
            "mBART (original) - Total Parameters: 610879488\n",
            "mBART (original) - Trainable Parameters (All): 610879488\n",
            "mBART (original) - Percentage of Parameters to Fine-tune (All): 100.00%\n",
            "\n",
            "mBART (LoRA) - Total Parameters: 612059136\n",
            "mBART (LoRA) - Trainable Parameters (All): 76750848\n",
            "mBART (LoRA) - Percentage of Parameters to Fine-tune (All): 12.54%\n",
            "\n",
            "mBART (Layer Freezing) - Total Parameters: 610879488\n",
            "mBART (Layer Freezing) - Trainable Parameters (All): 375736320\n",
            "mBART (Layer Freezing) - Percentage of Parameters to Fine-tune (All): 61.51%\n",
            "\n",
            "MTM (original) - Total Parameters: 483905536\n",
            "MTM (original) - Trainable Parameters (All): 483905536\n",
            "MTM (original) - Percentage of Parameters to Fine-tune (All): 100.00%\n",
            "\n",
            "MTM with LoRA - Total Parameters: 485085184\n",
            "MTM with LoRA - Trainable Parameters (All): 76750848\n",
            "MTM with LoRA - Percentage of Parameters to Fine-tune (All): 15.82%\n",
            "\n",
            "MTM with Layer Freezing - Total Parameters: 483905536\n",
            "MTM with Layer Freezing - Trainable Parameters (All): 248762368\n",
            "MTM with Layer Freezing - Percentage of Parameters to Fine-tune (All): 51.41%\n",
            "\n"
          ]
        }
      ],
      "source": [
        "# Display parameter summaries for the original and LoRA-enhanced models\n",
        "print_model_parameters(model_mbart, \"mBART (original)\")\n",
        "print_model_parameters(model_mbart_lora, \"mBART (LoRA)\")\n",
        "print_model_parameters(model_mbart_freeze, \"mBART (Layer Freezing)\")\n",
        "\n",
        "# Display parameter summaries for the original and LoRA-enhanced models\n",
        "print_model_parameters(model_mtm, \"MTM (original)\")\n",
        "print_model_parameters(model_mtm_lora, \"MTM with LoRA\")\n",
        "print_model_parameters(model_mtm_freeze, \"MTM with Layer Freezing\")"
      ]
    },
    {
      "cell_type": "markdown",
      "metadata": {
        "id": "ZFdq9O0OpzW_"
      },
      "source": [
        "### **6.2 GPU Usage Comparison**"
      ]
    },
    {
      "cell_type": "code",
      "execution_count": null,
      "metadata": {
        "id": "MVA2oSlDi49D"
      },
      "outputs": [],
      "source": [
        "def plot_memory_usage(normal_file, lora_file, freeze_file, model=\"mbart\"):\n",
        "    \"\"\"\n",
        "    Plots separate graphs comparing GPU and RAM consumption of mBART normal vs mBART LoRA.\n",
        "\n",
        "    Parameters:\n",
        "    - normal_file: Path to the CSV file for mBART normal memory data.\n",
        "    - lora_file: Path to the CSV file for mBART LoRA memory data.\n",
        "    - freeze_file: Path to the CSV file for mBART layer freezing memory data.\n",
        "    - model: Model name to include in the title (default is \"mbart\").\n",
        "    \"\"\"\n",
        "    import pandas as pd\n",
        "    import matplotlib.pyplot as plt\n",
        "\n",
        "    # Load the data\n",
        "    normal_data = pd.read_csv(normal_file)\n",
        "    lora_data = pd.read_csv(lora_file)\n",
        "    freeze_data = pd.read_csv(freeze_file)\n",
        "\n",
        "    # Convert the 'Timestamp' column to datetime for proper plotting\n",
        "    normal_data['Timestamp'] = pd.to_datetime(normal_data['Timestamp'])\n",
        "    lora_data['Timestamp'] = pd.to_datetime(lora_data['Timestamp'])\n",
        "    freeze_data['Timestamp'] = pd.to_datetime(freeze_data['Timestamp'])\n",
        "\n",
        "    # Find the minimum timestamp across all datasets\n",
        "    min_timestamp = min(\n",
        "        normal_data['Timestamp'].min(),\n",
        "        lora_data['Timestamp'].min(),\n",
        "        freeze_data['Timestamp'].min()\n",
        "    )\n",
        "\n",
        "    # Normalize timestamps by subtracting the minimum timestamp\n",
        "    normal_data['Normalized Timestamp'] = (normal_data['Timestamp'] - min_timestamp).dt.total_seconds()\n",
        "    lora_data['Normalized Timestamp'] = (lora_data['Timestamp'] - min_timestamp).dt.total_seconds()\n",
        "    freeze_data['Normalized Timestamp'] = (freeze_data['Timestamp'] - min_timestamp).dt.total_seconds()\n",
        "\n",
        "    # Reset starting timestamp to 0 for all datasets\n",
        "    normal_data['Normalized Timestamp'] -= normal_data['Normalized Timestamp'].min()\n",
        "    lora_data['Normalized Timestamp'] -= lora_data['Normalized Timestamp'].min()\n",
        "    freeze_data['Normalized Timestamp'] -= freeze_data['Normalized Timestamp'].min()\n",
        "\n",
        "    # Plot GPU consumption comparison\n",
        "    plt.figure(figsize=(12, 6))\n",
        "    plt.plot(normal_data['Normalized Timestamp'], normal_data['GPU Memory Usage (GB)'], label='mBART Normal GPU', marker='o')\n",
        "    plt.plot(lora_data['Normalized Timestamp'], lora_data['GPU Memory Usage (GB)'], label='mBART LoRA GPU', marker='x')\n",
        "    plt.plot(freeze_data['Normalized Timestamp'], freeze_data['GPU Memory Usage (GB)'], label='mBART Freeze GPU', marker='*')\n",
        "\n",
        "    title = 'GPU Consumption: {} Normal vs LoRA vs Layer Freezing'.format(model.upper())\n",
        "    plt.title(title)\n",
        "    plt.xlabel('Time (seconds since start)')\n",
        "    plt.ylabel('GPU Memory Usage (GB)')\n",
        "    plt.legend()\n",
        "    plt.grid(True)\n",
        "    plt.tight_layout()\n",
        "    plt.show()\n"
      ]
    },
    {
      "cell_type": "code",
      "execution_count": null,
      "metadata": {
        "colab": {
          "base_uri": "https://localhost:8080/",
          "height": 1000
        },
        "id": "JtM0WW6qi57h",
        "outputId": "2381fc20-414f-4718-df03-e1333490349a"
      },
      "outputs": [
        {
          "data": {
            "image/png": "[encoded data removed]",
            "text/plain": [
              "<Figure size 1200x600 with 1 Axes>"
            ]
          },
          "metadata": {},
          "output_type": "display_data"
        },
        {
          "data": {
            "image/png": "[encoded data removed]",
            "text/plain": [
              "<Figure size 1200x600 with 1 Axes>"
            ]
          },
          "metadata": {},
          "output_type": "display_data"
        }
      ],
      "source": [
        "# # Plot for mBart\n",
        "plot_memory_usage(\"/content/drive/MyDrive/CIS5800/Log/mBART/Education/memory_usage.log\",\n",
        "                  \"/content/drive/MyDrive/CIS5800/Log/mBART/Education/memory_usage_lora.log\",\n",
        "                  \"/content/drive/MyDrive/CIS5800/Log/mBART/Education/memory_usage_freeze.log\",\n",
        "                  \"mabrt\")\n",
        "\n",
        "# Plot for m2m\n",
        "plot_memory_usage(\"/content/drive/MyDrive/CIS5800/Log/m2m/Education/memory_usage.log\",\n",
        "                  \"/content/drive/MyDrive/CIS5800/Log/m2m/Education/memory_usage_lora.log\",\n",
        "                  \"/content/drive/MyDrive/CIS5800/Log/m2m/Education/memory_usage_freeze.log\",\n",
        "                  \"mtm\")"
      ]
    },
    {
      "cell_type": "markdown",
      "metadata": {
        "id": "PtXP9sOcIg8v"
      },
      "source": [
        "## **7. Extra Exploration: Quantized General-Purpose LLMs and Language-Specific Models**\n"
      ]
    },
    {
      "cell_type": "markdown",
      "metadata": {
        "id": "lVx1PC4QKrTH"
      },
      "source": [
        "### **7.1 Pre-Quantized Llamma**"
      ]
    },
    {
      "cell_type": "code",
      "execution_count": null,
      "metadata": {
        "colab": {
          "base_uri": "https://localhost:8080/"
        },
        "id": "anMFp7x8O7_T",
        "outputId": "43aa8b3d-e320-47f2-ecd8-95f4ebc50d5f"
      },
      "outputs": [
        {
          "name": "stderr",
          "output_type": "stream",
          "text": [
            "Some weights of the model checkpoint at TheBloke/Chinese-Alpaca-2-7B-GPTQ were not used when initializing LlamaForCausalLM: ['model.layers.0.mlp.down_proj.bias', 'model.layers.0.mlp.gate_proj.bias', 'model.layers.0.mlp.up_proj.bias', 'model.layers.0.self_attn.k_proj.bias', 'model.layers.0.self_attn.o_proj.bias', 'model.layers.0.self_attn.q_proj.bias', 'model.layers.0.self_attn.v_proj.bias', 'model.layers.1.mlp.down_proj.bias', 'model.layers.1.mlp.gate_proj.bias', 'model.layers.1.mlp.up_proj.bias', 'model.layers.1.self_attn.k_proj.bias', 'model.layers.1.self_attn.o_proj.bias', 'model.layers.1.self_attn.q_proj.bias', 'model.layers.1.self_attn.v_proj.bias', 'model.layers.10.mlp.down_proj.bias', 'model.layers.10.mlp.gate_proj.bias', 'model.layers.10.mlp.up_proj.bias', 'model.layers.10.self_attn.k_proj.bias', 'model.layers.10.self_attn.o_proj.bias', 'model.layers.10.self_attn.q_proj.bias', 'model.layers.10.self_attn.v_proj.bias', 'model.layers.11.mlp.down_proj.bias', 'model.layers.11.mlp.gate_proj.bias', 'model.layers.11.mlp.up_proj.bias', 'model.layers.11.self_attn.k_proj.bias', 'model.layers.11.self_attn.o_proj.bias', 'model.layers.11.self_attn.q_proj.bias', 'model.layers.11.self_attn.v_proj.bias', 'model.layers.12.mlp.down_proj.bias', 'model.layers.12.mlp.gate_proj.bias', 'model.layers.12.mlp.up_proj.bias', 'model.layers.12.self_attn.k_proj.bias', 'model.layers.12.self_attn.o_proj.bias', 'model.layers.12.self_attn.q_proj.bias', 'model.layers.12.self_attn.v_proj.bias', 'model.layers.13.mlp.down_proj.bias', 'model.layers.13.mlp.gate_proj.bias', 'model.layers.13.mlp.up_proj.bias', 'model.layers.13.self_attn.k_proj.bias', 'model.layers.13.self_attn.o_proj.bias', 'model.layers.13.self_attn.q_proj.bias', 'model.layers.13.self_attn.v_proj.bias', 'model.layers.14.mlp.down_proj.bias', 'model.layers.14.mlp.gate_proj.bias', 'model.layers.14.mlp.up_proj.bias', 'model.layers.14.self_attn.k_proj.bias', 'model.layers.14.self_attn.o_proj.bias', 'model.layers.14.self_attn.q_proj.bias', 'model.layers.14.self_attn.v_proj.bias', 'model.layers.15.mlp.down_proj.bias', 'model.layers.15.mlp.gate_proj.bias', 'model.layers.15.mlp.up_proj.bias', 'model.layers.15.self_attn.k_proj.bias', 'model.layers.15.self_attn.o_proj.bias', 'model.layers.15.self_attn.q_proj.bias', 'model.layers.15.self_attn.v_proj.bias', 'model.layers.16.mlp.down_proj.bias', 'model.layers.16.mlp.gate_proj.bias', 'model.layers.16.mlp.up_proj.bias', 'model.layers.16.self_attn.k_proj.bias', 'model.layers.16.self_attn.o_proj.bias', 'model.layers.16.self_attn.q_proj.bias', 'model.layers.16.self_attn.v_proj.bias', 'model.layers.17.mlp.down_proj.bias', 'model.layers.17.mlp.gate_proj.bias', 'model.layers.17.mlp.up_proj.bias', 'model.layers.17.self_attn.k_proj.bias', 'model.layers.17.self_attn.o_proj.bias', 'model.layers.17.self_attn.q_proj.bias', 'model.layers.17.self_attn.v_proj.bias', 'model.layers.18.mlp.down_proj.bias', 'model.layers.18.mlp.gate_proj.bias', 'model.layers.18.mlp.up_proj.bias', 'model.layers.18.self_attn.k_proj.bias', 'model.layers.18.self_attn.o_proj.bias', 'model.layers.18.self_attn.q_proj.bias', 'model.layers.18.self_attn.v_proj.bias', 'model.layers.19.mlp.down_proj.bias', 'model.layers.19.mlp.gate_proj.bias', 'model.layers.19.mlp.up_proj.bias', 'model.layers.19.self_attn.k_proj.bias', 'model.layers.19.self_attn.o_proj.bias', 'model.layers.19.self_attn.q_proj.bias', 'model.layers.19.self_attn.v_proj.bias', 'model.layers.2.mlp.down_proj.bias', 'model.layers.2.mlp.gate_proj.bias', 'model.layers.2.mlp.up_proj.bias', 'model.layers.2.self_attn.k_proj.bias', 'model.layers.2.self_attn.o_proj.bias', 'model.layers.2.self_attn.q_proj.bias', 'model.layers.2.self_attn.v_proj.bias', 'model.layers.20.mlp.down_proj.bias', 'model.layers.20.mlp.gate_proj.bias', 'model.layers.20.mlp.up_proj.bias', 'model.layers.20.self_attn.k_proj.bias', 'model.layers.20.self_attn.o_proj.bias', 'model.layers.20.self_attn.q_proj.bias', 'model.layers.20.self_attn.v_proj.bias', 'model.layers.21.mlp.down_proj.bias', 'model.layers.21.mlp.gate_proj.bias', 'model.layers.21.mlp.up_proj.bias', 'model.layers.21.self_attn.k_proj.bias', 'model.layers.21.self_attn.o_proj.bias', 'model.layers.21.self_attn.q_proj.bias', 'model.layers.21.self_attn.v_proj.bias', 'model.layers.22.mlp.down_proj.bias', 'model.layers.22.mlp.gate_proj.bias', 'model.layers.22.mlp.up_proj.bias', 'model.layers.22.self_attn.k_proj.bias', 'model.layers.22.self_attn.o_proj.bias', 'model.layers.22.self_attn.q_proj.bias', 'model.layers.22.self_attn.v_proj.bias', 'model.layers.23.mlp.down_proj.bias', 'model.layers.23.mlp.gate_proj.bias', 'model.layers.23.mlp.up_proj.bias', 'model.layers.23.self_attn.k_proj.bias', 'model.layers.23.self_attn.o_proj.bias', 'model.layers.23.self_attn.q_proj.bias', 'model.layers.23.self_attn.v_proj.bias', 'model.layers.24.mlp.down_proj.bias', 'model.layers.24.mlp.gate_proj.bias', 'model.layers.24.mlp.up_proj.bias', 'model.layers.24.self_attn.k_proj.bias', 'model.layers.24.self_attn.o_proj.bias', 'model.layers.24.self_attn.q_proj.bias', 'model.layers.24.self_attn.v_proj.bias', 'model.layers.25.mlp.down_proj.bias', 'model.layers.25.mlp.gate_proj.bias', 'model.layers.25.mlp.up_proj.bias', 'model.layers.25.self_attn.k_proj.bias', 'model.layers.25.self_attn.o_proj.bias', 'model.layers.25.self_attn.q_proj.bias', 'model.layers.25.self_attn.v_proj.bias', 'model.layers.26.mlp.down_proj.bias', 'model.layers.26.mlp.gate_proj.bias', 'model.layers.26.mlp.up_proj.bias', 'model.layers.26.self_attn.k_proj.bias', 'model.layers.26.self_attn.o_proj.bias', 'model.layers.26.self_attn.q_proj.bias', 'model.layers.26.self_attn.v_proj.bias', 'model.layers.27.mlp.down_proj.bias', 'model.layers.27.mlp.gate_proj.bias', 'model.layers.27.mlp.up_proj.bias', 'model.layers.27.self_attn.k_proj.bias', 'model.layers.27.self_attn.o_proj.bias', 'model.layers.27.self_attn.q_proj.bias', 'model.layers.27.self_attn.v_proj.bias', 'model.layers.28.mlp.down_proj.bias', 'model.layers.28.mlp.gate_proj.bias', 'model.layers.28.mlp.up_proj.bias', 'model.layers.28.self_attn.k_proj.bias', 'model.layers.28.self_attn.o_proj.bias', 'model.layers.28.self_attn.q_proj.bias', 'model.layers.28.self_attn.v_proj.bias', 'model.layers.29.mlp.down_proj.bias', 'model.layers.29.mlp.gate_proj.bias', 'model.layers.29.mlp.up_proj.bias', 'model.layers.29.self_attn.k_proj.bias', 'model.layers.29.self_attn.o_proj.bias', 'model.layers.29.self_attn.q_proj.bias', 'model.layers.29.self_attn.v_proj.bias', 'model.layers.3.mlp.down_proj.bias', 'model.layers.3.mlp.gate_proj.bias', 'model.layers.3.mlp.up_proj.bias', 'model.layers.3.self_attn.k_proj.bias', 'model.layers.3.self_attn.o_proj.bias', 'model.layers.3.self_attn.q_proj.bias', 'model.layers.3.self_attn.v_proj.bias', 'model.layers.30.mlp.down_proj.bias', 'model.layers.30.mlp.gate_proj.bias', 'model.layers.30.mlp.up_proj.bias', 'model.layers.30.self_attn.k_proj.bias', 'model.layers.30.self_attn.o_proj.bias', 'model.layers.30.self_attn.q_proj.bias', 'model.layers.30.self_attn.v_proj.bias', 'model.layers.31.mlp.down_proj.bias', 'model.layers.31.mlp.gate_proj.bias', 'model.layers.31.mlp.up_proj.bias', 'model.layers.31.self_attn.k_proj.bias', 'model.layers.31.self_attn.o_proj.bias', 'model.layers.31.self_attn.q_proj.bias', 'model.layers.31.self_attn.v_proj.bias', 'model.layers.4.mlp.down_proj.bias', 'model.layers.4.mlp.gate_proj.bias', 'model.layers.4.mlp.up_proj.bias', 'model.layers.4.self_attn.k_proj.bias', 'model.layers.4.self_attn.o_proj.bias', 'model.layers.4.self_attn.q_proj.bias', 'model.layers.4.self_attn.v_proj.bias', 'model.layers.5.mlp.down_proj.bias', 'model.layers.5.mlp.gate_proj.bias', 'model.layers.5.mlp.up_proj.bias', 'model.layers.5.self_attn.k_proj.bias', 'model.layers.5.self_attn.o_proj.bias', 'model.layers.5.self_attn.q_proj.bias', 'model.layers.5.self_attn.v_proj.bias', 'model.layers.6.mlp.down_proj.bias', 'model.layers.6.mlp.gate_proj.bias', 'model.layers.6.mlp.up_proj.bias', 'model.layers.6.self_attn.k_proj.bias', 'model.layers.6.self_attn.o_proj.bias', 'model.layers.6.self_attn.q_proj.bias', 'model.layers.6.self_attn.v_proj.bias', 'model.layers.7.mlp.down_proj.bias', 'model.layers.7.mlp.gate_proj.bias', 'model.layers.7.mlp.up_proj.bias', 'model.layers.7.self_attn.k_proj.bias', 'model.layers.7.self_attn.o_proj.bias', 'model.layers.7.self_attn.q_proj.bias', 'model.layers.7.self_attn.v_proj.bias', 'model.layers.8.mlp.down_proj.bias', 'model.layers.8.mlp.gate_proj.bias', 'model.layers.8.mlp.up_proj.bias', 'model.layers.8.self_attn.k_proj.bias', 'model.layers.8.self_attn.o_proj.bias', 'model.layers.8.self_attn.q_proj.bias', 'model.layers.8.self_attn.v_proj.bias', 'model.layers.9.mlp.down_proj.bias', 'model.layers.9.mlp.gate_proj.bias', 'model.layers.9.mlp.up_proj.bias', 'model.layers.9.self_attn.k_proj.bias', 'model.layers.9.self_attn.o_proj.bias', 'model.layers.9.self_attn.q_proj.bias', 'model.layers.9.self_attn.v_proj.bias']\n",
            "- This IS expected if you are initializing LlamaForCausalLM from the checkpoint of a model trained on another task or with another architecture (e.g. initializing a BertForSequenceClassification model from a BertForPreTraining model).\n",
            "- This IS NOT expected if you are initializing LlamaForCausalLM from the checkpoint of a model that you expect to be exactly identical (initializing a BertForSequenceClassification model from a BertForSequenceClassification model).\n"
          ]
        },
        {
          "name": "stdout",
          "output_type": "stream",
          "text": [
            "\n",
            "\n",
            "*** Generate:\n",
            "<s> Below is a Chinese sentence. Translate it into English.\n",
            "\n",
            "### Instruction:\n",
            "我爱机器学习\n",
            "\n",
            "### Response:\n",
            "\n",
            "I love machine learning.\n"
          ]
        }
      ],
      "source": [
        "model_name_or_path = \"TheBloke/Chinese-Alpaca-2-7B-GPTQ\"\n",
        "\n",
        "Alpaca = AutoModelForCausalLM.from_pretrained(model_name_or_path,\n",
        "                                             device_map=\"auto\",\n",
        "                                             trust_remote_code=False,\n",
        "                                             revision=\"main\")\n",
        "\n",
        "Alpaca_tokenizer = AutoTokenizer.from_pretrained(model_name_or_path, use_fast=True)\n",
        "\n",
        "prompt = \"我爱机器学习\"\n",
        "prompt_template=f'''Below is a Chinese sentence. Translate it into English.\n",
        "\n",
        "### Instruction:\n",
        "{prompt}\n",
        "\n",
        "### Response:\n",
        "\n",
        "'''\n",
        "\n",
        "print(\"\\n\\n*** Generate:\")\n",
        "\n",
        "input_ids = Alpaca_tokenizer(prompt_template, return_tensors='pt').input_ids.cuda()\n",
        "output = Alpaca.generate(inputs=input_ids, temperature=0.7, do_sample=True, top_p=0.95, top_k=40, max_new_tokens=512)\n",
        "print(Alpaca_tokenizer.decode(output[0]).replace('</s>', ''))"
      ]
    },
    {
      "cell_type": "code",
      "execution_count": null,
      "metadata": {
        "id": "RjqH35RoLgi-"
      },
      "outputs": [],
      "source": [
        "train_data, dev_data, test_data = load_data_from_txt(data_file_path, sample_size = 50000)"
      ]
    },
    {
      "cell_type": "code",
      "source": [
        "from transformers import AutoModelForCausalLM\n",
        "\n",
        "# Define the model name or path\n",
        "model_name_or_path = \"TheBloke/Chinese-Alpaca-2-7B-GPTQ\"\n",
        "\n",
        "# Load the model\n",
        "model = AutoModelForCausalLM.from_pretrained(\n",
        "    model_name_or_path,\n",
        "    device_map=\"auto\",             # Automatically map layers to available devices\n",
        "    trust_remote_code=True         # Enable remote code if required\n",
        ")\n",
        "\n",
        "# Calculate the number of trainable parameters\n",
        "trainable_params = sum(p.numel() for p in model.parameters() if p.requires_grad)\n",
        "\n",
        "print(f\"Number of trainable parameters: {trainable_params}\")"
      ],
      "metadata": {
        "colab": {
          "base_uri": "https://localhost:8080/",
          "height": 393,
          "referenced_widgets": [
            "a0910d362d8b45f89af1328f8234a333",
            "399ca725676e493dbbbc2183469eef71",
            "99eee8b9427c450b94eebd322dda9c4e",
            "0fef70d6edc94457bf993cfb4f48bc15",
            "83d741784ef24ae68ad82fb116161417",
            "52bb02281b7f442394f46fcf3a31bc1e",
            "bb85cc5a1fd946f895319f9f34fdc53f",
            "cb5222a9a2f24821bda905493337bd6c",
            "4bd7940e3cd5428785a43ab56f24d8cd",
            "760b7843ece64cb5a64adb6f6f159903",
            "fd2edc248e6847739c45db2331292b26",
            "7a900508396146568e9ee6a713f4b1dc",
            "e5e277a73af34af9bae2274c77aca311",
            "98401dc2a6b7495cbf45e5a2bc58fac0",
            "f83079666ca44480a90a32c69b4c7759",
            "1f7269d700eb45418693479c1b30699c",
            "caaf549bfea840a987fb3e1dd48121d1",
            "1e17b9a93c504e69ade7d3663cab0dc6",
            "5d0458270a864812a260a4a1d091fc92",
            "03a57e79ec544e0e8b32f573d7ecd6f3",
            "f7a1e05d78f541ccbc564bc8cded152f",
            "5ed8d0d7aca34d2d840df9c34de22a7f",
            "0a5d96f62d434580bc8bb8410ce0e6b4",
            "d4446a0fa8d740ceaf8c5f22e34d0c1b",
            "341926154e764eeaafa7c5cc6cdb9912",
            "5df486804e6b4b39bbacaa2b4c0ab12c",
            "6d45526b106945629730eb5c451d3fb3",
            "318c10876d3147eb993f1041b6815507",
            "404b7dce98f840719695cada46afbfc1",
            "150987c5f9d543fd86c961b8c9ce2d4c",
            "c5457173c4d4436c8f3f7867cf3adfcf",
            "a880e430cc5a48d4a9836505c8c1efff",
            "5b091887407e4ca099cc714ffc72f4f3"
          ]
        },
        "id": "HO9OH12N6Zqb",
        "outputId": "3a44e836-2781-4d7e-f0b4-83e50e83f5fd"
      },
      "execution_count": null,
      "outputs": [
        {
          "output_type": "stream",
          "name": "stderr",
          "text": [
            "/usr/local/lib/python3.10/dist-packages/huggingface_hub/utils/_auth.py:94: UserWarning: \n",
            "The secret `HF_TOKEN` does not exist in your Colab secrets.\n",
            "To authenticate with the Hugging Face Hub, create a token in your settings tab (https://huggingface.co/settings/tokens), set it as secret in your Google Colab and restart your session.\n",
            "You will be able to reuse this secret in all of your notebooks.\n",
            "Please note that authentication is recommended but still optional to access public models or datasets.\n",
            "  warnings.warn(\n"
          ]
        },
        {
          "output_type": "display_data",
          "data": {
            "text/plain": [
              "config.json:   0%|          | 0.00/924 [00:00<?, ?B/s]"
            ],
            "application/vnd.jupyter.widget-view+json": {
              "version_major": 2,
              "version_minor": 0,
              "model_id": "a0910d362d8b45f89af1328f8234a333"
            }
          },
          "metadata": {}
        },
        {
          "output_type": "stream",
          "name": "stderr",
          "text": [
            "WARNING:auto_gptq.nn_modules.qlinear.qlinear_cuda:CUDA extension not installed.\n",
            "WARNING:auto_gptq.nn_modules.qlinear.qlinear_cuda_old:CUDA extension not installed.\n"
          ]
        },
        {
          "output_type": "display_data",
          "data": {
            "text/plain": [
              "model.safetensors:   0%|          | 0.00/4.28G [00:00<?, ?B/s]"
            ],
            "application/vnd.jupyter.widget-view+json": {
              "version_major": 2,
              "version_minor": 0,
              "model_id": "7a900508396146568e9ee6a713f4b1dc"
            }
          },
          "metadata": {}
        },
        {
          "output_type": "stream",
          "name": "stderr",
          "text": [
            "/usr/local/lib/python3.10/dist-packages/transformers/modeling_utils.py:5055: FutureWarning: `_is_quantized_training_enabled` is going to be deprecated in transformers 4.39.0. Please use `model.hf_quantizer.is_trainable` instead\n",
            "  warnings.warn(\n",
            "`loss_type=None` was set in the config but it is unrecognised.Using the default loss: `ForCausalLMLoss`.\n",
            "Some weights of the model checkpoint at TheBloke/Chinese-Alpaca-2-7B-GPTQ were not used when initializing LlamaForCausalLM: ['model.layers.0.mlp.down_proj.bias', 'model.layers.0.mlp.gate_proj.bias', 'model.layers.0.mlp.up_proj.bias', 'model.layers.0.self_attn.k_proj.bias', 'model.layers.0.self_attn.o_proj.bias', 'model.layers.0.self_attn.q_proj.bias', 'model.layers.0.self_attn.v_proj.bias', 'model.layers.1.mlp.down_proj.bias', 'model.layers.1.mlp.gate_proj.bias', 'model.layers.1.mlp.up_proj.bias', 'model.layers.1.self_attn.k_proj.bias', 'model.layers.1.self_attn.o_proj.bias', 'model.layers.1.self_attn.q_proj.bias', 'model.layers.1.self_attn.v_proj.bias', 'model.layers.10.mlp.down_proj.bias', 'model.layers.10.mlp.gate_proj.bias', 'model.layers.10.mlp.up_proj.bias', 'model.layers.10.self_attn.k_proj.bias', 'model.layers.10.self_attn.o_proj.bias', 'model.layers.10.self_attn.q_proj.bias', 'model.layers.10.self_attn.v_proj.bias', 'model.layers.11.mlp.down_proj.bias', 'model.layers.11.mlp.gate_proj.bias', 'model.layers.11.mlp.up_proj.bias', 'model.layers.11.self_attn.k_proj.bias', 'model.layers.11.self_attn.o_proj.bias', 'model.layers.11.self_attn.q_proj.bias', 'model.layers.11.self_attn.v_proj.bias', 'model.layers.12.mlp.down_proj.bias', 'model.layers.12.mlp.gate_proj.bias', 'model.layers.12.mlp.up_proj.bias', 'model.layers.12.self_attn.k_proj.bias', 'model.layers.12.self_attn.o_proj.bias', 'model.layers.12.self_attn.q_proj.bias', 'model.layers.12.self_attn.v_proj.bias', 'model.layers.13.mlp.down_proj.bias', 'model.layers.13.mlp.gate_proj.bias', 'model.layers.13.mlp.up_proj.bias', 'model.layers.13.self_attn.k_proj.bias', 'model.layers.13.self_attn.o_proj.bias', 'model.layers.13.self_attn.q_proj.bias', 'model.layers.13.self_attn.v_proj.bias', 'model.layers.14.mlp.down_proj.bias', 'model.layers.14.mlp.gate_proj.bias', 'model.layers.14.mlp.up_proj.bias', 'model.layers.14.self_attn.k_proj.bias', 'model.layers.14.self_attn.o_proj.bias', 'model.layers.14.self_attn.q_proj.bias', 'model.layers.14.self_attn.v_proj.bias', 'model.layers.15.mlp.down_proj.bias', 'model.layers.15.mlp.gate_proj.bias', 'model.layers.15.mlp.up_proj.bias', 'model.layers.15.self_attn.k_proj.bias', 'model.layers.15.self_attn.o_proj.bias', 'model.layers.15.self_attn.q_proj.bias', 'model.layers.15.self_attn.v_proj.bias', 'model.layers.16.mlp.down_proj.bias', 'model.layers.16.mlp.gate_proj.bias', 'model.layers.16.mlp.up_proj.bias', 'model.layers.16.self_attn.k_proj.bias', 'model.layers.16.self_attn.o_proj.bias', 'model.layers.16.self_attn.q_proj.bias', 'model.layers.16.self_attn.v_proj.bias', 'model.layers.17.mlp.down_proj.bias', 'model.layers.17.mlp.gate_proj.bias', 'model.layers.17.mlp.up_proj.bias', 'model.layers.17.self_attn.k_proj.bias', 'model.layers.17.self_attn.o_proj.bias', 'model.layers.17.self_attn.q_proj.bias', 'model.layers.17.self_attn.v_proj.bias', 'model.layers.18.mlp.down_proj.bias', 'model.layers.18.mlp.gate_proj.bias', 'model.layers.18.mlp.up_proj.bias', 'model.layers.18.self_attn.k_proj.bias', 'model.layers.18.self_attn.o_proj.bias', 'model.layers.18.self_attn.q_proj.bias', 'model.layers.18.self_attn.v_proj.bias', 'model.layers.19.mlp.down_proj.bias', 'model.layers.19.mlp.gate_proj.bias', 'model.layers.19.mlp.up_proj.bias', 'model.layers.19.self_attn.k_proj.bias', 'model.layers.19.self_attn.o_proj.bias', 'model.layers.19.self_attn.q_proj.bias', 'model.layers.19.self_attn.v_proj.bias', 'model.layers.2.mlp.down_proj.bias', 'model.layers.2.mlp.gate_proj.bias', 'model.layers.2.mlp.up_proj.bias', 'model.layers.2.self_attn.k_proj.bias', 'model.layers.2.self_attn.o_proj.bias', 'model.layers.2.self_attn.q_proj.bias', 'model.layers.2.self_attn.v_proj.bias', 'model.layers.20.mlp.down_proj.bias', 'model.layers.20.mlp.gate_proj.bias', 'model.layers.20.mlp.up_proj.bias', 'model.layers.20.self_attn.k_proj.bias', 'model.layers.20.self_attn.o_proj.bias', 'model.layers.20.self_attn.q_proj.bias', 'model.layers.20.self_attn.v_proj.bias', 'model.layers.21.mlp.down_proj.bias', 'model.layers.21.mlp.gate_proj.bias', 'model.layers.21.mlp.up_proj.bias', 'model.layers.21.self_attn.k_proj.bias', 'model.layers.21.self_attn.o_proj.bias', 'model.layers.21.self_attn.q_proj.bias', 'model.layers.21.self_attn.v_proj.bias', 'model.layers.22.mlp.down_proj.bias', 'model.layers.22.mlp.gate_proj.bias', 'model.layers.22.mlp.up_proj.bias', 'model.layers.22.self_attn.k_proj.bias', 'model.layers.22.self_attn.o_proj.bias', 'model.layers.22.self_attn.q_proj.bias', 'model.layers.22.self_attn.v_proj.bias', 'model.layers.23.mlp.down_proj.bias', 'model.layers.23.mlp.gate_proj.bias', 'model.layers.23.mlp.up_proj.bias', 'model.layers.23.self_attn.k_proj.bias', 'model.layers.23.self_attn.o_proj.bias', 'model.layers.23.self_attn.q_proj.bias', 'model.layers.23.self_attn.v_proj.bias', 'model.layers.24.mlp.down_proj.bias', 'model.layers.24.mlp.gate_proj.bias', 'model.layers.24.mlp.up_proj.bias', 'model.layers.24.self_attn.k_proj.bias', 'model.layers.24.self_attn.o_proj.bias', 'model.layers.24.self_attn.q_proj.bias', 'model.layers.24.self_attn.v_proj.bias', 'model.layers.25.mlp.down_proj.bias', 'model.layers.25.mlp.gate_proj.bias', 'model.layers.25.mlp.up_proj.bias', 'model.layers.25.self_attn.k_proj.bias', 'model.layers.25.self_attn.o_proj.bias', 'model.layers.25.self_attn.q_proj.bias', 'model.layers.25.self_attn.v_proj.bias', 'model.layers.26.mlp.down_proj.bias', 'model.layers.26.mlp.gate_proj.bias', 'model.layers.26.mlp.up_proj.bias', 'model.layers.26.self_attn.k_proj.bias', 'model.layers.26.self_attn.o_proj.bias', 'model.layers.26.self_attn.q_proj.bias', 'model.layers.26.self_attn.v_proj.bias', 'model.layers.27.mlp.down_proj.bias', 'model.layers.27.mlp.gate_proj.bias', 'model.layers.27.mlp.up_proj.bias', 'model.layers.27.self_attn.k_proj.bias', 'model.layers.27.self_attn.o_proj.bias', 'model.layers.27.self_attn.q_proj.bias', 'model.layers.27.self_attn.v_proj.bias', 'model.layers.28.mlp.down_proj.bias', 'model.layers.28.mlp.gate_proj.bias', 'model.layers.28.mlp.up_proj.bias', 'model.layers.28.self_attn.k_proj.bias', 'model.layers.28.self_attn.o_proj.bias', 'model.layers.28.self_attn.q_proj.bias', 'model.layers.28.self_attn.v_proj.bias', 'model.layers.29.mlp.down_proj.bias', 'model.layers.29.mlp.gate_proj.bias', 'model.layers.29.mlp.up_proj.bias', 'model.layers.29.self_attn.k_proj.bias', 'model.layers.29.self_attn.o_proj.bias', 'model.layers.29.self_attn.q_proj.bias', 'model.layers.29.self_attn.v_proj.bias', 'model.layers.3.mlp.down_proj.bias', 'model.layers.3.mlp.gate_proj.bias', 'model.layers.3.mlp.up_proj.bias', 'model.layers.3.self_attn.k_proj.bias', 'model.layers.3.self_attn.o_proj.bias', 'model.layers.3.self_attn.q_proj.bias', 'model.layers.3.self_attn.v_proj.bias', 'model.layers.30.mlp.down_proj.bias', 'model.layers.30.mlp.gate_proj.bias', 'model.layers.30.mlp.up_proj.bias', 'model.layers.30.self_attn.k_proj.bias', 'model.layers.30.self_attn.o_proj.bias', 'model.layers.30.self_attn.q_proj.bias', 'model.layers.30.self_attn.v_proj.bias', 'model.layers.31.mlp.down_proj.bias', 'model.layers.31.mlp.gate_proj.bias', 'model.layers.31.mlp.up_proj.bias', 'model.layers.31.self_attn.k_proj.bias', 'model.layers.31.self_attn.o_proj.bias', 'model.layers.31.self_attn.q_proj.bias', 'model.layers.31.self_attn.v_proj.bias', 'model.layers.4.mlp.down_proj.bias', 'model.layers.4.mlp.gate_proj.bias', 'model.layers.4.mlp.up_proj.bias', 'model.layers.4.self_attn.k_proj.bias', 'model.layers.4.self_attn.o_proj.bias', 'model.layers.4.self_attn.q_proj.bias', 'model.layers.4.self_attn.v_proj.bias', 'model.layers.5.mlp.down_proj.bias', 'model.layers.5.mlp.gate_proj.bias', 'model.layers.5.mlp.up_proj.bias', 'model.layers.5.self_attn.k_proj.bias', 'model.layers.5.self_attn.o_proj.bias', 'model.layers.5.self_attn.q_proj.bias', 'model.layers.5.self_attn.v_proj.bias', 'model.layers.6.mlp.down_proj.bias', 'model.layers.6.mlp.gate_proj.bias', 'model.layers.6.mlp.up_proj.bias', 'model.layers.6.self_attn.k_proj.bias', 'model.layers.6.self_attn.o_proj.bias', 'model.layers.6.self_attn.q_proj.bias', 'model.layers.6.self_attn.v_proj.bias', 'model.layers.7.mlp.down_proj.bias', 'model.layers.7.mlp.gate_proj.bias', 'model.layers.7.mlp.up_proj.bias', 'model.layers.7.self_attn.k_proj.bias', 'model.layers.7.self_attn.o_proj.bias', 'model.layers.7.self_attn.q_proj.bias', 'model.layers.7.self_attn.v_proj.bias', 'model.layers.8.mlp.down_proj.bias', 'model.layers.8.mlp.gate_proj.bias', 'model.layers.8.mlp.up_proj.bias', 'model.layers.8.self_attn.k_proj.bias', 'model.layers.8.self_attn.o_proj.bias', 'model.layers.8.self_attn.q_proj.bias', 'model.layers.8.self_attn.v_proj.bias', 'model.layers.9.mlp.down_proj.bias', 'model.layers.9.mlp.gate_proj.bias', 'model.layers.9.mlp.up_proj.bias', 'model.layers.9.self_attn.k_proj.bias', 'model.layers.9.self_attn.o_proj.bias', 'model.layers.9.self_attn.q_proj.bias', 'model.layers.9.self_attn.v_proj.bias']\n",
            "- This IS expected if you are initializing LlamaForCausalLM from the checkpoint of a model trained on another task or with another architecture (e.g. initializing a BertForSequenceClassification model from a BertForPreTraining model).\n",
            "- This IS NOT expected if you are initializing LlamaForCausalLM from the checkpoint of a model that you expect to be exactly identical (initializing a BertForSequenceClassification model from a BertForSequenceClassification model).\n"
          ]
        },
        {
          "output_type": "display_data",
          "data": {
            "text/plain": [
              "generation_config.json:   0%|          | 0.00/131 [00:00<?, ?B/s]"
            ],
            "application/vnd.jupyter.widget-view+json": {
              "version_major": 2,
              "version_minor": 0,
              "model_id": "0a5d96f62d434580bc8bb8410ce0e6b4"
            }
          },
          "metadata": {}
        },
        {
          "output_type": "stream",
          "name": "stdout",
          "text": [
            "Number of trainable parameters: 453251072\n"
          ]
        }
      ]
    },
    {
      "cell_type": "code",
      "execution_count": null,
      "metadata": {
        "colab": {
          "base_uri": "https://localhost:8080/"
        },
        "id": "sx78qCBbYGaD",
        "outputId": "2d05dc8c-530f-4b74-e599-cd64923b15f5"
      },
      "outputs": [
        {
          "name": "stderr",
          "output_type": "stream",
          "text": [
            "Calculating BLEU Scores: 100%|██████████| 5000/5000 [10:06:58<00:00,  7.28s/it]"
          ]
        },
        {
          "name": "stdout",
          "output_type": "stream",
          "text": [
            "Average BLEU score for the test set: 0.0511\n"
          ]
        },
        {
          "name": "stderr",
          "output_type": "stream",
          "text": [
            "\n"
          ]
        },
        {
          "data": {
            "text/plain": [
              "0.051076716055391054"
            ]
          },
          "execution_count": 36,
          "metadata": {},
          "output_type": "execute_result"
        }
      ],
      "source": [
        "evaluate_bleu_score(Alpaca, Alpaca_tokenizer, test_data, max_length=200, device=\"cuda\", Alpaca = True)"
      ]
    },
    {
      "cell_type": "markdown",
      "metadata": {
        "id": "iiAXxQ4RKzQE"
      },
      "source": [
        "### **7.2 MarianMT - Chinese to English Only**"
      ]
    },
    {
      "cell_type": "code",
      "execution_count": null,
      "metadata": {
        "colab": {
          "base_uri": "https://localhost:8080/",
          "height": 101,
          "referenced_widgets": [
            "7d1d73cd809f4f81891339d9b91963b5",
            "725b6dd3fa434e2d910d6e6b2c3f5c02",
            "abcba4d582564f03b09b1434b9d22ace",
            "0f5afbcc40b2460fbee5d7b5fe3cee41",
            "9a5cfc3706da4734b8829e9eeda18453",
            "c5adf56850fb4611b974f970bd46f1ba",
            "1a87084fa0834b4f974b7d91f854538e",
            "69608abae16346349058c52e3ceb8418",
            "85b6388873814ad69ff0fde892767b82",
            "8892b402a972410191c7c58409f6f421",
            "30f68ea6a55a46dab0c9089eae2952ad"
          ]
        },
        "id": "qMtMZnD4lMEP",
        "outputId": "31306479-b259-426b-8247-6a725c59734d"
      },
      "outputs": [
        {
          "name": "stderr",
          "output_type": "stream",
          "text": [
            "/usr/local/lib/python3.10/dist-packages/transformers/models/marian/tokenization_marian.py:175: UserWarning: Recommended: pip install sacremoses.\n",
            "  warnings.warn(\"Recommended: pip install sacremoses.\")\n"
          ]
        },
        {
          "data": {
            "application/vnd.jupyter.widget-view+json": {
              "model_id": "7d1d73cd809f4f81891339d9b91963b5",
              "version_major": 2,
              "version_minor": 0
            },
            "text/plain": [
              "model.safetensors:   0%|          | 0.00/312M [00:00<?, ?B/s]"
            ]
          },
          "metadata": {},
          "output_type": "display_data"
        },
        {
          "name": "stdout",
          "output_type": "stream",
          "text": [
            "I love machine learning. I love natural language.\n"
          ]
        }
      ],
      "source": [
        "model_id = \"Helsinki-NLP/opus-mt-zh-en\"\n",
        "\n",
        "quantization_config = BitsAndBytesConfig(load_in_8bit=True)\n",
        "\n",
        "MarianMT_tokenizer = AutoTokenizer.from_pretrained(model_id)\n",
        "MarianMT_model = AutoModelForSeq2SeqLM.from_pretrained(\n",
        "    model_id,\n",
        "    quantization_config=quantization_config,\n",
        "    low_cpu_mem_usage=True\n",
        ")\n",
        "\n",
        "input_text = \"我爱机器学习，我爱自然语言处理\"\n",
        "inputs = MarianMT_tokenizer(input_text, return_tensors=\"pt\").to(\"cuda\")\n",
        "outputs = MarianMT_model.generate(**inputs, max_length=50)\n",
        "\n",
        "translated_text = MarianMT_tokenizer.decode(outputs[0], skip_special_tokens=True)\n",
        "print(translated_text)"
      ]
    },
    {
      "cell_type": "markdown",
      "metadata": {
        "id": "50Hy4JmehylJ"
      },
      "source": [
        "**Trainable Parameters for Self-Quantized Mariana MT**"
      ]
    },
    {
      "cell_type": "code",
      "execution_count": null,
      "metadata": {
        "colab": {
          "base_uri": "https://localhost:8080/"
        },
        "id": "lPvpIhH5hwbq",
        "outputId": "b678467a-1d70-49f5-cdcb-b1f910560ecd"
      },
      "outputs": [
        {
          "name": "stdout",
          "output_type": "stream",
          "text": [
            "Number of trainable parameters: 77419008\n"
          ]
        }
      ],
      "source": [
        "from transformers import AutoModel\n",
        "\n",
        "# Load the model\n",
        "model_name = \"Helsinki-NLP/opus-mt-zh-en\"\n",
        "model = AutoModel.from_pretrained(model_name)\n",
        "\n",
        "# Count the number of trainable parameters\n",
        "trainable_params = sum(p.numel() for p in model.parameters() if p.requires_grad)\n",
        "\n",
        "print(f\"Number of trainable parameters: {trainable_params}\")"
      ]
    },
    {
      "cell_type": "code",
      "execution_count": null,
      "metadata": {
        "colab": {
          "base_uri": "https://localhost:8080/"
        },
        "id": "X_fyijSHpK3p",
        "outputId": "d18be8da-048d-438f-84bd-172b16d81409"
      },
      "outputs": [
        {
          "name": "stdout",
          "output_type": "stream",
          "text": [
            "Loaded train data with 40000 samples.\n",
            "Loaded dev data with 5000 samples.\n",
            "Loaded test data with 5000 samples.\n"
          ]
        }
      ],
      "source": [
        "train_data, dev_data, test_data = load_data_from_txt(data_file_path, sample_size = 50000)"
      ]
    },
    {
      "cell_type": "code",
      "execution_count": null,
      "metadata": {
        "colab": {
          "background_save": true,
          "base_uri": "https://localhost:8080/"
        },
        "id": "fHNDsbTcpYY6",
        "outputId": "1842e090-9f28-4245-ec6d-219a5db5e563"
      },
      "outputs": [
        {
          "name": "stderr",
          "output_type": "stream",
          "text": [
            "Calculating BLEU Scores: 100%|██████████| 5000/5000 [1:20:03<00:00,  1.04it/s]"
          ]
        },
        {
          "name": "stdout",
          "output_type": "stream",
          "text": [
            "Average BLEU score for the test set: 0.1029\n"
          ]
        },
        {
          "name": "stderr",
          "output_type": "stream",
          "text": [
            "\n"
          ]
        },
        {
          "data": {
            "text/plain": [
              "0.10293217807613292"
            ]
          },
          "execution_count": 22,
          "metadata": {},
          "output_type": "execute_result"
        }
      ],
      "source": [
        "evaluate_bleu_score(MarianMT_model, MarianMT_tokenizer, test_data, max_length=200, device=\"cuda\", Alpaca = False)"
      ]
    }
  ],
  "metadata": {
    "accelerator": "GPU",
    "colab": {
      "collapsed_sections": [
        "prKdB5wTwPme",
        "XklaqI9z8qAy",
        "GXhU2VXTwiwH",
        "ozU3DRKlwtH1",
        "QhCijy_CqYHV",
        "_KdUmj4Ayhkd",
        "uMZQWk2lttXo",
        "-4Urv1Ng5VIN",
        "GILSJNwtBxpr",
        "qx6APgdyXlgH",
        "2VmUXr3R0z3J",
        "dVG55jwJkbtn",
        "mJR8LtahC5m2",
        "ikWMcrgpZT2b",
        "CUAae6juqj7c",
        "EtbitlEbDHdJ",
        "5Sv8OTsV4GXX",
        "Jsn31bI2zpkF",
        "F_GMPXVmiZj6",
        "MvhxsNrG4-4o",
        "n0heTFBaBoyX",
        "6Wuhnfza0boW",
        "9TKJqLOrebzH",
        "POk2iB0V5ULw",
        "K12gQZseTFVQ",
        "qR1e2lboBO6s"
      ],
      "gpuType": "T4",
      "provenance": []
    },
    "kernelspec": {
      "display_name": "Python 3",
      "name": "python3"
    },
    "language_info": {
      "name": "python"
    },
    "widgets": {
      "application/vnd.jupyter.widget-state+json": {
        "002770a697294cd2a1e62ad9ebb56f0f": {
          "model_module": "@jupyter-widgets/base",
          "model_module_version": "1.2.0",
          "model_name": "LayoutModel",
          "state": {
            "_model_module": "@jupyter-widgets/base",
            "_model_module_version": "1.2.0",
            "_model_name": "LayoutModel",
            "_view_count": null,
            "_view_module": "@jupyter-widgets/base",
            "_view_module_version": "1.2.0",
            "_view_name": "LayoutView",
            "align_content": null,
            "align_items": null,
            "align_self": null,
            "border": null,
            "bottom": null,
            "display": null,
            "flex": null,
            "flex_flow": null,
            "grid_area": null,
            "grid_auto_columns": null,
            "grid_auto_flow": null,
            "grid_auto_rows": null,
            "grid_column": null,
            "grid_gap": null,
            "grid_row": null,
            "grid_template_areas": null,
            "grid_template_columns": null,
            "grid_template_rows": null,
            "height": null,
            "justify_content": null,
            "justify_items": null,
            "left": null,
            "margin": null,
            "max_height": null,
            "max_width": null,
            "min_height": null,
            "min_width": null,
            "object_fit": null,
            "object_position": null,
            "order": null,
            "overflow": null,
            "overflow_x": null,
            "overflow_y": null,
            "padding": null,
            "right": null,
            "top": null,
            "visibility": null,
            "width": null
          }
        },
        "0946552c0e9e4d1e8a7dceecbfeebd66": {
          "model_module": "@jupyter-widgets/base",
          "model_module_version": "1.2.0",
          "model_name": "LayoutModel",
          "state": {
            "_model_module": "@jupyter-widgets/base",
            "_model_module_version": "1.2.0",
            "_model_name": "LayoutModel",
            "_view_count": null,
            "_view_module": "@jupyter-widgets/base",
            "_view_module_version": "1.2.0",
            "_view_name": "LayoutView",
            "align_content": null,
            "align_items": null,
            "align_self": null,
            "border": null,
            "bottom": null,
            "display": null,
            "flex": null,
            "flex_flow": null,
            "grid_area": null,
            "grid_auto_columns": null,
            "grid_auto_flow": null,
            "grid_auto_rows": null,
            "grid_column": null,
            "grid_gap": null,
            "grid_row": null,
            "grid_template_areas": null,
            "grid_template_columns": null,
            "grid_template_rows": null,
            "height": null,
            "justify_content": null,
            "justify_items": null,
            "left": null,
            "margin": null,
            "max_height": null,
            "max_width": null,
            "min_height": null,
            "min_width": null,
            "object_fit": null,
            "object_position": null,
            "order": null,
            "overflow": null,
            "overflow_x": null,
            "overflow_y": null,
            "padding": null,
            "right": null,
            "top": null,
            "visibility": null,
            "width": null
          }
        },
        "0ca9d1a2be2945fe8492088c529f21c9": {
          "model_module": "@jupyter-widgets/controls",
          "model_module_version": "1.5.0",
          "model_name": "HBoxModel",
          "state": {
            "_dom_classes": [],
            "_model_module": "@jupyter-widgets/controls",
            "_model_module_version": "1.5.0",
            "_model_name": "HBoxModel",
            "_view_count": null,
            "_view_module": "@jupyter-widgets/controls",
            "_view_module_version": "1.5.0",
            "_view_name": "HBoxView",
            "box_style": "",
            "children": [
              "IPY_MODEL_536d1b905a8b4e328125bfa37aee69c7",
              "IPY_MODEL_25c10fbc8a504e50b6e8859ebe172753",
              "IPY_MODEL_dd57a84a69f149a1ba7ab9feb8d66c3a"
            ],
            "layout": "IPY_MODEL_3491cd83bc924065a32138c4af6f8a6c"
          }
        },
        "0ef3082589fe48e9b5115130f8d8170e": {
          "model_module": "@jupyter-widgets/base",
          "model_module_version": "1.2.0",
          "model_name": "LayoutModel",
          "state": {
            "_model_module": "@jupyter-widgets/base",
            "_model_module_version": "1.2.0",
            "_model_name": "LayoutModel",
            "_view_count": null,
            "_view_module": "@jupyter-widgets/base",
            "_view_module_version": "1.2.0",
            "_view_name": "LayoutView",
            "align_content": null,
            "align_items": null,
            "align_self": null,
            "border": null,
            "bottom": null,
            "display": null,
            "flex": null,
            "flex_flow": null,
            "grid_area": null,
            "grid_auto_columns": null,
            "grid_auto_flow": null,
            "grid_auto_rows": null,
            "grid_column": null,
            "grid_gap": null,
            "grid_row": null,
            "grid_template_areas": null,
            "grid_template_columns": null,
            "grid_template_rows": null,
            "height": null,
            "justify_content": null,
            "justify_items": null,
            "left": null,
            "margin": null,
            "max_height": null,
            "max_width": null,
            "min_height": null,
            "min_width": null,
            "object_fit": null,
            "object_position": null,
            "order": null,
            "overflow": null,
            "overflow_x": null,
            "overflow_y": null,
            "padding": null,
            "right": null,
            "top": null,
            "visibility": null,
            "width": null
          }
        },
        "0f5afbcc40b2460fbee5d7b5fe3cee41": {
          "model_module": "@jupyter-widgets/controls",
          "model_module_version": "1.5.0",
          "model_name": "HTMLModel",
          "state": {
            "_dom_classes": [],
            "_model_module": "@jupyter-widgets/controls",
            "_model_module_version": "1.5.0",
            "_model_name": "HTMLModel",
            "_view_count": null,
            "_view_module": "@jupyter-widgets/controls",
            "_view_module_version": "1.5.0",
            "_view_name": "HTMLView",
            "description": "",
            "description_tooltip": null,
            "layout": "IPY_MODEL_8892b402a972410191c7c58409f6f421",
            "placeholder": "​",
            "style": "IPY_MODEL_30f68ea6a55a46dab0c9089eae2952ad",
            "value": " 312M/312M [00:01&lt;00:00, 238MB/s]"
          }
        },
        "110a246bcdf74da598f3b58bdadb33b1": {
          "model_module": "@jupyter-widgets/base",
          "model_module_version": "1.2.0",
          "model_name": "LayoutModel",
          "state": {
            "_model_module": "@jupyter-widgets/base",
            "_model_module_version": "1.2.0",
            "_model_name": "LayoutModel",
            "_view_count": null,
            "_view_module": "@jupyter-widgets/base",
            "_view_module_version": "1.2.0",
            "_view_name": "LayoutView",
            "align_content": null,
            "align_items": null,
            "align_self": null,
            "border": null,
            "bottom": null,
            "display": null,
            "flex": null,
            "flex_flow": null,
            "grid_area": null,
            "grid_auto_columns": null,
            "grid_auto_flow": null,
            "grid_auto_rows": null,
            "grid_column": null,
            "grid_gap": null,
            "grid_row": null,
            "grid_template_areas": null,
            "grid_template_columns": null,
            "grid_template_rows": null,
            "height": null,
            "justify_content": null,
            "justify_items": null,
            "left": null,
            "margin": null,
            "max_height": null,
            "max_width": null,
            "min_height": null,
            "min_width": null,
            "object_fit": null,
            "object_position": null,
            "order": null,
            "overflow": null,
            "overflow_x": null,
            "overflow_y": null,
            "padding": null,
            "right": null,
            "top": null,
            "visibility": null,
            "width": null
          }
        },
        "11f06f842c274672aec268b7b8a1bde3": {
          "model_module": "@jupyter-widgets/controls",
          "model_module_version": "1.5.0",
          "model_name": "DescriptionStyleModel",
          "state": {
            "_model_module": "@jupyter-widgets/controls",
            "_model_module_version": "1.5.0",
            "_model_name": "DescriptionStyleModel",
            "_view_count": null,
            "_view_module": "@jupyter-widgets/base",
            "_view_module_version": "1.2.0",
            "_view_name": "StyleView",
            "description_width": ""
          }
        },
        "171cced3c611442784354d9f94f5c278": {
          "model_module": "@jupyter-widgets/base",
          "model_module_version": "1.2.0",
          "model_name": "LayoutModel",
          "state": {
            "_model_module": "@jupyter-widgets/base",
            "_model_module_version": "1.2.0",
            "_model_name": "LayoutModel",
            "_view_count": null,
            "_view_module": "@jupyter-widgets/base",
            "_view_module_version": "1.2.0",
            "_view_name": "LayoutView",
            "align_content": null,
            "align_items": null,
            "align_self": null,
            "border": null,
            "bottom": null,
            "display": null,
            "flex": null,
            "flex_flow": null,
            "grid_area": null,
            "grid_auto_columns": null,
            "grid_auto_flow": null,
            "grid_auto_rows": null,
            "grid_column": null,
            "grid_gap": null,
            "grid_row": null,
            "grid_template_areas": null,
            "grid_template_columns": null,
            "grid_template_rows": null,
            "height": null,
            "justify_content": null,
            "justify_items": null,
            "left": null,
            "margin": null,
            "max_height": null,
            "max_width": null,
            "min_height": null,
            "min_width": null,
            "object_fit": null,
            "object_position": null,
            "order": null,
            "overflow": null,
            "overflow_x": null,
            "overflow_y": null,
            "padding": null,
            "right": null,
            "top": null,
            "visibility": null,
            "width": null
          }
        },
        "17a750d1c77c41609b83822f8297f161": {
          "model_module": "@jupyter-widgets/base",
          "model_module_version": "1.2.0",
          "model_name": "LayoutModel",
          "state": {
            "_model_module": "@jupyter-widgets/base",
            "_model_module_version": "1.2.0",
            "_model_name": "LayoutModel",
            "_view_count": null,
            "_view_module": "@jupyter-widgets/base",
            "_view_module_version": "1.2.0",
            "_view_name": "LayoutView",
            "align_content": null,
            "align_items": null,
            "align_self": null,
            "border": null,
            "bottom": null,
            "display": null,
            "flex": null,
            "flex_flow": null,
            "grid_area": null,
            "grid_auto_columns": null,
            "grid_auto_flow": null,
            "grid_auto_rows": null,
            "grid_column": null,
            "grid_gap": null,
            "grid_row": null,
            "grid_template_areas": null,
            "grid_template_columns": null,
            "grid_template_rows": null,
            "height": null,
            "justify_content": null,
            "justify_items": null,
            "left": null,
            "margin": null,
            "max_height": null,
            "max_width": null,
            "min_height": null,
            "min_width": null,
            "object_fit": null,
            "object_position": null,
            "order": null,
            "overflow": null,
            "overflow_x": null,
            "overflow_y": null,
            "padding": null,
            "right": null,
            "top": null,
            "visibility": null,
            "width": null
          }
        },
        "1893af19547248e5a5c1d8f3263502ec": {
          "model_module": "@jupyter-widgets/controls",
          "model_module_version": "1.5.0",
          "model_name": "HTMLModel",
          "state": {
            "_dom_classes": [],
            "_model_module": "@jupyter-widgets/controls",
            "_model_module_version": "1.5.0",
            "_model_name": "HTMLModel",
            "_view_count": null,
            "_view_module": "@jupyter-widgets/controls",
            "_view_module_version": "1.5.0",
            "_view_name": "HTMLView",
            "description": "",
            "description_tooltip": null,
            "layout": "IPY_MODEL_5df9ea3969824c11b6b80583197649c0",
            "placeholder": "​",
            "style": "IPY_MODEL_c29bf138bef446e6bc23bf794ad7e97f",
            "value": "config.json: 100%"
          }
        },
        "1a87084fa0834b4f974b7d91f854538e": {
          "model_module": "@jupyter-widgets/controls",
          "model_module_version": "1.5.0",
          "model_name": "DescriptionStyleModel",
          "state": {
            "_model_module": "@jupyter-widgets/controls",
            "_model_module_version": "1.5.0",
            "_model_name": "DescriptionStyleModel",
            "_view_count": null,
            "_view_module": "@jupyter-widgets/base",
            "_view_module_version": "1.2.0",
            "_view_name": "StyleView",
            "description_width": ""
          }
        },
        "1b0d3f7633c54f99b2ef3ba24deeae98": {
          "model_module": "@jupyter-widgets/controls",
          "model_module_version": "1.5.0",
          "model_name": "DescriptionStyleModel",
          "state": {
            "_model_module": "@jupyter-widgets/controls",
            "_model_module_version": "1.5.0",
            "_model_name": "DescriptionStyleModel",
            "_view_count": null,
            "_view_module": "@jupyter-widgets/base",
            "_view_module_version": "1.2.0",
            "_view_name": "StyleView",
            "description_width": ""
          }
        },
        "1e417de88dc94e84a224b85173154e13": {
          "model_module": "@jupyter-widgets/controls",
          "model_module_version": "1.5.0",
          "model_name": "HBoxModel",
          "state": {
            "_dom_classes": [],
            "_model_module": "@jupyter-widgets/controls",
            "_model_module_version": "1.5.0",
            "_model_name": "HBoxModel",
            "_view_count": null,
            "_view_module": "@jupyter-widgets/controls",
            "_view_module_version": "1.5.0",
            "_view_name": "HBoxView",
            "box_style": "",
            "children": [
              "IPY_MODEL_f48780158e314db5a2f1a0a54751f034",
              "IPY_MODEL_8576425312624e3681aa02e18744428d",
              "IPY_MODEL_a278515e304e439e96873a80009734af"
            ],
            "layout": "IPY_MODEL_9e011d5071cb4136bd358fc6eb4036f9"
          }
        },
        "237bd9946efd4341a6e737f90619415a": {
          "model_module": "@jupyter-widgets/controls",
          "model_module_version": "1.5.0",
          "model_name": "HTMLModel",
          "state": {
            "_dom_classes": [],
            "_model_module": "@jupyter-widgets/controls",
            "_model_module_version": "1.5.0",
            "_model_name": "HTMLModel",
            "_view_count": null,
            "_view_module": "@jupyter-widgets/controls",
            "_view_module_version": "1.5.0",
            "_view_name": "HTMLView",
            "description": "",
            "description_tooltip": null,
            "layout": "IPY_MODEL_8932ac5b234b49b9b16ce7387312d1ca",
            "placeholder": "​",
            "style": "IPY_MODEL_2de78c4b2daf4434b269beb08fedf2b8",
            "value": "tokenizer_config.json: 100%"
          }
        },
        "25c10fbc8a504e50b6e8859ebe172753": {
          "model_module": "@jupyter-widgets/controls",
          "model_module_version": "1.5.0",
          "model_name": "FloatProgressModel",
          "state": {
            "_dom_classes": [],
            "_model_module": "@jupyter-widgets/controls",
            "_model_module_version": "1.5.0",
            "_model_name": "FloatProgressModel",
            "_view_count": null,
            "_view_module": "@jupyter-widgets/controls",
            "_view_module_version": "1.5.0",
            "_view_name": "ProgressView",
            "bar_style": "success",
            "description": "",
            "description_tooltip": null,
            "layout": "IPY_MODEL_913c744b886b433ea1ad7c7718b82972",
            "max": 261,
            "min": 0,
            "orientation": "horizontal",
            "style": "IPY_MODEL_5467128fefd748b7b9c8aebba9b64a16",
            "value": 261
          }
        },
        "293eec9edcad4b02880f2367ca370f3d": {
          "model_module": "@jupyter-widgets/controls",
          "model_module_version": "1.5.0",
          "model_name": "DescriptionStyleModel",
          "state": {
            "_model_module": "@jupyter-widgets/controls",
            "_model_module_version": "1.5.0",
            "_model_name": "DescriptionStyleModel",
            "_view_count": null,
            "_view_module": "@jupyter-widgets/base",
            "_view_module_version": "1.2.0",
            "_view_name": "StyleView",
            "description_width": ""
          }
        },
        "2b0da7e5d0ad4af6bae9757dec680f7e": {
          "model_module": "@jupyter-widgets/base",
          "model_module_version": "1.2.0",
          "model_name": "LayoutModel",
          "state": {
            "_model_module": "@jupyter-widgets/base",
            "_model_module_version": "1.2.0",
            "_model_name": "LayoutModel",
            "_view_count": null,
            "_view_module": "@jupyter-widgets/base",
            "_view_module_version": "1.2.0",
            "_view_name": "LayoutView",
            "align_content": null,
            "align_items": null,
            "align_self": null,
            "border": null,
            "bottom": null,
            "display": null,
            "flex": null,
            "flex_flow": null,
            "grid_area": null,
            "grid_auto_columns": null,
            "grid_auto_flow": null,
            "grid_auto_rows": null,
            "grid_column": null,
            "grid_gap": null,
            "grid_row": null,
            "grid_template_areas": null,
            "grid_template_columns": null,
            "grid_template_rows": null,
            "height": null,
            "justify_content": null,
            "justify_items": null,
            "left": null,
            "margin": null,
            "max_height": null,
            "max_width": null,
            "min_height": null,
            "min_width": null,
            "object_fit": null,
            "object_position": null,
            "order": null,
            "overflow": null,
            "overflow_x": null,
            "overflow_y": null,
            "padding": null,
            "right": null,
            "top": null,
            "visibility": null,
            "width": null
          }
        },
        "2c37188e2ad64e4f800b7fade3946d76": {
          "model_module": "@jupyter-widgets/controls",
          "model_module_version": "1.5.0",
          "model_name": "DescriptionStyleModel",
          "state": {
            "_model_module": "@jupyter-widgets/controls",
            "_model_module_version": "1.5.0",
            "_model_name": "DescriptionStyleModel",
            "_view_count": null,
            "_view_module": "@jupyter-widgets/base",
            "_view_module_version": "1.2.0",
            "_view_name": "StyleView",
            "description_width": ""
          }
        },
        "2de78c4b2daf4434b269beb08fedf2b8": {
          "model_module": "@jupyter-widgets/controls",
          "model_module_version": "1.5.0",
          "model_name": "DescriptionStyleModel",
          "state": {
            "_model_module": "@jupyter-widgets/controls",
            "_model_module_version": "1.5.0",
            "_model_name": "DescriptionStyleModel",
            "_view_count": null,
            "_view_module": "@jupyter-widgets/base",
            "_view_module_version": "1.2.0",
            "_view_name": "StyleView",
            "description_width": ""
          }
        },
        "30f68ea6a55a46dab0c9089eae2952ad": {
          "model_module": "@jupyter-widgets/controls",
          "model_module_version": "1.5.0",
          "model_name": "DescriptionStyleModel",
          "state": {
            "_model_module": "@jupyter-widgets/controls",
            "_model_module_version": "1.5.0",
            "_model_name": "DescriptionStyleModel",
            "_view_count": null,
            "_view_module": "@jupyter-widgets/base",
            "_view_module_version": "1.2.0",
            "_view_name": "StyleView",
            "description_width": ""
          }
        },
        "3491cd83bc924065a32138c4af6f8a6c": {
          "model_module": "@jupyter-widgets/base",
          "model_module_version": "1.2.0",
          "model_name": "LayoutModel",
          "state": {
            "_model_module": "@jupyter-widgets/base",
            "_model_module_version": "1.2.0",
            "_model_name": "LayoutModel",
            "_view_count": null,
            "_view_module": "@jupyter-widgets/base",
            "_view_module_version": "1.2.0",
            "_view_name": "LayoutView",
            "align_content": null,
            "align_items": null,
            "align_self": null,
            "border": null,
            "bottom": null,
            "display": null,
            "flex": null,
            "flex_flow": null,
            "grid_area": null,
            "grid_auto_columns": null,
            "grid_auto_flow": null,
            "grid_auto_rows": null,
            "grid_column": null,
            "grid_gap": null,
            "grid_row": null,
            "grid_template_areas": null,
            "grid_template_columns": null,
            "grid_template_rows": null,
            "height": null,
            "justify_content": null,
            "justify_items": null,
            "left": null,
            "margin": null,
            "max_height": null,
            "max_width": null,
            "min_height": null,
            "min_width": null,
            "object_fit": null,
            "object_position": null,
            "order": null,
            "overflow": null,
            "overflow_x": null,
            "overflow_y": null,
            "padding": null,
            "right": null,
            "top": null,
            "visibility": null,
            "width": null
          }
        },
        "457d792d667e4e07a5e0b59090b4daaf": {
          "model_module": "@jupyter-widgets/controls",
          "model_module_version": "1.5.0",
          "model_name": "FloatProgressModel",
          "state": {
            "_dom_classes": [],
            "_model_module": "@jupyter-widgets/controls",
            "_model_module_version": "1.5.0",
            "_model_name": "FloatProgressModel",
            "_view_count": null,
            "_view_module": "@jupyter-widgets/controls",
            "_view_module_version": "1.5.0",
            "_view_name": "ProgressView",
            "bar_style": "success",
            "description": "",
            "description_tooltip": null,
            "layout": "IPY_MODEL_110a246bcdf74da598f3b58bdadb33b1",
            "max": 1429,
            "min": 0,
            "orientation": "horizontal",
            "style": "IPY_MODEL_91f81fe060674705b1d06053069c84a1",
            "value": 1429
          }
        },
        "48608fc7fd874e84a7f09b6eaa1f03d3": {
          "model_module": "@jupyter-widgets/base",
          "model_module_version": "1.2.0",
          "model_name": "LayoutModel",
          "state": {
            "_model_module": "@jupyter-widgets/base",
            "_model_module_version": "1.2.0",
            "_model_name": "LayoutModel",
            "_view_count": null,
            "_view_module": "@jupyter-widgets/base",
            "_view_module_version": "1.2.0",
            "_view_name": "LayoutView",
            "align_content": null,
            "align_items": null,
            "align_self": null,
            "border": null,
            "bottom": null,
            "display": null,
            "flex": null,
            "flex_flow": null,
            "grid_area": null,
            "grid_auto_columns": null,
            "grid_auto_flow": null,
            "grid_auto_rows": null,
            "grid_column": null,
            "grid_gap": null,
            "grid_row": null,
            "grid_template_areas": null,
            "grid_template_columns": null,
            "grid_template_rows": null,
            "height": null,
            "justify_content": null,
            "justify_items": null,
            "left": null,
            "margin": null,
            "max_height": null,
            "max_width": null,
            "min_height": null,
            "min_width": null,
            "object_fit": null,
            "object_position": null,
            "order": null,
            "overflow": null,
            "overflow_x": null,
            "overflow_y": null,
            "padding": null,
            "right": null,
            "top": null,
            "visibility": null,
            "width": null
          }
        },
        "5068215f603144bf992b9646ce7e7f36": {
          "model_module": "@jupyter-widgets/controls",
          "model_module_version": "1.5.0",
          "model_name": "HBoxModel",
          "state": {
            "_dom_classes": [],
            "_model_module": "@jupyter-widgets/controls",
            "_model_module_version": "1.5.0",
            "_model_name": "HBoxModel",
            "_view_count": null,
            "_view_module": "@jupyter-widgets/controls",
            "_view_module_version": "1.5.0",
            "_view_name": "HBoxView",
            "box_style": "",
            "children": [
              "IPY_MODEL_1893af19547248e5a5c1d8f3263502ec",
              "IPY_MODEL_457d792d667e4e07a5e0b59090b4daaf",
              "IPY_MODEL_e9cf9a5ccbc543b49417ff8b3908b811"
            ],
            "layout": "IPY_MODEL_0946552c0e9e4d1e8a7dceecbfeebd66"
          }
        },
        "5239a3204f50437ebb9660e77889d360": {
          "model_module": "@jupyter-widgets/controls",
          "model_module_version": "1.5.0",
          "model_name": "HTMLModel",
          "state": {
            "_dom_classes": [],
            "_model_module": "@jupyter-widgets/controls",
            "_model_module_version": "1.5.0",
            "_model_name": "HTMLModel",
            "_view_count": null,
            "_view_module": "@jupyter-widgets/controls",
            "_view_module_version": "1.5.0",
            "_view_name": "HTMLView",
            "description": "",
            "description_tooltip": null,
            "layout": "IPY_MODEL_9935c83b26de424bb8f16a38514fc549",
            "placeholder": "​",
            "style": "IPY_MODEL_ec0fc12c1e46475fa8db9a2e9079a793",
            "value": " 529/529 [00:00&lt;00:00, 32.8kB/s]"
          }
        },
        "536d1b905a8b4e328125bfa37aee69c7": {
          "model_module": "@jupyter-widgets/controls",
          "model_module_version": "1.5.0",
          "model_name": "HTMLModel",
          "state": {
            "_dom_classes": [],
            "_model_module": "@jupyter-widgets/controls",
            "_model_module_version": "1.5.0",
            "_model_name": "HTMLModel",
            "_view_count": null,
            "_view_module": "@jupyter-widgets/controls",
            "_view_module_version": "1.5.0",
            "_view_name": "HTMLView",
            "description": "",
            "description_tooltip": null,
            "layout": "IPY_MODEL_2b0da7e5d0ad4af6bae9757dec680f7e",
            "placeholder": "​",
            "style": "IPY_MODEL_e0904ce568ea43939edcea1745630a51",
            "value": "generation_config.json: 100%"
          }
        },
        "5467128fefd748b7b9c8aebba9b64a16": {
          "model_module": "@jupyter-widgets/controls",
          "model_module_version": "1.5.0",
          "model_name": "ProgressStyleModel",
          "state": {
            "_model_module": "@jupyter-widgets/controls",
            "_model_module_version": "1.5.0",
            "_model_name": "ProgressStyleModel",
            "_view_count": null,
            "_view_module": "@jupyter-widgets/base",
            "_view_module_version": "1.2.0",
            "_view_name": "StyleView",
            "bar_color": null,
            "description_width": ""
          }
        },
        "5bac5314524242719b10b66c56285fb7": {
          "model_module": "@jupyter-widgets/base",
          "model_module_version": "1.2.0",
          "model_name": "LayoutModel",
          "state": {
            "_model_module": "@jupyter-widgets/base",
            "_model_module_version": "1.2.0",
            "_model_name": "LayoutModel",
            "_view_count": null,
            "_view_module": "@jupyter-widgets/base",
            "_view_module_version": "1.2.0",
            "_view_name": "LayoutView",
            "align_content": null,
            "align_items": null,
            "align_self": null,
            "border": null,
            "bottom": null,
            "display": null,
            "flex": null,
            "flex_flow": null,
            "grid_area": null,
            "grid_auto_columns": null,
            "grid_auto_flow": null,
            "grid_auto_rows": null,
            "grid_column": null,
            "grid_gap": null,
            "grid_row": null,
            "grid_template_areas": null,
            "grid_template_columns": null,
            "grid_template_rows": null,
            "height": null,
            "justify_content": null,
            "justify_items": null,
            "left": null,
            "margin": null,
            "max_height": null,
            "max_width": null,
            "min_height": null,
            "min_width": null,
            "object_fit": null,
            "object_position": null,
            "order": null,
            "overflow": null,
            "overflow_x": null,
            "overflow_y": null,
            "padding": null,
            "right": null,
            "top": null,
            "visibility": null,
            "width": null
          }
        },
        "5df9ea3969824c11b6b80583197649c0": {
          "model_module": "@jupyter-widgets/base",
          "model_module_version": "1.2.0",
          "model_name": "LayoutModel",
          "state": {
            "_model_module": "@jupyter-widgets/base",
            "_model_module_version": "1.2.0",
            "_model_name": "LayoutModel",
            "_view_count": null,
            "_view_module": "@jupyter-widgets/base",
            "_view_module_version": "1.2.0",
            "_view_name": "LayoutView",
            "align_content": null,
            "align_items": null,
            "align_self": null,
            "border": null,
            "bottom": null,
            "display": null,
            "flex": null,
            "flex_flow": null,
            "grid_area": null,
            "grid_auto_columns": null,
            "grid_auto_flow": null,
            "grid_auto_rows": null,
            "grid_column": null,
            "grid_gap": null,
            "grid_row": null,
            "grid_template_areas": null,
            "grid_template_columns": null,
            "grid_template_rows": null,
            "height": null,
            "justify_content": null,
            "justify_items": null,
            "left": null,
            "margin": null,
            "max_height": null,
            "max_width": null,
            "min_height": null,
            "min_width": null,
            "object_fit": null,
            "object_position": null,
            "order": null,
            "overflow": null,
            "overflow_x": null,
            "overflow_y": null,
            "padding": null,
            "right": null,
            "top": null,
            "visibility": null,
            "width": null
          }
        },
        "5f4d477e70b04a458c9920401aaa4baf": {
          "model_module": "@jupyter-widgets/controls",
          "model_module_version": "1.5.0",
          "model_name": "ProgressStyleModel",
          "state": {
            "_model_module": "@jupyter-widgets/controls",
            "_model_module_version": "1.5.0",
            "_model_name": "ProgressStyleModel",
            "_view_count": null,
            "_view_module": "@jupyter-widgets/base",
            "_view_module_version": "1.2.0",
            "_view_name": "StyleView",
            "bar_color": null,
            "description_width": ""
          }
        },
        "62aa05a2bf9c4d00966c87e6d4a04bbe": {
          "model_module": "@jupyter-widgets/base",
          "model_module_version": "1.2.0",
          "model_name": "LayoutModel",
          "state": {
            "_model_module": "@jupyter-widgets/base",
            "_model_module_version": "1.2.0",
            "_model_name": "LayoutModel",
            "_view_count": null,
            "_view_module": "@jupyter-widgets/base",
            "_view_module_version": "1.2.0",
            "_view_name": "LayoutView",
            "align_content": null,
            "align_items": null,
            "align_self": null,
            "border": null,
            "bottom": null,
            "display": null,
            "flex": null,
            "flex_flow": null,
            "grid_area": null,
            "grid_auto_columns": null,
            "grid_auto_flow": null,
            "grid_auto_rows": null,
            "grid_column": null,
            "grid_gap": null,
            "grid_row": null,
            "grid_template_areas": null,
            "grid_template_columns": null,
            "grid_template_rows": null,
            "height": null,
            "justify_content": null,
            "justify_items": null,
            "left": null,
            "margin": null,
            "max_height": null,
            "max_width": null,
            "min_height": null,
            "min_width": null,
            "object_fit": null,
            "object_position": null,
            "order": null,
            "overflow": null,
            "overflow_x": null,
            "overflow_y": null,
            "padding": null,
            "right": null,
            "top": null,
            "visibility": null,
            "width": null
          }
        },
        "6418a89bb07449d3986fb0985d0b0d91": {
          "model_module": "@jupyter-widgets/base",
          "model_module_version": "1.2.0",
          "model_name": "LayoutModel",
          "state": {
            "_model_module": "@jupyter-widgets/base",
            "_model_module_version": "1.2.0",
            "_model_name": "LayoutModel",
            "_view_count": null,
            "_view_module": "@jupyter-widgets/base",
            "_view_module_version": "1.2.0",
            "_view_name": "LayoutView",
            "align_content": null,
            "align_items": null,
            "align_self": null,
            "border": null,
            "bottom": null,
            "display": null,
            "flex": null,
            "flex_flow": null,
            "grid_area": null,
            "grid_auto_columns": null,
            "grid_auto_flow": null,
            "grid_auto_rows": null,
            "grid_column": null,
            "grid_gap": null,
            "grid_row": null,
            "grid_template_areas": null,
            "grid_template_columns": null,
            "grid_template_rows": null,
            "height": null,
            "justify_content": null,
            "justify_items": null,
            "left": null,
            "margin": null,
            "max_height": null,
            "max_width": null,
            "min_height": null,
            "min_width": null,
            "object_fit": null,
            "object_position": null,
            "order": null,
            "overflow": null,
            "overflow_x": null,
            "overflow_y": null,
            "padding": null,
            "right": null,
            "top": null,
            "visibility": null,
            "width": null
          }
        },
        "64ba765e64f4444cadcada2c98c37424": {
          "model_module": "@jupyter-widgets/base",
          "model_module_version": "1.2.0",
          "model_name": "LayoutModel",
          "state": {
            "_model_module": "@jupyter-widgets/base",
            "_model_module_version": "1.2.0",
            "_model_name": "LayoutModel",
            "_view_count": null,
            "_view_module": "@jupyter-widgets/base",
            "_view_module_version": "1.2.0",
            "_view_name": "LayoutView",
            "align_content": null,
            "align_items": null,
            "align_self": null,
            "border": null,
            "bottom": null,
            "display": null,
            "flex": null,
            "flex_flow": null,
            "grid_area": null,
            "grid_auto_columns": null,
            "grid_auto_flow": null,
            "grid_auto_rows": null,
            "grid_column": null,
            "grid_gap": null,
            "grid_row": null,
            "grid_template_areas": null,
            "grid_template_columns": null,
            "grid_template_rows": null,
            "height": null,
            "justify_content": null,
            "justify_items": null,
            "left": null,
            "margin": null,
            "max_height": null,
            "max_width": null,
            "min_height": null,
            "min_width": null,
            "object_fit": null,
            "object_position": null,
            "order": null,
            "overflow": null,
            "overflow_x": null,
            "overflow_y": null,
            "padding": null,
            "right": null,
            "top": null,
            "visibility": null,
            "width": null
          }
        },
        "69608abae16346349058c52e3ceb8418": {
          "model_module": "@jupyter-widgets/base",
          "model_module_version": "1.2.0",
          "model_name": "LayoutModel",
          "state": {
            "_model_module": "@jupyter-widgets/base",
            "_model_module_version": "1.2.0",
            "_model_name": "LayoutModel",
            "_view_count": null,
            "_view_module": "@jupyter-widgets/base",
            "_view_module_version": "1.2.0",
            "_view_name": "LayoutView",
            "align_content": null,
            "align_items": null,
            "align_self": null,
            "border": null,
            "bottom": null,
            "display": null,
            "flex": null,
            "flex_flow": null,
            "grid_area": null,
            "grid_auto_columns": null,
            "grid_auto_flow": null,
            "grid_auto_rows": null,
            "grid_column": null,
            "grid_gap": null,
            "grid_row": null,
            "grid_template_areas": null,
            "grid_template_columns": null,
            "grid_template_rows": null,
            "height": null,
            "justify_content": null,
            "justify_items": null,
            "left": null,
            "margin": null,
            "max_height": null,
            "max_width": null,
            "min_height": null,
            "min_width": null,
            "object_fit": null,
            "object_position": null,
            "order": null,
            "overflow": null,
            "overflow_x": null,
            "overflow_y": null,
            "padding": null,
            "right": null,
            "top": null,
            "visibility": null,
            "width": null
          }
        },
        "6c598d02efab4b74a9eebdfbfc0c77cf": {
          "model_module": "@jupyter-widgets/base",
          "model_module_version": "1.2.0",
          "model_name": "LayoutModel",
          "state": {
            "_model_module": "@jupyter-widgets/base",
            "_model_module_version": "1.2.0",
            "_model_name": "LayoutModel",
            "_view_count": null,
            "_view_module": "@jupyter-widgets/base",
            "_view_module_version": "1.2.0",
            "_view_name": "LayoutView",
            "align_content": null,
            "align_items": null,
            "align_self": null,
            "border": null,
            "bottom": null,
            "display": null,
            "flex": null,
            "flex_flow": null,
            "grid_area": null,
            "grid_auto_columns": null,
            "grid_auto_flow": null,
            "grid_auto_rows": null,
            "grid_column": null,
            "grid_gap": null,
            "grid_row": null,
            "grid_template_areas": null,
            "grid_template_columns": null,
            "grid_template_rows": null,
            "height": null,
            "justify_content": null,
            "justify_items": null,
            "left": null,
            "margin": null,
            "max_height": null,
            "max_width": null,
            "min_height": null,
            "min_width": null,
            "object_fit": null,
            "object_position": null,
            "order": null,
            "overflow": null,
            "overflow_x": null,
            "overflow_y": null,
            "padding": null,
            "right": null,
            "top": null,
            "visibility": null,
            "width": null
          }
        },
        "725b6dd3fa434e2d910d6e6b2c3f5c02": {
          "model_module": "@jupyter-widgets/controls",
          "model_module_version": "1.5.0",
          "model_name": "HTMLModel",
          "state": {
            "_dom_classes": [],
            "_model_module": "@jupyter-widgets/controls",
            "_model_module_version": "1.5.0",
            "_model_name": "HTMLModel",
            "_view_count": null,
            "_view_module": "@jupyter-widgets/controls",
            "_view_module_version": "1.5.0",
            "_view_name": "HTMLView",
            "description": "",
            "description_tooltip": null,
            "layout": "IPY_MODEL_c5adf56850fb4611b974f970bd46f1ba",
            "placeholder": "​",
            "style": "IPY_MODEL_1a87084fa0834b4f974b7d91f854538e",
            "value": "model.safetensors: 100%"
          }
        },
        "7d1d73cd809f4f81891339d9b91963b5": {
          "model_module": "@jupyter-widgets/controls",
          "model_module_version": "1.5.0",
          "model_name": "HBoxModel",
          "state": {
            "_dom_classes": [],
            "_model_module": "@jupyter-widgets/controls",
            "_model_module_version": "1.5.0",
            "_model_name": "HBoxModel",
            "_view_count": null,
            "_view_module": "@jupyter-widgets/controls",
            "_view_module_version": "1.5.0",
            "_view_name": "HBoxView",
            "box_style": "",
            "children": [
              "IPY_MODEL_725b6dd3fa434e2d910d6e6b2c3f5c02",
              "IPY_MODEL_abcba4d582564f03b09b1434b9d22ace",
              "IPY_MODEL_0f5afbcc40b2460fbee5d7b5fe3cee41"
            ],
            "layout": "IPY_MODEL_9a5cfc3706da4734b8829e9eeda18453"
          }
        },
        "8442e1702c114f16abb5b2d2bf87c33f": {
          "model_module": "@jupyter-widgets/controls",
          "model_module_version": "1.5.0",
          "model_name": "DescriptionStyleModel",
          "state": {
            "_model_module": "@jupyter-widgets/controls",
            "_model_module_version": "1.5.0",
            "_model_name": "DescriptionStyleModel",
            "_view_count": null,
            "_view_module": "@jupyter-widgets/base",
            "_view_module_version": "1.2.0",
            "_view_name": "StyleView",
            "description_width": ""
          }
        },
        "8576425312624e3681aa02e18744428d": {
          "model_module": "@jupyter-widgets/controls",
          "model_module_version": "1.5.0",
          "model_name": "FloatProgressModel",
          "state": {
            "_dom_classes": [],
            "_model_module": "@jupyter-widgets/controls",
            "_model_module_version": "1.5.0",
            "_model_name": "FloatProgressModel",
            "_view_count": null,
            "_view_module": "@jupyter-widgets/controls",
            "_view_module_version": "1.5.0",
            "_view_name": "ProgressView",
            "bar_style": "success",
            "description": "",
            "description_tooltip": null,
            "layout": "IPY_MODEL_db51b11fe06c4234b0773f4e354b00b4",
            "max": 2444578688,
            "min": 0,
            "orientation": "horizontal",
            "style": "IPY_MODEL_aca03c1006944492bebbb331c64c1a41",
            "value": 2444578688
          }
        },
        "85b6388873814ad69ff0fde892767b82": {
          "model_module": "@jupyter-widgets/controls",
          "model_module_version": "1.5.0",
          "model_name": "ProgressStyleModel",
          "state": {
            "_model_module": "@jupyter-widgets/controls",
            "_model_module_version": "1.5.0",
            "_model_name": "ProgressStyleModel",
            "_view_count": null,
            "_view_module": "@jupyter-widgets/base",
            "_view_module_version": "1.2.0",
            "_view_name": "StyleView",
            "bar_color": null,
            "description_width": ""
          }
        },
        "85fd8a9632fb4e8294cdfea09c3894ab": {
          "model_module": "@jupyter-widgets/base",
          "model_module_version": "1.2.0",
          "model_name": "LayoutModel",
          "state": {
            "_model_module": "@jupyter-widgets/base",
            "_model_module_version": "1.2.0",
            "_model_name": "LayoutModel",
            "_view_count": null,
            "_view_module": "@jupyter-widgets/base",
            "_view_module_version": "1.2.0",
            "_view_name": "LayoutView",
            "align_content": null,
            "align_items": null,
            "align_self": null,
            "border": null,
            "bottom": null,
            "display": null,
            "flex": null,
            "flex_flow": null,
            "grid_area": null,
            "grid_auto_columns": null,
            "grid_auto_flow": null,
            "grid_auto_rows": null,
            "grid_column": null,
            "grid_gap": null,
            "grid_row": null,
            "grid_template_areas": null,
            "grid_template_columns": null,
            "grid_template_rows": null,
            "height": null,
            "justify_content": null,
            "justify_items": null,
            "left": null,
            "margin": null,
            "max_height": null,
            "max_width": null,
            "min_height": null,
            "min_width": null,
            "object_fit": null,
            "object_position": null,
            "order": null,
            "overflow": null,
            "overflow_x": null,
            "overflow_y": null,
            "padding": null,
            "right": null,
            "top": null,
            "visibility": null,
            "width": null
          }
        },
        "87e418e793af4804b4de3b745521baa9": {
          "model_module": "@jupyter-widgets/controls",
          "model_module_version": "1.5.0",
          "model_name": "HTMLModel",
          "state": {
            "_dom_classes": [],
            "_model_module": "@jupyter-widgets/controls",
            "_model_module_version": "1.5.0",
            "_model_name": "HTMLModel",
            "_view_count": null,
            "_view_module": "@jupyter-widgets/controls",
            "_view_module_version": "1.5.0",
            "_view_name": "HTMLView",
            "description": "",
            "description_tooltip": null,
            "layout": "IPY_MODEL_c085a6ca4c134ca7a141ed9d17c26583",
            "placeholder": "​",
            "style": "IPY_MODEL_11f06f842c274672aec268b7b8a1bde3",
            "value": " 649/649 [00:00&lt;00:00, 54.6kB/s]"
          }
        },
        "8892b402a972410191c7c58409f6f421": {
          "model_module": "@jupyter-widgets/base",
          "model_module_version": "1.2.0",
          "model_name": "LayoutModel",
          "state": {
            "_model_module": "@jupyter-widgets/base",
            "_model_module_version": "1.2.0",
            "_model_name": "LayoutModel",
            "_view_count": null,
            "_view_module": "@jupyter-widgets/base",
            "_view_module_version": "1.2.0",
            "_view_name": "LayoutView",
            "align_content": null,
            "align_items": null,
            "align_self": null,
            "border": null,
            "bottom": null,
            "display": null,
            "flex": null,
            "flex_flow": null,
            "grid_area": null,
            "grid_auto_columns": null,
            "grid_auto_flow": null,
            "grid_auto_rows": null,
            "grid_column": null,
            "grid_gap": null,
            "grid_row": null,
            "grid_template_areas": null,
            "grid_template_columns": null,
            "grid_template_rows": null,
            "height": null,
            "justify_content": null,
            "justify_items": null,
            "left": null,
            "margin": null,
            "max_height": null,
            "max_width": null,
            "min_height": null,
            "min_width": null,
            "object_fit": null,
            "object_position": null,
            "order": null,
            "overflow": null,
            "overflow_x": null,
            "overflow_y": null,
            "padding": null,
            "right": null,
            "top": null,
            "visibility": null,
            "width": null
          }
        },
        "8932ac5b234b49b9b16ce7387312d1ca": {
          "model_module": "@jupyter-widgets/base",
          "model_module_version": "1.2.0",
          "model_name": "LayoutModel",
          "state": {
            "_model_module": "@jupyter-widgets/base",
            "_model_module_version": "1.2.0",
            "_model_name": "LayoutModel",
            "_view_count": null,
            "_view_module": "@jupyter-widgets/base",
            "_view_module_version": "1.2.0",
            "_view_name": "LayoutView",
            "align_content": null,
            "align_items": null,
            "align_self": null,
            "border": null,
            "bottom": null,
            "display": null,
            "flex": null,
            "flex_flow": null,
            "grid_area": null,
            "grid_auto_columns": null,
            "grid_auto_flow": null,
            "grid_auto_rows": null,
            "grid_column": null,
            "grid_gap": null,
            "grid_row": null,
            "grid_template_areas": null,
            "grid_template_columns": null,
            "grid_template_rows": null,
            "height": null,
            "justify_content": null,
            "justify_items": null,
            "left": null,
            "margin": null,
            "max_height": null,
            "max_width": null,
            "min_height": null,
            "min_width": null,
            "object_fit": null,
            "object_position": null,
            "order": null,
            "overflow": null,
            "overflow_x": null,
            "overflow_y": null,
            "padding": null,
            "right": null,
            "top": null,
            "visibility": null,
            "width": null
          }
        },
        "913c744b886b433ea1ad7c7718b82972": {
          "model_module": "@jupyter-widgets/base",
          "model_module_version": "1.2.0",
          "model_name": "LayoutModel",
          "state": {
            "_model_module": "@jupyter-widgets/base",
            "_model_module_version": "1.2.0",
            "_model_name": "LayoutModel",
            "_view_count": null,
            "_view_module": "@jupyter-widgets/base",
            "_view_module_version": "1.2.0",
            "_view_name": "LayoutView",
            "align_content": null,
            "align_items": null,
            "align_self": null,
            "border": null,
            "bottom": null,
            "display": null,
            "flex": null,
            "flex_flow": null,
            "grid_area": null,
            "grid_auto_columns": null,
            "grid_auto_flow": null,
            "grid_auto_rows": null,
            "grid_column": null,
            "grid_gap": null,
            "grid_row": null,
            "grid_template_areas": null,
            "grid_template_columns": null,
            "grid_template_rows": null,
            "height": null,
            "justify_content": null,
            "justify_items": null,
            "left": null,
            "margin": null,
            "max_height": null,
            "max_width": null,
            "min_height": null,
            "min_width": null,
            "object_fit": null,
            "object_position": null,
            "order": null,
            "overflow": null,
            "overflow_x": null,
            "overflow_y": null,
            "padding": null,
            "right": null,
            "top": null,
            "visibility": null,
            "width": null
          }
        },
        "91f81fe060674705b1d06053069c84a1": {
          "model_module": "@jupyter-widgets/controls",
          "model_module_version": "1.5.0",
          "model_name": "ProgressStyleModel",
          "state": {
            "_model_module": "@jupyter-widgets/controls",
            "_model_module_version": "1.5.0",
            "_model_name": "ProgressStyleModel",
            "_view_count": null,
            "_view_module": "@jupyter-widgets/base",
            "_view_module_version": "1.2.0",
            "_view_name": "StyleView",
            "bar_color": null,
            "description_width": ""
          }
        },
        "940ba0154c42408a95c031dfdedc6fc7": {
          "model_module": "@jupyter-widgets/controls",
          "model_module_version": "1.5.0",
          "model_name": "HBoxModel",
          "state": {
            "_dom_classes": [],
            "_model_module": "@jupyter-widgets/controls",
            "_model_module_version": "1.5.0",
            "_model_name": "HBoxModel",
            "_view_count": null,
            "_view_module": "@jupyter-widgets/controls",
            "_view_module_version": "1.5.0",
            "_view_name": "HBoxView",
            "box_style": "",
            "children": [
              "IPY_MODEL_b1436bb01a074f5ea26d88d1f3f8ea99",
              "IPY_MODEL_b97c38b90de242979b0f58f63302cbd4",
              "IPY_MODEL_af7df096521e4df89427ead7b509db3c"
            ],
            "layout": "IPY_MODEL_5bac5314524242719b10b66c56285fb7"
          }
        },
        "9935c83b26de424bb8f16a38514fc549": {
          "model_module": "@jupyter-widgets/base",
          "model_module_version": "1.2.0",
          "model_name": "LayoutModel",
          "state": {
            "_model_module": "@jupyter-widgets/base",
            "_model_module_version": "1.2.0",
            "_model_name": "LayoutModel",
            "_view_count": null,
            "_view_module": "@jupyter-widgets/base",
            "_view_module_version": "1.2.0",
            "_view_name": "LayoutView",
            "align_content": null,
            "align_items": null,
            "align_self": null,
            "border": null,
            "bottom": null,
            "display": null,
            "flex": null,
            "flex_flow": null,
            "grid_area": null,
            "grid_auto_columns": null,
            "grid_auto_flow": null,
            "grid_auto_rows": null,
            "grid_column": null,
            "grid_gap": null,
            "grid_row": null,
            "grid_template_areas": null,
            "grid_template_columns": null,
            "grid_template_rows": null,
            "height": null,
            "justify_content": null,
            "justify_items": null,
            "left": null,
            "margin": null,
            "max_height": null,
            "max_width": null,
            "min_height": null,
            "min_width": null,
            "object_fit": null,
            "object_position": null,
            "order": null,
            "overflow": null,
            "overflow_x": null,
            "overflow_y": null,
            "padding": null,
            "right": null,
            "top": null,
            "visibility": null,
            "width": null
          }
        },
        "9a5cfc3706da4734b8829e9eeda18453": {
          "model_module": "@jupyter-widgets/base",
          "model_module_version": "1.2.0",
          "model_name": "LayoutModel",
          "state": {
            "_model_module": "@jupyter-widgets/base",
            "_model_module_version": "1.2.0",
            "_model_name": "LayoutModel",
            "_view_count": null,
            "_view_module": "@jupyter-widgets/base",
            "_view_module_version": "1.2.0",
            "_view_name": "LayoutView",
            "align_content": null,
            "align_items": null,
            "align_self": null,
            "border": null,
            "bottom": null,
            "display": null,
            "flex": null,
            "flex_flow": null,
            "grid_area": null,
            "grid_auto_columns": null,
            "grid_auto_flow": null,
            "grid_auto_rows": null,
            "grid_column": null,
            "grid_gap": null,
            "grid_row": null,
            "grid_template_areas": null,
            "grid_template_columns": null,
            "grid_template_rows": null,
            "height": null,
            "justify_content": null,
            "justify_items": null,
            "left": null,
            "margin": null,
            "max_height": null,
            "max_width": null,
            "min_height": null,
            "min_width": null,
            "object_fit": null,
            "object_position": null,
            "order": null,
            "overflow": null,
            "overflow_x": null,
            "overflow_y": null,
            "padding": null,
            "right": null,
            "top": null,
            "visibility": null,
            "width": null
          }
        },
        "9af86396852a41bdb9af03cbc5e6abae": {
          "model_module": "@jupyter-widgets/base",
          "model_module_version": "1.2.0",
          "model_name": "LayoutModel",
          "state": {
            "_model_module": "@jupyter-widgets/base",
            "_model_module_version": "1.2.0",
            "_model_name": "LayoutModel",
            "_view_count": null,
            "_view_module": "@jupyter-widgets/base",
            "_view_module_version": "1.2.0",
            "_view_name": "LayoutView",
            "align_content": null,
            "align_items": null,
            "align_self": null,
            "border": null,
            "bottom": null,
            "display": null,
            "flex": null,
            "flex_flow": null,
            "grid_area": null,
            "grid_auto_columns": null,
            "grid_auto_flow": null,
            "grid_auto_rows": null,
            "grid_column": null,
            "grid_gap": null,
            "grid_row": null,
            "grid_template_areas": null,
            "grid_template_columns": null,
            "grid_template_rows": null,
            "height": null,
            "justify_content": null,
            "justify_items": null,
            "left": null,
            "margin": null,
            "max_height": null,
            "max_width": null,
            "min_height": null,
            "min_width": null,
            "object_fit": null,
            "object_position": null,
            "order": null,
            "overflow": null,
            "overflow_x": null,
            "overflow_y": null,
            "padding": null,
            "right": null,
            "top": null,
            "visibility": null,
            "width": null
          }
        },
        "9b310f903a104c0689a057b53a1884aa": {
          "model_module": "@jupyter-widgets/controls",
          "model_module_version": "1.5.0",
          "model_name": "HTMLModel",
          "state": {
            "_dom_classes": [],
            "_model_module": "@jupyter-widgets/controls",
            "_model_module_version": "1.5.0",
            "_model_name": "HTMLModel",
            "_view_count": null,
            "_view_module": "@jupyter-widgets/controls",
            "_view_module_version": "1.5.0",
            "_view_name": "HTMLView",
            "description": "",
            "description_tooltip": null,
            "layout": "IPY_MODEL_64ba765e64f4444cadcada2c98c37424",
            "placeholder": "​",
            "style": "IPY_MODEL_e128e776b30a485b97bbec619a18edf4",
            "value": "special_tokens_map.json: 100%"
          }
        },
        "9e011d5071cb4136bd358fc6eb4036f9": {
          "model_module": "@jupyter-widgets/base",
          "model_module_version": "1.2.0",
          "model_name": "LayoutModel",
          "state": {
            "_model_module": "@jupyter-widgets/base",
            "_model_module_version": "1.2.0",
            "_model_name": "LayoutModel",
            "_view_count": null,
            "_view_module": "@jupyter-widgets/base",
            "_view_module_version": "1.2.0",
            "_view_name": "LayoutView",
            "align_content": null,
            "align_items": null,
            "align_self": null,
            "border": null,
            "bottom": null,
            "display": null,
            "flex": null,
            "flex_flow": null,
            "grid_area": null,
            "grid_auto_columns": null,
            "grid_auto_flow": null,
            "grid_auto_rows": null,
            "grid_column": null,
            "grid_gap": null,
            "grid_row": null,
            "grid_template_areas": null,
            "grid_template_columns": null,
            "grid_template_rows": null,
            "height": null,
            "justify_content": null,
            "justify_items": null,
            "left": null,
            "margin": null,
            "max_height": null,
            "max_width": null,
            "min_height": null,
            "min_width": null,
            "object_fit": null,
            "object_position": null,
            "order": null,
            "overflow": null,
            "overflow_x": null,
            "overflow_y": null,
            "padding": null,
            "right": null,
            "top": null,
            "visibility": null,
            "width": null
          }
        },
        "a278515e304e439e96873a80009734af": {
          "model_module": "@jupyter-widgets/controls",
          "model_module_version": "1.5.0",
          "model_name": "HTMLModel",
          "state": {
            "_dom_classes": [],
            "_model_module": "@jupyter-widgets/controls",
            "_model_module_version": "1.5.0",
            "_model_name": "HTMLModel",
            "_view_count": null,
            "_view_module": "@jupyter-widgets/controls",
            "_view_module_version": "1.5.0",
            "_view_name": "HTMLView",
            "description": "",
            "description_tooltip": null,
            "layout": "IPY_MODEL_eb037255f7ad4907962ebb141696eefe",
            "placeholder": "​",
            "style": "IPY_MODEL_293eec9edcad4b02880f2367ca370f3d",
            "value": " 2.44G/2.44G [00:11&lt;00:00, 215MB/s]"
          }
        },
        "a9bfe5364ca0430390a15f6d8241b333": {
          "model_module": "@jupyter-widgets/controls",
          "model_module_version": "1.5.0",
          "model_name": "DescriptionStyleModel",
          "state": {
            "_model_module": "@jupyter-widgets/controls",
            "_model_module_version": "1.5.0",
            "_model_name": "DescriptionStyleModel",
            "_view_count": null,
            "_view_module": "@jupyter-widgets/base",
            "_view_module_version": "1.2.0",
            "_view_name": "StyleView",
            "description_width": ""
          }
        },
        "abcba4d582564f03b09b1434b9d22ace": {
          "model_module": "@jupyter-widgets/controls",
          "model_module_version": "1.5.0",
          "model_name": "FloatProgressModel",
          "state": {
            "_dom_classes": [],
            "_model_module": "@jupyter-widgets/controls",
            "_model_module_version": "1.5.0",
            "_model_name": "FloatProgressModel",
            "_view_count": null,
            "_view_module": "@jupyter-widgets/controls",
            "_view_module_version": "1.5.0",
            "_view_name": "ProgressView",
            "bar_style": "success",
            "description": "",
            "description_tooltip": null,
            "layout": "IPY_MODEL_69608abae16346349058c52e3ceb8418",
            "max": 312062468,
            "min": 0,
            "orientation": "horizontal",
            "style": "IPY_MODEL_85b6388873814ad69ff0fde892767b82",
            "value": 312062468
          }
        },
        "aca03c1006944492bebbb331c64c1a41": {
          "model_module": "@jupyter-widgets/controls",
          "model_module_version": "1.5.0",
          "model_name": "ProgressStyleModel",
          "state": {
            "_model_module": "@jupyter-widgets/controls",
            "_model_module_version": "1.5.0",
            "_model_name": "ProgressStyleModel",
            "_view_count": null,
            "_view_module": "@jupyter-widgets/base",
            "_view_module_version": "1.2.0",
            "_view_name": "StyleView",
            "bar_color": null,
            "description_width": ""
          }
        },
        "af7df096521e4df89427ead7b509db3c": {
          "model_module": "@jupyter-widgets/controls",
          "model_module_version": "1.5.0",
          "model_name": "HTMLModel",
          "state": {
            "_dom_classes": [],
            "_model_module": "@jupyter-widgets/controls",
            "_model_module_version": "1.5.0",
            "_model_name": "HTMLModel",
            "_view_count": null,
            "_view_module": "@jupyter-widgets/controls",
            "_view_module_version": "1.5.0",
            "_view_name": "HTMLView",
            "description": "",
            "description_tooltip": null,
            "layout": "IPY_MODEL_002770a697294cd2a1e62ad9ebb56f0f",
            "placeholder": "​",
            "style": "IPY_MODEL_f33c8631b8a541c496a0cd096c8583a5",
            "value": " 5.07M/5.07M [00:00&lt;00:00, 18.5MB/s]"
          }
        },
        "b1436bb01a074f5ea26d88d1f3f8ea99": {
          "model_module": "@jupyter-widgets/controls",
          "model_module_version": "1.5.0",
          "model_name": "HTMLModel",
          "state": {
            "_dom_classes": [],
            "_model_module": "@jupyter-widgets/controls",
            "_model_module_version": "1.5.0",
            "_model_name": "HTMLModel",
            "_view_count": null,
            "_view_module": "@jupyter-widgets/controls",
            "_view_module_version": "1.5.0",
            "_view_name": "HTMLView",
            "description": "",
            "description_tooltip": null,
            "layout": "IPY_MODEL_48608fc7fd874e84a7f09b6eaa1f03d3",
            "placeholder": "​",
            "style": "IPY_MODEL_2c37188e2ad64e4f800b7fade3946d76",
            "value": "sentencepiece.bpe.model: 100%"
          }
        },
        "b97c38b90de242979b0f58f63302cbd4": {
          "model_module": "@jupyter-widgets/controls",
          "model_module_version": "1.5.0",
          "model_name": "FloatProgressModel",
          "state": {
            "_dom_classes": [],
            "_model_module": "@jupyter-widgets/controls",
            "_model_module_version": "1.5.0",
            "_model_name": "FloatProgressModel",
            "_view_count": null,
            "_view_module": "@jupyter-widgets/controls",
            "_view_module_version": "1.5.0",
            "_view_name": "ProgressView",
            "bar_style": "success",
            "description": "",
            "description_tooltip": null,
            "layout": "IPY_MODEL_17a750d1c77c41609b83822f8297f161",
            "max": 5069051,
            "min": 0,
            "orientation": "horizontal",
            "style": "IPY_MODEL_5f4d477e70b04a458c9920401aaa4baf",
            "value": 5069051
          }
        },
        "c085a6ca4c134ca7a141ed9d17c26583": {
          "model_module": "@jupyter-widgets/base",
          "model_module_version": "1.2.0",
          "model_name": "LayoutModel",
          "state": {
            "_model_module": "@jupyter-widgets/base",
            "_model_module_version": "1.2.0",
            "_model_name": "LayoutModel",
            "_view_count": null,
            "_view_module": "@jupyter-widgets/base",
            "_view_module_version": "1.2.0",
            "_view_name": "LayoutView",
            "align_content": null,
            "align_items": null,
            "align_self": null,
            "border": null,
            "bottom": null,
            "display": null,
            "flex": null,
            "flex_flow": null,
            "grid_area": null,
            "grid_auto_columns": null,
            "grid_auto_flow": null,
            "grid_auto_rows": null,
            "grid_column": null,
            "grid_gap": null,
            "grid_row": null,
            "grid_template_areas": null,
            "grid_template_columns": null,
            "grid_template_rows": null,
            "height": null,
            "justify_content": null,
            "justify_items": null,
            "left": null,
            "margin": null,
            "max_height": null,
            "max_width": null,
            "min_height": null,
            "min_width": null,
            "object_fit": null,
            "object_position": null,
            "order": null,
            "overflow": null,
            "overflow_x": null,
            "overflow_y": null,
            "padding": null,
            "right": null,
            "top": null,
            "visibility": null,
            "width": null
          }
        },
        "c1e2ca8d05984c42bef78914d63a0b58": {
          "model_module": "@jupyter-widgets/controls",
          "model_module_version": "1.5.0",
          "model_name": "ProgressStyleModel",
          "state": {
            "_model_module": "@jupyter-widgets/controls",
            "_model_module_version": "1.5.0",
            "_model_name": "ProgressStyleModel",
            "_view_count": null,
            "_view_module": "@jupyter-widgets/base",
            "_view_module_version": "1.2.0",
            "_view_name": "StyleView",
            "bar_color": null,
            "description_width": ""
          }
        },
        "c29bf138bef446e6bc23bf794ad7e97f": {
          "model_module": "@jupyter-widgets/controls",
          "model_module_version": "1.5.0",
          "model_name": "DescriptionStyleModel",
          "state": {
            "_model_module": "@jupyter-widgets/controls",
            "_model_module_version": "1.5.0",
            "_model_name": "DescriptionStyleModel",
            "_view_count": null,
            "_view_module": "@jupyter-widgets/base",
            "_view_module_version": "1.2.0",
            "_view_name": "StyleView",
            "description_width": ""
          }
        },
        "c5adf56850fb4611b974f970bd46f1ba": {
          "model_module": "@jupyter-widgets/base",
          "model_module_version": "1.2.0",
          "model_name": "LayoutModel",
          "state": {
            "_model_module": "@jupyter-widgets/base",
            "_model_module_version": "1.2.0",
            "_model_name": "LayoutModel",
            "_view_count": null,
            "_view_module": "@jupyter-widgets/base",
            "_view_module_version": "1.2.0",
            "_view_name": "LayoutView",
            "align_content": null,
            "align_items": null,
            "align_self": null,
            "border": null,
            "bottom": null,
            "display": null,
            "flex": null,
            "flex_flow": null,
            "grid_area": null,
            "grid_auto_columns": null,
            "grid_auto_flow": null,
            "grid_auto_rows": null,
            "grid_column": null,
            "grid_gap": null,
            "grid_row": null,
            "grid_template_areas": null,
            "grid_template_columns": null,
            "grid_template_rows": null,
            "height": null,
            "justify_content": null,
            "justify_items": null,
            "left": null,
            "margin": null,
            "max_height": null,
            "max_width": null,
            "min_height": null,
            "min_width": null,
            "object_fit": null,
            "object_position": null,
            "order": null,
            "overflow": null,
            "overflow_x": null,
            "overflow_y": null,
            "padding": null,
            "right": null,
            "top": null,
            "visibility": null,
            "width": null
          }
        },
        "d2e19031aa804962a444cdf147a61337": {
          "model_module": "@jupyter-widgets/controls",
          "model_module_version": "1.5.0",
          "model_name": "HBoxModel",
          "state": {
            "_dom_classes": [],
            "_model_module": "@jupyter-widgets/controls",
            "_model_module_version": "1.5.0",
            "_model_name": "HBoxModel",
            "_view_count": null,
            "_view_module": "@jupyter-widgets/controls",
            "_view_module_version": "1.5.0",
            "_view_name": "HBoxView",
            "box_style": "",
            "children": [
              "IPY_MODEL_9b310f903a104c0689a057b53a1884aa",
              "IPY_MODEL_fe730cae5da84d12ae15061c7dfc6dce",
              "IPY_MODEL_87e418e793af4804b4de3b745521baa9"
            ],
            "layout": "IPY_MODEL_6c598d02efab4b74a9eebdfbfc0c77cf"
          }
        },
        "db51b11fe06c4234b0773f4e354b00b4": {
          "model_module": "@jupyter-widgets/base",
          "model_module_version": "1.2.0",
          "model_name": "LayoutModel",
          "state": {
            "_model_module": "@jupyter-widgets/base",
            "_model_module_version": "1.2.0",
            "_model_name": "LayoutModel",
            "_view_count": null,
            "_view_module": "@jupyter-widgets/base",
            "_view_module_version": "1.2.0",
            "_view_name": "LayoutView",
            "align_content": null,
            "align_items": null,
            "align_self": null,
            "border": null,
            "bottom": null,
            "display": null,
            "flex": null,
            "flex_flow": null,
            "grid_area": null,
            "grid_auto_columns": null,
            "grid_auto_flow": null,
            "grid_auto_rows": null,
            "grid_column": null,
            "grid_gap": null,
            "grid_row": null,
            "grid_template_areas": null,
            "grid_template_columns": null,
            "grid_template_rows": null,
            "height": null,
            "justify_content": null,
            "justify_items": null,
            "left": null,
            "margin": null,
            "max_height": null,
            "max_width": null,
            "min_height": null,
            "min_width": null,
            "object_fit": null,
            "object_position": null,
            "order": null,
            "overflow": null,
            "overflow_x": null,
            "overflow_y": null,
            "padding": null,
            "right": null,
            "top": null,
            "visibility": null,
            "width": null
          }
        },
        "dd57a84a69f149a1ba7ab9feb8d66c3a": {
          "model_module": "@jupyter-widgets/controls",
          "model_module_version": "1.5.0",
          "model_name": "HTMLModel",
          "state": {
            "_dom_classes": [],
            "_model_module": "@jupyter-widgets/controls",
            "_model_module_version": "1.5.0",
            "_model_name": "HTMLModel",
            "_view_count": null,
            "_view_module": "@jupyter-widgets/controls",
            "_view_module_version": "1.5.0",
            "_view_name": "HTMLView",
            "description": "",
            "description_tooltip": null,
            "layout": "IPY_MODEL_171cced3c611442784354d9f94f5c278",
            "placeholder": "​",
            "style": "IPY_MODEL_1b0d3f7633c54f99b2ef3ba24deeae98",
            "value": " 261/261 [00:00&lt;00:00, 23.8kB/s]"
          }
        },
        "e0904ce568ea43939edcea1745630a51": {
          "model_module": "@jupyter-widgets/controls",
          "model_module_version": "1.5.0",
          "model_name": "DescriptionStyleModel",
          "state": {
            "_model_module": "@jupyter-widgets/controls",
            "_model_module_version": "1.5.0",
            "_model_name": "DescriptionStyleModel",
            "_view_count": null,
            "_view_module": "@jupyter-widgets/base",
            "_view_module_version": "1.2.0",
            "_view_name": "StyleView",
            "description_width": ""
          }
        },
        "e128e776b30a485b97bbec619a18edf4": {
          "model_module": "@jupyter-widgets/controls",
          "model_module_version": "1.5.0",
          "model_name": "DescriptionStyleModel",
          "state": {
            "_model_module": "@jupyter-widgets/controls",
            "_model_module_version": "1.5.0",
            "_model_name": "DescriptionStyleModel",
            "_view_count": null,
            "_view_module": "@jupyter-widgets/base",
            "_view_module_version": "1.2.0",
            "_view_name": "StyleView",
            "description_width": ""
          }
        },
        "e9cf9a5ccbc543b49417ff8b3908b811": {
          "model_module": "@jupyter-widgets/controls",
          "model_module_version": "1.5.0",
          "model_name": "HTMLModel",
          "state": {
            "_dom_classes": [],
            "_model_module": "@jupyter-widgets/controls",
            "_model_module_version": "1.5.0",
            "_model_name": "HTMLModel",
            "_view_count": null,
            "_view_module": "@jupyter-widgets/controls",
            "_view_module_version": "1.5.0",
            "_view_name": "HTMLView",
            "description": "",
            "description_tooltip": null,
            "layout": "IPY_MODEL_85fd8a9632fb4e8294cdfea09c3894ab",
            "placeholder": "​",
            "style": "IPY_MODEL_8442e1702c114f16abb5b2d2bf87c33f",
            "value": " 1.43k/1.43k [00:00&lt;00:00, 81.2kB/s]"
          }
        },
        "eb037255f7ad4907962ebb141696eefe": {
          "model_module": "@jupyter-widgets/base",
          "model_module_version": "1.2.0",
          "model_name": "LayoutModel",
          "state": {
            "_model_module": "@jupyter-widgets/base",
            "_model_module_version": "1.2.0",
            "_model_name": "LayoutModel",
            "_view_count": null,
            "_view_module": "@jupyter-widgets/base",
            "_view_module_version": "1.2.0",
            "_view_name": "LayoutView",
            "align_content": null,
            "align_items": null,
            "align_self": null,
            "border": null,
            "bottom": null,
            "display": null,
            "flex": null,
            "flex_flow": null,
            "grid_area": null,
            "grid_auto_columns": null,
            "grid_auto_flow": null,
            "grid_auto_rows": null,
            "grid_column": null,
            "grid_gap": null,
            "grid_row": null,
            "grid_template_areas": null,
            "grid_template_columns": null,
            "grid_template_rows": null,
            "height": null,
            "justify_content": null,
            "justify_items": null,
            "left": null,
            "margin": null,
            "max_height": null,
            "max_width": null,
            "min_height": null,
            "min_width": null,
            "object_fit": null,
            "object_position": null,
            "order": null,
            "overflow": null,
            "overflow_x": null,
            "overflow_y": null,
            "padding": null,
            "right": null,
            "top": null,
            "visibility": null,
            "width": null
          }
        },
        "ec0fc12c1e46475fa8db9a2e9079a793": {
          "model_module": "@jupyter-widgets/controls",
          "model_module_version": "1.5.0",
          "model_name": "DescriptionStyleModel",
          "state": {
            "_model_module": "@jupyter-widgets/controls",
            "_model_module_version": "1.5.0",
            "_model_name": "DescriptionStyleModel",
            "_view_count": null,
            "_view_module": "@jupyter-widgets/base",
            "_view_module_version": "1.2.0",
            "_view_name": "StyleView",
            "description_width": ""
          }
        },
        "f16c2010a4cc4f078d864e06a29b2705": {
          "model_module": "@jupyter-widgets/controls",
          "model_module_version": "1.5.0",
          "model_name": "ProgressStyleModel",
          "state": {
            "_model_module": "@jupyter-widgets/controls",
            "_model_module_version": "1.5.0",
            "_model_name": "ProgressStyleModel",
            "_view_count": null,
            "_view_module": "@jupyter-widgets/base",
            "_view_module_version": "1.2.0",
            "_view_name": "StyleView",
            "bar_color": null,
            "description_width": ""
          }
        },
        "f33c8631b8a541c496a0cd096c8583a5": {
          "model_module": "@jupyter-widgets/controls",
          "model_module_version": "1.5.0",
          "model_name": "DescriptionStyleModel",
          "state": {
            "_model_module": "@jupyter-widgets/controls",
            "_model_module_version": "1.5.0",
            "_model_name": "DescriptionStyleModel",
            "_view_count": null,
            "_view_module": "@jupyter-widgets/base",
            "_view_module_version": "1.2.0",
            "_view_name": "StyleView",
            "description_width": ""
          }
        },
        "f48780158e314db5a2f1a0a54751f034": {
          "model_module": "@jupyter-widgets/controls",
          "model_module_version": "1.5.0",
          "model_name": "HTMLModel",
          "state": {
            "_dom_classes": [],
            "_model_module": "@jupyter-widgets/controls",
            "_model_module_version": "1.5.0",
            "_model_name": "HTMLModel",
            "_view_count": null,
            "_view_module": "@jupyter-widgets/controls",
            "_view_module_version": "1.5.0",
            "_view_name": "HTMLView",
            "description": "",
            "description_tooltip": null,
            "layout": "IPY_MODEL_9af86396852a41bdb9af03cbc5e6abae",
            "placeholder": "​",
            "style": "IPY_MODEL_a9bfe5364ca0430390a15f6d8241b333",
            "value": "model.safetensors: 100%"
          }
        },
        "fe730cae5da84d12ae15061c7dfc6dce": {
          "model_module": "@jupyter-widgets/controls",
          "model_module_version": "1.5.0",
          "model_name": "FloatProgressModel",
          "state": {
            "_dom_classes": [],
            "_model_module": "@jupyter-widgets/controls",
            "_model_module_version": "1.5.0",
            "_model_name": "FloatProgressModel",
            "_view_count": null,
            "_view_module": "@jupyter-widgets/controls",
            "_view_module_version": "1.5.0",
            "_view_name": "ProgressView",
            "bar_style": "success",
            "description": "",
            "description_tooltip": null,
            "layout": "IPY_MODEL_62aa05a2bf9c4d00966c87e6d4a04bbe",
            "max": 649,
            "min": 0,
            "orientation": "horizontal",
            "style": "IPY_MODEL_c1e2ca8d05984c42bef78914d63a0b58",
            "value": 649
          }
        },
        "ff7fc8fad35e4bc4b5af6a66b02eeab0": {
          "model_module": "@jupyter-widgets/controls",
          "model_module_version": "1.5.0",
          "model_name": "FloatProgressModel",
          "state": {
            "_dom_classes": [],
            "_model_module": "@jupyter-widgets/controls",
            "_model_module_version": "1.5.0",
            "_model_name": "FloatProgressModel",
            "_view_count": null,
            "_view_module": "@jupyter-widgets/controls",
            "_view_module_version": "1.5.0",
            "_view_name": "ProgressView",
            "bar_style": "success",
            "description": "",
            "description_tooltip": null,
            "layout": "IPY_MODEL_6418a89bb07449d3986fb0985d0b0d91",
            "max": 529,
            "min": 0,
            "orientation": "horizontal",
            "style": "IPY_MODEL_f16c2010a4cc4f078d864e06a29b2705",
            "value": 529
          }
        },
        "ff9faaa4372d40beaa2a0d0379718a0f": {
          "model_module": "@jupyter-widgets/controls",
          "model_module_version": "1.5.0",
          "model_name": "HBoxModel",
          "state": {
            "_dom_classes": [],
            "_model_module": "@jupyter-widgets/controls",
            "_model_module_version": "1.5.0",
            "_model_name": "HBoxModel",
            "_view_count": null,
            "_view_module": "@jupyter-widgets/controls",
            "_view_module_version": "1.5.0",
            "_view_name": "HBoxView",
            "box_style": "",
            "children": [
              "IPY_MODEL_237bd9946efd4341a6e737f90619415a",
              "IPY_MODEL_ff7fc8fad35e4bc4b5af6a66b02eeab0",
              "IPY_MODEL_5239a3204f50437ebb9660e77889d360"
            ],
            "layout": "IPY_MODEL_0ef3082589fe48e9b5115130f8d8170e"
          }
        },
        "a0910d362d8b45f89af1328f8234a333": {
          "model_module": "@jupyter-widgets/controls",
          "model_name": "HBoxModel",
          "model_module_version": "1.5.0",
          "state": {
            "_dom_classes": [],
            "_model_module": "@jupyter-widgets/controls",
            "_model_module_version": "1.5.0",
            "_model_name": "HBoxModel",
            "_view_count": null,
            "_view_module": "@jupyter-widgets/controls",
            "_view_module_version": "1.5.0",
            "_view_name": "HBoxView",
            "box_style": "",
            "children": [
              "IPY_MODEL_399ca725676e493dbbbc2183469eef71",
              "IPY_MODEL_99eee8b9427c450b94eebd322dda9c4e",
              "IPY_MODEL_0fef70d6edc94457bf993cfb4f48bc15"
            ],
            "layout": "IPY_MODEL_83d741784ef24ae68ad82fb116161417"
          }
        },
        "399ca725676e493dbbbc2183469eef71": {
          "model_module": "@jupyter-widgets/controls",
          "model_name": "HTMLModel",
          "model_module_version": "1.5.0",
          "state": {
            "_dom_classes": [],
            "_model_module": "@jupyter-widgets/controls",
            "_model_module_version": "1.5.0",
            "_model_name": "HTMLModel",
            "_view_count": null,
            "_view_module": "@jupyter-widgets/controls",
            "_view_module_version": "1.5.0",
            "_view_name": "HTMLView",
            "description": "",
            "description_tooltip": null,
            "layout": "IPY_MODEL_52bb02281b7f442394f46fcf3a31bc1e",
            "placeholder": "​",
            "style": "IPY_MODEL_bb85cc5a1fd946f895319f9f34fdc53f",
            "value": "config.json: 100%"
          }
        },
        "99eee8b9427c450b94eebd322dda9c4e": {
          "model_module": "@jupyter-widgets/controls",
          "model_name": "FloatProgressModel",
          "model_module_version": "1.5.0",
          "state": {
            "_dom_classes": [],
            "_model_module": "@jupyter-widgets/controls",
            "_model_module_version": "1.5.0",
            "_model_name": "FloatProgressModel",
            "_view_count": null,
            "_view_module": "@jupyter-widgets/controls",
            "_view_module_version": "1.5.0",
            "_view_name": "ProgressView",
            "bar_style": "success",
            "description": "",
            "description_tooltip": null,
            "layout": "IPY_MODEL_cb5222a9a2f24821bda905493337bd6c",
            "max": 924,
            "min": 0,
            "orientation": "horizontal",
            "style": "IPY_MODEL_4bd7940e3cd5428785a43ab56f24d8cd",
            "value": 924
          }
        },
        "0fef70d6edc94457bf993cfb4f48bc15": {
          "model_module": "@jupyter-widgets/controls",
          "model_name": "HTMLModel",
          "model_module_version": "1.5.0",
          "state": {
            "_dom_classes": [],
            "_model_module": "@jupyter-widgets/controls",
            "_model_module_version": "1.5.0",
            "_model_name": "HTMLModel",
            "_view_count": null,
            "_view_module": "@jupyter-widgets/controls",
            "_view_module_version": "1.5.0",
            "_view_name": "HTMLView",
            "description": "",
            "description_tooltip": null,
            "layout": "IPY_MODEL_760b7843ece64cb5a64adb6f6f159903",
            "placeholder": "​",
            "style": "IPY_MODEL_fd2edc248e6847739c45db2331292b26",
            "value": " 924/924 [00:00&lt;00:00, 62.5kB/s]"
          }
        },
        "83d741784ef24ae68ad82fb116161417": {
          "model_module": "@jupyter-widgets/base",
          "model_name": "LayoutModel",
          "model_module_version": "1.2.0",
          "state": {
            "_model_module": "@jupyter-widgets/base",
            "_model_module_version": "1.2.0",
            "_model_name": "LayoutModel",
            "_view_count": null,
            "_view_module": "@jupyter-widgets/base",
            "_view_module_version": "1.2.0",
            "_view_name": "LayoutView",
            "align_content": null,
            "align_items": null,
            "align_self": null,
            "border": null,
            "bottom": null,
            "display": null,
            "flex": null,
            "flex_flow": null,
            "grid_area": null,
            "grid_auto_columns": null,
            "grid_auto_flow": null,
            "grid_auto_rows": null,
            "grid_column": null,
            "grid_gap": null,
            "grid_row": null,
            "grid_template_areas": null,
            "grid_template_columns": null,
            "grid_template_rows": null,
            "height": null,
            "justify_content": null,
            "justify_items": null,
            "left": null,
            "margin": null,
            "max_height": null,
            "max_width": null,
            "min_height": null,
            "min_width": null,
            "object_fit": null,
            "object_position": null,
            "order": null,
            "overflow": null,
            "overflow_x": null,
            "overflow_y": null,
            "padding": null,
            "right": null,
            "top": null,
            "visibility": null,
            "width": null
          }
        },
        "52bb02281b7f442394f46fcf3a31bc1e": {
          "model_module": "@jupyter-widgets/base",
          "model_name": "LayoutModel",
          "model_module_version": "1.2.0",
          "state": {
            "_model_module": "@jupyter-widgets/base",
            "_model_module_version": "1.2.0",
            "_model_name": "LayoutModel",
            "_view_count": null,
            "_view_module": "@jupyter-widgets/base",
            "_view_module_version": "1.2.0",
            "_view_name": "LayoutView",
            "align_content": null,
            "align_items": null,
            "align_self": null,
            "border": null,
            "bottom": null,
            "display": null,
            "flex": null,
            "flex_flow": null,
            "grid_area": null,
            "grid_auto_columns": null,
            "grid_auto_flow": null,
            "grid_auto_rows": null,
            "grid_column": null,
            "grid_gap": null,
            "grid_row": null,
            "grid_template_areas": null,
            "grid_template_columns": null,
            "grid_template_rows": null,
            "height": null,
            "justify_content": null,
            "justify_items": null,
            "left": null,
            "margin": null,
            "max_height": null,
            "max_width": null,
            "min_height": null,
            "min_width": null,
            "object_fit": null,
            "object_position": null,
            "order": null,
            "overflow": null,
            "overflow_x": null,
            "overflow_y": null,
            "padding": null,
            "right": null,
            "top": null,
            "visibility": null,
            "width": null
          }
        },
        "bb85cc5a1fd946f895319f9f34fdc53f": {
          "model_module": "@jupyter-widgets/controls",
          "model_name": "DescriptionStyleModel",
          "model_module_version": "1.5.0",
          "state": {
            "_model_module": "@jupyter-widgets/controls",
            "_model_module_version": "1.5.0",
            "_model_name": "DescriptionStyleModel",
            "_view_count": null,
            "_view_module": "@jupyter-widgets/base",
            "_view_module_version": "1.2.0",
            "_view_name": "StyleView",
            "description_width": ""
          }
        },
        "cb5222a9a2f24821bda905493337bd6c": {
          "model_module": "@jupyter-widgets/base",
          "model_name": "LayoutModel",
          "model_module_version": "1.2.0",
          "state": {
            "_model_module": "@jupyter-widgets/base",
            "_model_module_version": "1.2.0",
            "_model_name": "LayoutModel",
            "_view_count": null,
            "_view_module": "@jupyter-widgets/base",
            "_view_module_version": "1.2.0",
            "_view_name": "LayoutView",
            "align_content": null,
            "align_items": null,
            "align_self": null,
            "border": null,
            "bottom": null,
            "display": null,
            "flex": null,
            "flex_flow": null,
            "grid_area": null,
            "grid_auto_columns": null,
            "grid_auto_flow": null,
            "grid_auto_rows": null,
            "grid_column": null,
            "grid_gap": null,
            "grid_row": null,
            "grid_template_areas": null,
            "grid_template_columns": null,
            "grid_template_rows": null,
            "height": null,
            "justify_content": null,
            "justify_items": null,
            "left": null,
            "margin": null,
            "max_height": null,
            "max_width": null,
            "min_height": null,
            "min_width": null,
            "object_fit": null,
            "object_position": null,
            "order": null,
            "overflow": null,
            "overflow_x": null,
            "overflow_y": null,
            "padding": null,
            "right": null,
            "top": null,
            "visibility": null,
            "width": null
          }
        },
        "4bd7940e3cd5428785a43ab56f24d8cd": {
          "model_module": "@jupyter-widgets/controls",
          "model_name": "ProgressStyleModel",
          "model_module_version": "1.5.0",
          "state": {
            "_model_module": "@jupyter-widgets/controls",
            "_model_module_version": "1.5.0",
            "_model_name": "ProgressStyleModel",
            "_view_count": null,
            "_view_module": "@jupyter-widgets/base",
            "_view_module_version": "1.2.0",
            "_view_name": "StyleView",
            "bar_color": null,
            "description_width": ""
          }
        },
        "760b7843ece64cb5a64adb6f6f159903": {
          "model_module": "@jupyter-widgets/base",
          "model_name": "LayoutModel",
          "model_module_version": "1.2.0",
          "state": {
            "_model_module": "@jupyter-widgets/base",
            "_model_module_version": "1.2.0",
            "_model_name": "LayoutModel",
            "_view_count": null,
            "_view_module": "@jupyter-widgets/base",
            "_view_module_version": "1.2.0",
            "_view_name": "LayoutView",
            "align_content": null,
            "align_items": null,
            "align_self": null,
            "border": null,
            "bottom": null,
            "display": null,
            "flex": null,
            "flex_flow": null,
            "grid_area": null,
            "grid_auto_columns": null,
            "grid_auto_flow": null,
            "grid_auto_rows": null,
            "grid_column": null,
            "grid_gap": null,
            "grid_row": null,
            "grid_template_areas": null,
            "grid_template_columns": null,
            "grid_template_rows": null,
            "height": null,
            "justify_content": null,
            "justify_items": null,
            "left": null,
            "margin": null,
            "max_height": null,
            "max_width": null,
            "min_height": null,
            "min_width": null,
            "object_fit": null,
            "object_position": null,
            "order": null,
            "overflow": null,
            "overflow_x": null,
            "overflow_y": null,
            "padding": null,
            "right": null,
            "top": null,
            "visibility": null,
            "width": null
          }
        },
        "fd2edc248e6847739c45db2331292b26": {
          "model_module": "@jupyter-widgets/controls",
          "model_name": "DescriptionStyleModel",
          "model_module_version": "1.5.0",
          "state": {
            "_model_module": "@jupyter-widgets/controls",
            "_model_module_version": "1.5.0",
            "_model_name": "DescriptionStyleModel",
            "_view_count": null,
            "_view_module": "@jupyter-widgets/base",
            "_view_module_version": "1.2.0",
            "_view_name": "StyleView",
            "description_width": ""
          }
        },
        "7a900508396146568e9ee6a713f4b1dc": {
          "model_module": "@jupyter-widgets/controls",
          "model_name": "HBoxModel",
          "model_module_version": "1.5.0",
          "state": {
            "_dom_classes": [],
            "_model_module": "@jupyter-widgets/controls",
            "_model_module_version": "1.5.0",
            "_model_name": "HBoxModel",
            "_view_count": null,
            "_view_module": "@jupyter-widgets/controls",
            "_view_module_version": "1.5.0",
            "_view_name": "HBoxView",
            "box_style": "",
            "children": [
              "IPY_MODEL_e5e277a73af34af9bae2274c77aca311",
              "IPY_MODEL_98401dc2a6b7495cbf45e5a2bc58fac0",
              "IPY_MODEL_f83079666ca44480a90a32c69b4c7759"
            ],
            "layout": "IPY_MODEL_1f7269d700eb45418693479c1b30699c"
          }
        },
        "e5e277a73af34af9bae2274c77aca311": {
          "model_module": "@jupyter-widgets/controls",
          "model_name": "HTMLModel",
          "model_module_version": "1.5.0",
          "state": {
            "_dom_classes": [],
            "_model_module": "@jupyter-widgets/controls",
            "_model_module_version": "1.5.0",
            "_model_name": "HTMLModel",
            "_view_count": null,
            "_view_module": "@jupyter-widgets/controls",
            "_view_module_version": "1.5.0",
            "_view_name": "HTMLView",
            "description": "",
            "description_tooltip": null,
            "layout": "IPY_MODEL_caaf549bfea840a987fb3e1dd48121d1",
            "placeholder": "​",
            "style": "IPY_MODEL_1e17b9a93c504e69ade7d3663cab0dc6",
            "value": "model.safetensors: 100%"
          }
        },
        "98401dc2a6b7495cbf45e5a2bc58fac0": {
          "model_module": "@jupyter-widgets/controls",
          "model_name": "FloatProgressModel",
          "model_module_version": "1.5.0",
          "state": {
            "_dom_classes": [],
            "_model_module": "@jupyter-widgets/controls",
            "_model_module_version": "1.5.0",
            "_model_name": "FloatProgressModel",
            "_view_count": null,
            "_view_module": "@jupyter-widgets/controls",
            "_view_module_version": "1.5.0",
            "_view_name": "ProgressView",
            "bar_style": "success",
            "description": "",
            "description_tooltip": null,
            "layout": "IPY_MODEL_5d0458270a864812a260a4a1d091fc92",
            "max": 4278396392,
            "min": 0,
            "orientation": "horizontal",
            "style": "IPY_MODEL_03a57e79ec544e0e8b32f573d7ecd6f3",
            "value": 4278396392
          }
        },
        "f83079666ca44480a90a32c69b4c7759": {
          "model_module": "@jupyter-widgets/controls",
          "model_name": "HTMLModel",
          "model_module_version": "1.5.0",
          "state": {
            "_dom_classes": [],
            "_model_module": "@jupyter-widgets/controls",
            "_model_module_version": "1.5.0",
            "_model_name": "HTMLModel",
            "_view_count": null,
            "_view_module": "@jupyter-widgets/controls",
            "_view_module_version": "1.5.0",
            "_view_name": "HTMLView",
            "description": "",
            "description_tooltip": null,
            "layout": "IPY_MODEL_f7a1e05d78f541ccbc564bc8cded152f",
            "placeholder": "​",
            "style": "IPY_MODEL_5ed8d0d7aca34d2d840df9c34de22a7f",
            "value": " 4.28G/4.28G [00:26&lt;00:00, 137MB/s]"
          }
        },
        "1f7269d700eb45418693479c1b30699c": {
          "model_module": "@jupyter-widgets/base",
          "model_name": "LayoutModel",
          "model_module_version": "1.2.0",
          "state": {
            "_model_module": "@jupyter-widgets/base",
            "_model_module_version": "1.2.0",
            "_model_name": "LayoutModel",
            "_view_count": null,
            "_view_module": "@jupyter-widgets/base",
            "_view_module_version": "1.2.0",
            "_view_name": "LayoutView",
            "align_content": null,
            "align_items": null,
            "align_self": null,
            "border": null,
            "bottom": null,
            "display": null,
            "flex": null,
            "flex_flow": null,
            "grid_area": null,
            "grid_auto_columns": null,
            "grid_auto_flow": null,
            "grid_auto_rows": null,
            "grid_column": null,
            "grid_gap": null,
            "grid_row": null,
            "grid_template_areas": null,
            "grid_template_columns": null,
            "grid_template_rows": null,
            "height": null,
            "justify_content": null,
            "justify_items": null,
            "left": null,
            "margin": null,
            "max_height": null,
            "max_width": null,
            "min_height": null,
            "min_width": null,
            "object_fit": null,
            "object_position": null,
            "order": null,
            "overflow": null,
            "overflow_x": null,
            "overflow_y": null,
            "padding": null,
            "right": null,
            "top": null,
            "visibility": null,
            "width": null
          }
        },
        "caaf549bfea840a987fb3e1dd48121d1": {
          "model_module": "@jupyter-widgets/base",
          "model_name": "LayoutModel",
          "model_module_version": "1.2.0",
          "state": {
            "_model_module": "@jupyter-widgets/base",
            "_model_module_version": "1.2.0",
            "_model_name": "LayoutModel",
            "_view_count": null,
            "_view_module": "@jupyter-widgets/base",
            "_view_module_version": "1.2.0",
            "_view_name": "LayoutView",
            "align_content": null,
            "align_items": null,
            "align_self": null,
            "border": null,
            "bottom": null,
            "display": null,
            "flex": null,
            "flex_flow": null,
            "grid_area": null,
            "grid_auto_columns": null,
            "grid_auto_flow": null,
            "grid_auto_rows": null,
            "grid_column": null,
            "grid_gap": null,
            "grid_row": null,
            "grid_template_areas": null,
            "grid_template_columns": null,
            "grid_template_rows": null,
            "height": null,
            "justify_content": null,
            "justify_items": null,
            "left": null,
            "margin": null,
            "max_height": null,
            "max_width": null,
            "min_height": null,
            "min_width": null,
            "object_fit": null,
            "object_position": null,
            "order": null,
            "overflow": null,
            "overflow_x": null,
            "overflow_y": null,
            "padding": null,
            "right": null,
            "top": null,
            "visibility": null,
            "width": null
          }
        },
        "1e17b9a93c504e69ade7d3663cab0dc6": {
          "model_module": "@jupyter-widgets/controls",
          "model_name": "DescriptionStyleModel",
          "model_module_version": "1.5.0",
          "state": {
            "_model_module": "@jupyter-widgets/controls",
            "_model_module_version": "1.5.0",
            "_model_name": "DescriptionStyleModel",
            "_view_count": null,
            "_view_module": "@jupyter-widgets/base",
            "_view_module_version": "1.2.0",
            "_view_name": "StyleView",
            "description_width": ""
          }
        },
        "5d0458270a864812a260a4a1d091fc92": {
          "model_module": "@jupyter-widgets/base",
          "model_name": "LayoutModel",
          "model_module_version": "1.2.0",
          "state": {
            "_model_module": "@jupyter-widgets/base",
            "_model_module_version": "1.2.0",
            "_model_name": "LayoutModel",
            "_view_count": null,
            "_view_module": "@jupyter-widgets/base",
            "_view_module_version": "1.2.0",
            "_view_name": "LayoutView",
            "align_content": null,
            "align_items": null,
            "align_self": null,
            "border": null,
            "bottom": null,
            "display": null,
            "flex": null,
            "flex_flow": null,
            "grid_area": null,
            "grid_auto_columns": null,
            "grid_auto_flow": null,
            "grid_auto_rows": null,
            "grid_column": null,
            "grid_gap": null,
            "grid_row": null,
            "grid_template_areas": null,
            "grid_template_columns": null,
            "grid_template_rows": null,
            "height": null,
            "justify_content": null,
            "justify_items": null,
            "left": null,
            "margin": null,
            "max_height": null,
            "max_width": null,
            "min_height": null,
            "min_width": null,
            "object_fit": null,
            "object_position": null,
            "order": null,
            "overflow": null,
            "overflow_x": null,
            "overflow_y": null,
            "padding": null,
            "right": null,
            "top": null,
            "visibility": null,
            "width": null
          }
        },
        "03a57e79ec544e0e8b32f573d7ecd6f3": {
          "model_module": "@jupyter-widgets/controls",
          "model_name": "ProgressStyleModel",
          "model_module_version": "1.5.0",
          "state": {
            "_model_module": "@jupyter-widgets/controls",
            "_model_module_version": "1.5.0",
            "_model_name": "ProgressStyleModel",
            "_view_count": null,
            "_view_module": "@jupyter-widgets/base",
            "_view_module_version": "1.2.0",
            "_view_name": "StyleView",
            "bar_color": null,
            "description_width": ""
          }
        },
        "f7a1e05d78f541ccbc564bc8cded152f": {
          "model_module": "@jupyter-widgets/base",
          "model_name": "LayoutModel",
          "model_module_version": "1.2.0",
          "state": {
            "_model_module": "@jupyter-widgets/base",
            "_model_module_version": "1.2.0",
            "_model_name": "LayoutModel",
            "_view_count": null,
            "_view_module": "@jupyter-widgets/base",
            "_view_module_version": "1.2.0",
            "_view_name": "LayoutView",
            "align_content": null,
            "align_items": null,
            "align_self": null,
            "border": null,
            "bottom": null,
            "display": null,
            "flex": null,
            "flex_flow": null,
            "grid_area": null,
            "grid_auto_columns": null,
            "grid_auto_flow": null,
            "grid_auto_rows": null,
            "grid_column": null,
            "grid_gap": null,
            "grid_row": null,
            "grid_template_areas": null,
            "grid_template_columns": null,
            "grid_template_rows": null,
            "height": null,
            "justify_content": null,
            "justify_items": null,
            "left": null,
            "margin": null,
            "max_height": null,
            "max_width": null,
            "min_height": null,
            "min_width": null,
            "object_fit": null,
            "object_position": null,
            "order": null,
            "overflow": null,
            "overflow_x": null,
            "overflow_y": null,
            "padding": null,
            "right": null,
            "top": null,
            "visibility": null,
            "width": null
          }
        },
        "5ed8d0d7aca34d2d840df9c34de22a7f": {
          "model_module": "@jupyter-widgets/controls",
          "model_name": "DescriptionStyleModel",
          "model_module_version": "1.5.0",
          "state": {
            "_model_module": "@jupyter-widgets/controls",
            "_model_module_version": "1.5.0",
            "_model_name": "DescriptionStyleModel",
            "_view_count": null,
            "_view_module": "@jupyter-widgets/base",
            "_view_module_version": "1.2.0",
            "_view_name": "StyleView",
            "description_width": ""
          }
        },
        "0a5d96f62d434580bc8bb8410ce0e6b4": {
          "model_module": "@jupyter-widgets/controls",
          "model_name": "HBoxModel",
          "model_module_version": "1.5.0",
          "state": {
            "_dom_classes": [],
            "_model_module": "@jupyter-widgets/controls",
            "_model_module_version": "1.5.0",
            "_model_name": "HBoxModel",
            "_view_count": null,
            "_view_module": "@jupyter-widgets/controls",
            "_view_module_version": "1.5.0",
            "_view_name": "HBoxView",
            "box_style": "",
            "children": [
              "IPY_MODEL_d4446a0fa8d740ceaf8c5f22e34d0c1b",
              "IPY_MODEL_341926154e764eeaafa7c5cc6cdb9912",
              "IPY_MODEL_5df486804e6b4b39bbacaa2b4c0ab12c"
            ],
            "layout": "IPY_MODEL_6d45526b106945629730eb5c451d3fb3"
          }
        },
        "d4446a0fa8d740ceaf8c5f22e34d0c1b": {
          "model_module": "@jupyter-widgets/controls",
          "model_name": "HTMLModel",
          "model_module_version": "1.5.0",
          "state": {
            "_dom_classes": [],
            "_model_module": "@jupyter-widgets/controls",
            "_model_module_version": "1.5.0",
            "_model_name": "HTMLModel",
            "_view_count": null,
            "_view_module": "@jupyter-widgets/controls",
            "_view_module_version": "1.5.0",
            "_view_name": "HTMLView",
            "description": "",
            "description_tooltip": null,
            "layout": "IPY_MODEL_318c10876d3147eb993f1041b6815507",
            "placeholder": "​",
            "style": "IPY_MODEL_404b7dce98f840719695cada46afbfc1",
            "value": "generation_config.json: 100%"
          }
        },
        "341926154e764eeaafa7c5cc6cdb9912": {
          "model_module": "@jupyter-widgets/controls",
          "model_name": "FloatProgressModel",
          "model_module_version": "1.5.0",
          "state": {
            "_dom_classes": [],
            "_model_module": "@jupyter-widgets/controls",
            "_model_module_version": "1.5.0",
            "_model_name": "FloatProgressModel",
            "_view_count": null,
            "_view_module": "@jupyter-widgets/controls",
            "_view_module_version": "1.5.0",
            "_view_name": "ProgressView",
            "bar_style": "success",
            "description": "",
            "description_tooltip": null,
            "layout": "IPY_MODEL_150987c5f9d543fd86c961b8c9ce2d4c",
            "max": 131,
            "min": 0,
            "orientation": "horizontal",
            "style": "IPY_MODEL_c5457173c4d4436c8f3f7867cf3adfcf",
            "value": 131
          }
        },
        "5df486804e6b4b39bbacaa2b4c0ab12c": {
          "model_module": "@jupyter-widgets/controls",
          "model_name": "HTMLModel",
          "model_module_version": "1.5.0",
          "state": {
            "_dom_classes": [],
            "_model_module": "@jupyter-widgets/controls",
            "_model_module_version": "1.5.0",
            "_model_name": "HTMLModel",
            "_view_count": null,
            "_view_module": "@jupyter-widgets/controls",
            "_view_module_version": "1.5.0",
            "_view_name": "HTMLView",
            "description": "",
            "description_tooltip": null,
            "layout": "IPY_MODEL_a880e430cc5a48d4a9836505c8c1efff",
            "placeholder": "​",
            "style": "IPY_MODEL_5b091887407e4ca099cc714ffc72f4f3",
            "value": " 131/131 [00:00&lt;00:00, 9.85kB/s]"
          }
        },
        "6d45526b106945629730eb5c451d3fb3": {
          "model_module": "@jupyter-widgets/base",
          "model_name": "LayoutModel",
          "model_module_version": "1.2.0",
          "state": {
            "_model_module": "@jupyter-widgets/base",
            "_model_module_version": "1.2.0",
            "_model_name": "LayoutModel",
            "_view_count": null,
            "_view_module": "@jupyter-widgets/base",
            "_view_module_version": "1.2.0",
            "_view_name": "LayoutView",
            "align_content": null,
            "align_items": null,
            "align_self": null,
            "border": null,
            "bottom": null,
            "display": null,
            "flex": null,
            "flex_flow": null,
            "grid_area": null,
            "grid_auto_columns": null,
            "grid_auto_flow": null,
            "grid_auto_rows": null,
            "grid_column": null,
            "grid_gap": null,
            "grid_row": null,
            "grid_template_areas": null,
            "grid_template_columns": null,
            "grid_template_rows": null,
            "height": null,
            "justify_content": null,
            "justify_items": null,
            "left": null,
            "margin": null,
            "max_height": null,
            "max_width": null,
            "min_height": null,
            "min_width": null,
            "object_fit": null,
            "object_position": null,
            "order": null,
            "overflow": null,
            "overflow_x": null,
            "overflow_y": null,
            "padding": null,
            "right": null,
            "top": null,
            "visibility": null,
            "width": null
          }
        },
        "318c10876d3147eb993f1041b6815507": {
          "model_module": "@jupyter-widgets/base",
          "model_name": "LayoutModel",
          "model_module_version": "1.2.0",
          "state": {
            "_model_module": "@jupyter-widgets/base",
            "_model_module_version": "1.2.0",
            "_model_name": "LayoutModel",
            "_view_count": null,
            "_view_module": "@jupyter-widgets/base",
            "_view_module_version": "1.2.0",
            "_view_name": "LayoutView",
            "align_content": null,
            "align_items": null,
            "align_self": null,
            "border": null,
            "bottom": null,
            "display": null,
            "flex": null,
            "flex_flow": null,
            "grid_area": null,
            "grid_auto_columns": null,
            "grid_auto_flow": null,
            "grid_auto_rows": null,
            "grid_column": null,
            "grid_gap": null,
            "grid_row": null,
            "grid_template_areas": null,
            "grid_template_columns": null,
            "grid_template_rows": null,
            "height": null,
            "justify_content": null,
            "justify_items": null,
            "left": null,
            "margin": null,
            "max_height": null,
            "max_width": null,
            "min_height": null,
            "min_width": null,
            "object_fit": null,
            "object_position": null,
            "order": null,
            "overflow": null,
            "overflow_x": null,
            "overflow_y": null,
            "padding": null,
            "right": null,
            "top": null,
            "visibility": null,
            "width": null
          }
        },
        "404b7dce98f840719695cada46afbfc1": {
          "model_module": "@jupyter-widgets/controls",
          "model_name": "DescriptionStyleModel",
          "model_module_version": "1.5.0",
          "state": {
            "_model_module": "@jupyter-widgets/controls",
            "_model_module_version": "1.5.0",
            "_model_name": "DescriptionStyleModel",
            "_view_count": null,
            "_view_module": "@jupyter-widgets/base",
            "_view_module_version": "1.2.0",
            "_view_name": "StyleView",
            "description_width": ""
          }
        },
        "150987c5f9d543fd86c961b8c9ce2d4c": {
          "model_module": "@jupyter-widgets/base",
          "model_name": "LayoutModel",
          "model_module_version": "1.2.0",
          "state": {
            "_model_module": "@jupyter-widgets/base",
            "_model_module_version": "1.2.0",
            "_model_name": "LayoutModel",
            "_view_count": null,
            "_view_module": "@jupyter-widgets/base",
            "_view_module_version": "1.2.0",
            "_view_name": "LayoutView",
            "align_content": null,
            "align_items": null,
            "align_self": null,
            "border": null,
            "bottom": null,
            "display": null,
            "flex": null,
            "flex_flow": null,
            "grid_area": null,
            "grid_auto_columns": null,
            "grid_auto_flow": null,
            "grid_auto_rows": null,
            "grid_column": null,
            "grid_gap": null,
            "grid_row": null,
            "grid_template_areas": null,
            "grid_template_columns": null,
            "grid_template_rows": null,
            "height": null,
            "justify_content": null,
            "justify_items": null,
            "left": null,
            "margin": null,
            "max_height": null,
            "max_width": null,
            "min_height": null,
            "min_width": null,
            "object_fit": null,
            "object_position": null,
            "order": null,
            "overflow": null,
            "overflow_x": null,
            "overflow_y": null,
            "padding": null,
            "right": null,
            "top": null,
            "visibility": null,
            "width": null
          }
        },
        "c5457173c4d4436c8f3f7867cf3adfcf": {
          "model_module": "@jupyter-widgets/controls",
          "model_name": "ProgressStyleModel",
          "model_module_version": "1.5.0",
          "state": {
            "_model_module": "@jupyter-widgets/controls",
            "_model_module_version": "1.5.0",
            "_model_name": "ProgressStyleModel",
            "_view_count": null,
            "_view_module": "@jupyter-widgets/base",
            "_view_module_version": "1.2.0",
            "_view_name": "StyleView",
            "bar_color": null,
            "description_width": ""
          }
        },
        "a880e430cc5a48d4a9836505c8c1efff": {
          "model_module": "@jupyter-widgets/base",
          "model_name": "LayoutModel",
          "model_module_version": "1.2.0",
          "state": {
            "_model_module": "@jupyter-widgets/base",
            "_model_module_version": "1.2.0",
            "_model_name": "LayoutModel",
            "_view_count": null,
            "_view_module": "@jupyter-widgets/base",
            "_view_module_version": "1.2.0",
            "_view_name": "LayoutView",
            "align_content": null,
            "align_items": null,
            "align_self": null,
            "border": null,
            "bottom": null,
            "display": null,
            "flex": null,
            "flex_flow": null,
            "grid_area": null,
            "grid_auto_columns": null,
            "grid_auto_flow": null,
            "grid_auto_rows": null,
            "grid_column": null,
            "grid_gap": null,
            "grid_row": null,
            "grid_template_areas": null,
            "grid_template_columns": null,
            "grid_template_rows": null,
            "height": null,
            "justify_content": null,
            "justify_items": null,
            "left": null,
            "margin": null,
            "max_height": null,
            "max_width": null,
            "min_height": null,
            "min_width": null,
            "object_fit": null,
            "object_position": null,
            "order": null,
            "overflow": null,
            "overflow_x": null,
            "overflow_y": null,
            "padding": null,
            "right": null,
            "top": null,
            "visibility": null,
            "width": null
          }
        },
        "5b091887407e4ca099cc714ffc72f4f3": {
          "model_module": "@jupyter-widgets/controls",
          "model_name": "DescriptionStyleModel",
          "model_module_version": "1.5.0",
          "state": {
            "_model_module": "@jupyter-widgets/controls",
            "_model_module_version": "1.5.0",
            "_model_name": "DescriptionStyleModel",
            "_view_count": null,
            "_view_module": "@jupyter-widgets/base",
            "_view_module_version": "1.2.0",
            "_view_name": "StyleView",
            "description_width": ""
          }
        }
      }
    }
  },
  "nbformat": 4,
  "nbformat_minor": 0
}